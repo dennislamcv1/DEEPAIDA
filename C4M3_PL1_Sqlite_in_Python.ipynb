{
 "cells": [
  {
   "cell_type": "markdown",
   "metadata": {},
   "source": [
    "# Practice Lab: SQLite in Python\n",
    "\n",
    "You work at a sports data consulting firm that provides insights to basketball teams, broadcasters, and sports media outlets. You are tasked with finding out which teams are most consistent and which players are the most impactful. \n",
    "\n",
    "To complete the task you decide to analyze the NBA Boxscore Dataset, which includes 3 tables:\n",
    "\n",
    "- **game_info**: contains information about each game between two teams, including things like the scores and the outcome.\n",
    "- **team_stats**: contains detailed statistics for each team in each game, such as points scored, rebounds, assists, and more.\n",
    "- **player_stats**: contains individual game stats for each player, including points, assists, rebounds, and other performance details.\n",
    "\n",
    "## Data Schema\n",
    "The next diagram shows the data schema. For simplicity, it only shows a subset of columns for each table.\n",
    "\n",
    "<div style=\"text-align: center\">\n",
    "    <img src=\"imgs/NBA-db-relation.png\" width=400>\n",
    "</div>\n",
    "\n",
    "## General instructions\n",
    "- **Replace any instances of `None` with your own code**. All `None`s must be replaced.\n",
    "- **Compare your results with the expected output** shown below the code.\n",
    "- **Check the solution** using the expandable cell to verify your answer. If needed, you can copy the code and paste it into the cell\n",
    "\n",
    "Happy coding!\n",
    "\n",
    "<div style=\"background-color: #FAD888; padding: 10px; border-radius: 3px; box-shadow: 0 2px 4px rgba(0, 0, 0, 0.1); width:95%\n",
    "\">\n",
    "<strong>Important note</strong>: Code blocks with None will not run properly. If you run them before completing the exercise, you will likely get an error. \n",
    "</div>"
   ]
  },
  {
   "cell_type": "markdown",
   "metadata": {},
   "source": [
    "## Table of contents\n",
    "- [Step 1: Import modules](#import-modules)\n",
    "- [Step 2: Connect to the Database](#connect-to-the-database)\n",
    "    - [Checking the Connection](#checking-the-connection)\n",
    "- [Step 3: Best players](#step3)"
   ]
  },
  {
   "cell_type": "markdown",
   "metadata": {},
   "source": [
    "<a id=\"import-modules\"></a>\n",
    "\n",
    "## Import modules\n",
    "Begin by importing sqlite3 and pandas modules."
   ]
  },
  {
   "cell_type": "code",
   "execution_count": null,
   "metadata": {},
   "outputs": [],
   "source": [
    "import sqlite3\n",
    "import pandas as pd"
   ]
  },
  {
   "cell_type": "markdown",
   "metadata": {},
   "source": [
    "<a id=\"connect-to-the-database\"></a>\n",
    "\n",
    "## Connect to the Database\n",
    "Next, you need to establish a connection to the SQLite database to run queries and retrieve the data.\n",
    "\n",
    "<div style=\"background-color: #C6E2FF; padding: 10px; border-radius: 3px; box-shadow: 0 2px 4px rgba(0, 0, 0, 0.1); width:95%\n",
    "\">\n",
    "\n",
    "**▶▶▶ Directions**\n",
    "1. Create a connection to the \"basketball.db\" database\n",
    "\n",
    "</div>"
   ]
  },
  {
   "cell_type": "code",
   "execution_count": null,
   "metadata": {},
   "outputs": [],
   "source": [
    "### START CODE HERE ###\n",
    "\n",
    "# Connect to the SQLite database\n",
    "connection = sqlite3.connect(None)\n",
    "\n",
    "### END CODE HERE ###"
   ]
  },
  {
   "cell_type": "markdown",
   "metadata": {},
   "source": [
    "<details>\n",
    "<summary style=\"background-color: #FDBFC7; padding: 10px; border-radius: 3px; box-shadow: 0 2px 4px rgba(0, 0, 0, 0.1); width: 95%; text-align: left; cursor: pointer; font-weight: bold;\">\n",
    "Click here to see the solution</summary> \n",
    "\n",
    "<ul style=\"background-color: #FFF8F8; padding: 10px; border-radius: 3px; margin-top: 5px; width: 95%; box-shadow: inset 0 2px 4px rgba(0, 0, 0, 0.1);\">\n",
    "   \n",
    "Your solution should look something like this:\n",
    "\n",
    "```python\n",
    "# Connect to the SQLite database\n",
    "connection = sqlite3.connect(\"basketball.db\")\n",
    "\n",
    "```\n",
    "</details>"
   ]
  },
  {
   "cell_type": "markdown",
   "metadata": {},
   "source": [
    "<a id=\"checking-the-connection\"></a>\n",
    "\n",
    "### Checking the connection\n",
    "\n",
    "In order to check the connection, you can retrieve the first rows of one of the tables.\n",
    "\n",
    "<div style=\"background-color: #C6E2FF; padding: 10px; border-radius: 3px; box-shadow: 0 2px 4px rgba(0, 0, 0, 0.1); width:95%\n",
    "\">\n",
    "\n",
    "**▶▶▶ Directions**\n",
    "1. Write a SQLite query to select the first row of the `game_info` table\n",
    "2. Execute the query using the `pd.read_sql_query()` function\n",
    "4. Print the results\n",
    "\n",
    "</div>"
   ]
  },
  {
   "cell_type": "code",
   "execution_count": null,
   "metadata": {},
   "outputs": [],
   "source": [
    "### START CODE HERE ###\n",
    "\n",
    "# write the SQL query\n",
    "first_row_query = \"\"\"\n",
    "None\n",
    "\"\"\"\n",
    "\n",
    "# run the query \n",
    "first_row_df = pd.read_sql_query(None, None)\n",
    "\n",
    "### END CODE HERE ###\n",
    "\n",
    "# show the results\n",
    "first_row_df"
   ]
  },
  {
   "cell_type": "markdown",
   "metadata": {},
   "source": [
    "<details open>\n",
    "<summary style=\"background-color: #c6e2ff6c; padding: 10px; border-radius: 3px; box-shadow: 0 2px 4px rgba(0, 0, 0, 0.01); width: 95%; text-align: left; cursor: pointer; font-weight: bold;\">\n",
    "Expected output:</summary> \n",
    "\n",
    "<br>\n",
    "<img src=\"imgs/first_row.png\" width=\"600px\">\n",
    "\n",
    "</details>"
   ]
  },
  {
   "cell_type": "markdown",
   "metadata": {},
   "source": [
    "<details>\n",
    "<summary style=\"background-color: #FDBFC7; padding: 10px; border-radius: 3px; box-shadow: 0 2px 4px rgba(0, 0, 0, 0.1); width: 95%; text-align: left; cursor: pointer; font-weight: bold;\">\n",
    "Click here to see the solution</summary> \n",
    "\n",
    "<ul style=\"background-color: #FFF8F8; padding: 10px; border-radius: 3px; margin-top: 5px; width: 95%; box-shadow: inset 0 2px 4px rgba(0, 0, 0, 0.1);\">\n",
    "   \n",
    "Your solution should look something like this:\n",
    "\n",
    "```python\n",
    "# Write the SQL query\n",
    "first_row_query = \"\"\"\n",
    "SELECT * \n",
    "FROM game_info \n",
    "LIMIT 1;\n",
    "\"\"\"\n",
    "\n",
    "# run the query \n",
    "first_row_df = pd.read_sql_query(first_row_query, connection)\n",
    "\n",
    "```\n",
    "</details>"
   ]
  },
  {
   "cell_type": "markdown",
   "metadata": {},
   "source": [
    "<a id=\"step3\"></a>\n",
    "\n",
    "## Step 3: Best players\n",
    "\n",
    "You want to know which are the 10 players with the most points scored (`PTS`), and which team they play for.\n",
    "\n",
    "<div style=\"background-color: #C6E2FF; padding: 10px; border-radius: 3px; box-shadow: 0 2px 4px rgba(0, 0, 0, 0.1); width: 95%;\">\n",
    "\n",
    "▶▶▶ **Directions** \n",
    "1. Write a query that:\n",
    "    - Selects the columns `player`, `team`, and `PTS` from the `player_stats` table.\n",
    "    - Sorts the results by `PTS` in descending order.\n",
    "    - Limits the results to the top 10 players.\n",
    "2. Execute the query using the `pd.read_sql_query()` function\n",
    "4. Print the results\n",
    "</div> "
   ]
  },
  {
   "cell_type": "code",
   "execution_count": null,
   "metadata": {},
   "outputs": [],
   "source": [
    "### START CODE HERE ###\n",
    "\n",
    "# write the SQL query\n",
    "best_players_query = \"\"\"\n",
    "None\n",
    "\"\"\"\n",
    "\n",
    "# run the query\n",
    "best_players_df = pd.read_sql_query(None, None)\n",
    "\n",
    "### END CODE HERE ###\n",
    "\n",
    "# show the results\n",
    "best_players_df"
   ]
  },
  {
   "cell_type": "markdown",
   "metadata": {},
   "source": [
    "<details open>\n",
    "<summary style=\"background-color: #c6e2ff6c; padding: 10px; border-radius: 3px; box-shadow: 0 2px 4px rgba(0, 0, 0, 0.01); width: 95%; text-align: left; cursor: pointer; font-weight: bold;\">\n",
    "Expected output:</summary> \n",
    "\n",
    "\n",
    "<br>\n",
    "<img src=\"imgs/q3df.png\" width=\"200\">\n",
    "\n",
    "</details>\n"
   ]
  },
  {
   "cell_type": "markdown",
   "metadata": {},
   "source": [
    "<details>\n",
    "<summary style=\"background-color: #FDBFC7; padding: 10px; border-radius: 3px; box-shadow: 0 2px 4px rgba(0, 0, 0, 0.1); width: 95%; text-align: left; cursor: pointer; font-weight: bold;\">\n",
    "Click here to see the solution</summary> \n",
    "\n",
    "<ul style=\"background-color: #FFF8F8; padding: 10px; border-radius: 3px; margin-top: 5px; width: 95%; box-shadow: inset 0 2px 4px rgba(0, 0, 0, 0.1);\">\n",
    "   \n",
    "Your solution should look something like this:\n",
    "\n",
    "<small>\n",
    "\n",
    "```python\n",
    "# write the SQL query\n",
    "best_players_query = \"\"\"\n",
    "SELECT player, team, PTS\n",
    "FROM player_stats \n",
    "ORDER BY PTS DESC\n",
    "LIMIT 10;\n",
    "\"\"\"\n",
    "\n",
    "# run the query\n",
    "best_players_df = pd.read_sql_query(best_players_query, connection)\n",
    "\n",
    "```\n",
    "</small>\n",
    "</details>"
   ]
  },
  {
   "cell_type": "markdown",
   "metadata": {},
   "source": [
    "Once you are done, don't forget to close the connection!"
   ]
  },
  {
   "cell_type": "code",
   "execution_count": null,
   "metadata": {},
   "outputs": [],
   "source": [
    "connection.close()"
   ]
  },
  {
   "cell_type": "markdown",
   "metadata": {},
   "source": [
    "Congratulations for making it until the end of this lab. You will keep working on this dataset in Lesson 2. Hope you enjoyed it! "
   ]
  }
 ],
 "metadata": {
  "kernelspec": {
   "display_name": "Python 3 (ipykernel)",
   "language": "python",
   "name": "python3"
  },
  "language_info": {
   "codemirror_mode": {
    "name": "ipython",
    "version": 3
   },
   "file_extension": ".py",
   "mimetype": "text/x-python",
   "name": "python",
   "nbconvert_exporter": "python",
   "pygments_lexer": "ipython3",
   "version": "3.11.6"
  }
 },
 "nbformat": 4,
 "nbformat_minor": 4
}
