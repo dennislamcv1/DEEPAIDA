{
 "cells": [
  {
   "cell_type": "markdown",
   "metadata": {},
   "source": [
    "# Module 1 Assignment: Analyzing Tech Industry Jobs and Companies\n",
    "\n",
    "Welcome to this module's assignment!\n",
    "\n",
    "Carefully read each Markdown (text) cell, which includes instructions and hints. Start by reading the background behind your upcoming tasks.\n",
    "\n",
    "When you are done, submit your solution by saving it, then clicking on the blue submit button at the top of the page.\n",
    "\n",
    "## Background:\n",
    "\n",
    "As a data analyst at a tech recruitment firm, you need to gather and analyze data about tech companies and their job postings to identify industry trends and opportunities. This analysis will help inform both hiring companies and job seekers about market conditions.\n",
    "\n",
    "You will start by collecting data on the largest tech companies by revenue by scraping data from a Wikipedia-like webpage. Then, you will gather information from tech job postings, extracting data from a job search engine.\n",
    "\n",
    "## In order for your submission to be graded correctly, you **MUST**:\n",
    "\n",
    "* **Use the provided variable names**, otherwise the autograder will not be able to locate the variable for grading. \n",
    "\n",
    "* **Replace any instances of `None` with your own code.** \n",
    "\n",
    "* **Only modify the cells that start with the comment `# GRADED CELL`**.  \n",
    "\n",
    "* **Use the provided cells for your solution.** You can add new cells to experiment, but these will be omitted when grading. \n",
    "\n",
    "To submit your solution, save it, then click on the blue `Submit assignment` button at the top of the page.\n",
    "\n",
    "<div style=\"background-color: #FAD888; padding: 10px; border-radius: 3px; box-shadow: 0 2px 4px rgba(0, 0, 0, 0.1); width:95%\n",
    "\">\n",
    "<strong>Important notes</strong>: Code blocks with None will not run properly. If you run them before completing the exercise, you will likely get an error. \n",
    "\n"
   ]
  },
  {
   "cell_type": "markdown",
   "metadata": {},
   "source": [
    "## Table of Contents\n",
    "\n",
    "- [Step 1: Importing Libraries](#step-1)\n",
    "- [Step 2: Biggest Tech Companies](#step-2)\n",
    "    - [Exercise 1: Scraping the Tables](#ex1)\n",
    "    - [Exercise 2: Inspecting the Tables](#ex2)\n",
    "    - [Exercise 3: Cleaning Column Names](#ex3)\n",
    "    - [Exercise 4: Cleaning Columns](#ex4)\n",
    "    - [Exercise 5: Extracting Cities](#ex5)\n",
    "- [Step 3: Analyzing Job Postings](#step-3)\n",
    "    - [Exercise 6a: Getting the HTML code](#ex6a)\n",
    "    - [Exercise 6b: Getting Job Listings](#ex6b)\n",
    "    - [Exercise 7: Extracting Information from HTML](#ex7)\n",
    "    - [Exercise 8: Dates](#ex8)\n",
    "    - [Exercise 9: Number of Benefits](#ex9)"
   ]
  },
  {
   "cell_type": "markdown",
   "metadata": {},
   "source": [
    "<a id=\"step-1\"></a>\n",
    "\n",
    "## Step 1: Importing libraries\n",
    "\n",
    "Start by importing all the libraries you will need for your tasks.\n",
    "\n",
    "<div style=\"background-color: #C6E2FF; padding: 10px; border-radius: 3px; box-shadow: 0 2px 4px rgba(0, 0, 0, 0.1); width:95%\n",
    "\">\n",
    "    <strong>▶▶▶ Directions</strong> \n",
    "        <ol>\n",
    "            <li>Run the cell below to import <code>pandas</code>, <code>requests</code>, <code>BeautifulSoup</code>, <code>re</code>,  and <code>matplotlib</code> libraries.</li>\n",
    "        </ol>\n",
    "</div>"
   ]
  },
  {
   "cell_type": "code",
   "execution_count": 1,
   "metadata": {
    "deletable": false,
    "editable": false,
    "slideshow": {
     "slide_type": ""
    },
    "tags": [
     "graded"
    ]
   },
   "outputs": [],
   "source": [
    "# 🔒This cell is locked. You will not be able to edit it.\n",
    "\n",
    "import pandas as pd\n",
    "import requests\n",
    "from bs4 import BeautifulSoup\n",
    "import re\n",
    "import matplotlib.pyplot as plt\n",
    "import seaborn as sns"
   ]
  },
  {
   "cell_type": "markdown",
   "metadata": {},
   "source": [
    "<a id=\"step-2\"></a>\n",
    "\n",
    "## Step 2: Biggest Tech Companies\n",
    "\n",
    "To effectively match tech companies with potential candidates, your firm needs reliable data on the industry\"s biggest players. Companies with over $100B in revenue typically offer higher compensation packages, making this revenue data crucial for advising both hiring companies and job seekers about competitive salary ranges.\n",
    "<a id=\"ex1\"></a>\n",
    "\n",
    "#### Exercise 1: Scape the tables\n",
    "\n",
    "Since you\"ve identified a website that stores the relevant data in HTML tables, you can use `pd.read_html()` to get reliable, up-to-date data.\n",
    "\n",
    "<div style=\"background-color: #C6E2FF; padding: 10px; border-radius: 3px; box-shadow: 0 2px 4px rgba(0, 0, 0, 0.1); width:95%\">\n",
    "\n",
    "**▶▶▶ Directions**\n",
    "1. Open the [🔗link](https://dlai-lc-dag.s3.us-east-2.amazonaws.com/list_of_largest_companies.html) to the webpage with information, and take a look at the tables\n",
    "2. Scrape the tables using `pandas`\n",
    "</div>"
   ]
  },
  {
   "cell_type": "markdown",
   "metadata": {},
   "source": [
    "<details>\n",
    "<summary style=\"background-color: #FDBFC7; padding: 10px; border-radius: 3px; box-shadow: 0 2px 4px rgba(0, 0, 0, 0.1); width: 95%; text-align: left; cursor: pointer; font-weight: bold;\">\n",
    "If you are stuck, click here for extra hints!</summary> \n",
    "\n",
    "<ul style=\"background-color: #FFF8F8; padding: 10px; border-radius: 3px; margin-top: 5px; width: 95%; box-shadow: inset 0 2px 4px rgba(0, 0, 0, 0.1);\">\n",
    "   \n",
    "- To scrape the tables using pandas, you can use the function `pd.read_html()`\n",
    "</ul>\n",
    "</details>"
   ]
  },
  {
   "cell_type": "code",
   "execution_count": 2,
   "metadata": {
    "deletable": false,
    "tags": [
     "graded"
    ]
   },
   "outputs": [],
   "source": [
    "# GRADED CELL: Exercise 1\n",
    "\n",
    "url = \"https://dlai-lc-dag.s3.us-east-2.amazonaws.com/list_of_largest_companies.html\"\n",
    "\n",
    "### START CODE HERE ###\n",
    "\n",
    "tables = pd.read_html(url)\n",
    "\n",
    "### END CODE HERE ###"
   ]
  },
  {
   "cell_type": "code",
   "execution_count": 3,
   "metadata": {
    "deletable": false,
    "editable": false
   },
   "outputs": [
    {
     "name": "stdout",
     "output_type": "stream",
     "text": [
      "Downloaded tables successfully\n"
     ]
    }
   ],
   "source": [
    "# 🔒This cell is locked. You will not be able to edit it.\n",
    "\n",
    "# print the results \n",
    "if len(tables) > 0:\n",
    "    print(\"Downloaded tables successfully\")\n",
    "else:\n",
    "    print(\"Could not find any tables\")"
   ]
  },
  {
   "cell_type": "markdown",
   "metadata": {},
   "source": [
    "<details>\n",
    "<summary style=\"background-color: #c6e2ff6c; padding: 10px; border-radius: 3px; box-shadow: 0 2px 4px rgba(0, 0, 0, 0.01); width: 95%; text-align: left; cursor: pointer; font-weight: bold;\">\n",
    "Expected output:</summary> \n",
    "<br>\n",
    "<small>\n",
    "\n",
    "```mkdn\n",
    "Downloaded tables successfully\n",
    "```\n",
    "</details>"
   ]
  },
  {
   "cell_type": "markdown",
   "metadata": {},
   "source": [
    "\n",
    "<a id=\"ex2\"></a>\n",
    "\n",
    "#### Exercise 2: Inspect the Tables\n",
    "\n",
    "Now, take a look at what you downloaded. How many tables did you expect to retrieve?\n",
    "<div style=\"background-color: #C6E2FF; padding: 10px; border-radius: 3px; box-shadow: 0 2px 4px rgba(0, 0, 0, 0.1); width:95%\">\n",
    "\n",
    "**▶▶▶ Directions**\n",
    "\n",
    "1. Count the number of tables in the `tables` variables\n",
    "2. Inspect both tables using the `print` function. Print the first 5 rows of each table\n",
    "3. Save the second table (index 1) in a new variable. You will be working on this one\n",
    "\n",
    "</div>"
   ]
  },
  {
   "cell_type": "markdown",
   "metadata": {},
   "source": [
    "<details>\n",
    "<summary style=\"background-color: #FDBFC7; padding: 10px; border-radius: 3px; box-shadow: 0 2px 4px rgba(0, 0, 0, 0.1); width: 95%; text-align: left; cursor: pointer; font-weight: bold;\">\n",
    "If you are stuck, click here for extra hints!</summary> \n",
    "\n",
    "<ul style=\"background-color: #FFF8F8; padding: 10px; border-radius: 3px; margin-top: 5px; width: 95%; box-shadow: inset 0 2px 4px rgba(0, 0, 0, 0.1);\">\n",
    "   \n",
    "- `pd.read_html()` returns a list of DataFrames, so you can use functions you already know to find the length of a list.\n",
    "- To inspect the tables, you can iterate over the list of DataFrames. Then, in iteration you can use the `head()`method to get the first 5 rows.\n",
    "- In case you’re wondering, the `\"\\n\\n\"` in the print statement inserts two blank lines, which improves readability.\n",
    "</ul>\n",
    "</details>"
   ]
  },
  {
   "cell_type": "code",
   "execution_count": 4,
   "metadata": {
    "deletable": false,
    "scrolled": true,
    "tags": [
     "graded"
    ]
   },
   "outputs": [
    {
     "name": "stdout",
     "output_type": "stream",
     "text": [
      "Table 0:\n",
      "          Column                                        Explanation\n",
      "0          Rank                         Rank of company by revenue\n",
      "1       Company                  Name of the international company\n",
      "2       Revenue  The revenue of the company in billions of USDs...\n",
      "3     Employees                     Number of employees of company\n",
      "4  Headquarters                 Location of company's headquarters \n",
      "\n",
      "\n",
      "Table 1:\n",
      "                Company Revenue ($B) USD[2]  Employees[2] Country (origin)  \\\n",
      "0               Amazon              $574.8       1525000               US   \n",
      "1                Apple             $394.33        164000               US   \n",
      "2             Alphabet             $282.84        190234               US   \n",
      "3  Samsung Electronics             $234.13        270372      South Korea   \n",
      "4              Foxconn             $222.54        767062           Taiwan   \n",
      "\n",
      "                                    Headquarters  \n",
      "0  Seattle, Washington & Arlington, Virginia, US  \n",
      "1                      Cupertino, California, US  \n",
      "2                  Mountain View, California, US  \n",
      "3                             Suwon, South Korea  \n",
      "4                        New Taipei City, Taiwan   \n",
      "\n",
      "\n"
     ]
    }
   ],
   "source": [
    "# GRADED CELL: Exercise 2\n",
    "\n",
    "### START CODE HERE ###\n",
    "\n",
    "# count the number of tables\n",
    "num_tables = len(tables)\n",
    "\n",
    "# print the first 5 rows of each table\n",
    "for i, table in enumerate(tables):\n",
    "    print(f\"Table {i}:\\n\", table.head(), \"\\n\\n\")\n",
    "\n",
    "# save the table at index 1 to a new dataframe\n",
    "tech_companies = tables[1]\n",
    "\n",
    "### END CODE HERE ###"
   ]
  },
  {
   "cell_type": "markdown",
   "metadata": {},
   "source": [
    "<details>\n",
    "<summary style=\"background-color: #c6e2ff6c; padding: 10px; border-radius: 3px; box-shadow: 0 2px 4px rgba(0, 0, 0, 0.01); width: 95%; text-align: left; cursor: pointer; font-weight: bold;\">\n",
    "Expected output:</summary> \n",
    "<br>\n",
    "\n",
    "<small>\n",
    "\n",
    "```mkdn\n",
    "         Column                                        Explanation\n",
    "0          Rank                         Rank of company by revenue\n",
    "1       Company                  Name of the international company\n",
    "2       Revenue  The revenue of the company in billions of USDs...\n",
    "3     Employees                     Number of employees of company\n",
    "4  Headquarters                 Location of company's headquarters \n",
    "\n",
    "\n",
    "               Company Revenue ($B) USD[2]  Employees[2] Country (origin)  \\\n",
    "0               Amazon              $574.8       1525000               US   \n",
    "1                Apple             $394.33        164000               US   \n",
    "2             Alphabet             $282.84        190234               US   \n",
    "3  Samsung Electronics             $234.13        270372      South Korea   \n",
    "4              Foxconn             $222.54        767062           Taiwan   \n",
    "\n",
    "                                    Headquarters  \n",
    "0  Seattle, Washington & Arlington, Virginia, US  \n",
    "1                      Cupertino, California, US  \n",
    "2                  Mountain View, California, US  \n",
    "3                             Suwon, South Korea  \n",
    "4                        New Taipei City, Taiwan   \n",
    "```\n",
    "\n",
    "</small>\n",
    "</details>"
   ]
  },
  {
   "cell_type": "markdown",
   "metadata": {},
   "source": [
    "<a id=\"ex3\"></a>\n",
    "\n",
    "#### Exercise 3: Clean Column Names\n",
    "Your dashboard needs consistent column names. Your next task is to clean up the messy column names from Wikipedia to create a standardized format that your frontend developers can rely on.\n",
    "\n",
    "Before any processing, and for grading purposes, you will begin by creating a copy of the `tech_companies` DataFrame, and saving it into a variable named `tech_companies_clean`. All following exercises should be applied to this new DataFrame.\n",
    "\n",
    "<div style=\"background-color: #C6E2FF; padding: 10px; border-radius: 3px; box-shadow: 0 2px 4px rgba(0, 0, 0, 0.1); width:95%\">\n",
    "\n",
    "**▶▶▶ Directions**\n",
    "1. Rename the columns of the table: \n",
    "\n",
    "    | Old Names | New Names | \n",
    "    |-----------|-----------|\n",
    "    | Company   |   company |\n",
    "    | Revenue ($B) USD[2] | revenue_usd_billions |\n",
    "    | Employees[2] | employee_count |\n",
    "    | Country (origin) | country | \n",
    "    | Headquarters | headquarters|\n",
    "\n",
    "</div>"
   ]
  },
  {
   "cell_type": "markdown",
   "metadata": {},
   "source": [
    "<details>\n",
    "<summary style=\"background-color: #FDBFC7; padding: 10px; border-radius: 3px; box-shadow: 0 2px 4px rgba(0, 0, 0, 0.1); width: 95%; text-align: left; cursor: pointer; font-weight: bold;\">\n",
    "If you are stuck, click here for extra hints!</summary> \n",
    "\n",
    "<ul style=\"background-color: #FFF8F8; padding: 10px; border-radius: 3px; margin-top: 5px; width: 95%; box-shadow: inset 0 2px 4px rgba(0, 0, 0, 0.1);\">\n",
    "   \n",
    "- To rename the columns you can call the `columns` attribute for DataFrames, and set it to the list of new column names.\n",
    "</ul>\n",
    "</details>\n"
   ]
  },
  {
   "cell_type": "code",
   "execution_count": 5,
   "metadata": {
    "deletable": false,
    "tags": [
     "graded"
    ]
   },
   "outputs": [],
   "source": [
    "# GRADED CELL: Exercise 3\n",
    "\n",
    "# create a copy of the dataframe (for grading purposes only)\n",
    "tech_companies_clean = tech_companies.copy()\n",
    "\n",
    "### START CODE HERE ###\n",
    "\n",
    "# define a list with the new column names\n",
    "new_column_names = [\n",
    "    \"company\",\n",
    "    \"revenue_usd_billions\",\n",
    "    \"employee_count\",\n",
    "    \"country\",\n",
    "    \"headquarters\"\n",
    "]\n",
    "\n",
    "# rename the columns\n",
    "tech_companies_clean.columns = new_column_names\n",
    "\n",
    "### END CODE HERE ###"
   ]
  },
  {
   "cell_type": "code",
   "execution_count": 6,
   "metadata": {
    "deletable": false,
    "editable": false
   },
   "outputs": [
    {
     "name": "stdout",
     "output_type": "stream",
     "text": [
      "Index(['company', 'revenue_usd_billions', 'employee_count', 'country',\n",
      "       'headquarters'],\n",
      "      dtype='object')\n"
     ]
    }
   ],
   "source": [
    "# 🔒This cell is locked. You will not be able to edit it.\n",
    "\n",
    "# check that the changes have been made\n",
    "print(tech_companies_clean.columns)"
   ]
  },
  {
   "cell_type": "markdown",
   "metadata": {},
   "source": [
    "<details>\n",
    "<summary style=\"background-color: #c6e2ff6c; padding: 10px; border-radius: 3px; box-shadow: 0 2px 4px rgba(0, 0, 0, 0.01); width: 95%; text-align: left; cursor: pointer; font-weight: bold;\">\n",
    "Expected output:</summary> \n",
    "<br>\n",
    "\n",
    "<small>\n",
    "\n",
    "```mkdn\n",
    "Index(['company', 'revenue_usd_billions', 'employee_count', 'country',\n",
    "       'headquarters'],\n",
    "      dtype=\"object\")\n",
    "```\n",
    "</small>\n",
    "</details>"
   ]
  },
  {
   "cell_type": "markdown",
   "metadata": {},
   "source": [
    "This is a good time to check the data types of the columns"
   ]
  },
  {
   "cell_type": "code",
   "execution_count": 7,
   "metadata": {
    "deletable": false,
    "editable": false
   },
   "outputs": [
    {
     "data": {
      "text/plain": [
       "company                 object\n",
       "revenue_usd_billions    object\n",
       "employee_count           int64\n",
       "country                 object\n",
       "headquarters            object\n",
       "dtype: object"
      ]
     },
     "execution_count": 7,
     "metadata": {},
     "output_type": "execute_result"
    }
   ],
   "source": [
    "# 🔒This cell is locked. You will not be able to edit it.\n",
    "\n",
    "tech_companies_clean.dtypes"
   ]
  },
  {
   "cell_type": "markdown",
   "metadata": {},
   "source": [
    "<details>\n",
    "<summary style=\"background-color: #c6e2ff6c; padding: 10px; border-radius: 3px; box-shadow: 0 2px 4px rgba(0, 0, 0, 0.01); width: 95%; text-align: left; cursor: pointer; font-weight: bold;\">\n",
    "Expected output:</summary> \n",
    "<br>\n",
    "\n",
    "<small>\n",
    "\n",
    "```mkdn\n",
    "company                 object\n",
    "revenue_usd_billions    object\n",
    "employee_count           int64\n",
    "country                 object\n",
    "headquarters            object\n",
    "dtype: object\n",
    "```\n",
    "</small>\n",
    "</details>"
   ]
  },
  {
   "cell_type": "markdown",
   "metadata": {},
   "source": [
    "As you can see, the revenue column is marked as `object`, when you would like it to be a number.\n",
    "<a id=\"ex4\"></a>\n",
    "\n",
    "#### Exercise 4: Cleaning Columns\n",
    "\n",
    "Revenue figures help predict a company's compensation potential. Clean the revenue data by removing currency symbols, and converting it to numeric values.\n",
    "\n",
    "<div style=\"background-color: #C6E2FF; padding: 10px; border-radius: 3px; box-shadow: 0 2px 4px rgba(0, 0, 0, 0.1); width:95%\">\n",
    "\n",
    "**▶▶▶ Directions**\n",
    "1. Remove the currency signs ($) from the `\"revenue_usd_billions\"` column\n",
    "2. Convert the column type to `Float64`\n",
    "</div>"
   ]
  },
  {
   "cell_type": "markdown",
   "metadata": {},
   "source": [
    "<details closed>\n",
    "<summary style=\"background-color: #FDBFC7; padding: 10px; border-radius: 3px; box-shadow: 0 2px 4px rgba(0, 0, 0, 0.1); width: 95%; text-align: left; cursor: pointer; font-weight: bold;\">\n",
    "If you are stuck, click here for extra hints!</summary> \n",
    "\n",
    "<ul style=\"background-color: #FFF8F8; padding: 10px; border-radius: 3px; margin-top: 5px; width: 95%; box-shadow: inset 0 2px 4px rgba(0, 0, 0, 0.1);\">\n",
    "   \n",
    "- One way to remove the \"$\" sign is to use `.str.replace()` method. The arguments for this function are the string you want to replace, and what you want to replace it with. \n",
    "- To cast the column as a `\"Float64\"` you can use the `.astype()` method\n",
    "- None of these methods work in-place, so you need to overwrite the original column for changes to stick.\n",
    "\n",
    "</ul>\n",
    "</details>\n"
   ]
  },
  {
   "cell_type": "code",
   "execution_count": 8,
   "metadata": {
    "deletable": false,
    "tags": [
     "graded"
    ]
   },
   "outputs": [],
   "source": [
    "# GRADED CELL: Exercise 4\n",
    "\n",
    "### START CODE HERE ###\n",
    "\n",
    "# Remove currency signs and any non-numeric characters except dot and minus\n",
    "tech_companies_clean[\"revenue_usd_billions\"] = tech_companies_clean[\"revenue_usd_billions\"].replace(\n",
    "    r\"[^0-9.\\-]\", \"\", regex=True\n",
    ")\n",
    "\n",
    "# Convert revenue to numeric type\n",
    "tech_companies_clean[\"revenue_usd_billions\"] = pd.to_numeric(\n",
    "    tech_companies_clean[\"revenue_usd_billions\"], errors=\"coerce\"\n",
    ")\n",
    "\n",
    "\n",
    "### END CODE HERE ###"
   ]
  },
  {
   "cell_type": "code",
   "execution_count": 9,
   "metadata": {
    "deletable": false,
    "editable": false
   },
   "outputs": [
    {
     "name": "stdout",
     "output_type": "stream",
     "text": [
      "revenue_usd_billions dtype: float64\n",
      "First values:\n",
      "0    574.80\n",
      "1    394.33\n",
      "2    282.84\n",
      "3    234.13\n",
      "4    222.54\n",
      "Name: revenue_usd_billions, dtype: float64\n"
     ]
    }
   ],
   "source": [
    "# 🔒This cell is locked. You will not be able to edit it.\n",
    "\n",
    "# check the data type of the `revenue_usd_billions` column\n",
    "print(\"revenue_usd_billions dtype:\", tech_companies_clean[\"revenue_usd_billions\"].dtype)\n",
    "# check the first values in the `revenue_usd_billions` column\n",
    "print(\"First values:\")\n",
    "print(tech_companies_clean[\"revenue_usd_billions\"][:5])"
   ]
  },
  {
   "cell_type": "markdown",
   "metadata": {},
   "source": [
    "<details>\n",
    "<summary style=\"background-color: #c6e2ff6c; padding: 10px; border-radius: 3px; box-shadow: 0 2px 4px rgba(0, 0, 0, 0.01); width: 95%; text-align: left; cursor: pointer; font-weight: bold;\">\n",
    "Expected output:</summary> \n",
    "<br>\n",
    "\n",
    "<small>\n",
    "\n",
    "```mkdn\n",
    "\n",
    "venue_usd_billions dtype: float64\n",
    "First values:\n",
    "0    574.80\n",
    "1    394.33\n",
    "2    282.84\n",
    "3    234.13\n",
    "4    222.54\n",
    "Name: revenue_usd_billions, dtype: float64\n",
    "```\n",
    "\n",
    "</small>\n",
    "</details>"
   ]
  },
  {
   "cell_type": "markdown",
   "metadata": {},
   "source": [
    "Now that you have cast the data as a numeric type, you can analyze it further. Run the next two cells to find the distribution of the revenues, as well as the correlation between the revenue and the number of employees"
   ]
  },
  {
   "cell_type": "code",
   "execution_count": 10,
   "metadata": {
    "deletable": false,
    "editable": false
   },
   "outputs": [
    {
     "data": {
      "text/plain": [
       "Text(0.5, 1.0, 'Distribution of revenues')"
      ]
     },
     "execution_count": 10,
     "metadata": {},
     "output_type": "execute_result"
    },
    {
     "data": {
      "image/png": "[encoded data removed]",
      "text/plain": [
       "<Figure size 600x300 with 1 Axes>"
      ]
     },
     "metadata": {},
     "output_type": "display_data"
    }
   ],
   "source": [
    "# 🔒This cell is locked. You will not be able to edit it.\n",
    "\n",
    "# Find the distribution of the revenues\n",
    "plt.figure(figsize=(6, 3))\n",
    "sns.histplot(tech_companies_clean[\"revenue_usd_billions\"])\n",
    "plt.title(\"Distribution of revenues\")"
   ]
  },
  {
   "cell_type": "code",
   "execution_count": 11,
   "metadata": {
    "deletable": false,
    "editable": false
   },
   "outputs": [
    {
     "name": "stdout",
     "output_type": "stream",
     "text": [
      "Pearson correlation between revenue and employee count: 0.6759066446985412\n"
     ]
    },
    {
     "data": {
      "image/png": "[encoded data removed]",
      "text/plain": [
       "<Figure size 600x300 with 1 Axes>"
      ]
     },
     "metadata": {},
     "output_type": "display_data"
    }
   ],
   "source": [
    "# 🔒This cell is locked. You will not be able to edit it.\n",
    "\n",
    "plt.figure(figsize=(6,3))\n",
    "sns.regplot(data=tech_companies_clean, x=\"revenue_usd_billions\", y=\"employee_count\")\n",
    "plt.title(\"Revenue vs Employee Count\")\n",
    "\n",
    "# print the Pearson correlation\n",
    "print(\"Pearson correlation between revenue and employee count:\", \n",
    "      tech_companies_clean[\"revenue_usd_billions\"].corr(tech_companies_clean[\"employee_count\"]))"
   ]
  },
  {
   "cell_type": "markdown",
   "metadata": {},
   "source": [
    "<a id=\"ex5\"></a>\n",
    "\n",
    "#### Exercise 5: Extracting Cities\n",
    "Knowing where major tech companies are located helps focus recruitment efforts. Help recruiters fo their jobs more efficiently by adding a new column called \"city\".\n",
    "\n",
    "<div style=\"background-color: #C6E2FF; padding: 10px; border-radius: 3px; box-shadow: 0 2px 4px rgba(0, 0, 0, 0.1); width:95%\">\n",
    "\n",
    "**▶▶▶ Directions**\n",
    "1. Get the city name from the `\"headquarters\"` column using `.str.split()` method\n",
    "2. Add it as a new column to the `tech_companies_clean` DataFrame\n",
    "</div>"
   ]
  },
  {
   "cell_type": "markdown",
   "metadata": {},
   "source": [
    "<details>\n",
    "<summary style=\"background-color: #FDBFC7; padding: 10px; border-radius: 3px; box-shadow: 0 2px 4px rgba(0, 0, 0, 0.1); width: 95%; text-align: left; cursor: pointer; font-weight: bold;\">\n",
    "If you are stuck, click here for extra hints!</summary> \n",
    "\n",
    "<ul style=\"background-color: #FFF8F8; padding: 10px; border-radius: 3px; margin-top: 5px; width: 95%; box-shadow: inset 0 2px 4px rgba(0, 0, 0, 0.1);\">\n",
    "\n",
    "- You can use the `str.split()` method to break the `headquarters` strings into a list. The delimiter is a comma.\n",
    "- The city is the first string so you can use `str[0]` after the `str.split()` method.\n",
    "\n",
    "</ul>\n",
    "</details>\n"
   ]
  },
  {
   "cell_type": "code",
   "execution_count": 12,
   "metadata": {
    "deletable": false,
    "tags": [
     "graded"
    ]
   },
   "outputs": [],
   "source": [
    "# GRADED CELL: Exercise 5\n",
    "\n",
    "### START CODE HERE ###\n",
    "\n",
    "tech_companies_clean[\"city\"] = tech_companies_clean[\"headquarters\"].str.split(\",\").str[0].str.strip()\n",
    "\n",
    "### END CODE HERE ###"
   ]
  },
  {
   "cell_type": "code",
   "execution_count": 13,
   "metadata": {
    "deletable": false,
    "editable": false
   },
   "outputs": [
    {
     "name": "stdout",
     "output_type": "stream",
     "text": [
      "0             Seattle\n",
      "1           Cupertino\n",
      "2       Mountain View\n",
      "3               Suwon\n",
      "4     New Taipei City\n",
      "5             Redmond\n",
      "6             Beijing\n",
      "7     Yuhang District\n",
      "8              Dallas\n",
      "9          Menlo Park\n",
      "10               Bonn\n",
      "11         Round Rock\n",
      "12           Shenzhen\n",
      "13              Tokyo\n",
      "14           Shenzhen\n",
      "15              Tokyo\n",
      "16    New Taipei City\n",
      "17              Seoul\n",
      "18        Santa Clara\n",
      "19          Palo Alto\n",
      "20          Hong Kong\n",
      "21              Osaka\n",
      "22             Dublin\n",
      "23        Santa Clara\n",
      "24             Armonk\n",
      "Name: city, dtype: object\n"
     ]
    }
   ],
   "source": [
    "# 🔒This cell is locked. You will not be able to edit it.\n",
    "\n",
    "# print the results\n",
    "print(tech_companies_clean[\"city\"])"
   ]
  },
  {
   "cell_type": "markdown",
   "metadata": {},
   "source": [
    "<details>\n",
    "<summary style=\"background-color: #c6e2ff6c; padding: 10px; border-radius: 3px; box-shadow: 0 2px 4px rgba(0, 0, 0, 0.01); width: 95%; text-align: left; cursor: pointer; font-weight: bold;\">\n",
    "Expected output:</summary> \n",
    "<br>\n",
    "\n",
    "<small>\n",
    "\n",
    "```mkdn\n",
    "0             Seattle\n",
    "1           Cupertino\n",
    "2       Mountain View\n",
    "3               Suwon\n",
    "4     New Taipei City\n",
    "5             Redmond\n",
    "6             Beijing\n",
    "7     Yuhang District\n",
    "8              Dallas\n",
    "9          Menlo Park\n",
    "10               Bonn\n",
    "11         Round Rock\n",
    "12           Shenzhen\n",
    "13              Tokyo\n",
    "14           Shenzhen\n",
    "15              Tokyo\n",
    "16    New Taipei City\n",
    "17              Seoul\n",
    "18        Santa Clara\n",
    "19          Palo Alto\n",
    "20          Hong Kong\n",
    "21              Osaka\n",
    "22             Dublin\n",
    "23        Santa Clara\n",
    "24             Armonk\n",
    "Name: city, dtype: object\n",
    "```\n",
    "\n",
    "</small>\n",
    "</details>"
   ]
  },
  {
   "cell_type": "markdown",
   "metadata": {},
   "source": [
    "<a id=\"step-3\"></a>\n",
    "\n",
    "## Step 3: Analyzing Job Postings\n",
    "As a recruitment firm, analyzing job postings helps you spot hiring trends and advise clients. You can track who’s hiring, what benefits they offer, and where, revealing patterns like which regions offer better perks or a rise in tech roles.\n",
    "\n",
    "<a id=\"ex6a\"></a>\n",
    "\n",
    "#### Exercise 6a: Getting the HTML Code with Job Postings\n",
    "As a modern recruiting firm, you want to automatically gather job postings from various online sources. Your first task is to access tech job listings from [🔗this webpage](https://dlai-lc-dag.s3.us-east-2.amazonaws.com/jobs.html).\n",
    "\n",
    "Before scraping the data, open the [🔗webpage](https://dlai-lc-dag.s3.us-east-2.amazonaws.com/jobs.html), right-click anywhere on the page, and choose \"Inspect\" to take a look at the HTML code behind the site. You should see something like this:\n",
    "\n",
    "<div style=\"text-align: center\">\n",
    "  <img src=\"imgs/inspection.png\" >\n",
    "</div>\n",
    "\n",
    "As you can see from the screenshot, each job listing is wrapped in a `<div>` with the class `base-search-card_info`. This container holds various elements that describe the job post. Here are the key parts you can extract:\n",
    "\n",
    "- **`<h3 class=\"base-search-card_title\">`**: Contains the job title (e.g., *Field Sales Engineer*).\n",
    "- **`<h4 class=\"base-search-card_subtitle\">`**: Contains the company name (e.g., *Lenovo*).\n",
    "- **`<span class=\"job-search-card_location\">`**: Specifies the job location (e.g., *Colorado, United States*).\n",
    "- **`<span class=\"job-posting-benefits_text\">`**: This contains benefits, like health insurance or the possibility to be an early applicant\n",
    "- **`<p class=\"list-date\">`**: Indicates the date the job was posted.\n",
    "\n",
    "<div style=\"background-color: #C6E2FF; padding: 10px; border-radius: 3px; box-shadow: 0 2px 4px rgba(0, 0, 0, 0.1); width:95%\">\n",
    "\n",
    "**▶▶▶ Directions**\n",
    "1. Open the [🔗webpage](https://dlai-lc-dag.s3.us-east-2.amazonaws.com/jobs.html) and inspect the HTML code\n",
    "2. Send a GET request to the provided URL\n",
    "3. Get the status code. If it is 200, then you know a response was successfully returned.\n",
    "</div>"
   ]
  },
  {
   "cell_type": "markdown",
   "metadata": {},
   "source": [
    "<details>\n",
    "<summary style=\"background-color: #FDBFC7; padding: 10px; border-radius: 3px; box-shadow: 0 2px 4px rgba(0, 0, 0, 0.1); width: 95%; text-align: left; cursor: pointer; font-weight: bold;\">\n",
    "If you are stuck, click here for extra hints!</summary> \n",
    "\n",
    "<ul style=\"background-color: #FFF8F8; padding: 10px; border-radius: 3px; margin-top: 5px; width: 95%; box-shadow: inset 0 2px 4px rgba(0, 0, 0, 0.1);\">\n",
    "\n",
    "- You can send the GET request with the `get()` function from the `requests` library\n",
    "- To check the status of the request, use the `status_code` attribute\n",
    "</ul>\n",
    "</details>\n"
   ]
  },
  {
   "cell_type": "code",
   "execution_count": 14,
   "metadata": {
    "deletable": false,
    "tags": [
     "graded"
    ]
   },
   "outputs": [],
   "source": [
    "# GRADED CELL: Exercise 6a\n",
    "\n",
    "# define the url\n",
    "url = \"https://dlai-lc-dag.s3.us-east-2.amazonaws.com/jobs.html\"\n",
    "\n",
    "### START CODE HERE ###\n",
    "\n",
    "# send a GET request to the url\n",
    "response = requests.get(url)\n",
    "\n",
    "# get the status of the response for troubleshooting\n",
    "status = response.status_code\n",
    "### END CODE HERE ###"
   ]
  },
  {
   "cell_type": "code",
   "execution_count": 15,
   "metadata": {},
   "outputs": [
    {
     "name": "stdout",
     "output_type": "stream",
     "text": [
      "200\n"
     ]
    }
   ],
   "source": [
    "# 🔒This cell is locked. You will not be able to edit it.\n",
    "\n",
    "# print the status code\n",
    "print(status)"
   ]
  },
  {
   "cell_type": "markdown",
   "metadata": {},
   "source": [
    "<details>\n",
    "<summary style=\"background-color: #c6e2ff6c; padding: 10px; border-radius: 3px; box-shadow: 0 2px 4px rgba(0, 0, 0, 0.01); width: 95%; text-align: left; cursor: pointer; font-weight: bold;\">\n",
    "Expected output:</summary> \n",
    "<br>\n",
    "\n",
    "<small>\n",
    "\n",
    "```mkdn\n",
    "200\n",
    "```\n",
    "\n",
    "</small>\n",
    "\n",
    "</details>"
   ]
  },
  {
   "cell_type": "markdown",
   "metadata": {},
   "source": [
    "<a id=\"ex6b\"></a>\n",
    "\n",
    "#### Exercise 6b: Getting the Job Listings \n",
    "If the request worked correctly, you are ready to transform it into a structured format that you can search through more easily.\n",
    "\n",
    "<div style=\"background-color: #C6E2FF; padding: 10px; border-radius: 3px; box-shadow: 0 2px 4px rgba(0, 0, 0, 0.1); width:95%\">\n",
    "\n",
    "**▶▶▶ Directions**\n",
    "1. Parse the HTML content using BeautifulSoup\n",
    "\n",
    "</div>"
   ]
  },
  {
   "cell_type": "markdown",
   "metadata": {},
   "source": [
    "<details>\n",
    "<summary style=\"background-color: #FDBFC7; padding: 10px; border-radius: 3px; box-shadow: 0 2px 4px rgba(0, 0, 0, 0.1); width: 95%; text-align: left; cursor: pointer; font-weight: bold;\">\n",
    "If you are stuck, click here for extra hints!</summary> \n",
    "\n",
    "<ul style=\"background-color: #FFF8F8; padding: 10px; border-radius: 3px; margin-top: 5px; width: 95%; box-shadow: inset 0 2px 4px rgba(0, 0, 0, 0.1);\">\n",
    "   \n",
    "- To parse the data, you can call `BeautifulSoup` on the content of the html response\n",
    "</ul>\n",
    "</details>\n"
   ]
  },
  {
   "cell_type": "code",
   "execution_count": 16,
   "metadata": {
    "deletable": false,
    "tags": [
     "graded"
    ]
   },
   "outputs": [],
   "source": [
    "# GRADED CELL: Exercise 6b\n",
    "\n",
    "### START CODE HERE ###\n",
    "\n",
    "# parse the content with BeautifulSoup\n",
    "soup = BeautifulSoup(response.content, \"html.parser\")\n",
    "\n",
    "### END CODE HERE ###"
   ]
  },
  {
   "cell_type": "code",
   "execution_count": 17,
   "metadata": {
    "deletable": false,
    "editable": false,
    "scrolled": true
   },
   "outputs": [
    {
     "name": "stdout",
     "output_type": "stream",
     "text": [
      "<!DOCTYPE html>\n",
      "<html lang=\"en\">\n",
      " <head>\n",
      "  <meta charset=\"utf-8\"/>\n",
      "  <meta content=\"width=device-width, initial-scale=1.0\" name=\"viewport\"/>\n",
      "  <title>\n",
      "   Job Listings\n",
      "  </title>\n",
      "  <link href=\"styles_jobs.css\" rel=\"stylesheet\"/>\n",
      " </head>\n",
      " <body>\n",
      "  <header>\n",
      "   <h1>\n",
      "    Job Marketplace\n",
      "   </h1>\n",
      "   <p>\n",
      "    Welcome to the Job Marketplace. Explore various job listings and find your next career opportuni\n"
     ]
    }
   ],
   "source": [
    "# 🔒This cell is locked. You will not be able to edit it.\n",
    "\n",
    "# print the first characters of soup\n",
    "print(soup.prettify()[:400])"
   ]
  },
  {
   "cell_type": "markdown",
   "metadata": {},
   "source": [
    "<details>\n",
    "<summary style=\"background-color: #c6e2ff6c; padding: 10px; border-radius: 3px; box-shadow: 0 2px 4px rgba(0, 0, 0, 0.01); width: 95%; text-align: left; cursor: pointer; font-weight: bold;\">\n",
    "Expected output:</summary> \n",
    "<br>\n",
    "\n",
    "<small>\n",
    "\n",
    "```mkdn\n",
    "<!DOCTYPE html>\n",
    "<html lang=\"en\">\n",
    " <head>\n",
    "  <meta charset=\"utf-8\"/>\n",
    "  <meta content=\"width=device-width, initial-scale=1.0\" name=\"viewport\"/>\n",
    "  <title>\n",
    "   Job Listings\n",
    "  </title>\n",
    "  <link href=\"styles_jobs.css\" rel=\"stylesheet\"/>\n",
    " </head>\n",
    " <body>\n",
    "  <header>\n",
    "   <h1>\n",
    "    Job Marketplace\n",
    "   </h1>\n",
    "   <p>\n",
    "    Welcome to the Job Marketplace. Explore various job listings and find your next career opportuni\n",
    "```\n",
    "\n",
    "</small>\n",
    "\n",
    "</details>"
   ]
  },
  {
   "cell_type": "markdown",
   "metadata": {},
   "source": [
    "<a id=\"ex7\"></a>\n",
    "\n",
    "#### Exercise 7: Extracting Information from HTML\n",
    "Now that you have structured data, we can use it to pull out the specific pieces of information the recruiters need: job titles, company names, locations, benefits, and when it was listed. \n",
    "\n",
    "<div style=\"background-color: #C6E2FF; padding: 10px; border-radius: 3px; box-shadow: 0 2px 4px rgba(0, 0, 0, 0.1); width:95%\">\n",
    "\n",
    "**▶▶▶ Directions**\n",
    "1. Based on the description at the beginning of [Exercise 6a](#ex6a), listing above extract each of the data from each job posting. Use the following table\n",
    "\n",
    "\n",
    "</div>\n",
    "If you have any doubts as to which element-class pairs to use in each step, look at the hints below."
   ]
  },
  {
   "cell_type": "markdown",
   "metadata": {},
   "source": [
    "<details>\n",
    "<summary style=\"background-color: #FDBFC7; padding: 10px; border-radius: 3px; box-shadow: 0 2px 4px rgba(0, 0, 0, 0.1); width: 95%; text-align: left; cursor: pointer; font-weight: bold;\">\n",
    "If you are stuck, click here for extra hints!</summary> \n",
    "\n",
    "<ul style=\"background-color: #FFF8F8; padding: 10px; border-radius: 3px; margin-top: 5px; width: 95%; box-shadow: inset 0 2px 4px rgba(0, 0, 0, 0.1);\">\n",
    "   \n",
    "- To find each individual job posting, look for the element `\"div\"` and class `\"base-search-card__info\"`\n",
    "- To find all the job listings, you can use the `find_all()` method. You need to pass the element, followed by the argument `class_` with the class you are looking for\n",
    "- To extract data from each job posting, you can use this table:\n",
    "\n",
    "    | Feature | Element | Class| \n",
    "    | --------|---------|-----|\n",
    "    | job_title | \"h3\" | \"base-search-card_title\"|\n",
    "    |company | \"h4\" | \"base-search-card_subtitle\"|\n",
    "    |location | \"span\" | \"job-search-card_location\" |\n",
    "    |list_date | \"p\"| \"list-date\"|\n",
    "\n",
    "- Inside the `for` loop, use the `.find()` method to get each individual data (job title, company, location, benefits, and listing date)\n",
    "</ul>\n",
    "</details>\n"
   ]
  },
  {
   "cell_type": "code",
   "execution_count": 18,
   "metadata": {
    "deletable": false,
    "tags": [
     "graded"
    ]
   },
   "outputs": [],
   "source": [
    "# GRADED CELL: Exercise 7\n",
    "\n",
    "# get all the job listings\n",
    "job_listings = soup.find_all(\"div\", class_=\"base-search-card_info\")\n",
    "\n",
    "\n",
    "jobs = []\n",
    "for job in job_listings:\n",
    "    \n",
    "    ### START CODE HERE ###\n",
    "    \n",
    "    # find the job title\n",
    "    job_title = job.find(\"h3\", class_=\"base-search-card_title\").text.strip()\n",
    "    \n",
    "    # find the company name \n",
    "    company = job.find(\"h4\", class_=\"base-search-card_subtitle\").text.strip()\n",
    "\n",
    "    # find the location\n",
    "    location = job.find(\"span\", class_=\"job-search-card_location\").text.strip()\n",
    "\n",
    "    # find the listing date\n",
    "    list_date = job.find(\"p\", class_=\"list-date\").text.strip()\n",
    "    \n",
    "    ### END CODE HERE ###\n",
    "\n",
    "    # append the list of fields to the list of jobs\n",
    "    jobs.append([job_title, company, location, list_date])\n",
    "    \n",
    "# create a DataFrame from the list of jobs\n",
    "jobs_df = pd.DataFrame(jobs, columns=[\"job_title\", \"company\", \"location\", \"list_date\"]) "
   ]
  },
  {
   "cell_type": "code",
   "execution_count": 19,
   "metadata": {
    "deletable": false,
    "editable": false
   },
   "outputs": [
    {
     "data": {
      "text/html": [
       "<div>\n",
       "<style scoped>\n",
       "    .dataframe tbody tr th:only-of-type {\n",
       "        vertical-align: middle;\n",
       "    }\n",
       "\n",
       "    .dataframe tbody tr th {\n",
       "        vertical-align: top;\n",
       "    }\n",
       "\n",
       "    .dataframe thead th {\n",
       "        text-align: right;\n",
       "    }\n",
       "</style>\n",
       "<table border=\"1\" class=\"dataframe\">\n",
       "  <thead>\n",
       "    <tr style=\"text-align: right;\">\n",
       "      <th></th>\n",
       "      <th>job_title</th>\n",
       "      <th>company</th>\n",
       "      <th>location</th>\n",
       "      <th>list_date</th>\n",
       "    </tr>\n",
       "  </thead>\n",
       "  <tbody>\n",
       "    <tr>\n",
       "      <th>0</th>\n",
       "      <td>Content Editor, IBM Think</td>\n",
       "      <td>IBM</td>\n",
       "      <td>New York, NY</td>\n",
       "      <td>2024-12-29</td>\n",
       "    </tr>\n",
       "    <tr>\n",
       "      <th>1</th>\n",
       "      <td>2025 Intern – IBM Product Marketing</td>\n",
       "      <td>IBM</td>\n",
       "      <td>New York, NY</td>\n",
       "      <td>2025-01-07</td>\n",
       "    </tr>\n",
       "    <tr>\n",
       "      <th>2</th>\n",
       "      <td>Content Editor, IBM Think</td>\n",
       "      <td>IBM</td>\n",
       "      <td>New York, NY</td>\n",
       "      <td>2024-12-30</td>\n",
       "    </tr>\n",
       "    <tr>\n",
       "      <th>3</th>\n",
       "      <td>Software Engineer - Frontend</td>\n",
       "      <td>LinkedIn</td>\n",
       "      <td>Mountain View, CA</td>\n",
       "      <td>2025-01-09</td>\n",
       "    </tr>\n",
       "    <tr>\n",
       "      <th>4</th>\n",
       "      <td>Software Engineer - January 2025</td>\n",
       "      <td>Creyos</td>\n",
       "      <td>United States</td>\n",
       "      <td>Oct 10 2024</td>\n",
       "    </tr>\n",
       "  </tbody>\n",
       "</table>\n",
       "</div>"
      ],
      "text/plain": [
       "                             job_title   company           location  \\\n",
       "0            Content Editor, IBM Think       IBM       New York, NY   \n",
       "1  2025 Intern – IBM Product Marketing       IBM       New York, NY   \n",
       "2            Content Editor, IBM Think       IBM       New York, NY   \n",
       "3         Software Engineer - Frontend  LinkedIn  Mountain View, CA   \n",
       "4     Software Engineer - January 2025    Creyos      United States   \n",
       "\n",
       "     list_date  \n",
       "0   2024-12-29  \n",
       "1   2025-01-07  \n",
       "2   2024-12-30  \n",
       "3   2025-01-09  \n",
       "4  Oct 10 2024  "
      ]
     },
     "execution_count": 19,
     "metadata": {},
     "output_type": "execute_result"
    }
   ],
   "source": [
    "# 🔒This cell is locked. You will not be able to edit it.\n",
    "\n",
    "# print the first results\n",
    "jobs_df.head()"
   ]
  },
  {
   "cell_type": "markdown",
   "metadata": {},
   "source": [
    "<details>\n",
    "<summary style=\"background-color: #c6e2ff6c; padding: 10px; border-radius: 3px; box-shadow: 0 2px 4px rgba(0, 0, 0, 0.01); width: 95%; text-align: left; cursor: pointer; font-weight: bold;\">\n",
    "Expected output:</summary> \n",
    "<br>\n",
    "\n",
    "<img src=\"imgs/ex7.png\" width=\"550\"/>\n",
    "\n",
    "\n",
    "</details>"
   ]
  },
  {
   "cell_type": "markdown",
   "metadata": {},
   "source": [
    "Next, use the `dtypes` attribute to check if the data types of the columns make sense"
   ]
  },
  {
   "cell_type": "code",
   "execution_count": 20,
   "metadata": {
    "deletable": false,
    "editable": false
   },
   "outputs": [
    {
     "name": "stdout",
     "output_type": "stream",
     "text": [
      "job_title    object\n",
      "company      object\n",
      "location     object\n",
      "list_date    object\n",
      "dtype: object\n"
     ]
    }
   ],
   "source": [
    "print(jobs_df.dtypes)"
   ]
  },
  {
   "cell_type": "markdown",
   "metadata": {},
   "source": [
    "<a id=\"ex8\"></a>\n",
    "\n",
    "#### Exercise 8: Dates\n",
    "All columns seem to be `object` type, so the content is treated as strings. This strategy works for all columns except for `list_date`, which should be a datetime. Also, as you can see from inspecting the dataset, some dates have a different format. \n",
    "\n",
    "<div style=\"background-color: #C6E2FF; padding: 10px; border-radius: 3px; box-shadow: 0 2px 4px rgba(0, 0, 0, 0.1); width:95%\">\n",
    "\n",
    "**▶▶▶ Directions**\n",
    "1. Convert the `\"list_date\"` column to a datetime data type. \n",
    "2. Extract the name of the day of the week  from the date and add it as a new column to the DataFrame (code is given)\n",
    "3. Check that all the dates show up with the same format (code is given)\n",
    "\n",
    "</div>"
   ]
  },
  {
   "cell_type": "markdown",
   "metadata": {},
   "source": [
    "<details>\n",
    "<summary style=\"background-color: #FDBFC7; padding: 10px; border-radius: 3px; box-shadow: 0 2px 4px rgba(0, 0, 0, 0.1); width: 95%; text-align: left; cursor: pointer; font-weight: bold;\">\n",
    "If you are stuck, click here for extra hints!</summary> \n",
    "\n",
    "<ul style=\"background-color: #FFF8F8; padding: 10px; border-radius: 3px; margin-top: 5px; width: 95%; box-shadow: inset 0 2px 4px rgba(0, 0, 0, 0.1);\">\n",
    "   \n",
    "- To convert the `\"list_date\"` column to datetime, you can use the `pd.to_datetime()` function. You will need to pass the column you want to convert, and (in this case) the argument `format=\"mixed\"`   \n",
    "- To access the data types for the print statement, use the `.dtypes` attribute\n",
    "</ul>\n",
    "</details>"
   ]
  },
  {
   "cell_type": "code",
   "execution_count": 21,
   "metadata": {
    "deletable": false,
    "tags": [
     "graded"
    ]
   },
   "outputs": [
    {
     "name": "stdout",
     "output_type": "stream",
     "text": [
      "job_title              object\n",
      "company                object\n",
      "location               object\n",
      "list_date      datetime64[ns]\n",
      "day_of_week            object\n",
      "dtype: object\n"
     ]
    }
   ],
   "source": [
    "# GRADED CELL: Exercise 8\n",
    "\n",
    "### START CODE HERE ###\n",
    "\n",
    "# convert the list_date column to datetime. Original dates have different formats,\n",
    "# so use the \"mixed\" format to parse them\n",
    "jobs_df[\"list_date\"] = pd.to_datetime(jobs_df[\"list_date\"], format=\"mixed\")\n",
    "\n",
    "### END CODE HERE ###\n",
    "\n",
    "# extract the day of the week from the list_date column\n",
    "jobs_df[\"day_of_week\"] = jobs_df[\"list_date\"].dt.day_name()\n",
    "\n",
    "# print the the data types of the columns to check the conversion\n",
    "print(jobs_df.dtypes)"
   ]
  },
  {
   "cell_type": "markdown",
   "metadata": {},
   "source": [
    "<details>\n",
    "<summary style=\"background-color: #c6e2ff6c; padding: 10px; border-radius: 3px; box-shadow: 0 2px 4px rgba(0, 0, 0, 0.01); width: 95%; text-align: left; cursor: pointer; font-weight: bold;\">\n",
    "Expected output:</summary> \n",
    "<br>\n",
    "\n",
    "<small>\n",
    "\n",
    "```mkdn\n",
    "job_title              object\n",
    "company                object\n",
    "location               object\n",
    "list_date      datetime64[ns]\n",
    "day_of_week            object\n",
    "dtype: object\n",
    "```\n",
    "</small>\n",
    "\n",
    "</details>"
   ]
  },
  {
   "cell_type": "markdown",
   "metadata": {},
   "source": [
    "Now that you have the day of the week of each posting, you can analyze if there is any days where postings happen more often. \n",
    "\n",
    "Run the cell below to get a column chart with the information"
   ]
  },
  {
   "cell_type": "code",
   "execution_count": 22,
   "metadata": {
    "deletable": false,
    "editable": false
   },
   "outputs": [
    {
     "data": {
      "text/plain": [
       "Text(0.5, 1.0, 'Number of job listings per day of the week')"
      ]
     },
     "execution_count": 22,
     "metadata": {},
     "output_type": "execute_result"
    },
    {
     "data": {
      "image/png": "[encoded data removed]",
      "text/plain": [
       "<Figure size 600x300 with 1 Axes>"
      ]
     },
     "metadata": {},
     "output_type": "display_data"
    }
   ],
   "source": [
    "# 🔒This cell is locked. You will not be able to edit it.\n",
    "\n",
    "# Count the number of job listings per day of the week\n",
    "jobs_per_day = jobs_df[\"day_of_week\"].value_counts()\n",
    "# Sort the results so you get Monday-Sunday\n",
    "jobs_per_day = jobs_per_day[[\"Monday\", \"Tuesday\", \"Wednesday\", \n",
    "                             \"Thursday\", \"Friday\", \"Saturday\", \"Sunday\"]]\n",
    "\n",
    "# create the column chart\n",
    "# set the figure size\n",
    "plt.figure(figsize=(6, 3)) \n",
    "# generate the plot\n",
    "jobs_per_day.plot(kind=\"bar\")\n",
    "# rotate the x-axis labels\n",
    "plt.xticks(rotation=45)\n",
    "# set the x-axis label\n",
    "plt.xlabel(\"Day of the week\")\n",
    "# set the y-axis label\n",
    "plt.ylabel(\"Number of job listings\")\n",
    "# set the title\n",
    "plt.title(\"Number of job listings per day of the week\")"
   ]
  },
  {
   "cell_type": "markdown",
   "metadata": {},
   "source": [
    "Congratulations on finishing this graded lab! If everything is running correctly, you can go ahead and submit your code for grading."
   ]
  }
 ],
 "metadata": {
  "grader_version": "2",
  "kernelspec": {
   "display_name": "Python 3 (ipykernel)",
   "language": "python",
   "name": "python3"
  },
  "language_info": {
   "codemirror_mode": {
    "name": "ipython",
    "version": 3
   },
   "file_extension": ".py",
   "mimetype": "text/x-python",
   "name": "python",
   "nbconvert_exporter": "python",
   "pygments_lexer": "ipython3",
   "version": "3.11.6"
  }
 },
 "nbformat": 4,
 "nbformat_minor": 4
}
