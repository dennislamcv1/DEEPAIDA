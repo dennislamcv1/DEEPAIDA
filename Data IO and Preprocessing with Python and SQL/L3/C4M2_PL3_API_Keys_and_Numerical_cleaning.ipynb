{
 "cells": [
  {
   "cell_type": "markdown",
   "metadata": {},
   "source": [
    "# Practice Lab: API keys and Numerical Cleaning\n",
    "\n",
    "In this lab, you will practice how to request data from a webpage using Python. Specifically, you will practice how to access this data using an API key. You will use the `requests` package to access the data and `pandas` to process it. You will be using APIs to retrieve, clean, and analyze 2022 ride-sharing data from the city of Chicago.\n",
    "\n",
    "## General instructions\n",
    "- **Replace any instances of `None` with your own code**. All `None`s must be replaced.\n",
    "- **Compare your results with the expected output** shown below the code.\n",
    "- **Check the solution** using the expandable cell to verify your answer. If needed, you can copy the code and paste it into the cell\n",
    "\n",
    "Happy coding!\n",
    "\n",
    "<div style=\"background-color: #FAD888; padding: 10px; border-radius: 3px; box-shadow: 0 2px 4px rgba(0, 0, 0, 0.1); width:95%\n",
    "\">\n",
    "<strong>Important note</strong>: Code blocks with None will not run properly. If you run them before completing the exercise, you will likely get an error. \n",
    "\n",
    "</div>"
   ]
  },
  {
   "cell_type": "markdown",
   "metadata": {
    "jp-MarkdownHeadingCollapsed": true
   },
   "source": [
    "## Table of contents\n",
    "- [Step 1: Import modules](#import-modules)\n",
    "- [Step 2: Define environment variables](#environment-variables)\n",
    "- [Step 3: Extract tables from webpage](#extract-tables)\n",
    "- [Step 4: Scaling the data](#scaling-the-data)\n",
    "- [Step 5: Binning the data](#binning-the-data)"
   ]
  },
  {
   "cell_type": "markdown",
   "metadata": {},
   "source": [
    "<a id=\"import-modules\"></a>\n",
    "\n",
    "## Step 1: Import modules\n",
    "First, you need to import the necessary modules."
   ]
  },
  {
   "cell_type": "code",
   "execution_count": null,
   "metadata": {},
   "outputs": [],
   "source": [
    "import requests\n",
    "import pandas as pd\n",
    "import matplotlib.pyplot as plt\n",
    "import os\n",
    "from dotenv import load_dotenv"
   ]
  },
  {
   "cell_type": "markdown",
   "metadata": {},
   "source": [
    "<a id=\"environment-variables\"></a>\n",
    "\n",
    "## Step 2: Define the environment variables \n",
    "Retrieve the API key from the environment variables\n",
    "\n",
    "<div style=\"background-color: #C6E2FF; padding: 10px; border-radius: 3px; box-shadow: 0 2px 4px rgba(0, 0, 0, 0.1); width:95%\n",
    "\">\n",
    "    <strong>▶▶▶ Directions</strong> \n",
    "        <ol>\n",
    "            <li>Get the API key</li>\n",
    "            <ul>\n",
    "                <li>Use <code>load_dotenv()</code> to load the environment variables.</li>\n",
    "                <li>Use <code>os.getenv()</code> to get the API key, stored in the variable <code>\"RIDES_API_KEY\"</code> of the environment.</li>\n",
    "            </ul>\n",
    "        </ol>\n",
    "</div>"
   ]
  },
  {
   "cell_type": "code",
   "execution_count": null,
   "metadata": {},
   "outputs": [],
   "source": [
    "### START CODE HERE ###\n",
    "\n",
    "# load the environment variables\n",
    "None()\n",
    "\n",
    "# load API key from environment variable\n",
    "API_KEY = os.None(None)\n",
    "\n",
    "### END CODE HERE ###\n",
    "\n",
    "print(API_KEY)"
   ]
  },
  {
   "cell_type": "markdown",
   "metadata": {},
   "source": [
    "<details open>\n",
    "<summary style=\"background-color: #c6e2ff6c; padding: 10px; border-radius: 3px; box-shadow: 0 2px 4px rgba(0, 0, 0, 0.01); width: 95%; text-align: left; cursor: pointer; font-weight: bold;\">\n",
    "Expected output:</summary> \n",
    "\n",
    "\n",
    "```\n",
    "d34db33f\n",
    "```\n",
    "\n",
    "</details>"
   ]
  },
  {
   "cell_type": "markdown",
   "metadata": {},
   "source": [
    "<details>\n",
    "<summary style=\"background-color: #FDBFC7; padding: 10px; border-radius: 3px; box-shadow: 0 2px 4px rgba(0, 0, 0, 0.1); width: 95%; text-align: left; cursor: pointer; font-weight: bold;\">\n",
    "Click here to see the solution</summary> \n",
    "\n",
    "<ul style=\"background-color: #FFF8F8; padding: 10px; border-radius: 3px; margin-top: 5px; width: 95%; box-shadow: inset 0 2px 4px rgba(0, 0, 0, 0.1);\">\n",
    "   \n",
    "Your solution should look something like this:\n",
    "\n",
    "```python\n",
    "# load the environment variables\n",
    "load_dotenv()\n",
    "\n",
    "# load API key from environment variable\n",
    "API_KEY = os.getenv(\"RIDES_API_KEY\")\n",
    "```\n",
    "</details>"
   ]
  },
  {
   "cell_type": "markdown",
   "metadata": {},
   "source": [
    "<a id=\"extract-tables\"></a>\n",
    "\n",
    "## Step 3: Extract tables from webpage\n",
    "Use `requests` to get the data using an API. Use the API key for authentication. Define the parameters for the API request to get multiple pages of data and concatenate those pages into a single DataFrame.\n",
    "\n",
    "<div style=\"background-color: #C6E2FF; padding: 10px; border-radius: 3px; box-shadow: 0 2px 4px rgba(0, 0, 0, 0.1); width:95%\n",
    "\">\n",
    "    <strong>▶▶▶ Directions</strong> \n",
    "        <ol>\n",
    "            <li>Run the cell below to get the data from the API using a for loop and save it in a DataFame.</li>\n",
    "        </ol>\n",
    "</div>"
   ]
  },
  {
   "cell_type": "code",
   "execution_count": null,
   "metadata": {},
   "outputs": [],
   "source": [
    "BASE_URL = \"https://2eraiuh.dlai.link/api/rides_data\"\n",
    "\n",
    "dataframes = []\n",
    "\n",
    "for i in range(7):\n",
    "    # define the parameters for the API request\n",
    "    params = {\n",
    "        \"api_key\": API_KEY,\n",
    "        \"limit\": 1000,\n",
    "        \"offset\": i * 1000  # 'offset' is sometimes called 'skip'\n",
    "    }\n",
    "\n",
    "    # request the data\n",
    "    response = requests.get(BASE_URL, params=params)\n",
    "\n",
    "    # convert the response to a DataFrame\n",
    "    partial_df = pd.DataFrame(response.json()[\"data\"])\n",
    "\n",
    "    # append the DataFrame to the list\n",
    "    dataframes.append(partial_df)\n",
    "\n",
    "# concatenate the DataFrames\n",
    "df = pd.concat(dataframes)\n",
    "\n",
    "print(len(df))"
   ]
  },
  {
   "cell_type": "markdown",
   "metadata": {},
   "source": [
    "<details open>\n",
    "<summary style=\"background-color: #c6e2ff6c; padding: 10px; border-radius: 3px; box-shadow: 0 2px 4px rgba(0, 0, 0, 0.01); width: 95%; text-align: left; cursor: pointer; font-weight: bold;\">\n",
    "Expected output:</summary> \n",
    "\n",
    "\n",
    "```\n",
    "6904\n",
    "```\n",
    "\n",
    "</details>"
   ]
  },
  {
   "cell_type": "markdown",
   "metadata": {},
   "source": [
    "Next, print out the columns of the dataframe you just created, to familiarize yourself with what you are dealing with."
   ]
  },
  {
   "cell_type": "code",
   "execution_count": null,
   "metadata": {},
   "outputs": [],
   "source": [
    "print(df.columns)"
   ]
  },
  {
   "cell_type": "markdown",
   "metadata": {},
   "source": [
    "<details open>\n",
    "<summary style=\"background-color: #c6e2ff6c; padding: 10px; border-radius: 3px; box-shadow: 0 2px 4px rgba(0, 0, 0, 0.01); width: 95%; text-align: left; cursor: pointer; font-weight: bold;\">\n",
    "Expected output:</summary> \n",
    "\n",
    "\n",
    "```\n",
    "Index(['Additional Charges', 'Fare', 'Tip', 'Trip End Timestamp', 'Trip ID',\n",
    "       'Trip Miles', 'Trip Seconds', 'Trip Start Timestamp'],\n",
    "      dtype='object')\n",
    "```\n",
    "\n",
    "</details>"
   ]
  },
  {
   "cell_type": "markdown",
   "metadata": {},
   "source": [
    "<a id=\"scaling-the-data\"></a>\n",
    "\n",
    "## Step 4: Scaling the data\n",
    "\n",
    "You would like to understand how much the customers are paying for the taxi rides. To do that, you can have a look at the `Fare` column, the `Tip` column and the `Additional Charges` column. Adding the three would give you the amount the customers pay for the rides. But is this a fair comparison? Is it fair to compare the cost of a one mile ride with a 20 mile ride? Of course not. In this case it makes much more sense to normalize the fare by the distance, to see how much on average a customer would pay per mile. You can do this in the next cell.\n",
    "\n",
    "<div style=\"background-color: #C6E2FF; padding: 10px; border-radius: 3px; box-shadow: 0 2px 4px rgba(0, 0, 0, 0.1); width:95%\n",
    "\">\n",
    "    <strong>▶▶▶ Directions</strong> \n",
    "        <ol>\n",
    "            <li>Calculate the price per mile driven for each ride. </li>\n",
    "            <ul>\n",
    "                <li>Create a new column <code>Trip Total</code> which is a sum of <code>Fare</code>, <code>Tip</code> and <code>Additional Charges</code>.</li>\n",
    "                <li>Create a new column <code>Price per Mile</code> which is a ratio between <code>Trip Total</code> and <code>Trip Miles</code>.</li>\n",
    "            </ul>\n",
    "        </ol>\n",
    "</div>"
   ]
  },
  {
   "cell_type": "code",
   "execution_count": null,
   "metadata": {},
   "outputs": [],
   "source": [
    "### START CODE HERE ###\n",
    "\n",
    "# Create a new column `Trip Total`\n",
    "df[\"Trip Total\"] = None + None + None\n",
    "\n",
    "# Create a new column `Price per Mile`\n",
    "df[\"Price per Mile\"] = None / None\n",
    "\n",
    "### END CODE HERE ###"
   ]
  },
  {
   "cell_type": "markdown",
   "metadata": {},
   "source": [
    "<details>\n",
    "<summary style=\"background-color: #FDBFC7; padding: 10px; border-radius: 3px; box-shadow: 0 2px 4px rgba(0, 0, 0, 0.1); width: 95%; text-align: left; cursor: pointer; font-weight: bold;\">\n",
    "Click here to see the solution</summary> \n",
    "\n",
    "<ul style=\"background-color: #FFF8F8; padding: 10px; border-radius: 3px; margin-top: 5px; width: 95%; box-shadow: inset 0 2px 4px rgba(0, 0, 0, 0.1);\">\n",
    "   \n",
    "Your solution should look something like this:\n",
    "\n",
    "```python\n",
    "# Create a new column `Trip Total`\n",
    "df[\"Trip Total\"] = df[\"Fare\"] + df[\"Tip\"] + df[\"Additional Charges\"]\n",
    "\n",
    "# Create a new column `Price per Mile`\n",
    "df[\"Price per Mile\"] = df[\"Trip Total\"] / df[\"Trip Miles\"]\n",
    "```\n",
    "</details>"
   ]
  },
  {
   "cell_type": "markdown",
   "metadata": {},
   "source": [
    "Now you can have a look at the distribution of the total prices per mile driven. You can expect these to fluctuate quite a bit, due to different taximeter rates, different amount of tips, different additional charges (maybe one ride was on a toll road, while the other one was not) and maybe some rides are simply more expensive as some time was spent in a traffic jam and a taxi would typically charge for that. Plot a histogram below to have a look.\n",
    "\n",
    "<div style=\"background-color: #C6E2FF; padding: 10px; border-radius: 3px; box-shadow: 0 2px 4px rgba(0, 0, 0, 0.1); width:95%\n",
    "\">\n",
    "    <strong>▶▶▶ Directions</strong> \n",
    "        <ol>\n",
    "            <li>Plot a histogram of the <code>Price per Mile</code> column using the <code>.hist()</code> method.</li>\n",
    "            </ul>\n",
    "        </ol>\n",
    "</div>"
   ]
  },
  {
   "cell_type": "code",
   "execution_count": null,
   "metadata": {},
   "outputs": [],
   "source": [
    "### START CODE HERE ###\n",
    "\n",
    "# Plot a histogram of the \"Price per Mile\" column using pandas\n",
    "df[None].hist(bins=30, edgecolor=\"k\")\n",
    "\n",
    "### END CODE HERE ###\n",
    "\n",
    "# Add labels and title\n",
    "plt.xlabel(\"Price per Mile\")\n",
    "plt.ylabel(\"Frequency\")\n",
    "plt.title(\"Distribution of Price per Mile\")\n",
    "\n",
    "\n",
    "plt.show()"
   ]
  },
  {
   "cell_type": "markdown",
   "metadata": {},
   "source": [
    "<details open>\n",
    "<summary style=\"background-color: #c6e2ff6c; padding: 10px; border-radius: 3px; box-shadow: 0 2px 4px rgba(0, 0, 0, 0.01); width: 95%; text-align: left; cursor: pointer; font-weight: bold;\">\n",
    "Expected output:</summary> \n",
    "\n",
    "<img src=\"imgsL3/price_per_mile.png\" width=\"350\">\n",
    "\n",
    "</details>"
   ]
  },
  {
   "cell_type": "markdown",
   "metadata": {},
   "source": [
    "<details>\n",
    "<summary style=\"background-color: #FDBFC7; padding: 10px; border-radius: 3px; box-shadow: 0 2px 4px rgba(0, 0, 0, 0.1); width: 95%; text-align: left; cursor: pointer; font-weight: bold;\">\n",
    "Click here to see the solution</summary> \n",
    "\n",
    "<ul style=\"background-color: #FFF8F8; padding: 10px; border-radius: 3px; margin-top: 5px; width: 95%; box-shadow: inset 0 2px 4px rgba(0, 0, 0, 0.1);\">\n",
    "   \n",
    "Your solution should look something like this:\n",
    "\n",
    "```python\n",
    "\n",
    "# Plot a histogram of the 'Price per Mile' column using pandas\n",
    "df[\"Price per Mile\"].hist(bins=30, edgecolor=\"k\")\n",
    "\n",
    "```\n",
    "</details>"
   ]
  },
  {
   "cell_type": "markdown",
   "metadata": {},
   "source": [
    "This looks interesting. It seems most of the rides cost well below 10 USD per mile driven, but some rides are as expensive as 175 USD per mile. How could that be? And why would anyone pay so much for a taxi ride? Find and inspect the ride with the highest price per mile driven to understand this better.\n",
    "\n",
    "<div style=\"background-color: #C6E2FF; padding: 10px; border-radius: 3px; box-shadow: 0 2px 4px rgba(0, 0, 0, 0.1); width:95%\n",
    "\">\n",
    "    <strong>▶▶▶ Directions</strong> \n",
    "        <ol>\n",
    "            <li>Find the most expensive ride in the data.</li>\n",
    "            <ul>\n",
    "                <li>Use the <code>.max()</code> to find the maximum in the given column.</li>\n",
    "                <li>Filter the DataFrame using this maximum value.</li>\n",
    "            </ul>\n",
    "        </ol>\n",
    "</div>"
   ]
  },
  {
   "cell_type": "code",
   "execution_count": null,
   "metadata": {},
   "outputs": [],
   "source": [
    "### START CODE HERE ###\n",
    "\n",
    "# Find the maximum value of the 'Price per Mile' column\n",
    "maximum_price_per_mile = df[\"Price per Mile\"].None()\n",
    "\n",
    "# Filter the DataFrame to find the ride where the 'Price per Mile' is maximum\n",
    "max_price_per_mile_ride = df[df[\"Price per Mile\"] == None]\n",
    "\n",
    "### END CODE HERE ###\n",
    "\n",
    "max_price_per_mile_ride"
   ]
  },
  {
   "cell_type": "markdown",
   "metadata": {},
   "source": [
    "<details open>\n",
    "<summary style=\"background-color: #c6e2ff6c; padding: 10px; border-radius: 3px; box-shadow: 0 2px 4px rgba(0, 0, 0, 0.01); width: 95%; text-align: left; cursor: pointer; font-weight: bold;\">\n",
    "Expected output:</summary> \n",
    "\n",
    "\n",
    "<img src=\"imgsL3/max_price_per_mile.png\" width=\"900\">\n",
    "\n",
    "</details>"
   ]
  },
  {
   "cell_type": "markdown",
   "metadata": {},
   "source": [
    "<details>\n",
    "<summary style=\"background-color: #FDBFC7; padding: 10px; border-radius: 3px; box-shadow: 0 2px 4px rgba(0, 0, 0, 0.1); width: 95%; text-align: left; cursor: pointer; font-weight: bold;\">\n",
    "Click here to see the solution</summary> \n",
    "\n",
    "<ul style=\"background-color: #FFF8F8; padding: 10px; border-radius: 3px; margin-top: 5px; width: 95%; box-shadow: inset 0 2px 4px rgba(0, 0, 0, 0.1);\">\n",
    "   \n",
    "Your solution should look something like this:\n",
    "\n",
    "```python\n",
    "# Find the maximum value of the 'Price per Mile' column\n",
    "maximum_price_per_mile = df[\"Price per Mile\"].max()\n",
    "\n",
    "# Filter the dataframe to find the ride where the 'Price per Mile' is maximum\n",
    "max_price_per_mile_ride = df[df[\"Price per Mile\"] == maximum_price_per_mile]\n",
    "```\n",
    "</details>"
   ]
  },
  {
   "cell_type": "markdown",
   "metadata": {},
   "source": [
    "Now this makes a lot more sense. The price per mile was so high because the trip was so short and the fixed part of the price contributes much more to the total cost than the actual price per mile.\n",
    "\n",
    "You can run the cell below to actually remove this outlier from the dataset\n",
    "\n",
    "<div style=\"background-color: #C6E2FF; padding: 10px; border-radius: 3px; box-shadow: 0 2px 4px rgba(0, 0, 0, 0.1); width:95%\n",
    "\">\n",
    "    <strong>▶▶▶ Directions</strong> \n",
    "        <ol>\n",
    "            <li>Run the cell below to remove the outlier and plot the histogram again. </li>\n",
    "        </ol>\n",
    "</div>"
   ]
  },
  {
   "cell_type": "code",
   "execution_count": null,
   "metadata": {},
   "outputs": [],
   "source": [
    "# Filter the DataFrame to exclude outliers (price per mile > 175)\n",
    "df = df[df[\"Price per Mile\"] < 175]\n",
    "\n",
    "# Plot a histogram of the filtered DataFrame\n",
    "df[\"Price per Mile\"].hist(bins=30, edgecolor=\"k\")\n",
    "\n",
    "# Add labels and title\n",
    "plt.xlabel(\"Price per Mile\")\n",
    "plt.ylabel(\"Frequency\")\n",
    "plt.title(\"Distribution of Price per Mile\")\n",
    "\n",
    "plt.show()"
   ]
  },
  {
   "cell_type": "markdown",
   "metadata": {},
   "source": [
    "<a id=\"binning-the-data\"></a>\n",
    "\n",
    "## Step 5: Binning the data\n",
    "\n",
    "Taking this into account it would make sense to bin the data according to the length of the trip, to see if longer rides are actually cheaper than shorter ones. Start with plotting a histogram of the trip lengths to see their distribution. \n",
    "\n",
    "<div style=\"background-color: #C6E2FF; padding: 10px; border-radius: 3px; box-shadow: 0 2px 4px rgba(0, 0, 0, 0.1); width:95%\n",
    "\">\n",
    "    <strong>▶▶▶ Directions</strong> \n",
    "        <ol>\n",
    "            <li>Plot a histogram of the <code>Trip Miles</code> column using <code>.hist()</code> method.</li>\n",
    "            </ul>\n",
    "        </ol>\n",
    "</div>"
   ]
  },
  {
   "cell_type": "code",
   "execution_count": null,
   "metadata": {},
   "outputs": [],
   "source": [
    "### START CODE HERE ###\n",
    "\n",
    "# Plot a histogram of the \"Trip Miles\" column using pandas\n",
    "df[None].hist(bins=30, edgecolor=\"k\")\n",
    "\n",
    "### END CODE HERE ###\n",
    "\n",
    "# Add labels and title\n",
    "plt.xlabel(\"Trip Miles\")\n",
    "plt.ylabel(\"Frequency\")\n",
    "plt.title(\"Distribution of Trip Miles\")\n",
    "\n",
    "plt.show()"
   ]
  },
  {
   "cell_type": "markdown",
   "metadata": {},
   "source": [
    "<details open>\n",
    "<summary style=\"background-color: #c6e2ff6c; padding: 10px; border-radius: 3px; box-shadow: 0 2px 4px rgba(0, 0, 0, 0.01); width: 95%; text-align: left; cursor: pointer; font-weight: bold;\">\n",
    "Expected output:</summary> \n",
    "\n",
    "<img src=\"imgsL3/trip_miles.png\" width=\"350\">\n",
    "\n",
    "</details>"
   ]
  },
  {
   "cell_type": "markdown",
   "metadata": {},
   "source": [
    "<details>\n",
    "<summary style=\"background-color: #FDBFC7; padding: 10px; border-radius: 3px; box-shadow: 0 2px 4px rgba(0, 0, 0, 0.1); width: 95%; text-align: left; cursor: pointer; font-weight: bold;\">\n",
    "Click here to see the solution</summary> \n",
    "\n",
    "<ul style=\"background-color: #FFF8F8; padding: 10px; border-radius: 3px; margin-top: 5px; width: 95%; box-shadow: inset 0 2px 4px rgba(0, 0, 0, 0.1);\">\n",
    "   \n",
    "Your solution should look something like this:\n",
    "\n",
    "```python\n",
    "# Plot a histogram of the 'Trip Miles' column using pandas\n",
    "df[\"Trip Miles\"].hist(bins=30, edgecolor=\"k\")\n",
    "\n",
    "```\n",
    "</details>"
   ]
  },
  {
   "cell_type": "markdown",
   "metadata": {},
   "source": [
    "You can see that the distribution is skewed, with most of the rides being on the shorter side and only a few very long rides. The simplest way to split the data is to equally sized quantiles. In the cell below, you will split the data into five quantiles and label them \"very_short\", \"short\", \"medium\", \"long\" and \"very_long\". If you wanted to be more precise with the definition, you could also decide the cutoffs yourself, for example choosing very short rides to be below 1 mile and very long rides to be above 20 miles. But for now you just want to see if your assumption is correct that the short rides are more expensive than the long ones.\n",
    "\n",
    "<div style=\"background-color: #C6E2FF; padding: 10px; border-radius: 3px; box-shadow: 0 2px 4px rgba(0, 0, 0, 0.1); width:95%\n",
    "\">\n",
    "    <strong>▶▶▶ Directions</strong> \n",
    "        <ol>\n",
    "            <li>Use the cell below to bin the data into five quantiles. </li>\n",
    "            <ul>\n",
    "                <li>Use the <code>.qcut()</code> method to bin the data in the <code>Trip Miles</code> column.</li>\n",
    "                <li>Create five quantiles and label them <code>\"very_short\"</code>, <code>\"short\"</code>, <code>\"medium\"</code>, <code>\"long\"</code> and <code>\"very_long\"</code>. Use the <code>labels</code> list.</li>\n",
    "            </ul>\n",
    "        </ol>\n",
    "</div>"
   ]
  },
  {
   "cell_type": "code",
   "execution_count": null,
   "metadata": {},
   "outputs": [],
   "source": [
    "# Create a list with the labels for each bin\n",
    "labels = [\"very_short\", \"short\", \"medium\", \"long\", \"very_long\"]\n",
    "\n",
    "### START CODE HERE ###\n",
    "\n",
    "# Create a new column 'Trip Miles Quantiles' with 5 quantiles\n",
    "df[\"Trip Miles Quantiles\"] = pd.None(df[\"Trip Miles\"], q=None, labels=None)\n",
    "\n",
    "### END CODE HERE ###\n",
    "\n",
    "# Get the value counts of the 'Trip Miles Quantiles' column\n",
    "df[\"Trip Miles Quantiles\"].value_counts()"
   ]
  },
  {
   "cell_type": "markdown",
   "metadata": {},
   "source": [
    "<details open>\n",
    "<summary style=\"background-color: #c6e2ff6c; padding: 10px; border-radius: 3px; box-shadow: 0 2px 4px rgba(0, 0, 0, 0.01); width: 95%; text-align: left; cursor: pointer; font-weight: bold;\">\n",
    "Expected output:</summary> \n",
    "\n",
    "It should be near these values:\n",
    "\n",
    "```\n",
    "Trip Miles Quantiles\n",
    "very_short    1491\n",
    "very_long     1377\n",
    "long          1374\n",
    "medium        1365\n",
    "short         1283\n",
    "Name: count, dtype: int64\n",
    "```\n",
    "\n",
    "</details>"
   ]
  },
  {
   "cell_type": "markdown",
   "metadata": {},
   "source": [
    "<details>\n",
    "<summary style=\"background-color: #FDBFC7; padding: 10px; border-radius: 3px; box-shadow: 0 2px 4px rgba(0, 0, 0, 0.1); width: 95%; text-align: left; cursor: pointer; font-weight: bold;\">\n",
    "Click here to see the solution</summary> \n",
    "\n",
    "<ul style=\"background-color: #FFF8F8; padding: 10px; border-radius: 3px; margin-top: 5px; width: 95%; box-shadow: inset 0 2px 4px rgba(0, 0, 0, 0.1);\">\n",
    "   \n",
    "Your solution should look something like this:\n",
    "\n",
    "```python\n",
    "# Create a new column 'Trip Miles Quantiles' with 5 quantiles\n",
    "df[\"Trip Miles Quantiles\"] = pd.qcut(df[\"Trip Miles\"], q=5, labels=labels)\n",
    "```\n",
    "</details>"
   ]
  },
  {
   "cell_type": "markdown",
   "metadata": {},
   "source": [
    "⚠️The result might seem off because `pd.qcut()` is meant to create equal-sized quartiles. However, in your dataset, many values fall exactly on the quantile boundaries. Since `pandas` can't split tied values across bins, it adjusts the boundaries, resulting in uneven bin sizes.\n",
    "\n",
    "Now you can use the trip length quantiles to find the the mean price per mile for each of the groups. With the mean price you will create a bar chart showing the results.\n",
    "\n",
    "<div style=\"background-color: #C6E2FF; padding: 10px; border-radius: 3px; box-shadow: 0 2px 4px rgba(0, 0, 0, 0.1); width:95%\n",
    "\">\n",
    "    <strong>▶▶▶ Directions</strong> \n",
    "        <ol>\n",
    "            <li>Use the calculated mean price per mile for each of the quantiles and create a bar chart.</li>\n",
    "            <ul>\n",
    "                <li>In the <code>.plot()</code> method set <code>type=\"bar\"</code> to create a bar chart.</li>\n",
    "            </ul>\n",
    "        </ol>\n",
    "</div>"
   ]
  },
  {
   "cell_type": "code",
   "execution_count": null,
   "metadata": {},
   "outputs": [],
   "source": [
    "# Get the average \"Price per Mile\" for each quantile\n",
    "price_per_quartile_df = df.groupby(\"Trip Miles Quantiles\", observed=True)[\"Price per Mile\"].mean()\n",
    "\n",
    "### START CODE HERE ###\n",
    "\n",
    "# Create a bar chart showing the average \"Price per Mile\" for each quantile\n",
    "price_per_quartile_df.plot(kind=None, color=\"skyblue\", edgecolor=\"k\")\n",
    "\n",
    "### END CODE HERE ###\n",
    "\n",
    "# Set axis label and title\n",
    "plt.ylabel(\"Price\")\n",
    "plt.title(\"Average Price per Mile by Trip Miles Quantile\")\n",
    "\n",
    "plt.show()"
   ]
  },
  {
   "cell_type": "markdown",
   "metadata": {},
   "source": [
    "<details open>\n",
    "<summary style=\"background-color: #c6e2ff6c; padding: 10px; border-radius: 3px; box-shadow: 0 2px 4px rgba(0, 0, 0, 0.01); width: 95%; text-align: left; cursor: pointer; font-weight: bold;\">\n",
    "Expected output:</summary> \n",
    "\n",
    "<img src=\"imgsL3/avg_price_per_q.png\" width=400>\n",
    "\n",
    "</details>"
   ]
  },
  {
   "cell_type": "markdown",
   "metadata": {},
   "source": [
    "<details>\n",
    "<summary style=\"background-color: #FDBFC7; padding: 10px; border-radius: 3px; box-shadow: 0 2px 4px rgba(0, 0, 0, 0.1); width: 95%; text-align: left; cursor: pointer; font-weight: bold;\">\n",
    "Click here to see the solution</summary> \n",
    "\n",
    "<ul style=\"background-color: #FFF8F8; padding: 10px; border-radius: 3px; margin-top: 5px; width: 95%; box-shadow: inset 0 2px 4px rgba(0, 0, 0, 0.1);\">\n",
    "   \n",
    "Your solution should look something like this:\n",
    "\n",
    "```python\n",
    "# Create a bar chart showing the average \"Price per Mile\" for each quantile\n",
    "price_per_quartile_df.plot(kind=\"bar\", color=\"skyblue\", edgecolor=\"k\")\n",
    "```\n",
    "</details>"
   ]
  },
  {
   "cell_type": "markdown",
   "metadata": {},
   "source": [
    "As you can see the shorter rides indeed have higher price per mile driven. In this lab you have practiced how to use an API using the API key and other parameters to get multiple pages of data. You have then normalized and binned the data to extract some useful insights.\n",
    "\n",
    "Congratulations for making it until the end of this lab. Hope you enjoyed it! "
   ]
  }
 ],
 "metadata": {
  "kernelspec": {
   "display_name": "Python 3 (ipykernel)",
   "language": "python",
   "name": "python3"
  },
  "language_info": {
   "codemirror_mode": {
    "name": "ipython",
    "version": 3
   },
   "file_extension": ".py",
   "mimetype": "text/x-python",
   "name": "python",
   "nbconvert_exporter": "python",
   "pygments_lexer": "ipython3",
   "version": "3.11.6"
  }
 },
 "nbformat": 4,
 "nbformat_minor": 4
}
