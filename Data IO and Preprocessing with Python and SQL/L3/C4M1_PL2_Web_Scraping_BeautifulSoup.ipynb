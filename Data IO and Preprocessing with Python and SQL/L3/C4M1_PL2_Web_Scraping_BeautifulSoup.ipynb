{
 "cells": [
  {
   "cell_type": "markdown",
   "id": "53b91fda",
   "metadata": {},
   "source": [
    "# Practice Lab: Web Scraping with Beautiful Soup\n",
    "\n",
    "In this lab, you will practice how to scrape data from a webpage using Python. You will use the `Beautiful Soup` package to extract data from a webpage and perform some basic data analysis.\n",
    "\n",
    "In the previous lab, you used pandas for web scraping, which works well when the data is neatly structured in a table. However, in many cases, HTML pages are formatted differently. Data might be scattered throughout the page, and the surrounding HTML can vary significantly. This is where Beautiful Soup becomes useful — it allows you to identify repeating patterns in the HTML and extract the data accordingly.\n",
    "\n",
    "In this scenario, you're working as a data analyst for a real estate company. Your task is to scrape apartment listings from a webpage and identify the top five most affordable city-center apartments with at least two bedrooms. This helps the team track pricing trends and spot high-value opportunities.\n",
    "\n",
    "## General instructions\n",
    "- **Replace any instances of `None` with your own code**. All `None`s must be replaced.\n",
    "- **Compare your results with the expected output** shown below the code.\n",
    "- **Check the solution** using the expandable cell to verify your answer. If needed, you can copy the code and paste it into the cell\n",
    "\n",
    "Happy coding!\n",
    "\n",
    "<div style=\"background-color: #FAD888; padding: 10px; border-radius: 3px; box-shadow: 0 2px 4px rgba(0, 0, 0, 0.1); width:95%\n",
    "\">\n",
    "<strong>Important note</strong>: Code blocks with None will not run properly. If you run them before completing the exercise, you will likely get an error. \n",
    "</div>"
   ]
  },
  {
   "cell_type": "markdown",
   "id": "c8a1beaf",
   "metadata": {},
   "source": [
    "## Table of contents\n",
    "- [Step 0: Inspect the webpage](#step0)\n",
    "- [Step 1: Import modules](#import-modules)\n",
    "- [Step 2: Get the HTML code](#get-html)\n",
    "- [Step 3: Parse the HTML](#parse)\n",
    "- [Step 4: Extract the elements and create a pandas DataFrame](#extract)\n",
    "- [Step 5: Clean and process the columns](#clean-and-process)\n",
    "- [Step 6: Find the right apartments](#find-the-apartments)"
   ]
  },
  {
   "cell_type": "markdown",
   "id": "551add42",
   "metadata": {},
   "source": [
    "<a id=\"step0\"></a>\n",
    "\n",
    "## Step 0: Inspect the webpage\n",
    "\n",
    "Begin by inspecting the webpage with the apartment postings\n",
    "\n",
    "<div style=\"background-color: #C6E2FF; padding: 10px; border-radius: 3px; box-shadow: 0 2px 4px rgba(0, 0, 0, 0.1); width:95%\n",
    "\">\n",
    "    <strong>▶▶▶ Directions</strong> \n",
    "        <ol>\n",
    "            <li>Open the <a href=\"https://dlai-lc-dag.s3.us-east-2.amazonaws.com/apartment_finder.html\"> webpage</a>. </li>\n",
    "            <li>Inspect the html code.</li>\n",
    "            <ul>\n",
    "                <li>Right click anywhere on the page.</li>\n",
    "                <li>Select the <code>Inspect</code> option.</li>\n",
    "            </ul>\n",
    "        </ol>\n",
    "</div>\n",
    "\n",
    "You should see something like this:\n",
    "\n",
    "<img src=\"imgsL3/inspection.png\">\n",
    "\n",
    "Each house listing on the page is contained within a `<div>` element with the class `grid-item` (yellow). Inside each of these `grid-item` containers, the key information is organized into different `<div>` elements, each with a specific class:\n",
    "\n",
    "- **`info`** (orange): Contains general details such as the number of bedrooms, price, and location.  \n",
    "- **`details`** (purple): Provides more in-depth information like property size, number of floors, and additional features.  \n",
    "- **`photo`** (green): Holds the image(s) associated with the listing."
   ]
  },
  {
   "cell_type": "markdown",
   "id": "e88aff0c",
   "metadata": {},
   "source": [
    "<a id=\"import-modules\"></a>\n",
    "\n",
    "## Step 1: Import modules\n",
    "First, you need to import the necessary modules. You will use `requests` to access the webpage, `BeautifulSoup` to extract information from it and `pandas` to finally create a DataFrame to analyze the data."
   ]
  },
  {
   "cell_type": "code",
   "execution_count": null,
   "id": "53ce28a2-97e4-413f-9782-b64a8f3af87b",
   "metadata": {},
   "outputs": [],
   "source": [
    "import requests\n",
    "from bs4 import BeautifulSoup\n",
    "import pandas as pd"
   ]
  },
  {
   "cell_type": "markdown",
   "id": "6df3ffd7",
   "metadata": {},
   "source": [
    "<a id=\"get-html\"></a>\n",
    "\n",
    "## Step 2: Get the HTML code\n",
    "Use the `requests.get()` function to extract the HTML from the webpage. The URL is given below.\n",
    "\n",
    "<div style=\"background-color: #C6E2FF; padding: 10px; border-radius: 3px; box-shadow: 0 2px 4px rgba(0, 0, 0, 0.1); width:95%\n",
    "\">\n",
    "    <strong>▶▶▶ Directions</strong> \n",
    "        <ol>\n",
    "            <li>Extract the HTML from the webpage. </li>\n",
    "            <ul>\n",
    "                <li>Use <code>requests.get()</code> function to extract the HTML.</li>\n",
    "                <li>Use <code>.status_code</code> to check whether your request was successful.</li>\n",
    "            </ul>\n",
    "        </ol>\n",
    "</div>"
   ]
  },
  {
   "cell_type": "code",
   "execution_count": null,
   "id": "92d1a772-1400-433b-88bf-02d7521fcce4",
   "metadata": {},
   "outputs": [],
   "source": [
    "# URL of the webpage to scrape\n",
    "url = \"https://dlai-lc-dag.s3.us-east-2.amazonaws.com/apartment_finder.html\"\n",
    "\n",
    "### START CODE HERE ###\n",
    "\n",
    "# send a GET request to the url\n",
    "response = None\n",
    "\n",
    "# get the status of the response for troubleshooting\n",
    "status = None\n",
    "\n",
    "### END CODE HERE ###\n",
    "\n",
    "print(status)"
   ]
  },
  {
   "cell_type": "markdown",
   "id": "24f7760a",
   "metadata": {},
   "source": [
    "<details open>\n",
    "<summary style=\"background-color: #c6e2ff6c; padding: 10px; border-radius: 3px; box-shadow: 0 2px 4px rgba(0, 0, 0, 0.01); width: 95%; text-align: left; cursor: pointer; font-weight: bold;\">\n",
    "Expected output:</summary> \n",
    "\n",
    "\n",
    "```\n",
    "200\n",
    "```\n",
    "\n",
    "</details>"
   ]
  },
  {
   "cell_type": "markdown",
   "id": "c8701a10",
   "metadata": {},
   "source": [
    "<details>\n",
    "<summary style=\"background-color: #FDBFC7; padding: 10px; border-radius: 3px; box-shadow: 0 2px 4px rgba(0, 0, 0, 0.1); width: 95%; text-align: left; cursor: pointer; font-weight: bold;\">\n",
    "Click here to see the solution</summary> \n",
    "\n",
    "<ul style=\"background-color: #FFF8F8; padding: 10px; border-radius: 3px; margin-top: 5px; width: 95%; box-shadow: inset 0 2px 4px rgba(0, 0, 0, 0.1);\">\n",
    "   \n",
    "Your solution should look something like this:\n",
    "\n",
    "```python\n",
    "# send a GET request to the url\n",
    "response = requests.get(url)\n",
    "\n",
    "# get the status of the response for troubleshooting\n",
    "status = response.status_code\n",
    "```\n",
    "</details>"
   ]
  },
  {
   "cell_type": "markdown",
   "id": "06d52693",
   "metadata": {},
   "source": [
    "If the above code succeeded, you can print out the HTML of the webpage to inspect it and find out what you are actually searching for. You should be able to find the structure describes at the beginning of the lab."
   ]
  },
  {
   "cell_type": "code",
   "execution_count": null,
   "id": "2c2df178",
   "metadata": {},
   "outputs": [],
   "source": [
    "print(response.text)"
   ]
  },
  {
   "cell_type": "markdown",
   "id": "c0e00060",
   "metadata": {},
   "source": [
    "By closely inspecting the HTML, you can find that there is a HTML structure that repeats over and over and looks something like this:\n",
    "```\n",
    "<div class=\"grid-item\" onclick=\"toggleDetails(this)\">\n",
    "    <div class=\"info\">\n",
    "        <p><strong>3 Bedroom</strong></p>\n",
    "        <p>Location: Southern Suburbs</p>\n",
    "        <p>Price: $1272</p>\n",
    "        <div class=\"details\">\n",
    "            <p>Area: 52 sqm</p>\n",
    "            <p>Floor: 2</p>\n",
    "            <p>Furnishing: Unfurnished</p>\n",
    "            <p>Facing: East</p>\n",
    "            <p>Parking: Yes</p>\n",
    "            <p>Bathrooms: 1</p>\n",
    "            <p>Balcony: 1</p>\n",
    "            <p>Overlooking: Garden/Park, Pool</p>\n",
    "        </div>\n",
    "    </div>\n",
    "    <div class=\"photo\">\n",
    "        <img src=\"imgs/unfurnished/med/2.jpg\" alt=\"House\">\n",
    "        <button class=\"arrow left\" onclick=\"prevImage(event, this)\">&#10094;</button>\n",
    "        <button class=\"arrow right\" onclick=\"nextImage(event, this)\">&#10095;</button>\n",
    "    </div>\n",
    "</div>\n",
    "```"
   ]
  },
  {
   "cell_type": "markdown",
   "id": "b0e2448c",
   "metadata": {},
   "source": [
    "<a id=\"parse\"></a>\n",
    "\n",
    "## Step 3: Parse the HTML\n",
    "\n",
    "As the next step, you will use `BeautifulSoup` to parse the text and extract the individual items that contain apartments data.\n",
    "\n",
    "<div style=\"background-color: #C6E2FF; padding: 10px; border-radius: 3px; box-shadow: 0 2px 4px rgba(0, 0, 0, 0.1); width:95%\n",
    "\">\n",
    "    <strong>▶▶▶ Directions</strong> \n",
    "        <ol>\n",
    "            <li>Use the cell below to parse the text and extract the individual items that contain apartments data. </li>\n",
    "            <ul>\n",
    "                <li>Use <code>BeautifulSoup</code> to parse the response text.</li>\n",
    "                <li>Use <code>soup.find_all()</code> to find all instances of the `div` with the correct class (check the output above to find out which class). Pass the class as the <code>class_</code> named parameter.</li>\n",
    "            </ul>\n",
    "        </ol>\n",
    "</div>"
   ]
  },
  {
   "cell_type": "code",
   "execution_count": null,
   "id": "a03e167b",
   "metadata": {},
   "outputs": [],
   "source": [
    "### START CODE HERE ###\n",
    "\n",
    "# Parse the HTML content\n",
    "soup = BeautifulSoup(response.text)\n",
    "\n",
    "# Find all the grid items\n",
    "grid_items = soup.find_all(\"div\", class_=\"grid-item\")\n",
    "\n",
    "### END CODE HERE ###\n",
    "\n",
    "# Print the number of grid items that were found\n",
    "print(len(grid_items))"
   ]
  },
  {
   "cell_type": "markdown",
   "id": "9ac1b34e",
   "metadata": {},
   "source": [
    "<details open>\n",
    "<summary style=\"background-color: #c6e2ff6c; padding: 10px; border-radius: 3px; box-shadow: 0 2px 4px rgba(0, 0, 0, 0.01); width: 95%; text-align: left; cursor: pointer; font-weight: bold;\">\n",
    "Expected output:</summary> \n",
    "\n",
    "\n",
    "```\n",
    "72\n",
    "```\n",
    "\n",
    "</details>"
   ]
  },
  {
   "cell_type": "markdown",
   "id": "14920317",
   "metadata": {},
   "source": [
    "<details>\n",
    "<summary style=\"background-color: #FDBFC7; padding: 10px; border-radius: 3px; box-shadow: 0 2px 4px rgba(0, 0, 0, 0.1); width: 95%; text-align: left; cursor: pointer; font-weight: bold;\">\n",
    "Click here to see the solution</summary> \n",
    "\n",
    "<ul style=\"background-color: #FFF8F8; padding: 10px; border-radius: 3px; margin-top: 5px; width: 95%; box-shadow: inset 0 2px 4px rgba(0, 0, 0, 0.1);\">\n",
    "   \n",
    "Your solution should look something like this:\n",
    "\n",
    "```python\n",
    "# Parse the HTML content\n",
    "soup = BeautifulSoup(response.text, \"html.parser\")\n",
    "\n",
    "# Find all the grid items\n",
    "grid_items = soup.find_all(\"div\", class_=\"grid-item\")\n",
    "```\n",
    "</details>"
   ]
  },
  {
   "cell_type": "markdown",
   "id": "7ca5ece0",
   "metadata": {},
   "source": [
    "<a id=\"extract\"></a>\n",
    "\n",
    "## Step 4: Extract the elements and create a pandas DataFrame\n",
    "\n",
    "As the next step, you will search through the `grid_items` to extract individual pieces of information about the apartments. Notice that each piece of information is stored in its own paragraph `<p>` and you can find all the paragraphs using `item.find_all(\"p\")`, much the same way as you found all `grid_items` before. This code is provided for you. The `paragraphs` variable then stores a list of all paragraphs and you can access them one by one using indices. For this task, you need to extract the data to create a pandas DataFrame. Four of the columns are already extracted and the rest are left for you to be finished. In order to finish this lab, you need to at least populate the `parking` column, as you will need this one for further analysis. You can populate the rest of the columns for practice.\n",
    "\n",
    "Since each line of code has quite a lot to unpack, here is a breakdown of what happens in the `number_of_bedrooms` column. This is the code used to extract the value:\n",
    "\n",
    "`\"number_of_bedrooms\": paragraphs[0].text.split(\" \")[0].strip()`\n",
    "\n",
    "As you can see this is a dictionary entry, where `number_of_bedrooms` is the key and the rest is the value of this specific entry. First you access the first item in the `paragraphs` list by using `paragraphs[0]`. then you use `.text` to access the text within this paragraph. This gives you only the text without any HTML tags, returning for example `2 Bedrooms`. As you just want to keep the number, you can use `.split(\" \")` to split it by the whitespace and then select the first element in the split by using `[0]`. In the end you use `.strip()` to remove any whitespace that may be left.\n",
    "\n",
    "In this image you can see which index in the `paragraphs` variable corresponds to each piece of information:\n",
    "\n",
    "<div style=\"text-align: center\">\n",
    "<img src=\"imgsL3/listing_screenshot.png\" width=\"800\"/>\n",
    "</div>\n",
    "\n",
    "<div style=\"background-color: #C6E2FF; padding: 10px; border-radius: 3px; box-shadow: 0 2px 4px rgba(0, 0, 0, 0.1); width:95%\n",
    "\">\n",
    "    <strong>▶▶▶ Directions</strong> \n",
    "        <ol>\n",
    "            <li>Use the cell below to extract the individual pieces of information about the apartments. </li>\n",
    "            <ul>\n",
    "                <li>Four of the columns are already done for you.</li>\n",
    "                <li>Extract the data for \"furnishing\" and \"parking\".</li>\n",
    "            </ul>\n",
    "        <strong>Note</strong>: this part of code will run even if you don't change anything, but the DataFrame will not contain the values.\n",
    "        </ol>\n",
    "</div>"
   ]
  },
  {
   "cell_type": "code",
   "execution_count": null,
   "id": "d7a02bea",
   "metadata": {},
   "outputs": [],
   "source": [
    "# List to store apartment data\n",
    "apartments = []\n",
    "\n",
    "# Loop through each grid item and extract the details\n",
    "for item in grid_items:\n",
    "    paragraphs = item.find_all(\"p\")\n",
    "    \n",
    "    apartment = {\n",
    "        \"number_of_bedrooms\": paragraphs[0].text.split(\" \")[0].strip(),\n",
    "        \"location\": paragraphs[1].text.split(\": \")[1].strip(),\n",
    "        \"price\": paragraphs[2].text.split(\": \")[1].strip(),\n",
    "        \"area\": paragraphs[3].text.split(\": \")[1].strip(),\n",
    "        \n",
    "        ### START CODE HERE ###\n",
    "\n",
    "        \"furnishing\": None,\n",
    "        \"parking\": None,\n",
    "        # Optionally you can extract other columns for practice\n",
    "        \n",
    "        ### END CODE HERE ###\n",
    "    }\n",
    "    \n",
    "    apartments.append(apartment)\n",
    "\n",
    "# Create a pandas DataFrame from the list of apartments\n",
    "df = pd.DataFrame(apartments)\n",
    "\n",
    "# Display the DataFrame\n",
    "df.head()"
   ]
  },
  {
   "cell_type": "markdown",
   "id": "23e67a63",
   "metadata": {},
   "source": [
    "<details open>\n",
    "<summary style=\"background-color: #c6e2ff6c; padding: 10px; border-radius: 3px; box-shadow: 0 2px 4px rgba(0, 0, 0, 0.01); width: 95%; text-align: left; cursor: pointer; font-weight: bold;\">\n",
    "Expected output:</summary> \n",
    "\n",
    "\n",
    "<img src=\"./imgsL3/output_step4.png\" width=600>\n",
    "\n",
    "</details>"
   ]
  },
  {
   "cell_type": "markdown",
   "id": "5f8174bb",
   "metadata": {},
   "source": [
    "<details>\n",
    "<summary style=\"background-color: #FDBFC7; padding: 10px; border-radius: 3px; box-shadow: 0 2px 4px rgba(0, 0, 0, 0.1); width: 95%; text-align: left; cursor: pointer; font-weight: bold;\">\n",
    "Click here to see the solution</summary> \n",
    "\n",
    "<ul style=\"background-color: #FFF8F8; padding: 10px; border-radius: 3px; margin-top: 5px; width: 95%; box-shadow: inset 0 2px 4px rgba(0, 0, 0, 0.1);\">\n",
    "   \n",
    "Your solution should look something like this:\n",
    "\n",
    "```python\n",
    "        \"furnishing\": paragraphs[5].text.split(\": \")[1].strip(),\n",
    "        \"parking\": paragraphs[7].text.split(\": \")[1].strip(),\n",
    "        # Optionally you can extract other columns for practice\n",
    "        # \"floor\": paragraphs[4].text.split(\": \")[1].strip(),\n",
    "        # \"facing\": paragraphs[6].text.split(\": \")[1].strip(),\n",
    "        # \"bathrooms\": paragraphs[8].text.split(\": \")[1].strip(),\n",
    "        # \"balcony\": paragraphs[9].text.split(\": \")[1].strip(),\n",
    "        # \"overlooking\": paragraphs[10].text.split(\": \")[1].strip()\n",
    "```\n",
    "</details>"
   ]
  },
  {
   "cell_type": "markdown",
   "id": "943e8128",
   "metadata": {},
   "source": [
    "Now you can start having a look through the apartments. Remember, you are searching for central apartments with two bedrooms, a parking place and you want to find the cheapest ones. As the first step, you may want to check what are the data types of the columns and analyze what kind of values there are in each of the columns of interest. Your columns of interest are `number_of_bedrooms`, `location`, `price`, and `parking`."
   ]
  },
  {
   "cell_type": "code",
   "execution_count": null,
   "id": "3dfe551a",
   "metadata": {},
   "outputs": [],
   "source": [
    "# Display the information about the DataFrame\n",
    "df.info()"
   ]
  },
  {
   "cell_type": "markdown",
   "id": "bf6c2196",
   "metadata": {},
   "source": [
    "<a id=\"clean-and-process\"></a>\n",
    "\n",
    "## Step 5: Clean and process the columns\n",
    "\n",
    "As you can see, all of the datatypes are objects. At the very least you would want to cast the `number_of_bedrooms` and `price` to numeric, so that you can use the greater-than operator and you can sort them by price. Aditionally, you would want to check the values in each of the columns to see what they are and how it may affect your search.\n",
    "\n",
    "<div style=\"background-color: #C6E2FF; padding: 10px; border-radius: 3px; box-shadow: 0 2px 4px rgba(0, 0, 0, 0.1); width:95%\n",
    "\">\n",
    "    <strong>▶▶▶ Directions</strong> \n",
    "        <ol>\n",
    "            <li>Use the cell below cast the number of bedrooms to <code>\"Int64\"</code>. </li>\n",
    "        </ol>\n",
    "</div>"
   ]
  },
  {
   "cell_type": "code",
   "execution_count": null,
   "id": "d7d02c77",
   "metadata": {},
   "outputs": [],
   "source": [
    "### START CODE HERE ###\n",
    "\n",
    "# Convert the number_of_bedrooms column to integer\n",
    "df[\"number_of_bedrooms\"] = None\n",
    "\n",
    "### END CODE HERE ###"
   ]
  },
  {
   "cell_type": "markdown",
   "id": "c4559757",
   "metadata": {},
   "source": [
    "<details>\n",
    "<summary style=\"background-color: #FDBFC7; padding: 10px; border-radius: 3px; box-shadow: 0 2px 4px rgba(0, 0, 0, 0.1); width: 95%; text-align: left; cursor: pointer; font-weight: bold;\">\n",
    "Click here to see the solution</summary> \n",
    "\n",
    "<ul style=\"background-color: #FFF8F8; padding: 10px; border-radius: 3px; margin-top: 5px; width: 95%; box-shadow: inset 0 2px 4px rgba(0, 0, 0, 0.1);\">\n",
    "   \n",
    "Your solution should look something like this:\n",
    "\n",
    "```python\n",
    "# Convert the number_of_bedrooms column to integer\n",
    "df[\"number_of_bedrooms\"] = df[\"number_of_bedrooms\"].astype(\"Int64\")\n",
    "```\n",
    "</details>"
   ]
  },
  {
   "cell_type": "markdown",
   "id": "3727b4cf",
   "metadata": {},
   "source": [
    "Now have a look at the values `price` column (check the DataFrame above). You cannot directly cast it to a numeric format as it has the dollar sign in front of numbers. You need to take care of it first.\n",
    "\n",
    "<div style=\"background-color: #C6E2FF; padding: 10px; border-radius: 3px; box-shadow: 0 2px 4px rgba(0, 0, 0, 0.1); width:95%\n",
    "\">\n",
    "    <strong>▶▶▶ Directions</strong> \n",
    "        <ol>\n",
    "            <li>Use the cell below cast the price column to int. </li>\n",
    "            <ul>\n",
    "                <li>First remove the dollar signs. Hint: you can use <code>.str.replace()</code> and just replace it with an empty string.</li>\n",
    "                <li>Then you can cast it to int (or float - but if you check closely, all of the numbers are actually integers so it does not matter).</li>\n",
    "            </ul>\n",
    "        </ol>\n",
    "</div>"
   ]
  },
  {
   "cell_type": "code",
   "execution_count": null,
   "id": "86dc9032",
   "metadata": {},
   "outputs": [],
   "source": [
    "### START CODE HERE ###\n",
    "\n",
    "# Remove the dollar sign from the price column\n",
    "df[\"price\"] = None\n",
    "\n",
    "# Convert the price column to integer\n",
    "df[\"price\"] = None\n",
    "\n",
    "### END CODE HERE ###"
   ]
  },
  {
   "cell_type": "markdown",
   "id": "be46313a",
   "metadata": {},
   "source": [
    "<details>\n",
    "<summary style=\"background-color: #FDBFC7; padding: 10px; border-radius: 3px; box-shadow: 0 2px 4px rgba(0, 0, 0, 0.1); width: 95%; text-align: left; cursor: pointer; font-weight: bold;\">\n",
    "Click here to see the solution</summary> \n",
    "\n",
    "<ul style=\"background-color: #FFF8F8; padding: 10px; border-radius: 3px; margin-top: 5px; width: 95%; box-shadow: inset 0 2px 4px rgba(0, 0, 0, 0.1);\">\n",
    "   \n",
    "Your solution should look something like this:\n",
    "\n",
    "```python\n",
    "# Remove the dollar sign from the price column\n",
    "df[\"price\"] = df[\"price\"].str.replace(\"$\", \"\")\n",
    "\n",
    "# Convert the price column to integer\n",
    "df[\"price\"] = df[\"price\"].astype(int)\n",
    "```\n",
    "</details>"
   ]
  },
  {
   "cell_type": "markdown",
   "id": "ef8b1267",
   "metadata": {},
   "source": [
    "Now have a look at the `location` column. Perhaps there are multiple values there that you are interested in.\n",
    "\n",
    "<div style=\"background-color: #C6E2FF; padding: 10px; border-radius: 3px; box-shadow: 0 2px 4px rgba(0, 0, 0, 0.1); width:95%\n",
    "\">\n",
    "    <strong>▶▶▶ Directions</strong> \n",
    "        <ol>\n",
    "            <li>Find all the unique values in the <code>location</code> column and print them out. </li>\n",
    "        </ol>\n",
    "</div>"
   ]
  },
  {
   "cell_type": "code",
   "execution_count": null,
   "id": "9ccfa76a",
   "metadata": {},
   "outputs": [],
   "source": [
    "### START CODE HERE ###\n",
    "\n",
    "# Find the unique values in the location column and print them out\n",
    "None\n",
    "\n",
    "### END CODE HERE ###"
   ]
  },
  {
   "cell_type": "markdown",
   "id": "6d55fc95",
   "metadata": {},
   "source": [
    "<details open>\n",
    "<summary style=\"background-color: #c6e2ff6c; padding: 10px; border-radius: 3px; box-shadow: 0 2px 4px rgba(0, 0, 0, 0.01); width: 95%; text-align: left; cursor: pointer; font-weight: bold;\">\n",
    "Expected output:</summary> \n",
    "\n",
    "\n",
    "```\n",
    "['Southern Suburbs' 'Central' 'Other' 'Southeastern Suburbs' 'Periphery'\n",
    " 'Northern Suburbs' 'Western Suburbs']\n",
    "```\n",
    "\n",
    "</details>"
   ]
  },
  {
   "cell_type": "markdown",
   "id": "5fd84d29",
   "metadata": {},
   "source": [
    "<details>\n",
    "<summary style=\"background-color: #FDBFC7; padding: 10px; border-radius: 3px; box-shadow: 0 2px 4px rgba(0, 0, 0, 0.1); width: 95%; text-align: left; cursor: pointer; font-weight: bold;\">\n",
    "Click here to see the solution</summary> \n",
    "\n",
    "<ul style=\"background-color: #FFF8F8; padding: 10px; border-radius: 3px; margin-top: 5px; width: 95%; box-shadow: inset 0 2px 4px rgba(0, 0, 0, 0.1);\">\n",
    "   \n",
    "Your solution should look something like this:\n",
    "\n",
    "```python\n",
    "# Find the unique values in the location column\n",
    "print(df[\"location\"].unique())\n",
    "```\n",
    "</details>"
   ]
  },
  {
   "cell_type": "markdown",
   "id": "a668ca92",
   "metadata": {},
   "source": [
    "It looks like you are good to go. The `location` column has only a few different values in it and it is only the `Central` that you are interested in.\n",
    "\n",
    "Lastly, check for all the values in the `parking` column.\n",
    "\n",
    "\n",
    "<div style=\"background-color: #C6E2FF; padding: 10px; border-radius: 3px; box-shadow: 0 2px 4px rgba(0, 0, 0, 0.1); width:95%\n",
    "\">\n",
    "    <strong>▶▶▶ Directions</strong> \n",
    "        <ol>\n",
    "            <li>Find all the unique values in the <code>parking</code> column and print them out.</li>\n",
    "        </ol>\n",
    "</div>"
   ]
  },
  {
   "cell_type": "code",
   "execution_count": null,
   "id": "351c87ca",
   "metadata": {},
   "outputs": [],
   "source": [
    "### START CODE HERE ###\n",
    "\n",
    "# Find the unique values in the parking column and print them out\n",
    "None\n",
    "\n",
    "### END CODE HERE ###"
   ]
  },
  {
   "cell_type": "markdown",
   "id": "9b20669f",
   "metadata": {},
   "source": [
    "<details open>\n",
    "<summary style=\"background-color: #c6e2ff6c; padding: 10px; border-radius: 3px; box-shadow: 0 2px 4px rgba(0, 0, 0, 0.01); width: 95%; text-align: left; cursor: pointer; font-weight: bold;\">\n",
    "Expected output:</summary> \n",
    "\n",
    "\n",
    "```\n",
    "['Yes' 'No']\n",
    "```\n",
    "\n",
    "</details>"
   ]
  },
  {
   "cell_type": "markdown",
   "id": "1bb8eaa9",
   "metadata": {},
   "source": [
    "<details>\n",
    "<summary style=\"background-color: #FDBFC7; padding: 10px; border-radius: 3px; box-shadow: 0 2px 4px rgba(0, 0, 0, 0.1); width: 95%; text-align: left; cursor: pointer; font-weight: bold;\">\n",
    "Click here to see the solution</summary> \n",
    "\n",
    "<ul style=\"background-color: #FFF8F8; padding: 10px; border-radius: 3px; margin-top: 5px; width: 95%; box-shadow: inset 0 2px 4px rgba(0, 0, 0, 0.1);\">\n",
    "   \n",
    "Your solution should look something like this:\n",
    "\n",
    "```python\n",
    "# Find the unique values in the parking column\n",
    "print(df[\"parking\"].unique())\n",
    "```\n",
    "</details>"
   ]
  },
  {
   "cell_type": "markdown",
   "id": "369c6705",
   "metadata": {},
   "source": [
    "The `parking` column has only two different values in it and you are interested in all the rows that have `Yes` in them.\n",
    "\n",
    "<a id=\"find-the-apartments\"></a>\n",
    "\n",
    "## Step 6: Find the right apartments\n",
    "\n",
    "Now you can finally filter and sort your DataFrame to find the apartments that you are looking for.\n",
    "\n",
    "<div style=\"background-color: #C6E2FF; padding: 10px; border-radius: 3px; box-shadow: 0 2px 4px rgba(0, 0, 0, 0.1); width:95%\n",
    "\">\n",
    "    <strong>▶▶▶ Directions</strong> \n",
    "        <ol>\n",
    "            <li>Filter and sort the DataFrame to find the cheapest five apartments with central location, two bedrooms and a parking space.</li>\n",
    "            <ul>\n",
    "                <li>Filter the DataFrame for apartments with central location.</li>\n",
    "                <li>Filter the DataFrame for apartments with two or more bedrooms.</li>\n",
    "                <li>Filter the DataFrame for apartments with parking.</li>\n",
    "                <li>Sort the DataFrame by price in ascending order. Hint: use <code>.sort_values()</code> and pass <code>price</code> to the named argument <code>by</code>. This returns a sorted DataFrame.</li>\n",
    "            </ul>\n",
    "        </ol>\n",
    "</div>"
   ]
  },
  {
   "cell_type": "code",
   "execution_count": null,
   "id": "9571e93c",
   "metadata": {},
   "outputs": [],
   "source": [
    "### START CODE HERE ###\n",
    "\n",
    "# Filter the DataFrame for apartments with central location\n",
    "central_apartments_df = None\n",
    "\n",
    "# Filter the DataFrame for apartments with two or more bedrooms\n",
    "two_bedroom_apartments_df = central_apartments_df[None]\n",
    "\n",
    "# Filter the DataFrame for apartments with parking\n",
    "apartments_with_parking_df = two_bedroom_apartments_df[None]\n",
    "\n",
    "# Sort the DataFrame by price in ascending order\n",
    "sorted_apartments_df = apartments_with_parking_df.None(by=None)\n",
    "\n",
    "### END CODE HERE ###\n",
    "\n",
    "# Get the cheapest five apartments\n",
    "cheapest_five_apartments_df = sorted_apartments_df.head(5)\n",
    "\n",
    "# Display the result\n",
    "cheapest_five_apartments_df"
   ]
  },
  {
   "cell_type": "markdown",
   "id": "8bd29735",
   "metadata": {},
   "source": [
    "<details open>\n",
    "<summary style=\"background-color: #c6e2ff6c; padding: 10px; border-radius: 3px; box-shadow: 0 2px 4px rgba(0, 0, 0, 0.01); width: 95%; text-align: left; cursor: pointer; font-weight: bold;\">\n",
    "Expected output:</summary> \n",
    "\n",
    "\n",
    "<img src=\"./imgsL3/output_step6.png\" width=500>\n",
    "\n",
    "</details>"
   ]
  },
  {
   "cell_type": "markdown",
   "id": "a80e6911",
   "metadata": {},
   "source": [
    "<details>\n",
    "<summary style=\"background-color: #FDBFC7; padding: 10px; border-radius: 3px; box-shadow: 0 2px 4px rgba(0, 0, 0, 0.1); width: 95%; text-align: left; cursor: pointer; font-weight: bold;\">\n",
    "Click here to see the solution</summary> \n",
    "\n",
    "<ul style=\"background-color: #FFF8F8; padding: 10px; border-radius: 3px; margin-top: 5px; width: 95%; box-shadow: inset 0 2px 4px rgba(0, 0, 0, 0.1);\">\n",
    "   \n",
    "Your solution should look something like this:\n",
    "\n",
    "```python\n",
    "# Filter the DataFrame for apartments with central location\n",
    "central_apartments_df = df[df[\"location\"] == \"Central\"]\n",
    "\n",
    "# Filter the DataFrame for apartments with two or more bedrooms\n",
    "two_bedroom_apartments_df = central_apartments_df[central_apartments_df[\"number_of_bedrooms\"] >= 2]\n",
    "\n",
    "# Filter the DataFrame for apartments with parking\n",
    "apartments_with_parking_df = two_bedroom_apartments_df[two_bedroom_apartments_df[\"parking\"] == \"Yes\"]\n",
    "\n",
    "# Sort the DataFrame by price in ascending order\n",
    "sorted_apartments_df = apartments_with_parking_df.sort_values(by=\"price\")\n",
    "```\n",
    "</details>"
   ]
  },
  {
   "cell_type": "markdown",
   "id": "61275dd3",
   "metadata": {},
   "source": [
    "Congratulations for finishing this lab.\n",
    "\n",
    "You have used `requests` to get the HTML of a webpage, parsed it using `BeautifulSoup` and created a table of available apartments. Then you have found the cheapest five central apartments with minimum two bedrooms and a parking.\n",
    "\n",
    "Hope you enjoyed it! "
   ]
  }
 ],
 "metadata": {
  "kernelspec": {
   "display_name": "Python 3 (ipykernel)",
   "language": "python",
   "name": "python3"
  },
  "language_info": {
   "codemirror_mode": {
    "name": "ipython",
    "version": 3
   },
   "file_extension": ".py",
   "mimetype": "text/x-python",
   "name": "python",
   "nbconvert_exporter": "python",
   "pygments_lexer": "ipython3",
   "version": "3.11.6"
  }
 },
 "nbformat": 4,
 "nbformat_minor": 5
}
