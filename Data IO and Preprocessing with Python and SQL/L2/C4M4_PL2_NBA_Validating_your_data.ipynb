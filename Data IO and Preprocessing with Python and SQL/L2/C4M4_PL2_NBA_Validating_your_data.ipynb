{
 "cells": [
  {
   "cell_type": "markdown",
   "metadata": {},
   "source": [
    "# Practice Lab: Analyzing NBA games - Validating your data\n",
    "\n",
    "You work at a sports data consulting firm that provides insights to basketball teams, broadcasters, and sports media outlets. Your job is to analyze player and team performance to identify trends, optimize strategies, and create engaging content for basketball fans. \n",
    "\n",
    "To complete the task you decide to analyze the NBA Boxscore Dataset, which includes 3 tables:\n",
    "\n",
    "- **game_info**: contains information about each game between two teams, including things like the scores and the outcome.\n",
    "- **team_stats**: contains detailed statistics for each team in each game, such as points scored, rebounds, assists, and more.\n",
    "- **player_stats**: contains individual game stats for each player, including points, assists, rebounds, and other performance details.\n",
    "\n",
    "**The database is extensive, so queries might take a bit longer to complete.**\n",
    "\n",
    "## Data Schema\n",
    "The next diagram shows the data schema. For simplicity, it only shows a subset of columns for each table.\n",
    "\n",
    "<div style=\"text-align: center\">\n",
    "    <img src=\"imgsL2/NBA-db-relation.png\" width=400>\n",
    "</div>\n",
    "\n",
    "For more details on each table, please take a look at the [🔗dataset explorer](https://www.kaggle.com/datasets/lukedip/nba-boxscore-dataset)\n",
    "\n",
    "## General instructions\n",
    "- **Replace any instances of `None` with your own code**. All `None`s must be replaced.\n",
    "- **Compare your results with the expected output** shown below the code.\n",
    "- **Check the solution** using the expandable cell to verify your answer. If needed, you can copy the code and paste it into the cell\n",
    "\n",
    "Happy coding!\n",
    "\n",
    "<div style=\"background-color: #FAD888; padding: 10px; border-radius: 3px; box-shadow: 0 2px 4px rgba(0, 0, 0, 0.1); width:95%\n",
    "\">\n",
    "<strong>Important note</strong>: Code blocks with None will not run properly. If you run them before completing the exercise, you will likely get an error. \n",
    "</div>"
   ]
  },
  {
   "cell_type": "markdown",
   "metadata": {},
   "source": [
    "## Table of Contents\n",
    "- [Step 1: Import Modules](#import-modules)\n",
    "- [Step 2: Connect to the Database](#connect-to-the-database)\n",
    "- [Step 3: Data Validation](#data-validation)\n",
    "    - [Team Names](#team-names)\n",
    "    - [Minutes Played](#minutes-played)"
   ]
  },
  {
   "cell_type": "markdown",
   "metadata": {},
   "source": [
    "<a id=\"import-modules\"></a>\n",
    "\n",
    "## Import Modules\n",
    "Begin by importing sqlite3 and pandas modules."
   ]
  },
  {
   "cell_type": "code",
   "execution_count": null,
   "metadata": {},
   "outputs": [],
   "source": [
    "import sqlite3\n",
    "import pandas as pd"
   ]
  },
  {
   "cell_type": "markdown",
   "metadata": {},
   "source": [
    "<a id=\"connect-to-the-database\"></a>\n",
    "\n",
    "## Connect to the Database\n",
    "\n",
    "Next, you need to establish a connection to the SQLite database to run queries and retrieve the data."
   ]
  },
  {
   "cell_type": "code",
   "execution_count": null,
   "metadata": {},
   "outputs": [],
   "source": [
    "# Connect to the SQLite database\n",
    "connection = sqlite3.connect(\"../NBA-Boxscore-Database.db\")\n",
    "\n",
    "# check the connection with a small query\n",
    "query_first_line = \"\"\"\n",
    "SELECT team, MP as 'minutes played' \n",
    "FROM team_stats \n",
    "LIMIT 1\n",
    "\"\"\" \n",
    "pd.read_sql_query(query_first_line, connection)"
   ]
  },
  {
   "cell_type": "markdown",
   "metadata": {},
   "source": [
    "<details open>\n",
    "<summary style=\"background-color: #c6e2ff6c; padding: 10px; border-radius: 3px; box-shadow: 0 2px 4px rgba(0, 0, 0, 0.01); width: 95%; text-align: left; cursor: pointer; font-weight: bold;\">\n",
    "Expected output:</summary> \n",
    "<br>\n",
    "\n",
    "<img src=\"imgsL2/conn_check.png\" width=\"150\">\n",
    "</details>"
   ]
  },
  {
   "cell_type": "markdown",
   "metadata": {},
   "source": [
    "<a id=\"data-validation\"></a>\n",
    "\n",
    "## Data Validation\n",
    "Ensuring the accuracy and consistency of the data is crucial before conducting any meaningful analysis. Since your insights will influence team strategies and media narratives, it's essential to validate the integrity of the dataset.\n",
    "<a id=\"team-names\"></a>\n",
    "\n",
    "### Team Names\n",
    "First, you will start by looking into the team's names in the `team_stats` table to make sure they are consistent. You should expect 30 teams.\n",
    "\n",
    "<div style=\"background-color: #C6E2FF; padding: 10px; border-radius: 3px; box-shadow: 0 2px 4px rgba(0, 0, 0, 0.1); width:95%\">\n",
    "\n",
    "\n",
    "**▶▶▶ Directions**\n",
    "1. Write a SQLite query to: \n",
    "    - Select the **unique** team names from the `team` column in the `team_stats` table.\n",
    "    - Use the alias `team_names`.\n",
    "\n",
    "2. Make sure no team is repeated.\n",
    "\n",
    "</div>"
   ]
  },
  {
   "cell_type": "code",
   "execution_count": null,
   "metadata": {},
   "outputs": [],
   "source": [
    "#### START CODE HERE ###\n",
    "\n",
    "# write the SQL query\n",
    "query_team_names = \"\"\"\n",
    "SELECT DISTINCT(None) AS None \n",
    "FROM None;\n",
    "\"\"\"\n",
    "\n",
    "### END CODE HERE ###\n",
    "\n",
    "# execute the query\n",
    "df_team_names = pd.read_sql_query(query_team_names, connection)\n",
    "\n",
    "# show the results\n",
    "df_team_names"
   ]
  },
  {
   "cell_type": "markdown",
   "metadata": {},
   "source": [
    "<details open>\n",
    "<summary style=\"background-color: #c6e2ff6c; padding: 10px; border-radius: 3px; box-shadow: 0 2px 4px rgba(0, 0, 0, 0.01); width: 95%; text-align: left; cursor: pointer; font-weight: bold;\">\n",
    "Expected output:</summary> \n",
    "<br>\n",
    "\n",
    "<img src=\"imgsL2/team_names.png\" width=\"70\">\n",
    "</details>"
   ]
  },
  {
   "cell_type": "markdown",
   "metadata": {},
   "source": [
    "<details>\n",
    "<summary style=\"background-color: #FDBFC7; padding: 10px; border-radius: 3px; box-shadow: 0 2px 4px rgba(0, 0, 0, 0.1); width: 95%; text-align: left; cursor: pointer; font-weight: bold;\">\n",
    "Click here to see the solution</summary> \n",
    "\n",
    "<ul style=\"background-color: #FFF8F8; padding: 10px; border-radius: 3px; margin-top: 5px; width: 95%; box-shadow: inset 0 2px 4px rgba(0, 0, 0, 0.1);\">\n",
    "   \n",
    "Your solution should look something like this:\n",
    "\n",
    "```python\n",
    "# write the SQL query\n",
    "query_team_names = \"\"\"\n",
    "SELECT DISTINCT(team) AS team_names \n",
    "FROM team_stats;\n",
    "\"\"\"\n",
    "\n",
    "```\n",
    "</details>"
   ]
  },
  {
   "cell_type": "markdown",
   "metadata": {},
   "source": [
    "The NBA currently has 30 teams but your results returned 31. Turns out CHA and CHO are the same team from Charlotte. They rebranded in 2014 so CHO represents the current moniker. You should watch out for this kind of detail in your own projects because it might affect your results. For example, you might think you have missing data, but it's actually just categorized under a different name. "
   ]
  },
  {
   "cell_type": "markdown",
   "metadata": {},
   "source": [
    "<a id=\"minutes-played\"></a>\n",
    "\n",
    "### Minutes Played\n",
    "The maximum minutes played (sum of individual players' minutes) in a basketball game is 290 minutes. Make sure all records are in accordance with that.\n",
    "\n",
    "<div style=\"background-color: #C6E2FF; padding: 10px; border-radius: 3px; box-shadow: 0 2px 4px rgba(0, 0, 0, 0.1); width:95%\">\n",
    "\n",
    "**▶▶▶ Directions**\n",
    "1. Write a SQLite query to: \n",
    "    - Count the number of matches that lasted more than 290 minutes. Use the `MP` column from the `team_stats` table.\n",
    "    - Use the alias `num_inconsistent_MP`.\n",
    "\n",
    "2. Are there any matches with a wrong duration?\n",
    "</div>"
   ]
  },
  {
   "cell_type": "code",
   "execution_count": null,
   "metadata": {},
   "outputs": [],
   "source": [
    "#### START CODE HERE ###\n",
    "\n",
    "# write the SQL query\n",
    "query_minutes_played = \"\"\"\n",
    "SELECT COUNT(None) AS None\n",
    "FROM None\n",
    "WHERE None\n",
    "\"\"\"\n",
    "\n",
    "### END CODE HERE ###\n",
    "\n",
    "# execute the query\n",
    "df_minutes_played = pd.read_sql_query(query_minutes_played, connection)\n",
    "\n",
    "# show the results\n",
    "df_minutes_played"
   ]
  },
  {
   "cell_type": "markdown",
   "metadata": {},
   "source": [
    "<details open>\n",
    "<summary style=\"background-color: #c6e2ff6c; padding: 10px; border-radius: 3px; box-shadow: 0 2px 4px rgba(0, 0, 0, 0.01); width: 95%; text-align: left; cursor: pointer; font-weight: bold;\">\n",
    "Expected output:</summary> \n",
    "<br>\n",
    "<img src=\"imgsL2/mp.png\" width=\"180\">\n",
    "\n",
    "</details>\n"
   ]
  },
  {
   "cell_type": "markdown",
   "metadata": {},
   "source": [
    "<details>\n",
    "<summary style=\"background-color: #FDBFC7; padding: 10px; border-radius: 3px; box-shadow: 0 2px 4px rgba(0, 0, 0, 0.1); width: 95%; text-align: left; cursor: pointer; font-weight: bold;\">\n",
    "Click here to see the solution</summary> \n",
    "\n",
    "<ul style=\"background-color: #FFF8F8; padding: 10px; border-radius: 3px; margin-top: 5px; width: 95%; box-shadow: inset 0 2px 4px rgba(0, 0, 0, 0.1);\">\n",
    "   \n",
    "Your solution should look something like this:\n",
    "\n",
    "```python\n",
    "# write the SQL query\n",
    "query_minutes_played = \"\"\"\n",
    "SELECT COUNT(*) AS 'num_inconsistent_MP'\n",
    "FROM team_stats\n",
    "WHERE MP > 290\n",
    "\"\"\"\n",
    "```\n",
    "</details>"
   ]
  },
  {
   "cell_type": "markdown",
   "metadata": {},
   "source": [
    "As you can see, there are 30 entries where the minutes played is larger than 290. In order to investigate the matter further, you decide to look at how often these times appear across different games. To achieve this you can group the data by `game_id`. You can reuse much of the previous query.\n",
    "\n",
    "<div style=\"background-color: #C6E2FF; padding: 10px; border-radius: 3px; box-shadow: 0 2px 4px rgba(0, 0, 0, 0.1); width:95%\">\n",
    "\n",
    "**▶▶▶ Directions**\n",
    "1. Write a SQLite query to: \n",
    "    - Count the number of matches that lasted more than 290 minutes. Use the `MP` column from the `team_stats` table.\n",
    "    - Use the alias `num_inconsistent_MP`.\n",
    "    - Group the data by `game_id`.\n",
    "\n",
    "2. How many entries with a wrong duration are there for each match? Why could that be?.\n",
    "</div>"
   ]
  },
  {
   "cell_type": "code",
   "execution_count": null,
   "metadata": {},
   "outputs": [],
   "source": [
    "### START CODE HERE ###\n",
    "\n",
    "# write the SQL query\n",
    "query_minutes_played = \"\"\"\n",
    "SELECT COUNT(None) AS None\n",
    "FROM None\n",
    "WHERE None\n",
    "GROUP BY None;\n",
    "\"\"\"\n",
    "\n",
    "### END CODE HERE ###\n",
    "\n",
    "# execute the query\n",
    "df_minutes_played = pd.read_sql_query(query_minutes_played, connection)\n",
    "\n",
    "# show the results\n",
    "df_minutes_played"
   ]
  },
  {
   "cell_type": "markdown",
   "metadata": {
    "jp-MarkdownHeadingCollapsed": true
   },
   "source": [
    "<details open>\n",
    "<summary style=\"background-color: #c6e2ff6c; padding: 10px; border-radius: 3px; box-shadow: 0 2px 4px rgba(0, 0, 0, 0.01); width: 95%; text-align: left; cursor: pointer; font-weight: bold;\">\n",
    "Expected output:</summary> \n",
    "<br>\n",
    "<img src=\"imgsL2/mp_group.png\" width=\"180\">\n",
    "\n",
    "</details>\n"
   ]
  },
  {
   "cell_type": "markdown",
   "metadata": {},
   "source": [
    "<details>\n",
    "<summary style=\"background-color: #FDBFC7; padding: 10px; border-radius: 3px; box-shadow: 0 2px 4px rgba(0, 0, 0, 0.1); width: 95%; text-align: left; cursor: pointer; font-weight: bold;\">\n",
    "Click here to see the solution</summary> \n",
    "\n",
    "<ul style=\"background-color: #FFF8F8; padding: 10px; border-radius: 3px; margin-top: 5px; width: 95%; box-shadow: inset 0 2px 4px rgba(0, 0, 0, 0.1);\">\n",
    "   \n",
    "Your solution should look something like this:\n",
    "\n",
    "```python\n",
    "# write the SQL query\n",
    "query_minutes_played = \"\"\"\n",
    "SELECT game_id, COUNT(*) AS 'num_inconsistent_MP'\n",
    "FROM team_stats\n",
    "WHERE MP > 290\n",
    "GROUP BY game_id;\n",
    "\"\"\"\n",
    "```\n",
    "</details>"
   ]
  },
  {
   "cell_type": "markdown",
   "metadata": {},
   "source": [
    "As you can see, you get 15 games in total, with 2 invalid entries each. Now the 30 invalid entries start making more sense. These were 15 invalid games, with 2 entries each - probably one for each team. Feel free to investigate this issue further yourself."
   ]
  },
  {
   "cell_type": "markdown",
   "metadata": {},
   "source": [
    "Finally, run the next cell to close the connection."
   ]
  },
  {
   "cell_type": "code",
   "execution_count": null,
   "metadata": {},
   "outputs": [],
   "source": [
    "connection.close()"
   ]
  },
  {
   "cell_type": "markdown",
   "metadata": {},
   "source": [
    "Congratulations for making it until the end of this lab. You will keep working on this dataset in Lesson 2. Hope you enjoyed it! "
   ]
  }
 ],
 "metadata": {
  "kernelspec": {
   "display_name": "Python 3 (ipykernel)",
   "language": "python",
   "name": "python3"
  },
  "language_info": {
   "codemirror_mode": {
    "name": "ipython",
    "version": 3
   },
   "file_extension": ".py",
   "mimetype": "text/x-python",
   "name": "python",
   "nbconvert_exporter": "python",
   "pygments_lexer": "ipython3",
   "version": "3.11.6"
  }
 },
 "nbformat": 4,
 "nbformat_minor": 4
}
