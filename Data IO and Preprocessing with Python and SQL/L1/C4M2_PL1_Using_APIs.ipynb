{
 "cells": [
  {
   "cell_type": "markdown",
   "metadata": {},
   "source": [
    "# C4M2 Lesson 1 Practice Lab: Using APIs\n",
    "\n",
    "In this lab, you will practice how to access the online data using an API. You will use the `requests` module to get the data from a URL and you will perform some basic data analysis on this data.\n",
    "\n",
    "You are interested in tracking the weather. You are building a simple app for your desktop and you want it to display the current weather at your location for you.  Here is a screenshot of what the data table would look like. \n",
    "\n",
    "<div style=\"text-align: center\">\n",
    "    <img src=\"imgsL1/page_screenshot.png\" width=700>\n",
    "</div>\n",
    "\n",
    "## General instructions\n",
    "- **Replace any instances of `None` with your own code**. All `None`s must be replaced.\n",
    "- **Compare your results with the expected output** shown below the code.\n",
    "- **Check the solution** using the expandable cell to verify your answer. If needed, you can copy the code and paste it into the cell\n",
    "\n",
    "Happy coding!\n",
    "\n",
    "<div style=\"background-color: #FAD888; padding: 10px; border-radius: 3px; box-shadow: 0 2px 4px rgba(0, 0, 0, 0.1); width:95%\n",
    "\">\n",
    "<strong>Important note</strong>: Code blocks with None will not run properly. If you run them before completing the exercise, you will likely get an error. \n",
    "\n",
    "</div>"
   ]
  },
  {
   "cell_type": "markdown",
   "metadata": {},
   "source": [
    "## Table of contents\n",
    "- [Step 1: Import modules](#import-modules)\n",
    "- [Step 2: Get the JSON](#get-the-json)\n",
    "- [Step 3: Create a Pandas DataFrame](#create-pandas)\n",
    "- [Step 4: Initial data analysis](#initial-data-analysis)\n",
    "- [Step 5: Get live weather forecast](#live-forecast)"
   ]
  },
  {
   "cell_type": "markdown",
   "metadata": {},
   "source": [
    "<a id=\"import-modules\"></a>\n",
    "\n",
    "## Step 1: Import modules\n",
    "First, you need to import the necessary modules. In this case, you will use `requests`, `pandas` and `matplotlib`."
   ]
  },
  {
   "cell_type": "code",
   "execution_count": null,
   "metadata": {},
   "outputs": [],
   "source": [
    "import requests\n",
    "import pandas as pd\n",
    "import matplotlib.pyplot as plt"
   ]
  },
  {
   "cell_type": "markdown",
   "metadata": {},
   "source": [
    "<a id=\"get-the-json\"></a>\n",
    "\n",
    "## Step 2: Get the JSON\n",
    "Use the `requests.get()` function to access the data. The URL is given below.\n",
    "\n",
    "<div style=\"background-color: #C6E2FF; padding: 10px; border-radius: 3px; box-shadow: 0 2px 4px rgba(0, 0, 0, 0.1); width:95%\n",
    "\">\n",
    "    <strong>▶▶▶ Directions</strong> \n",
    "        <ol>\n",
    "            <li>Get the data from the API. </li>\n",
    "            <ul>\n",
    "                <li>Use <code>requests.get()</code> function to get the data.</li>\n",
    "                <li>Use <code>.status_code</code> to check whether your request was successful.</li>\n",
    "            </ul>\n",
    "        </ol>\n",
    "</div>"
   ]
  },
  {
   "cell_type": "code",
   "execution_count": null,
   "metadata": {},
   "outputs": [],
   "source": [
    "# URL of the API to get JSON data\n",
    "url = \"https://2eraiuh.dlai.link/api/weather\"\n",
    "\n",
    "### START CODE HERE ###\n",
    "\n",
    "# send a GET request to the url\n",
    "response = requests.None(url)\n",
    "\n",
    "# get the status of the response for troubleshooting\n",
    "status = response.None\n",
    "\n",
    "### END CODE HERE ###\n",
    "\n",
    "print(status)"
   ]
  },
  {
   "cell_type": "markdown",
   "metadata": {},
   "source": [
    "<details open>\n",
    "<summary style=\"background-color: #c6e2ff6c; padding: 10px; border-radius: 3px; box-shadow: 0 2px 4px rgba(0, 0, 0, 0.01); width: 95%; text-align: left; cursor: pointer; font-weight: bold;\">\n",
    "Expected output:</summary> \n",
    "\n",
    "\n",
    "```\n",
    "200\n",
    "```\n",
    "\n",
    "</details>"
   ]
  },
  {
   "cell_type": "markdown",
   "metadata": {},
   "source": [
    "<details>\n",
    "<summary style=\"background-color: #FDBFC7; padding: 10px; border-radius: 3px; box-shadow: 0 2px 4px rgba(0, 0, 0, 0.1); width: 95%; text-align: left; cursor: pointer; font-weight: bold;\">\n",
    "Click here to see the solution</summary> \n",
    "\n",
    "<ul style=\"background-color: #FFF8F8; padding: 10px; border-radius: 3px; margin-top: 5px; width: 95%; box-shadow: inset 0 2px 4px rgba(0, 0, 0, 0.1);\">\n",
    "   \n",
    "Your solution should look something like this:\n",
    "\n",
    "```python\n",
    "# send a GET request to the url\n",
    "response = requests.get(url)\n",
    "\n",
    "# get the status of the response for troubleshooting\n",
    "status = response.status_code\n",
    "```\n",
    "</details>"
   ]
  },
  {
   "cell_type": "markdown",
   "metadata": {},
   "source": [
    "You might find the above part familiar. If you have completed the previous module of this course, then you have already written the exact same piece of code to extract HTML from a webpage to later process it using Beautiful Soup. Isn't it great that sometimes you can just reuse old code?\n",
    "\n",
    "Now use the `.json()` method to access the JSON.\n",
    "\n",
    "<div style=\"background-color: #C6E2FF; padding: 10px; border-radius: 3px; box-shadow: 0 2px 4px rgba(0, 0, 0, 0.1); width:95%\n",
    "\">\n",
    "    <strong>▶▶▶ Directions</strong> \n",
    "        <ol>\n",
    "            <li>Get the JSON data from response. </li>\n",
    "            <ul>\n",
    "                <li>Use the <code>json()</code> method to get the JSON.</li>\n",
    "            </ul>\n",
    "        </ol>\n",
    "</div>"
   ]
  },
  {
   "cell_type": "code",
   "execution_count": null,
   "metadata": {},
   "outputs": [],
   "source": [
    "### START CODE HERE ###\n",
    "\n",
    "# get the JSON data from the response\n",
    "data = response.None()\n",
    "\n",
    "### END CODE HERE ###\n",
    "\n",
    "print(type(data))"
   ]
  },
  {
   "cell_type": "markdown",
   "metadata": {},
   "source": [
    "<details open>\n",
    "<summary style=\"background-color: #c6e2ff6c; padding: 10px; border-radius: 3px; box-shadow: 0 2px 4px rgba(0, 0, 0, 0.01); width: 95%; text-align: left; cursor: pointer; font-weight: bold;\">\n",
    "Expected output:</summary> \n",
    "\n",
    "\n",
    "```\n",
    "<class 'dict'>\n",
    "```\n",
    "\n",
    "</details>"
   ]
  },
  {
   "cell_type": "markdown",
   "metadata": {},
   "source": [
    "<details>\n",
    "<summary style=\"background-color: #FDBFC7; padding: 10px; border-radius: 3px; box-shadow: 0 2px 4px rgba(0, 0, 0, 0.1); width: 95%; text-align: left; cursor: pointer; font-weight: bold;\">\n",
    "Click here to see the solution</summary> \n",
    "\n",
    "<ul style=\"background-color: #FFF8F8; padding: 10px; border-radius: 3px; margin-top: 5px; width: 95%; box-shadow: inset 0 2px 4px rgba(0, 0, 0, 0.1);\">\n",
    "   \n",
    "Your solution should look something like this:\n",
    "\n",
    "```python\n",
    "# get the JSON data from the response\n",
    "data = response.json()\n",
    "```\n",
    "</details>"
   ]
  },
  {
   "cell_type": "markdown",
   "metadata": {},
   "source": [
    "As you saw above, the weather data is now stored in a Python dictionary. You can try printing out the whole dictionary to inspect it using `print(data)`, but since the dictionary is quite large, it is much more manageable to just print the keys of the dictionary. Use the cell below to view the keys of the `data`. Feel free to modify the code to check the full contents of the dictionary."
   ]
  },
  {
   "cell_type": "code",
   "execution_count": null,
   "metadata": {},
   "outputs": [],
   "source": [
    "# print the keys of the JSON data\n",
    "print(data.keys())"
   ]
  },
  {
   "cell_type": "markdown",
   "metadata": {},
   "source": [
    "<details open>\n",
    "<summary style=\"background-color: #c6e2ff6c; padding: 10px; border-radius: 3px; box-shadow: 0 2px 4px rgba(0, 0, 0, 0.01); width: 95%; text-align: left; cursor: pointer; font-weight: bold;\">\n",
    "Expected output:</summary> \n",
    "\n",
    "\n",
    "```\n",
    "dict_keys(['data', 'success'])\n",
    "```\n",
    "\n",
    "</details>"
   ]
  },
  {
   "cell_type": "markdown",
   "metadata": {},
   "source": [
    "As you can see there are two keys: `data` and `success`. You are interested in the data, so you can select this key and see what is inside."
   ]
  },
  {
   "cell_type": "code",
   "execution_count": null,
   "metadata": {},
   "outputs": [],
   "source": [
    "weather_data = data[\"data\"]\n",
    "weather_data.keys()"
   ]
  },
  {
   "cell_type": "markdown",
   "metadata": {},
   "source": [
    "<details open>\n",
    "<summary style=\"background-color: #c6e2ff6c; padding: 10px; border-radius: 3px; box-shadow: 0 2px 4px rgba(0, 0, 0, 0.01); width: 95%; text-align: left; cursor: pointer; font-weight: bold;\">\n",
    "Expected output:</summary> \n",
    "\n",
    "\n",
    "```\n",
    "dict_keys(['current_condition', 'header', 'nearest_area', 'request', 'weather'])\n",
    "```\n",
    "\n",
    "</details>"
   ]
  },
  {
   "cell_type": "markdown",
   "metadata": {},
   "source": [
    "Inside, you find another dictionary. Nested dictionaries are quite common in APIs and sometimes you need to dig quite deep to find what you are looking for. By selecting the `weather` key, you will finally find the weather forecast data that you are looking for and you can create a DataFrame from it.\n",
    "\n",
    "<a id=\"create-pandas\"></a>\n",
    "\n",
    "## Step 3: Create a Pandas DataFrame\n",
    "You can access the data from the dictionary using the `weather` key and transform it into a Pandas DataFrame.\n",
    "\n",
    "<div style=\"background-color: #C6E2FF; padding: 10px; border-radius: 3px; box-shadow: 0 2px 4px rgba(0, 0, 0, 0.1); width:95%\n",
    "\">\n",
    "    <strong>▶▶▶ Directions</strong> \n",
    "        <ol>\n",
    "            <li>Create a Pandas DataFrame with weather data. </li>\n",
    "            <ul>\n",
    "                <li>Access the weather data by using the <code>weather</code> key.</li>\n",
    "                <li>Use the <code>pd.DataFrame()</code> to transform the data into a Pandas DataFrame</li>\n",
    "            </ul>\n",
    "        </ol>\n",
    "</div>"
   ]
  },
  {
   "cell_type": "code",
   "execution_count": null,
   "metadata": {},
   "outputs": [],
   "source": [
    "### START CODE HERE ###\n",
    "\n",
    "# get the value of the 'weather' key and transform it into a DataFrame\n",
    "df = pd.None(weather_data[None])\n",
    "\n",
    "### END CODE HERE ###\n",
    "\n",
    "# display the DataFrame\n",
    "df"
   ]
  },
  {
   "cell_type": "markdown",
   "metadata": {},
   "source": [
    "<details open>\n",
    "<summary style=\"background-color: #c6e2ff6c; padding: 10px; border-radius: 3px; box-shadow: 0 2px 4px rgba(0, 0, 0, 0.01); width: 95%; text-align: left; cursor: pointer; font-weight: bold;\">\n",
    "Expected output:</summary> \n",
    "\n",
    "\n",
    "<img src=\"imgsL1/output_step3.png\">\n",
    "\n",
    "</details>"
   ]
  },
  {
   "cell_type": "markdown",
   "metadata": {},
   "source": [
    "<details>\n",
    "<summary style=\"background-color: #FDBFC7; padding: 10px; border-radius: 3px; box-shadow: 0 2px 4px rgba(0, 0, 0, 0.1); width: 95%; text-align: left; cursor: pointer; font-weight: bold;\">\n",
    "Click here to see the solution</summary> \n",
    "\n",
    "<ul style=\"background-color: #FFF8F8; padding: 10px; border-radius: 3px; margin-top: 5px; width: 95%; box-shadow: inset 0 2px 4px rgba(0, 0, 0, 0.1);\">\n",
    "   \n",
    "Your solution should look something like this:\n",
    "\n",
    "```python\n",
    "# get the value of the 'weather' key and transform it into a DataFrame\n",
    "df = pd.DataFrame(weather_data[\"weather\"])\n",
    "```\n",
    "</details>"
   ]
  },
  {
   "cell_type": "markdown",
   "metadata": {},
   "source": [
    "As you can see there are only three rows in the DataFrame, each one representing the weather for a certain date, meaning this is a three day weather forecast. You can see simple columns that represent for example temperatures, hours of sun and snow depth, but you have also more complex columns like `astronomy` and `hourly`, which look like they contain a list of dictionaries. Could it be that each of these cells contains its own DataFrame?\n",
    "\n",
    "<a id=\"initial-data-analysis\"></a>\n",
    "\n",
    "## Step 4: Initial data analysis\n",
    "\n",
    "Let's start with analysis of the simple columns and return to the above problem later. In order to analyze the data, you need to first cast the values to the appropriate types and then you can plot the daily temperatures.\n",
    "\n",
    "<div style=\"background-color: #C6E2FF; padding: 10px; border-radius: 3px; box-shadow: 0 2px 4px rgba(0, 0, 0, 0.1); width:95%\n",
    "\">\n",
    "    <strong>▶▶▶ Directions</strong> \n",
    "        <ol>\n",
    "            <li>Cast the numeric and date columns and create a datetime index. </li>\n",
    "            <ul>\n",
    "                <li>Store the names of numeric columns in a list.</li>\n",
    "                <li>Cast the <code>numeric columns</code> to float.</li>\n",
    "                <li>Cast the <code>\"date\"</code> column to datetime.</li>\n",
    "                <li>Set the <code>\"date\"</code> column as the index of the DataFrame.</li>\n",
    "            </ul>\n",
    "        </ol>\n",
    "</div>"
   ]
  },
  {
   "cell_type": "code",
   "execution_count": null,
   "metadata": {},
   "outputs": [],
   "source": [
    "# Store the names of numeric columns in a list\n",
    "numeric_columns = [\"mintempC\", \"maxtempC\", \"totalSnow_cm\", \"sunHour\", \"mintempF\", \"maxtempF\", \"uvIndex\", \"avgtempF\", \"avgtempC\"]\n",
    "\n",
    "### START CODE HERE ###\n",
    "\n",
    "# Cast the numeric columns to float\n",
    "df[numeric_columns] = df[numeric_columns].astype(None)\n",
    "\n",
    "# Cast the date column to datetime\n",
    "df[None] = pd.to_datetime(df[None])\n",
    "\n",
    "### END CODE HERE ###\n",
    " \n",
    "# Set the date column as the index of the DataFrame\n",
    "df.set_index(df[\"date\"], inplace=True)"
   ]
  },
  {
   "cell_type": "markdown",
   "metadata": {},
   "source": [
    "<details>\n",
    "<summary style=\"background-color: #FDBFC7; padding: 10px; border-radius: 3px; box-shadow: 0 2px 4px rgba(0, 0, 0, 0.1); width: 95%; text-align: left; cursor: pointer; font-weight: bold;\">\n",
    "Click here to see the solution</summary> \n",
    "\n",
    "<ul style=\"background-color: #FFF8F8; padding: 10px; border-radius: 3px; margin-top: 5px; width: 95%; box-shadow: inset 0 2px 4px rgba(0, 0, 0, 0.1);\">\n",
    "   \n",
    "Your solution should look something like this:\n",
    "\n",
    "```python\n",
    "# Store the names of numeric columns in a list\n",
    "numeric_columns = [\"mintempC\", \"maxtempC\", \"totalSnow_cm\", \"sunHour\", \"mintempF\", \"maxtempF\", \"uvIndex\", \"avgtempF\", \"avgtempC\"]\n",
    "\n",
    "# Cast the numeric columns to float\n",
    "df[numeric_columns] = df[numeric_columns].astype(float)\n",
    "\n",
    "# Cast the date column to datetime\n",
    "df[\"date\"] = pd.to_datetime(df[\"date\"])\n",
    "\n",
    "# Set the date column as the index of the DataFrame\n",
    "df.set_index(\"date\", inplace=True)\n",
    "```\n",
    "</details>"
   ]
  },
  {
   "cell_type": "markdown",
   "metadata": {},
   "source": [
    "Now that you have your data prepared, you can plot the daily temperatures for the three days forecast. You're not expected to know this code. Remember you can always check with an LLM.\n",
    "\n",
    "<div style=\"background-color: #C6E2FF; padding: 10px; border-radius: 3px; box-shadow: 0 2px 4px rgba(0, 0, 0, 0.1); width:95%\n",
    "\">\n",
    "    <strong>▶▶▶ Directions</strong> \n",
    "        <ol>\n",
    "            <li>Plot the forecasted maximum and minimum daily temperature. </li>\n",
    "            <ul>\n",
    "                <li>Plot the minimum temperature in celsius in blue and the maximum in red.</li>\n",
    "                <li>Add the title and x and y labels.</li>\n",
    "            </ul>\n",
    "        </ol>\n",
    "</div>"
   ]
  },
  {
   "cell_type": "code",
   "execution_count": null,
   "metadata": {},
   "outputs": [],
   "source": [
    "### START CODE HERE ###\n",
    "\n",
    "# Plot the maximum and minimum daily temperature\n",
    "plt.figure(figsize=(10, 5))\n",
    "plt.plot(df.index, df[None], label=\"Min Temperature (°C)\", marker=\"o\", color=\"blue\")\n",
    "plt.plot(df.index, df[None], label=\"Max Temperature (°C)\", marker=\"o\", color=\"red\")\n",
    "\n",
    "# Add the title and labels\n",
    "plt.title(\"Minimum and Maximum Temperature\")\n",
    "plt.xlabel(\"Date\")\n",
    "plt.ylabel(\"Temperature (°C)\")\n",
    "\n",
    "### END CODE HERE ###\n",
    "\n",
    "# Set the ticks to be the date\n",
    "plt.xticks(df.index, df.index.strftime(\"%Y-%m-%d\"))\n",
    "\n",
    "# Show the grid and the legend\n",
    "plt.grid(True)\n",
    "plt.legend()\n",
    "\n",
    "# Display the plot\n",
    "plt.show()"
   ]
  },
  {
   "cell_type": "markdown",
   "metadata": {},
   "source": [
    "<details open>\n",
    "<summary style=\"background-color: #c6e2ff6c; padding: 10px; border-radius: 3px; box-shadow: 0 2px 4px rgba(0, 0, 0, 0.01); width: 95%; text-align: left; cursor: pointer; font-weight: bold;\">\n",
    "Expected output:</summary> \n",
    "\n",
    "<img src=\"imgsL1/daily_forecast.png\" width=\"350\">\n",
    "\n",
    "</details>"
   ]
  },
  {
   "cell_type": "markdown",
   "metadata": {},
   "source": [
    "<details>\n",
    "<summary style=\"background-color: #FDBFC7; padding: 10px; border-radius: 3px; box-shadow: 0 2px 4px rgba(0, 0, 0, 0.1); width: 95%; text-align: left; cursor: pointer; font-weight: bold;\">\n",
    "Click here to see the solution</summary> \n",
    "\n",
    "<ul style=\"background-color: #FFF8F8; padding: 10px; border-radius: 3px; margin-top: 5px; width: 95%; box-shadow: inset 0 2px 4px rgba(0, 0, 0, 0.1);\">\n",
    "   \n",
    "Your solution should look something like this:\n",
    "\n",
    "```python\n",
    "# Plot the maximum and minimum daily temperature\n",
    "plt.figure(figsize=(10, 5))\n",
    "plt.plot(df.index, df[\"mintempC\"], label=\"Min Temperature (°C)\", marker=\"o\", color=\"blue\")\n",
    "plt.plot(df.index, df[\"maxtempC\"], label=\"Max Temperature (°C)\", marker=\"o\", color=\"red\")\n",
    "\n",
    "# Add the title and labels\n",
    "plt.title(\"Minimum and Maximum Temperature\")\n",
    "plt.xlabel(\"Date\")\n",
    "plt.ylabel(\"Temperature (°C)\")\n",
    "```\n",
    "</details>"
   ]
  },
  {
   "cell_type": "markdown",
   "metadata": {},
   "source": [
    "In this lab you have worked with weather data available from an API. You have seen that the formats of the data are not always very simple as they may contain DataFrames within DataFrames and thus require extra processing.\n",
    "\n",
    "<a id=\"live-forecast\"></a>\n",
    "\n",
    "## Step 5: Get live weather forecast\n",
    "\n",
    "This weather data you have been working with actually came from [wttr.in](https://wttr.in). You can run the cell below to get the latest forecast—just update the `city` to one you like. It will refresh the `df` DataFrame, so you can go back and rerun your charts with fresh data. Since it’s a live API, results might change a bit. The part after the \"?\" in the URL sets the output format using query parameters. You can find more options in their [GitHub repository](https://github.com/chubin/wttr.in)."
   ]
  },
  {
   "cell_type": "code",
   "execution_count": null,
   "metadata": {},
   "outputs": [],
   "source": [
    "# URL of the API to get JSON data\n",
    "city = \"Sydney\"\n",
    "url_wttr = f\"http://wttr.in/{city}?format=j1\"\n",
    "\n",
    "# send a GET request to the url\n",
    "response_wttr = requests.get(url_wttr)\n",
    "\n",
    "# get the status of the response for troubleshooting\n",
    "weather_data = response.json()\n",
    "weather_data = weather_data[\"data\"]\n",
    "\n",
    "# get the value of the 'weather' key and transform it into a DataFrame\n",
    "df = pd.DataFrame(weather_data[\"weather\"])\n",
    "\n",
    "# print the first few rows\n",
    "df.head()"
   ]
  },
  {
   "cell_type": "markdown",
   "metadata": {},
   "source": [
    "Now try what happens if you remove the parameters after the question mark! In this case the API does not return a JSON but plain text. if you try to access `.json()` in this case you will get an error. Instead you can use `.text`. Run the cell below to print it out to see what the API returns when no additional parameters are set."
   ]
  },
  {
   "cell_type": "code",
   "execution_count": null,
   "metadata": {},
   "outputs": [],
   "source": [
    "# URL of the API to get JSON data\n",
    "city = \"Sydney\"\n",
    "url_wttr_2 = f\"http://wttr.in/{city}\"\n",
    "\n",
    "# send a GET request to the url\n",
    "response_wttr_2 = requests.get(url_wttr_2)\n",
    "\n",
    "print(response_wttr_2.text)"
   ]
  },
  {
   "cell_type": "markdown",
   "metadata": {},
   "source": [
    "Aren't APIs fun? It turns out they can return much more than just JSON data.\n",
    "\n",
    "Congratulations for making it until the end of this lab. You have used your first API to get the weather data and plot it. You can modify this code and build on top of it to create your own weather forecasting app. Hope you enjoyed it! "
   ]
  }
 ],
 "metadata": {
  "kernelspec": {
   "display_name": "Python 3 (ipykernel)",
   "language": "python",
   "name": "python3"
  },
  "language_info": {
   "codemirror_mode": {
    "name": "ipython",
    "version": 3
   },
   "file_extension": ".py",
   "mimetype": "text/x-python",
   "name": "python",
   "nbconvert_exporter": "python",
   "pygments_lexer": "ipython3",
   "version": "3.11.6"
  }
 },
 "nbformat": 4,
 "nbformat_minor": 4
}
