{
 "cells": [
  {
   "cell_type": "markdown",
   "metadata": {},
   "source": [
    "# Practice Lab: Analyzing NBA games: Best Players\n",
    "\n",
    "You work at a sports data consulting firm that provides insights to basketball teams, broadcasters, and sports media outlets. In this lab, you will focus on identifying the best players. \n",
    "\n",
    "To complete the task you decide to analyze the NBA Boxscore Dataset, which includes 3 tables:\n",
    "\n",
    "- **game_info**: contains information about each game between two teams, including things like the scores and the outcome.\n",
    "- **team_stats**: contains detailed statistics for each team in each game, such as points scored, rebounds, assists, and more.\n",
    "- **player_stats**: contains individual game stats for each player, including points, assists, rebounds, and other performance details.\n",
    "\n",
    "**The database is extensive, so queries might take a bit longer to complete.**\n",
    "\n",
    "## Data Schema\n",
    "The next diagram shows the data schema. For simplicity, it only shows a subset of columns for each table.\n",
    "\n",
    "<div style=\"text-align: center\">\n",
    "    <img src=\"imgsL1/NBA-db-relation.png\" width=400>\n",
    "</div>\n",
    "\n",
    "For more details on each table, please take a look at the [🔗dataset explorer](https://www.kaggle.com/datasets/lukedip/nba-boxscore-dataset)\n",
    "\n",
    "## General instructions\n",
    "- **Replace any instances of `None` with your own code**. All `None`s must be replaced.\n",
    "- **Compare your results with the expected output** shown below the code.\n",
    "- **Check the solution** using the expandable cell to verify your answer. If needed, you can copy the code and paste it into the cell\n",
    "\n",
    "Happy coding!\n",
    "\n",
    "<div style=\"background-color: #FAD888; padding: 10px; border-radius: 3px; box-shadow: 0 2px 4px rgba(0, 0, 0, 0.1); width:95%\n",
    "\">\n",
    "<strong>Important note</strong>: Code blocks with None will not run properly. If you run them before completing the exercise, you will likely get an error. \n",
    "</div>"
   ]
  },
  {
   "cell_type": "markdown",
   "metadata": {},
   "source": [
    "## Table of Contents\n",
    "- [Step 1: Import Modules](#import-modules)\n",
    "- [Step 2: Connect to the Database](#connect-to-the-database)\n",
    "- [Step 3: Players' Analysis](#players-analysis)\n",
    "    - [Suspended Players](#suspended-players)\n",
    "    - [Most Expensive Player](#most-expensive-player)\n",
    "    - [Performance](#performance)"
   ]
  },
  {
   "cell_type": "markdown",
   "metadata": {},
   "source": [
    "<a id=\"import-modules\"></a>\n",
    "\n",
    "## Step 1: Import Modules\n",
    "Begin by importing sqlite3 and pandas modules"
   ]
  },
  {
   "cell_type": "code",
   "execution_count": null,
   "metadata": {},
   "outputs": [],
   "source": [
    "import sqlite3\n",
    "import pandas as pd\n",
    "import matplotlib.pyplot as plt\n",
    "import seaborn as sns"
   ]
  },
  {
   "cell_type": "markdown",
   "metadata": {},
   "source": [
    "<a id=\"connect-to-the-database\"></a>\n",
    "\n",
    "## Step 2: Connect to the Database\n",
    "Next, you need to establish a connection to the SQLite database to run queries and retrieve the data."
   ]
  },
  {
   "cell_type": "code",
   "execution_count": null,
   "metadata": {},
   "outputs": [],
   "source": [
    "# Connect to the SQLite database\n",
    "connection = sqlite3.connect(\"../NBA-Boxscore-Database.db\")\n",
    "\n",
    "# check the connection with a small query\n",
    "query_first_line = \"\"\"\n",
    "SELECT team, MP as 'minutes played' \n",
    "FROM team_stats \n",
    "LIMIT 1\n",
    "\"\"\" \n",
    "pd.read_sql_query(query_first_line, connection)"
   ]
  },
  {
   "cell_type": "markdown",
   "metadata": {},
   "source": [
    "<details open>\n",
    "<summary style=\"background-color: #c6e2ff6c; padding: 10px; border-radius: 3px; box-shadow: 0 2px 4px rgba(0, 0, 0, 0.01); width: 95%; text-align: left; cursor: pointer; font-weight: bold;\">\n",
    "Expected output:</summary> \n",
    "<br>\n",
    "\n",
    "<img src=\"imgsL1/conn_check.png\" width=\"180\">\n",
    "</details>"
   ]
  },
  {
   "cell_type": "markdown",
   "metadata": {},
   "source": [
    "<a id=\"players-analysis\"></a>\n",
    "\n",
    "## Step 3: Players' Analysis \n",
    "<a id=\"suspended-players\"></a>\n",
    "\n",
    "### Suspended Players\n",
    "\n",
    "You want to identify players who get suspended more often, as this should impact how likely they are to get better deals.\n",
    "\n",
    "<div style=\"background-color: #C6E2FF; padding: 10px; border-radius: 3px; box-shadow: 0 2px 4px rgba(0, 0, 0, 0.1); width:95%\">\n",
    "\n",
    "**▶▶▶ Directions**\n",
    "1. Write a SQLite query that:\n",
    "   - Retrieves the player names (`player`) from the `player_stats` table.\n",
    "   - Where the player was suspended in a game (`MP = \"Player Suspended\"`).\n",
    "2. Execute the query using the `pd.read_sql_query()` function.\n",
    "</div>"
   ]
  },
  {
   "cell_type": "code",
   "execution_count": null,
   "metadata": {},
   "outputs": [],
   "source": [
    "### START CODE HERE ###\n",
    "# write the query\n",
    "query_suspended = \"\"\"\n",
    "SELECT None \n",
    "FROM None\n",
    "WHERE None = None;\n",
    "\"\"\"\n",
    "\n",
    "# execute the query\n",
    "df_suspended = pd.read_sql_query(None, connection)\n",
    "\n",
    "### END CODE HERE ###\n",
    "\n",
    "# show the first rows\n",
    "df_suspended.head()"
   ]
  },
  {
   "cell_type": "markdown",
   "metadata": {},
   "source": [
    "<details open>\n",
    "<summary style=\"background-color: #c6e2ff6c; padding: 10px; border-radius: 3px; box-shadow: 0 2px 4px rgba(0, 0, 0, 0.01); width: 95%; text-align: left; cursor: pointer; font-weight: bold;\">\n",
    "Expected output:</summary> \n",
    "<br>\n",
    "\n",
    "<img src=\"imgsL1/suspended.png\" width=\"130\">\n",
    "</details>"
   ]
  },
  {
   "cell_type": "markdown",
   "metadata": {},
   "source": [
    "<details>\n",
    "<summary style=\"background-color: #FDBFC7; padding: 10px; border-radius: 3px; box-shadow: 0 2px 4px rgba(0, 0, 0, 0.1); width: 95%; text-align: left; cursor: pointer; font-weight: bold;\">\n",
    "Click here to see the solution</summary> \n",
    "\n",
    "<ul style=\"background-color: #FFF8F8; padding: 10px; border-radius: 3px; margin-top: 5px; width: 95%; box-shadow: inset 0 2px 4px rgba(0, 0, 0, 0.1);\">\n",
    "   \n",
    "Your solution should look something like this:\n",
    "\n",
    "```python\n",
    "# write the query\n",
    "query_suspended = \"\"\"\n",
    "SELECT player \n",
    "FROM player_stats\n",
    "WHERE MP = \"Player Suspended\";\n",
    "\"\"\"\n",
    "\n",
    "# execute the query\n",
    "df_suspended = pd.read_sql_query(query_suspended, connection)\n",
    "```\n",
    "</details>"
   ]
  },
  {
   "cell_type": "markdown",
   "metadata": {},
   "source": [
    "Now that you have this data, you can create a column chart showing the number of times each of these players was suspended. You will need to first aggregate the DataFrame resulting from the query. To make the plot easier to read, only show players with more than one suspension."
   ]
  },
  {
   "cell_type": "code",
   "execution_count": null,
   "metadata": {},
   "outputs": [],
   "source": [
    "# count the number of suspensions per player\n",
    "num_suspensions = df_suspended.value_counts()\n",
    "\n",
    "# create the column chart\n",
    "plt.figure(figsize=(12, 8))\n",
    "num_suspensions[num_suspensions>1].plot(kind='bar')\n",
    "\n",
    "# add the title and labels\n",
    "plt.title('Number of Suspensions per Player', size=14)\n",
    "plt.xlabel('Player Name', size=12)\n",
    "plt.ylabel('Number of Suspensions', size=12)\n",
    "plt.tight_layout()\n",
    "plt.show()"
   ]
  },
  {
   "cell_type": "markdown",
   "metadata": {},
   "source": [
    "<a id=\"most-expensive-player\"></a>\n",
    "\n",
    "### Most Expensive Player\n",
    "\n",
    "Currently, the most expensive player is Stephen Curry, from the Golden State Warriors. Is he living up to his standards? You decide to look into his Player Impact Estimate (PIE), which measures a player's overall contribution during a game.\n",
    "\n",
    "<div style=\"background-color: #C6E2FF; padding: 10px; border-radius: 3px; box-shadow: 0 2px 4px rgba(0, 0, 0, 0.1); width:95%\">\n",
    "\n",
    "**▶▶▶ Directions**\n",
    "1. Write a SQLite query that:\n",
    "   - Retrieves the `PIE` from the `player_stats` table.\n",
    "   - For the player \"Stephen Curry\".\n",
    "   - Filter out rows where `PIE` is NULL.\n",
    "2. Execute the query using the `pd.read_sql_query()` function.\n",
    "</div>"
   ]
  },
  {
   "cell_type": "code",
   "execution_count": null,
   "metadata": {},
   "outputs": [],
   "source": [
    "### START CODE HERE ###\n",
    "\n",
    "# write the SQL query\n",
    "query_pie_curry = \"\"\"\n",
    "SELECT None \n",
    "FROM None \n",
    "WHERE None = None AND None IS NOT None;\n",
    "\"\"\"\n",
    "\n",
    "# execute the query\n",
    "df_pie_curry = pd.read_sql_query(None, connection)\n",
    "\n",
    "### END CODE HERE ###\n",
    "\n",
    "# show the first results\n",
    "df_pie_curry.head()"
   ]
  },
  {
   "cell_type": "markdown",
   "metadata": {},
   "source": [
    "<details open>\n",
    "<summary style=\"background-color: #c6e2ff6c; padding: 10px; border-radius: 3px; box-shadow: 0 2px 4px rgba(0, 0, 0, 0.01); width: 95%; text-align: left; cursor: pointer; font-weight: bold;\">\n",
    "Expected output:</summary> \n",
    "<br>\n",
    "\n",
    "<img src=\"imgsL1/pie.png\" width=\"50\">\n",
    "</details>"
   ]
  },
  {
   "cell_type": "markdown",
   "metadata": {},
   "source": [
    "<details>\n",
    "<summary style=\"background-color: #FDBFC7; padding: 10px; border-radius: 3px; box-shadow: 0 2px 4px rgba(0, 0, 0, 0.1); width: 95%; text-align: left; cursor: pointer; font-weight: bold;\">\n",
    "Click here to see the solution</summary> \n",
    "\n",
    "<ul style=\"background-color: #FFF8F8; padding: 10px; border-radius: 3px; margin-top: 5px; width: 95%; box-shadow: inset 0 2px 4px rgba(0, 0, 0, 0.1);\">\n",
    "   \n",
    "Your solution should look something like this:\n",
    "\n",
    "```python\n",
    "# write the SQL query\n",
    "query_pie_curry = \"\"\"\n",
    "SELECT PIE \n",
    "FROM player_stats \n",
    "WHERE player = \"Stephen Curry\" AND PIE IS NOT NULL;\n",
    "\"\"\"\n",
    "\n",
    "# execute the query\n",
    "df_pie_curry = pd.read_sql_query(query_pie_curry, connection)\n",
    "\n",
    "```\n",
    "</details>"
   ]
  },
  {
   "cell_type": "markdown",
   "metadata": {},
   "source": [
    "With this information, now you plot a histogram of the player impact rating of Stephen Curry"
   ]
  },
  {
   "cell_type": "code",
   "execution_count": null,
   "metadata": {},
   "outputs": [],
   "source": [
    "sns.histplot(df_pie_curry['PIE'])\n",
    "plt.title('Stephen Curry - Player Impact Estimate (PIE)', size=14)\n",
    "plt.xlabel('PIE', size=12)\n",
    "plt.show()"
   ]
  },
  {
   "cell_type": "markdown",
   "metadata": {},
   "source": [
    "Interpret the histogram, what can you say about his PIE? 🥧"
   ]
  },
  {
   "cell_type": "markdown",
   "metadata": {},
   "source": [
    "<a id=\"performance\"></a>\n",
    "\n",
    "### Performance\n",
    "\n",
    "You want to provide coaches and analysts with an intuitive framework for quickly assessing player offensive contributions. You decide to create a scoring performance classification. For now you want to focus on a single game.\n",
    "\n",
    "<div style=\"background-color: #C6E2FF; padding: 10px; border-radius: 3px; box-shadow: 0 2px 4px rgba(0, 0, 0, 0.1); width:95%\">\n",
    "\n",
    "**▶▶▶ Directions**\n",
    "\n",
    "1. Write a SQLite query that:\n",
    "    - Retrieves the player name (`player`) and `team`.\n",
    "    - Creates performance bins:\n",
    "        - \"Low Scorer\": PTS < 10.\n",
    "        - \"Role Player\": PTS BETWEEN 10 AND 20.\n",
    "        - \"Starter\": PTS BETWEEN 20 AND 30.\n",
    "        - \"Star Player\": PTS > 30.\n",
    "        - With the alias `scoring_category`.\n",
    "    - Selects data only from one of the games (game_id = 131410290001).\n",
    "2. Execute the query using the `pd.read_sql_query()` function.\n",
    "</div>"
   ]
  },
  {
   "cell_type": "code",
   "execution_count": null,
   "metadata": {},
   "outputs": [],
   "source": [
    "### START CODE HERE ###\n",
    "\n",
    "# write the SQL query\n",
    "query_score_category = \"\"\"\n",
    "SELECT None, None, \n",
    "    CASE \n",
    "        WHEN None THEN \"Low Scorer\"\n",
    "        WHEN None \"Role Player\"\n",
    "        WHEN None \"Starter\"\n",
    "        ELSE \"Star Player\"\n",
    "    END AS scoring_category\n",
    "FROM None\n",
    "WHERE None = \"131410290001\";\n",
    "\"\"\"\n",
    "\n",
    "# execute the query\n",
    "df_score_category = pd.read_sql_query(None, connection)\n",
    "\n",
    "### END CODE HERE ###\n",
    "\n",
    "# show the first rows\n",
    "df_score_category.head()"
   ]
  },
  {
   "cell_type": "markdown",
   "metadata": {},
   "source": [
    "<details open>\n",
    "<summary style=\"background-color: #c6e2ff6c; padding: 10px; border-radius: 3px; box-shadow: 0 2px 4px rgba(0, 0, 0, 0.01); width: 95%; text-align: left; cursor: pointer; font-weight: bold;\">\n",
    "Expected output:</summary> \n",
    "<br>\n",
    "\n",
    "<img src=\"imgsL1/score-cat.png\" width=\"250\">\n",
    "</details>"
   ]
  },
  {
   "cell_type": "markdown",
   "metadata": {},
   "source": [
    "<details>\n",
    "<summary style=\"background-color: #FDBFC7; padding: 10px; border-radius: 3px; box-shadow: 0 2px 4px rgba(0, 0, 0, 0.1); width: 95%; text-align: left; cursor: pointer; font-weight: bold;\">\n",
    "Click here to see the solution</summary> \n",
    "\n",
    "<ul style=\"background-color: #FFF8F8; padding: 10px; border-radius: 3px; margin-top: 5px; width: 95%; box-shadow: inset 0 2px 4px rgba(0, 0, 0, 0.1);\">\n",
    "   \n",
    "Your solution should look something like this:\n",
    "\n",
    "```python\n",
    "# write the SQL query\n",
    "query_score_category = \"\"\"\n",
    "SELECT player, team, \n",
    "    CASE \n",
    "        WHEN PTS < 10 THEN 'Low Scorer'\n",
    "        WHEN PTS BETWEEN 10 AND 20 THEN 'Role Player'\n",
    "        WHEN PTS BETWEEN 20 AND 30 THEN 'Starter'\n",
    "        ELSE 'Star Player'\n",
    "    END AS scoring_category\n",
    "FROM player_stats\n",
    "WHERE game_id = '131410290001';\n",
    "\"\"\"\n",
    "\n",
    "# execute the query\n",
    "df_score_category = pd.read_sql_query(query_score_category, connection)\n",
    "\n",
    "# show the results\n",
    "df_score_category.head()\n",
    "```\n",
    "</details>"
   ]
  },
  {
   "cell_type": "markdown",
   "metadata": {},
   "source": [
    "With this data, you can find how many players in each category each team has."
   ]
  },
  {
   "cell_type": "code",
   "execution_count": null,
   "metadata": {},
   "outputs": [],
   "source": [
    "# create a pivot table. Pivot by team and scoring_category. Aggregate by count.\n",
    "pivot_df = df_score_category.pivot_table(index='team', columns='scoring_category', aggfunc='count', fill_value=0)\n",
    "\n",
    "# create the stacked bar chart\n",
    "pivot_df.plot(kind='bar', stacked=True, figsize=(12, 6))\n",
    "\n",
    "# add the title and labels\n",
    "plt.title('Number of Players in Each Scoring Category by Team')\n",
    "plt.xlabel('Team')\n",
    "plt.ylabel('Number of Players')\n",
    "# add the legend\n",
    "plt.legend(title='Scoring Category')\n",
    "# rotate the x-axis labels\n",
    "plt.xticks(rotation=45)\n",
    "plt.show()"
   ]
  },
  {
   "cell_type": "markdown",
   "metadata": {},
   "source": [
    "Finally, run the next cell to close the connection."
   ]
  },
  {
   "cell_type": "code",
   "execution_count": null,
   "metadata": {},
   "outputs": [],
   "source": [
    "connection.close()"
   ]
  },
  {
   "cell_type": "markdown",
   "metadata": {},
   "source": [
    "Congratulations for making it until the end of this lab. You will keep working on this dataset in Lesson 2. Hope you enjoyed it! "
   ]
  }
 ],
 "metadata": {
  "kernelspec": {
   "display_name": "Python 3 (ipykernel)",
   "language": "python",
   "name": "python3"
  },
  "language_info": {
   "codemirror_mode": {
    "name": "ipython",
    "version": 3
   },
   "file_extension": ".py",
   "mimetype": "text/x-python",
   "name": "python",
   "nbconvert_exporter": "python",
   "pygments_lexer": "ipython3",
   "version": "3.11.6"
  }
 },
 "nbformat": 4,
 "nbformat_minor": 4
}
