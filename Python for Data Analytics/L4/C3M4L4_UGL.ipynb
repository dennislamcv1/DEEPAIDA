{
 "cells": [
  {
   "cell_type": "markdown",
   "metadata": {},
   "source": [
    "# C3M4 Lesson 4 Practice Lab: London housing prices - Part 4\n",
    "\n",
    "Your parents are considering selling their London home to move to a quieter area with a spacious backyard. To help them make a smart financial decision, you’ll analyze historical house prices from 1995 to 2024. By examining trends and patterns in the data, you can identify the best time to sell and provide insights into the long-term trajectory of the market. This analysis will ensure they maximize their return and confidently take the next step toward their dream home.\n",
    "\n",
    "In this module's practice labs you will be working with just two columns from the [London House Price Data](https://www.kaggle.com/datasets/jakewright/house-price-data): \n",
    "\n",
    "- `history_date`: Date when the sale was made\n",
    "- `history_price`: Price at which the property was sold\n",
    "\n",
    "## General instructions\n",
    "- **Replace any instances of `None` with your own code**. All `None`s must be replaced.\n",
    "- **Compare your results with the expected output** shown below the code.\n",
    "- **Check the solution** using the expandable cell to verify your answer.\n",
    "\n",
    "Happy coding!\n",
    "\n",
    "<div style=\"background-color: #FAD888; padding: 10px; border-radius: 3px; box-shadow: 0 2px 4px rgba(0, 0, 0, 0.1); width:95%\n",
    "\">\n",
    "<strong>Important note</strong>: Code blocks with None will not run properly. If you run them before completing the exercise, you will likely get an error. \n",
    "</div>"
   ]
  },
  {
   "cell_type": "markdown",
   "metadata": {},
   "source": [
    "## Table of contents\n",
    "- [Step 1: Import libraries](#import-libraries)\n",
    "- [Step 2: Load the data](#load-the-data)\n",
    "- [Step 3: Process the data: aggregate weekly](#process-data)\n",
    "- [Step 4: Training a linear regression model](#training-a-model)\n",
    "- [Step 5: Making predictions](#making-predictions)"
   ]
  },
  {
   "cell_type": "markdown",
   "metadata": {},
   "source": [
    "<a id=\"import-libraries\"></a>\n",
    "\n",
    "## Step 1: Import libraries\n",
    "Begin by importing pandas library"
   ]
  },
  {
   "cell_type": "code",
   "execution_count": null,
   "metadata": {},
   "outputs": [],
   "source": [
    "import pandas as pd\n",
    "import matplotlib.pyplot as plt\n",
    "import statsmodels.api as sm\n",
    "import numpy as np"
   ]
  },
  {
   "cell_type": "markdown",
   "metadata": {},
   "source": [
    "<a id=\"load-the-data\"></a>\n",
    "\n",
    "## Step 2: Load the data\n",
    "Next, you will be loading the data. Run the cell below to load the data. You can also inspect <strong><a href=\"https://drive.google.com/file/d/1kiHq3q3P_553DxmUBRnELeFOIh2Hjpbp/view?usp=sharing\">the data in spreadsheet format</a></strong>. "
   ]
  },
  {
   "cell_type": "code",
   "execution_count": null,
   "metadata": {},
   "outputs": [],
   "source": [
    "# load the data\n",
    "price = pd.read_csv(\"history_price.csv\", parse_dates=['history_date'] )\n",
    "\n",
    "# plot the time series\n",
    "price.plot(x=\"history_date\", y=\"history_price\", \n",
    "           title=\"Sales Price of houses in London (1995-2024)\")\n",
    "# visualize the first values\n",
    "price.head()"
   ]
  },
  {
   "cell_type": "markdown",
   "metadata": {},
   "source": [
    "This has so much variability! Also, there are repeated dates, since more than one house can be sold in one day. One of the things you want to know is the trend of house prices, so you decide to aggregate data weekly in order to get a smoother curve.\n",
    "\n",
    "<a id=\"process-data\"></a>\n",
    "\n",
    "## Step 3: Process the Data: Aggregate Weekly\n",
    "\n",
    "<div style=\"background-color: #C6E2FF; padding: 10px; border-radius: 3px; box-shadow: 0 2px 4px rgba(0, 0, 0, 0.1); width:95%;\">\n",
    "\n",
    "**▶▶▶ Directions** \n",
    "1. Set the date as the index to create the actual time series, and save it in the `price_ts` variable. You can do this using the `set_index()` method.\n",
    "2. Resample the time series weekly. You can use the `resample()` method with the \"W\" argument.\n",
    "3. Save the results in a new variable `price_ts`.\n",
    "</div>\n",
    "\n",
    "**Note**: All three steps should be done in a single line."
   ]
  },
  {
   "cell_type": "code",
   "execution_count": null,
   "metadata": {},
   "outputs": [],
   "source": [
    "# set the date as index\n",
    "price_ts = None\n",
    "\n",
    "# take the average price for each week\n",
    "price_ts = price_ts.resample('W').mean()\n",
    "\n",
    "# visualize de time series\n",
    "price_ts.head()"
   ]
  },
  {
   "cell_type": "markdown",
   "metadata": {},
   "source": [
    "<details open>\n",
    "<summary style=\"background-color: #c6e2ff6c; padding: 10px; border-radius: 3px; box-shadow: 0 2px 4px rgba(0, 0, 0, 0.01); width: 95%; text-align: left; cursor: pointer; font-weight: bold;\">\n",
    "Expected output:</summary> \n",
    "\n",
    "<img src=\"imgsL4/tsweekly.png\" width=\"150\">\n",
    "</details>\n"
   ]
  },
  {
   "cell_type": "markdown",
   "metadata": {},
   "source": [
    "<details>\n",
    "<summary style=\"background-color: #FDBFC7; padding: 10px; border-radius: 3px; box-shadow: 0 2px 4px rgba(0, 0, 0, 0.1); width: 95%; text-align: left; cursor: pointer; font-weight: bold;\">\n",
    "Click here to see the solution</summary> \n",
    "\n",
    "<ul style=\"background-color: #FFF8F8; padding: 10px; border-radius: 3px; margin-top: 5px; width: 95%; box-shadow: inset 0 2px 4px rgba(0, 0, 0, 0.1);\">\n",
    "   \n",
    "Your solution should look something like this:\n",
    "\n",
    "```python\n",
    "# set the date as index\n",
    "price_ts = price.set_index('history_date')\n",
    "\n",
    "# take the average price for each week\n",
    "price_ts = price_ts.resample('W').mean()\n",
    "\n",
    "# visualize de time series\n",
    "price_ts.head()\n",
    "```\n",
    "</details>"
   ]
  },
  {
   "cell_type": "markdown",
   "metadata": {},
   "source": [
    "Next step is to plot the time series\n",
    "\n",
    "<div style=\"background-color: #C6E2FF; padding: 10px; border-radius: 3px; box-shadow: 0 2px 4px rgba(0, 0, 0, 0.1); width:95%\n",
    "\">\n",
    "\n",
    "**▶▶▶ Directions**\n",
    "1. Plot the time series\n",
    "1. Set appropriate title and labels for the axes\n",
    "</div>\n",
    "\n"
   ]
  },
  {
   "cell_type": "code",
   "execution_count": null,
   "metadata": {},
   "outputs": [],
   "source": [
    "# plot the price\n",
    "None\n",
    "\n",
    "# add ylabel\n",
    "None\n",
    "# add ylabel\n",
    "None\n",
    "\n",
    "# add title\n",
    "None"
   ]
  },
  {
   "cell_type": "markdown",
   "metadata": {},
   "source": [
    "<details open>\n",
    "<summary style=\"background-color: #c6e2ff6c; padding: 10px; border-radius: 3px; box-shadow: 0 2px 4px rgba(0, 0, 0, 0.01); width: 95%; text-align: left; cursor: pointer; font-weight: bold;\">\n",
    "Expected output:</summary> \n",
    "\n",
    "Your plot should look something like this (title and labels might change)\n",
    "<img src=\"imgsL4/ts.png\" width=\"350\">\n",
    "\n",
    "</details>\n"
   ]
  },
  {
   "cell_type": "markdown",
   "metadata": {},
   "source": [
    "<details>\n",
    "<summary style=\"background-color: #FDBFC7; padding: 10px; border-radius: 3px; box-shadow: 0 2px 4px rgba(0, 0, 0, 0.1); width: 95%; text-align: left; cursor: pointer; font-weight: bold;\">\n",
    "Click here to see the solution</summary> \n",
    "\n",
    "<ul style=\"background-color: #FFF8F8; padding: 10px; border-radius: 3px; margin-top: 5px; width: 95%; box-shadow: inset 0 2px 4px rgba(0, 0, 0, 0.1);\">\n",
    "   \n",
    "Your solution should look something like this:\n",
    "\n",
    "```python\n",
    "# plot the price\n",
    "price_ts.plot()\n",
    "# add ylabel\n",
    "plt.xlabel(\"Date\")\n",
    "# add ylabel\n",
    "plt.ylabel(\"Price\")\n",
    "# add title\n",
    "plt.title(\"Weekly average price of sold properties in London (1995-2024)\")\n",
    "```\n",
    "</details>"
   ]
  },
  {
   "cell_type": "markdown",
   "metadata": {},
   "source": [
    "What can you say about this time series? Do you see a clear trend? What about seasonality?\n",
    "\n",
    "<a id=\"training-a-model\"></a>\n",
    "\n",
    "## Step 4: Training a Linear Regression Model\n",
    "\n",
    "In order to predict how housing prices will evolve over time, you decide to try a linear regression model.\n",
    "\n",
    "<div style=\"background-color: #C6E2FF; padding: 10px; border-radius: 3px; box-shadow: 0 2px 4px rgba(0, 0, 0, 0.1); width:95%;\">\n",
    "\n",
    "**▶▶▶ Directions**\n",
    "1. Add a column `idx` to the time series DataFrame. Since the time series is already sorted, it should just be the values 0, 1, 2, .... You can do this with the `np.arange()` function.\n",
    "2. Select the `idx` column as the predictor.\n",
    "3. Add the constant term to the model.\n",
    "4. Select the target variable (`history_price`).\n",
    "5. Define and train the model using the `sm.OLS()` function and `fit` method respectively.\n",
    "6. Print the model summary.\n",
    "</div>"
   ]
  },
  {
   "cell_type": "code",
   "execution_count": null,
   "metadata": {},
   "outputs": [],
   "source": [
    "# add the idx colum\n",
    "price_ts[\"idx\"] = None\n",
    "\n",
    "# select the independent variable\n",
    "X = price_ts[None]\n",
    "# add the constant term\n",
    "X = sm.None\n",
    "# select the dependent variable\n",
    "y = price_ts[None]\n",
    "\n",
    "# create and fit the model\n",
    "model = sm.OLS(y,X).fit()\n",
    "\n",
    "# print the summary\n",
    "print(model.summary())\n"
   ]
  },
  {
   "cell_type": "markdown",
   "metadata": {},
   "source": [
    "<details open>\n",
    "<summary style=\"background-color: #c6e2ff6c; padding: 10px; border-radius: 3px; box-shadow: 0 2px 4px rgba(0, 0, 0, 0.01); width: 95%; text-align: left; cursor: pointer; font-weight: bold;\">\n",
    "Expected output:</summary> \n",
    "<br>\n",
    "<span style=\"font-size: 11px;\">\n",
    "\n",
    "```mkdn\n",
    "                            OLS Regression Results                            \n",
    "==============================================================================\n",
    "Dep. Variable:          history_price   R-squared:                       0.684\n",
    "Model:                            OLS   Adj. R-squared:                  0.684\n",
    "Method:                 Least Squares   F-statistic:                     3350.\n",
    "Date:                Tue, 10 Dec 2024   Prob (F-statistic):               0.00\n",
    "Time:                        19:25:24   Log-Likelihood:                -21029.\n",
    "No. Observations:                1548   AIC:                         4.206e+04\n",
    "Df Residuals:                    1546   BIC:                         4.207e+04\n",
    "Df Model:                           1                                         \n",
    "Covariance Type:            nonrobust                                         \n",
    "==============================================================================\n",
    "                 coef    std err          t      P>|t|      [0.025      0.975]\n",
    "------------------------------------------------------------------------------\n",
    "const       4.884e+04   9768.055      5.000      0.000    2.97e+04     6.8e+04\n",
    "idx          632.9159     10.935     57.881      0.000     611.467     654.364\n",
    "==============================================================================\n",
    "Omnibus:                     2502.886   Durbin-Watson:                   1.683\n",
    "Prob(Omnibus):                  0.000   Jarque-Bera (JB):          1976452.408\n",
    "Skew:                          10.064   Prob(JB):                         0.00\n",
    "Kurtosis:                     176.889   Cond. No.                     1.79e+03\n",
    "==============================================================================\n",
    "\n",
    "Notes:\n",
    "[1] Standard Errors assume that the covariance matrix of the errors is correctly specified.\n",
    "[2] The condition number is large, 1.79e+03. This might indicate that there are\n",
    "strong multicollinearity or other numerical problems.\n",
    "```\n",
    "\n",
    "</span>\n",
    "</details>\n"
   ]
  },
  {
   "cell_type": "markdown",
   "metadata": {},
   "source": [
    "<details>\n",
    "<summary style=\"background-color: #FDBFC7; padding: 10px; border-radius: 3px; box-shadow: 0 2px 4px rgba(0, 0, 0, 0.1); width: 95%; text-align: left; cursor: pointer; font-weight: bold;\">\n",
    "Click here to see the solution</summary> \n",
    "\n",
    "<ul style=\"background-color: #FFF8F8; padding: 10px; border-radius: 3px; margin-top: 5px; width: 95%; box-shadow: inset 0 2px 4px rgba(0, 0, 0, 0.1);\">\n",
    "   \n",
    "Your solution should look something like this:\n",
    "\n",
    "```python\n",
    "# add the idx colum\n",
    "price_ts[\"idx\"] = np.arange(len(price_ts))\n",
    "\n",
    "# select the independent variable\n",
    "X = price_ts[\"idx\"]\n",
    "# add the constant term\n",
    "X = sm.add_constant(X)\n",
    "# select the dependent variable\n",
    "y = price_ts[\"history_price\"]\n",
    "\n",
    "# create and fit the model\n",
    "model = sm.OLS(y,X).fit()\n",
    "\n",
    "# print the summary\n",
    "print(model.summary())\n",
    "```\n",
    "</details>"
   ]
  },
  {
   "cell_type": "markdown",
   "metadata": {},
   "source": [
    "You got an R-squared of 0.684, not so bad! You still want to look at other error metrics for your model. Use the residuals from the model to find the Mean Absolute Error (MAE).\n",
    "\n",
    "<div style=\"background-color: #C6E2FF; padding: 10px; border-radius: 3px; box-shadow: 0 2px 4px rgba(0, 0, 0, 0.1); width:95%;\">\n",
    "\n",
    "**▶▶▶ Directions**\n",
    "1. Get the residuals from the model. Use the `resid` attribute from your model.\n",
    "2. Find the MAE, which is the mean of the absolute difference between each residual and the true value of the price.\n",
    "</div>"
   ]
  },
  {
   "cell_type": "code",
   "execution_count": null,
   "metadata": {},
   "outputs": [],
   "source": [
    "# get the residuals\n",
    "resid = model.None\n",
    "\n",
    "# get the mean absolute error\n",
    "MAE = (None-None).abs().mean()\n",
    "\n",
    "# print the mean absolute error\n",
    "print(\"Mean Absolute Error:\", round(MAE,2))"
   ]
  },
  {
   "cell_type": "markdown",
   "metadata": {},
   "source": [
    "<details open>\n",
    "<summary style=\"background-color: #c6e2ff6c; padding: 10px; border-radius: 3px; box-shadow: 0 2px 4px rgba(0, 0, 0, 0.01); width: 95%; text-align: left; cursor: pointer; font-weight: bold;\">\n",
    "Expected output:</summary> \n",
    "\n",
    "```mkdn\n",
    "Mean Absolute Error: 538404.42\n",
    "```\n",
    "</details>\n"
   ]
  },
  {
   "cell_type": "markdown",
   "metadata": {},
   "source": [
    "<details>\n",
    "<summary style=\"background-color: #FDBFC7; padding: 10px; border-radius: 3px; box-shadow: 0 2px 4px rgba(0, 0, 0, 0.1); width: 95%; text-align: left; cursor: pointer; font-weight: bold;\">\n",
    "Click here to see the solution</summary> \n",
    "\n",
    "<ul style=\"background-color: #FFF8F8; padding: 10px; border-radius: 3px; margin-top: 5px; width: 95%; box-shadow: inset 0 2px 4px rgba(0, 0, 0, 0.1);\">\n",
    "   \n",
    "Your solution should look something like this:\n",
    "\n",
    "```python\n",
    "# get the residuals\n",
    "resid = model.resid\n",
    "\n",
    "# get the mean absolute error\n",
    "MAE = (resid-y).abs().mean()\n",
    "\n",
    "# print the mean absolute error\n",
    "print(\"Mean Absolute Error:\", round(MAE,2))\n",
    "\n",
    "```\n",
    "</details>"
   ]
  },
  {
   "cell_type": "markdown",
   "metadata": {},
   "source": [
    "It might seem like a big number, but always remember that we are talking about property prices.\n",
    "\n",
    "<a id=\"making-predictions\"></a>\n",
    "\n",
    "## Step 5: Making Predictions\n",
    "\n",
    "If you want to know how the market will evolve, you can use this model to make some predictions.\n",
    "\n",
    "<div style=\"background-color: #C6E2FF; padding: 10px; border-radius: 3px; box-shadow: 0 2px 4px rgba(0, 0, 0, 0.1); width:95%;\">\n",
    "\n",
    "**▶▶▶ Directions**\n",
    "1. Create an array of future weeks, ranging 105 weeks (approximately 2 years).\n",
    "2. Create a DataFrame with these values. Use the argument `columns=[\"idx\"]` to make it look like the dataset you used to train.\n",
    "3. Add the constant to the model.\n",
    "4. Make the predictions using the `predict()` method of your trained model.\n",
    "5. Plot the results.\n",
    "</div>"
   ]
  },
  {
   "cell_type": "code",
   "execution_count": null,
   "metadata": {},
   "outputs": [],
   "source": [
    "price_ts.index"
   ]
  },
  {
   "cell_type": "code",
   "execution_count": null,
   "metadata": {},
   "outputs": [],
   "source": [
    "# create a new DataFrame a for 2 year into the future\n",
    "future_weeks = np.arange(len(price_ts), len(price_ts) + 105)\n",
    "\n",
    "# create the regressor DataFrame\n",
    "X_future = pd.DataFrame(None, columns=[None])\n",
    "X_future = sm.add_constant(X_future)\n",
    "\n",
    "# make the predictions\n",
    "predictions = None\n",
    "\n",
    "# plot the predictions\n",
    "plt.figure(figsize=(6, 3))\n",
    "plt.plot(price_ts.index, price_ts['history_price'], label='Observed average price')\n",
    "\n",
    "# get the first week (first sample) after the last observation\n",
    "start_date = price_ts.index[-1] + pd.Timedelta(weeks=1)\n",
    "\n",
    "# generate date range for predictions starting from the day after the last date in df\n",
    "prediction_dates = pd.date_range(start=start_date, periods=105, freq='W')\n",
    "\n",
    "# set up the plot\n",
    "plt.plot(prediction_dates, predictions, label='Predicted  average price', linestyle='--')\n",
    "plt.xlabel('Date')\n",
    "plt.ylabel('Price')\n",
    "plt.title('Average Price Forecast')\n",
    "plt.legend()\n",
    "plt.show()"
   ]
  },
  {
   "cell_type": "markdown",
   "metadata": {},
   "source": [
    "<details open>\n",
    "<summary style=\"background-color: #c6e2ff6c; padding: 10px; border-radius: 3px; box-shadow: 0 2px 4px rgba(0, 0, 0, 0.01); width: 95%; text-align: left; cursor: pointer; font-weight: bold;\">\n",
    "Expected output:</summary> \n",
    "\n",
    "<img src=\"imgsL4/predictions.png\" width=\"350\">\n",
    "</details>\n"
   ]
  },
  {
   "cell_type": "markdown",
   "metadata": {},
   "source": [
    "<details>\n",
    "<summary style=\"background-color: #FDBFC7; padding: 10px; border-radius: 3px; box-shadow: 0 2px 4px rgba(0, 0, 0, 0.1); width: 95%; text-align: left; cursor: pointer; font-weight: bold;\">\n",
    "Click here to see the solution</summary> \n",
    "\n",
    "<ul style=\"background-color: #FFF8F8; padding: 10px; border-radius: 3px; margin-top: 5px; width: 95%; box-shadow: inset 0 2px 4px rgba(0, 0, 0, 0.1);\">\n",
    "   \n",
    "Your solution should look something like this:\n",
    "\n",
    "```python\n",
    "# create a new DataFrame a for 2 year into the future\n",
    "future_weeks = np.arange(len(price_ts), len(price_ts) + 105)\n",
    "\n",
    "# create the regressor DataFrame\n",
    "X_future = pd.DataFrame(future_weeks, columns=[\"idx\"])\n",
    "X_future = sm.add_constant(X_future)\n",
    "\n",
    "# make the predictions\n",
    "predictions = model.predict(X_future)\n",
    "\n",
    "# plot the predictions\n",
    "plt.figure(figsize=(6, 3))\n",
    "plt.plot(price_ts.index, price_ts['history_price'], label='Observed average price')\n",
    "\n",
    "# get the first week (first sample) after the last observation\n",
    "start_date = price_ts.index[-1] + pd.Timedelta(weeks=1)\n",
    "\n",
    "# generate date range for predictions starting from the day after the last date in df\n",
    "prediction_dates = pd.date_range(start=start_date, periods=105, freq='W')\n",
    "\n",
    "# set up the plot\n",
    "plt.plot(prediction_dates, predictions, label='Predicted  average price', linestyle='--')\n",
    "plt.xlabel('Date')\n",
    "plt.ylabel('Price')\n",
    "plt.title('Average Price Forecast')\n",
    "plt.legend()\n",
    "plt.show()\n",
    "```\n",
    "</details>"
   ]
  },
  {
   "cell_type": "markdown",
   "metadata": {},
   "source": [
    "According to your predictions, house prices are on the rise. What would you recommend your parents to do?"
   ]
  },
  {
   "cell_type": "markdown",
   "metadata": {},
   "source": [
    "Congratulations for making it until the end of this lab. Hope you enjoyed it! "
   ]
  }
 ],
 "metadata": {
  "kernelspec": {
   "display_name": "Python 3 (ipykernel)",
   "language": "python",
   "name": "python3"
  },
  "language_info": {
   "codemirror_mode": {
    "name": "ipython",
    "version": 3
   },
   "file_extension": ".py",
   "mimetype": "text/x-python",
   "name": "python",
   "nbconvert_exporter": "python",
   "pygments_lexer": "ipython3",
   "version": "3.11.6"
  }
 },
 "nbformat": 4,
 "nbformat_minor": 4
}
