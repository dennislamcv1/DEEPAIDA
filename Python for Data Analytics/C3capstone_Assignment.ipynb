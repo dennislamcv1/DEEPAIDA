{
 "cells": [
  {
   "cell_type": "markdown",
   "metadata": {},
   "source": [
    "# C3 Capstone: Loan Interest Rates\n",
    "\n",
    "Welcome to this course capstone, where you will be applying everything you have learned throughout the course.\n",
    "\n",
    "## Background:\n",
    "You've joined a fintech startup tasked with improving customer loan offers. Using the [🔗Bondora P2P Loans](https://www.kaggle.com/datasets/marcobeyer/bondora-p2p-loans?select=LoanData.csv) dataset, you'll build build insights about what factors help determine a person's interest rate. You will work your way to creating a predictive model to estimate loan interest rates, which will guide your company in personalizing loan terms efficiently.\n",
    "\n",
    "\n",
    "The features used in this lab are:\n",
    "\n",
    "- `VerificationType`: Method used for loan application data verification\n",
    "- `Age`: Age of the borrower (years)\n",
    "- `AppliedAmount`: Amount applied\n",
    "- `Amount`: Amount the borrower received\n",
    "- `Interest`: Interest rate\n",
    "- `LoanDuration`: The loan term\n",
    "- `Education`: Education of the borrower\n",
    "- `EmploymentDurationCurrentEmployer`: Employment time with the current employer\n",
    "- `HomeOwnershipType`: Home ownership type\n",
    "- `IncomeTotal`: Total income\n",
    "- `ExistingLiabilities`: Borrower's number of existing liabilities\n",
    "- `RefinanceLiabilities`:  The total amount of liabilities after refinancing\n",
    "- `Rating`: Bondora Rating issued by the Rating model\n",
    "- `NoOfPreviousLoansBeforeLoan`: Number of previous loans\n",
    "- `AmountOfPreviousLoansBeforeLoan`: Value of previous loans\n",
    "\n",
    "## In order for your submission to be graded correctly, you **MUST**:\n",
    "* **Use the provided variable names**. If you change them, the autograder will not be able to locate the variable for grading. \n",
    "\n",
    "* **Replace any instances of `None` with your own code.** Some may be inside a commented line, so please read the code carefully. You may see parts of a solution already filled in, while others use the placeholder `None` . You will need to replace every instance of `None` by your own solution. \n",
    "\n",
    "* **Only modify the cells that start with the comment `# GRADED CELL`**. All other cells are already set up, and you only need to run them. \n",
    "\n",
    "* **Use the provided cells for your solution.** You can add new cells to experiment, but these will be omitted when grading. Some cells are already completed for you and are not modifiable, which ensures that the grader uses the same variables and settings as you. \n",
    "\n",
    "To submit your solution, save it, then click on the blue submit button at the top of the page.\n",
    "\n",
    "<div style=\"background-color: #FAD888; padding: 10px; border-radius: 3px; box-shadow: 0 2px 4px rgba(0, 0, 0, 0.1); width:95%\">\n",
    "<strong>Important note</strong>: Having all the placeholders for where your code should go will inevitably create errors, so don't try to run the notebook before completing the exercises. You can run the cells as you complete them to see that the code is running and giving the correct results.\n",
    "</div>"
   ]
  },
  {
   "cell_type": "markdown",
   "metadata": {},
   "source": [
    "## Table of Contents\n",
    "- [Step 1: Importing Libraries](#step-1)\n",
    "- [Step 2: Load and Clean the Data](#step-2)\n",
    "    - [Load the data](#load-the-data)\n",
    "    - [Cleaning the Dataset](#cleaning-the-dataset)\n",
    "        - [Exercise 1: Set Index](#ex1)\n",
    "- [Step 3: Retrieving Key Metrics](#step-3)\n",
    "    - [Describing the Dataset](#describing-the-dataset)\n",
    "        - [Exercise 2: Descriptive Statistics](#ex2)\n",
    "    - [High-Risk Customers](#high-risk-customers)\n",
    "        - [Exercise 3: Identifying High-Risk customers](#ex3)\n",
    "- [Step 4: Understanding different customer profiles](#step-4)\n",
    "    - [Visualization of Different Profiles](#visualization-of-different-profiles)\n",
    "        - [Exercise 4: Segmentation Using Box Plots](#ex4)\n",
    "        - [Exercise 5: Scatter Plots and Correlation](#ex5)\n",
    "    - [Applied and Received Amounts](#applied-and-received-amounts)\n",
    "        - [Exercise 6: Confidence Intervals](#ex6)\n",
    "- [Step 5: Modelling the Interest Rate](#step-5)\n",
    "    - [Simple Linear Regression](#categorical-features)\n",
    "        - [Exercise 7: Training the Linear Regression](#ex7)\n",
    "    - [Building a More Complex Linear Regression Model](#building-the-linear-regression-model)\n",
    "        - [Exercise 8: Building and Refining the Model](#ex8)"
   ]
  },
  {
   "cell_type": "markdown",
   "metadata": {},
   "source": [
    "<a id=\"step-1\"></a>\n",
    "\n",
    "## Step 1: Importing libraries\n",
    "\n",
    "Before you start working on the dataset, it is good practice to import all libraries at the beginning of your code. \n",
    "\n",
    "<div style=\"background-color: #C6E2FF; padding: 10px; border-radius: 3px; box-shadow: 0 2px 4px rgba(0, 0, 0, 0.1); width:95%\n",
    "\">\n",
    "\n",
    "**▶▶▶ Directions**     \n",
    "1. Run the cell below to import the following libraries: Pandas, Matplotlib's Pyplot and Seaborn.\n",
    "        \n",
    "</div>"
   ]
  },
  {
   "cell_type": "code",
   "execution_count": 4,
   "metadata": {
    "deletable": false,
    "editable": false,
    "slideshow": {
     "slide_type": ""
    },
    "tags": [
     "graded"
    ]
   },
   "outputs": [],
   "source": [
    "import pandas as pd\n",
    "import matplotlib.pyplot as plt\n",
    "import seaborn as sns\n",
    "import scipy.stats as stats\n",
    "import statsmodels.api as sm\n",
    "from math import sqrt"
   ]
  },
  {
   "cell_type": "markdown",
   "metadata": {
    "editable": true,
    "slideshow": {
     "slide_type": ""
    },
    "tags": []
   },
   "source": [
    "<a id=\"step-2\"></a>\n",
    "\n",
    "## Step 2: Load and Clean the Data\n",
    "\n",
    "<a id=\"load-the-data\"></a>\n",
    "\n",
    "### Load the Data\n",
    "Now that you have imported the right libraries, you can use Pandas to load the data from the CSV. \n",
    "\n",
    "<div style=\"background-color: #C6E2FF; padding: 10px; border-radius: 3px; box-shadow: 0 2px 4px rgba(0, 0, 0, 0.1); width:95%\n",
    "\">\n",
    "\n",
    "**▶▶▶ Directions**\n",
    "        \n",
    "1. Run the cell below to:\n",
    "    1. Import the data\n",
    "    2. Save the DataFrame into a variables named <code>cars</code>\n",
    "    3. View the data using the <code>head()</code> method\n",
    "            \n",
    "        \n",
    "</div>"
   ]
  },
  {
   "cell_type": "code",
   "execution_count": 5,
   "metadata": {
    "deletable": false,
    "editable": false,
    "slideshow": {
     "slide_type": ""
    },
    "tags": [
     "graded"
    ]
   },
   "outputs": [
    {
     "data": {
      "text/html": [
       "<div>\n",
       "<style scoped>\n",
       "    .dataframe tbody tr th:only-of-type {\n",
       "        vertical-align: middle;\n",
       "    }\n",
       "\n",
       "    .dataframe tbody tr th {\n",
       "        vertical-align: top;\n",
       "    }\n",
       "\n",
       "    .dataframe thead th {\n",
       "        text-align: right;\n",
       "    }\n",
       "</style>\n",
       "<table border=\"1\" class=\"dataframe\">\n",
       "  <thead>\n",
       "    <tr style=\"text-align: right;\">\n",
       "      <th></th>\n",
       "      <th>LoanId</th>\n",
       "      <th>NewCreditCustomer</th>\n",
       "      <th>LoanDate</th>\n",
       "      <th>VerificationType</th>\n",
       "      <th>Age</th>\n",
       "      <th>Gender</th>\n",
       "      <th>Country</th>\n",
       "      <th>AppliedAmount</th>\n",
       "      <th>Amount</th>\n",
       "      <th>Interest</th>\n",
       "      <th>...</th>\n",
       "      <th>EmploymentDurationCurrentEmployer</th>\n",
       "      <th>HomeOwnershipType</th>\n",
       "      <th>IncomeTotal</th>\n",
       "      <th>ExistingLiabilities</th>\n",
       "      <th>LiabilitiesTotal</th>\n",
       "      <th>RefinanceLiabilities</th>\n",
       "      <th>Rating</th>\n",
       "      <th>NoOfPreviousLoansBeforeLoan</th>\n",
       "      <th>AmountOfPreviousLoansBeforeLoan</th>\n",
       "      <th>PreviousEarlyRepaymentsCountBeforeLoan</th>\n",
       "    </tr>\n",
       "  </thead>\n",
       "  <tbody>\n",
       "    <tr>\n",
       "      <th>0</th>\n",
       "      <td>D8EBF360-104C-420F-BEC9-000924E6EFC7</td>\n",
       "      <td>False</td>\n",
       "      <td>2022-09-09</td>\n",
       "      <td>By Bank Statement</td>\n",
       "      <td>27</td>\n",
       "      <td>Female</td>\n",
       "      <td>EE</td>\n",
       "      <td>3189.0</td>\n",
       "      <td>3189.0</td>\n",
       "      <td>35.48</td>\n",
       "      <td>...</td>\n",
       "      <td>UpTo5Years</td>\n",
       "      <td>Other</td>\n",
       "      <td>900.0</td>\n",
       "      <td>0</td>\n",
       "      <td>0.00</td>\n",
       "      <td>0</td>\n",
       "      <td>D</td>\n",
       "      <td>1.0</td>\n",
       "      <td>3402.0</td>\n",
       "      <td>0.0</td>\n",
       "    </tr>\n",
       "    <tr>\n",
       "      <th>1</th>\n",
       "      <td>C1A98DDA-5E20-429C-BBFF-0009A05354E0</td>\n",
       "      <td>False</td>\n",
       "      <td>2023-05-19</td>\n",
       "      <td>By Bank Statement</td>\n",
       "      <td>35</td>\n",
       "      <td>Female</td>\n",
       "      <td>FI</td>\n",
       "      <td>4146.0</td>\n",
       "      <td>4146.0</td>\n",
       "      <td>19.86</td>\n",
       "      <td>...</td>\n",
       "      <td>UpTo5Years</td>\n",
       "      <td>Owner</td>\n",
       "      <td>3100.0</td>\n",
       "      <td>0</td>\n",
       "      <td>0.00</td>\n",
       "      <td>0</td>\n",
       "      <td>B</td>\n",
       "      <td>1.0</td>\n",
       "      <td>518.0</td>\n",
       "      <td>0.0</td>\n",
       "    </tr>\n",
       "    <tr>\n",
       "      <th>2</th>\n",
       "      <td>9B0B252E-45B9-4172-8E2D-0014A8F18117</td>\n",
       "      <td>False</td>\n",
       "      <td>2024-02-03</td>\n",
       "      <td>By Bank Statement</td>\n",
       "      <td>23</td>\n",
       "      <td>Male</td>\n",
       "      <td>EE</td>\n",
       "      <td>531.0</td>\n",
       "      <td>531.0</td>\n",
       "      <td>19.52</td>\n",
       "      <td>...</td>\n",
       "      <td>UpTo5Years</td>\n",
       "      <td>TenantFurnished</td>\n",
       "      <td>1700.0</td>\n",
       "      <td>0</td>\n",
       "      <td>0.00</td>\n",
       "      <td>0</td>\n",
       "      <td>B</td>\n",
       "      <td>3.0</td>\n",
       "      <td>1593.0</td>\n",
       "      <td>0.0</td>\n",
       "    </tr>\n",
       "    <tr>\n",
       "      <th>3</th>\n",
       "      <td>66AE108B-532B-4BB3-BAB7-0019A46412C1</td>\n",
       "      <td>False</td>\n",
       "      <td>2016-03-23</td>\n",
       "      <td>By Bank Statement</td>\n",
       "      <td>53</td>\n",
       "      <td>Female</td>\n",
       "      <td>EE</td>\n",
       "      <td>2125.0</td>\n",
       "      <td>2125.0</td>\n",
       "      <td>20.97</td>\n",
       "      <td>...</td>\n",
       "      <td>MoreThan5Years</td>\n",
       "      <td>Owner</td>\n",
       "      <td>354.0</td>\n",
       "      <td>8</td>\n",
       "      <td>485.09</td>\n",
       "      <td>6</td>\n",
       "      <td>C</td>\n",
       "      <td>1.0</td>\n",
       "      <td>500.0</td>\n",
       "      <td>0.0</td>\n",
       "    </tr>\n",
       "    <tr>\n",
       "      <th>4</th>\n",
       "      <td>C7EA512A-465D-4043-A9F2-001B14C3C14E</td>\n",
       "      <td>False</td>\n",
       "      <td>2023-09-26</td>\n",
       "      <td>By Bank Statement</td>\n",
       "      <td>43</td>\n",
       "      <td>Male</td>\n",
       "      <td>FI</td>\n",
       "      <td>414.0</td>\n",
       "      <td>414.0</td>\n",
       "      <td>19.89</td>\n",
       "      <td>...</td>\n",
       "      <td>Other</td>\n",
       "      <td>TenantFurnished</td>\n",
       "      <td>1200.0</td>\n",
       "      <td>0</td>\n",
       "      <td>0.00</td>\n",
       "      <td>0</td>\n",
       "      <td>D</td>\n",
       "      <td>5.0</td>\n",
       "      <td>11198.0</td>\n",
       "      <td>0.0</td>\n",
       "    </tr>\n",
       "  </tbody>\n",
       "</table>\n",
       "<p>5 rows × 22 columns</p>\n",
       "</div>"
      ],
      "text/plain": [
       "                                 LoanId  NewCreditCustomer    LoanDate  \\\n",
       "0  D8EBF360-104C-420F-BEC9-000924E6EFC7              False  2022-09-09   \n",
       "1  C1A98DDA-5E20-429C-BBFF-0009A05354E0              False  2023-05-19   \n",
       "2  9B0B252E-45B9-4172-8E2D-0014A8F18117              False  2024-02-03   \n",
       "3  66AE108B-532B-4BB3-BAB7-0019A46412C1              False  2016-03-23   \n",
       "4  C7EA512A-465D-4043-A9F2-001B14C3C14E              False  2023-09-26   \n",
       "\n",
       "    VerificationType  Age  Gender Country  AppliedAmount  Amount  Interest  \\\n",
       "0  By Bank Statement   27  Female      EE         3189.0  3189.0     35.48   \n",
       "1  By Bank Statement   35  Female      FI         4146.0  4146.0     19.86   \n",
       "2  By Bank Statement   23    Male      EE          531.0   531.0     19.52   \n",
       "3  By Bank Statement   53  Female      EE         2125.0  2125.0     20.97   \n",
       "4  By Bank Statement   43    Male      FI          414.0   414.0     19.89   \n",
       "\n",
       "   ...  EmploymentDurationCurrentEmployer HomeOwnershipType IncomeTotal  \\\n",
       "0  ...                         UpTo5Years             Other       900.0   \n",
       "1  ...                         UpTo5Years             Owner      3100.0   \n",
       "2  ...                         UpTo5Years   TenantFurnished      1700.0   \n",
       "3  ...                     MoreThan5Years             Owner       354.0   \n",
       "4  ...                              Other   TenantFurnished      1200.0   \n",
       "\n",
       "  ExistingLiabilities  LiabilitiesTotal  RefinanceLiabilities  Rating  \\\n",
       "0                   0              0.00                     0       D   \n",
       "1                   0              0.00                     0       B   \n",
       "2                   0              0.00                     0       B   \n",
       "3                   8            485.09                     6       C   \n",
       "4                   0              0.00                     0       D   \n",
       "\n",
       "   NoOfPreviousLoansBeforeLoan AmountOfPreviousLoansBeforeLoan  \\\n",
       "0                          1.0                          3402.0   \n",
       "1                          1.0                           518.0   \n",
       "2                          3.0                          1593.0   \n",
       "3                          1.0                           500.0   \n",
       "4                          5.0                         11198.0   \n",
       "\n",
       "   PreviousEarlyRepaymentsCountBeforeLoan  \n",
       "0                                     0.0  \n",
       "1                                     0.0  \n",
       "2                                     0.0  \n",
       "3                                     0.0  \n",
       "4                                     0.0  \n",
       "\n",
       "[5 rows x 22 columns]"
      ]
     },
     "execution_count": 5,
     "metadata": {},
     "output_type": "execute_result"
    }
   ],
   "source": [
    "# 🔒This cell is locked. You will not be able to edit it.\n",
    "# load the data\n",
    "df = pd.read_csv(\"data/LoanData.csv\")\n",
    "df.head()"
   ]
  },
  {
   "cell_type": "markdown",
   "metadata": {},
   "source": [
    "<a id=\"cleaning-the-dataset\"></a>\n",
    "\n",
    "### Cleaning the Dataset\n",
    "\n",
    "Before starting your analysis, take some time to familiarize yourself with the dataset to understand the available information. This is also a good opportunity to clean the data by removing missing values and adjusting the index.\n",
    "\n",
    "<a id=\"ex1\"></a>\n",
    "\n",
    "#### Exercise 1: Set the Index\n",
    "\n",
    "Explore the dataset to find the number of rows, columns, and data types of each feature. Identify any missing values.\n",
    "\n",
    "<div style=\"background-color: #C6E2FF; padding: 10px; border-radius: 3px; box-shadow: 0 2px 4px rgba(0, 0, 0, 0.1); width:95%\n",
    "\">\n",
    "\n",
    "**▶▶▶ Directions**\n",
    "1. Since the loan ID is unique identifier for each loan, set the `\"LoanId\"` column as the index\n",
    "\n",
    "</div>"
   ]
  },
  {
   "cell_type": "markdown",
   "metadata": {},
   "source": [
    "<details>\n",
    "<summary style=\"background-color: #FDBFC7; padding: 10px; border-radius: 3px; box-shadow: 0 2px 4px rgba(0, 0, 0, 0.1); width: 95%; text-align: left; cursor: pointer; font-weight: bold;\">\n",
    "If you are stuck, click here for extra hints!</summary> \n",
    "\n",
    "<ul style=\"background-color: #FFF8F8; padding: 10px; border-radius: 3px; margin-top: 5px; width: 95%; box-shadow: inset 0 2px 4px rgba(0, 0, 0, 0.1);\">\n",
    "- To set the index to one of the columns in the DataFrame, you can use the `set_index()` method. Again, remember to set `inplace=True`.\n",
    "</ul>\n",
    "</details>\n"
   ]
  },
  {
   "cell_type": "code",
   "execution_count": 6,
   "metadata": {
    "deletable": false,
    "tags": [
     "graded"
    ]
   },
   "outputs": [],
   "source": [
    "# GRADED CELL: exercise 1\n",
    "\n",
    "### START CODE HERE ###\n",
    "\n",
    "# set the \"LoanId\" column as index\n",
    "df.set_index([\"LoanId\"], inplace=True)\n",
    "\n",
    "### END CODE HERE ###"
   ]
  },
  {
   "cell_type": "code",
   "execution_count": 7,
   "metadata": {},
   "outputs": [
    {
     "data": {
      "text/plain": [
       "'LoanId'"
      ]
     },
     "execution_count": 7,
     "metadata": {},
     "output_type": "execute_result"
    }
   ],
   "source": [
    "# 🔒This cell is locked. You will not be able to edit it.\n",
    "# check the index is correct\n",
    "df.index.name"
   ]
  },
  {
   "cell_type": "markdown",
   "metadata": {},
   "source": [
    "<details>\n",
    "<summary style=\"background-color: #c6e2ff6c; padding: 10px; border-radius: 3px; box-shadow: 0 2px 4px rgba(0, 0, 0, 0.01); width: 95%; text-align: left; cursor: pointer; font-weight: bold;\">\n",
    "Expected output:</summary> \n",
    "<br>\n",
    "<span style=\"font-size: 11px;\">\n",
    "\n",
    "```mkdn\n",
    "'LoanId'\n",
    "```\n",
    "</span>\n",
    "</details>\n"
   ]
  },
  {
   "cell_type": "markdown",
   "metadata": {},
   "source": [
    "<a id=\"step-3\"></a>\n",
    "\n",
    "## Step 3: Retrieving key metrics\n",
    "To recommend loan offers, take a moment to understand the loan amounts and ratings. You’ll also want to get a rough idea of the interest rates being paid.\n",
    "\n",
    "<a id=\"describing-the-dataset\"></a>\n",
    "\n",
    "### Describing the dataset \n",
    "\n",
    "<a id=\"ex2\"></a>\n",
    "\n",
    "#### Exercise 2: descriptive statistics\n",
    "\n",
    "\n",
    "<div style=\"background-color: #C6E2FF; padding: 10px; border-radius: 3px; box-shadow: 0 2px 4px rgba(0, 0, 0, 0.1); width:95%\n",
    "\">\n",
    "\n",
    "**▶▶▶ Directions**\n",
    "        \n",
    "1. Find the sample mean and standard deviation for `\"Interest\"`\n",
    "2. Find the number of times borrowers got a lower amount than they applied for\n",
    "3. Use `.value_counts()` to explore the proportion of each rating in the dataset       \n",
    "\n",
    "</div>\n",
    "\n"
   ]
  },
  {
   "cell_type": "markdown",
   "metadata": {},
   "source": [
    "<details>\n",
    "<summary style=\"background-color: #FDBFC7; padding: 10px; border-radius: 3px; box-shadow: 0 2px 4px rgba(0, 0, 0, 0.1); width: 95%; text-align: left; cursor: pointer; font-weight: bold;\">\n",
    "If you are stuck, click here for extra hints!</summary> \n",
    "\n",
    "<ul style=\"background-color: #FFF8F8; padding: 10px; border-radius: 3px; margin-top: 5px; width: 95%; box-shadow: inset 0 2px 4px rgba(0, 0, 0, 0.1);\">\n",
    "   \n",
    "- To get the sample mean and standard deviation you can use the `mean()` and `std()` methods\n",
    "- To find the number of borrowers who received a smaller amount than requested you need to compare the `\"Amount\"` and `AppliedAmount` columns, and then sum the boolean results.\n",
    "- You can find the proportion using the `value_counts()` method, and divide the results by the total number of samples \n",
    "</details>"
   ]
  },
  {
   "cell_type": "code",
   "execution_count": 8,
   "metadata": {},
   "outputs": [
    {
     "name": "stdout",
     "output_type": "stream",
     "text": [
      "<class 'pandas.core.frame.DataFrame'>\n",
      "Index: 383382 entries, D8EBF360-104C-420F-BEC9-000924E6EFC7 to 2d97edb2-dda3-4454-b736-daaf303e7feb\n",
      "Data columns (total 21 columns):\n",
      " #   Column                                  Non-Null Count   Dtype  \n",
      "---  ------                                  --------------   -----  \n",
      " 0   NewCreditCustomer                       383382 non-null  bool   \n",
      " 1   LoanDate                                383382 non-null  object \n",
      " 2   VerificationType                        383382 non-null  object \n",
      " 3   Age                                     383382 non-null  int64  \n",
      " 4   Gender                                  383382 non-null  object \n",
      " 5   Country                                 383382 non-null  object \n",
      " 6   AppliedAmount                           383382 non-null  float64\n",
      " 7   Amount                                  383382 non-null  float64\n",
      " 8   Interest                                383382 non-null  float64\n",
      " 9   LoanDuration                            383382 non-null  int64  \n",
      " 10  Education                               383382 non-null  object \n",
      " 11  EmploymentDurationCurrentEmployer       383382 non-null  object \n",
      " 12  HomeOwnershipType                       383382 non-null  object \n",
      " 13  IncomeTotal                             383382 non-null  float64\n",
      " 14  ExistingLiabilities                     383382 non-null  int64  \n",
      " 15  LiabilitiesTotal                        383382 non-null  float64\n",
      " 16  RefinanceLiabilities                    383382 non-null  int64  \n",
      " 17  Rating                                  383382 non-null  object \n",
      " 18  NoOfPreviousLoansBeforeLoan             383382 non-null  float64\n",
      " 19  AmountOfPreviousLoansBeforeLoan         383382 non-null  float64\n",
      " 20  PreviousEarlyRepaymentsCountBeforeLoan  383382 non-null  float64\n",
      "dtypes: bool(1), float64(8), int64(4), object(8)\n",
      "memory usage: 61.8+ MB\n"
     ]
    }
   ],
   "source": [
    "df.info()"
   ]
  },
  {
   "cell_type": "code",
   "execution_count": 9,
   "metadata": {},
   "outputs": [
    {
     "data": {
      "text/plain": [
       "LoanId\n",
       "D8EBF360-104C-420F-BEC9-000924E6EFC7    D\n",
       "C1A98DDA-5E20-429C-BBFF-0009A05354E0    B\n",
       "9B0B252E-45B9-4172-8E2D-0014A8F18117    B\n",
       "66AE108B-532B-4BB3-BAB7-0019A46412C1    C\n",
       "C7EA512A-465D-4043-A9F2-001B14C3C14E    D\n",
       "                                       ..\n",
       "47a1fe49-575a-4b00-aa06-b1d400db7ccc    B\n",
       "32db2947-840f-4300-9d1b-b1d400dccc23    D\n",
       "7c9aaeba-8168-4bec-a186-b1d400de2b3c    B\n",
       "32985dab-c577-43fd-a18d-b1d400de6091    A\n",
       "2d97edb2-dda3-4454-b736-daaf303e7feb    C\n",
       "Name: Rating, Length: 383382, dtype: object"
      ]
     },
     "execution_count": 9,
     "metadata": {},
     "output_type": "execute_result"
    }
   ],
   "source": [
    "df.Rating"
   ]
  },
  {
   "cell_type": "code",
   "execution_count": 10,
   "metadata": {
    "deletable": false,
    "tags": [
     "graded"
    ]
   },
   "outputs": [],
   "source": [
    "# GRADED CELL: Exercise 2\n",
    "\n",
    "### START CODE HERE ###\n",
    "\n",
    "# find the sample mean and std of the \"Interest\" column\n",
    "interest_mean = df[\"Interest\"].mean()\n",
    "interest_std = df[\"Interest\"].std()\n",
    "\n",
    "# find the number of borrowers that received a smaller \"Amount\" than they asked for (\"AppliedAmount\")\n",
    "\n",
    "num_less_amount = sum(df['Amount'] < df['AppliedAmount'])\n",
    "\n",
    "# find the proportion of loan ratings\n",
    "rating_proportion = df['Rating'].value_counts(normalize=True)\n",
    "\n",
    "\n",
    "### END CODE HERE ###"
   ]
  },
  {
   "cell_type": "code",
   "execution_count": 11,
   "metadata": {
    "deletable": false,
    "editable": false
   },
   "outputs": [
    {
     "name": "stdout",
     "output_type": "stream",
     "text": [
      "Interest rate mean: 27.29\n",
      "Interest rate standard deviation: 18.03\n",
      "Number of borrowers that received less money than they asked for: 10543\n",
      "Proportion of loan ratings:\n",
      " Rating\n",
      "A     0.043291\n",
      "AA    0.024826\n",
      "B     0.179124\n",
      "C     0.317741\n",
      "D     0.206457\n",
      "E     0.115707\n",
      "F     0.074443\n",
      "HR    0.038411\n",
      "Name: proportion, dtype: float64\n"
     ]
    }
   ],
   "source": [
    "# 🔒This cell is locked. You will not be able to edit it.\n",
    "# print the results\n",
    "print(\"Interest rate mean:\", round(interest_mean, 2))\n",
    "print(\"Interest rate standard deviation:\", round(interest_std,2))\n",
    "print(\"Number of borrowers that received less money than they asked for:\", num_less_amount)\n",
    "print(\"Proportion of loan ratings:\\n\", rating_proportion.sort_index())"
   ]
  },
  {
   "cell_type": "markdown",
   "metadata": {},
   "source": [
    "<details>\n",
    "<summary style=\"background-color: #c6e2ff6c; padding: 10px; border-radius: 3px; box-shadow: 0 2px 4px rgba(0, 0, 0, 0.01); width: 95%; text-align: left; cursor: pointer; font-weight: bold;\">\n",
    "Expected output:</summary> \n",
    "\n",
    "\n",
    "<br>\n",
    "<small>\n",
    "\n",
    "```mkdn\n",
    "Interest rate mean: 27.29\n",
    "Interest rate standard deviation: 18.03\n",
    "Number of borrowers that received less money than they asked for: 10543\n",
    "Proportion of loan ratings:\n",
    " Rating\n",
    "A     0.043291\n",
    "AA    0.024826\n",
    "B     0.179124\n",
    "C     0.317741\n",
    "D     0.206457\n",
    "E     0.115707\n",
    "F     0.074443\n",
    "HR    0.038411\n",
    "Name: count, dtype: float64\n",
    "```\n",
    "</small>\n",
    "</details>"
   ]
  },
  {
   "cell_type": "markdown",
   "metadata": {},
   "source": [
    "<a id=\"high-risk-customers\"></a>\n",
    "\n",
    "### High-Risk Customers\n",
    "\n",
    "Customers with a high debt-to-income ratio and less job stability may have more difficulty repaying loans, making them riskier.\n",
    "\n",
    "<a id=\"ex3\"></a>\n",
    "\n",
    "#### Exercise 3: Identifying High-Risk Customers\n",
    "You want to identify these customers and be able to add a flag to their loans. You consider borrowers to have less job stability if they have been on the current job for less than 1 year (including those in the trial period). In this scenario, a loan-to-rate ratio above 0.35 is considered risky.\n",
    "\n",
    "<div style=\"background-color: #C6E2FF; padding: 10px; border-radius: 3px; box-shadow: 0 2px 4px rgba(0, 0, 0, 0.1); width:95%\n",
    "\">\n",
    "\n",
    "**▶▶▶ Directions**\n",
    "        \n",
    "1. Add a column named `\"DebtToIncome\"` with the ratio between \"Amount\" and \"IncomeTotal\"\n",
    "2. Create a new column called `\"IsRisky\"`, which is `True` if the loan is risky, and `False` otherwise\n",
    "    * To assess wether a loan is risky Check if the borrower has a `\"DebtToIncome\"` **greater than or equal** to 0.35, **and** the employment duration is \"TrialPeriod\" or  \"UpTo1Year\"\n",
    "3. Find the proportion of risky loans\n",
    "4. Find the mean interest rate for risky loans\n",
    "5. Find the mean interest rate for non-risky loans"
   ]
  },
  {
   "cell_type": "markdown",
   "metadata": {},
   "source": [
    "<details>\n",
    "<summary style=\"background-color: #FDBFC7; padding: 10px; border-radius: 3px; box-shadow: 0 2px 4px rgba(0, 0, 0, 0.1); width: 95%; text-align: left; cursor: pointer; font-weight: bold;\">\n",
    "If you are stuck, click here for extra hints!</summary> \n",
    "\n",
    "<ul style=\"background-color: #FFF8F8; padding: 10px; border-radius: 3px; margin-top: 5px; width: 95%; box-shadow: inset 0 2px 4px rgba(0, 0, 0, 0.1);\">\n",
    "   \n",
    "- To fill the new \"IsRisky\" column, you need to check which rows have `df[\"DebtToIncome\"] >= 0.35` **and** `df[\"EmploymentDurationCurrentEmployer\"].isin([\"TrialPeriod\", \"UpTo1Year\"])`. The \"IsRisky\" column should have value `True` if the two conditions are met, `False` otherwise\n",
    "- When checking the two conditions, remember to use parentheses appropriately.\n",
    "- Remember the proportion of risky loans is the ratio between the risky loans and the total number of loans in the dataset. \n",
    "- You can get the number of risky loans by summing the values in the \"IsRisky\" column. Remember that `True` counts as a 1, and\n",
    "- To get the mean interest rate of risky loans, first pick only the rows where \"IsRisky\" is `True`. Then look at the \"Interest\" column and use `.mean()` to find the average interest rate.\n",
    "- Similarly, you can filter the non-risky loans by checking if \"IsRisky\" is `False`.\n",
    "</details>"
   ]
  },
  {
   "cell_type": "code",
   "execution_count": 12,
   "metadata": {
    "deletable": false,
    "tags": [
     "graded"
    ]
   },
   "outputs": [],
   "source": [
    "# GRADED CELL: exercise 3\n",
    "\n",
    "### START CODE HERE ###\n",
    "\n",
    "# create the column \"DebtToIncome\" \n",
    "df[\"DebtToIncome\"] = df[\"Amount\"] / df[\"IncomeTotal\"]\n",
    "\n",
    "# create a new column \"IsRisky\" that is True if the loan is risky\n",
    "df[\"IsRisky\"] = (df[\"DebtToIncome\"] >= 0.35) & (df[\"EmploymentDurationCurrentEmployer\"].isin([\"TrialPeriod\", \"UpTo1Year\"]))\n",
    "\n",
    "# calculate the proportion of risky loans\n",
    "risky_loans_count = df[\"IsRisky\"].sum()  # Count the number of risky loans (True values)\n",
    "total_loans_count = len(df)  # Total number of loans\n",
    "risky_proportion = risky_loans_count / total_loans_count  # Proportion of risky loans\n",
    "\n",
    "# calculate the mean interest rate of the risky loans\n",
    "mean_interest_risky = df[df[\"IsRisky\"]][\"Interest\"].mean()\n",
    "\n",
    "# calculate the mean interest rate of the non-risky loans\n",
    "mean_interest_non_risky = df[~df[\"IsRisky\"]][\"Interest\"].mean()\n",
    "\n",
    "### END CODE HERE ###"
   ]
  },
  {
   "cell_type": "code",
   "execution_count": 13,
   "metadata": {
    "deletable": false,
    "editable": false
   },
   "outputs": [
    {
     "name": "stdout",
     "output_type": "stream",
     "text": [
      "Risky loans proportion: 0.1588\n",
      "Mean interest rate of risky loans: 28.8592\n",
      "Mean interest rate of non-risky loans: 26.9899\n"
     ]
    }
   ],
   "source": [
    "# 🔒This cell is locked. You will not be able to edit it.\n",
    "# print the results\n",
    "print(\"Risky loans proportion:\", round(risky_proportion, 4))\n",
    "print(\"Mean interest rate of risky loans:\", round(mean_interest_risky, 4))\n",
    "print(\"Mean interest rate of non-risky loans:\", round(mean_interest_non_risky, 4))"
   ]
  },
  {
   "cell_type": "markdown",
   "metadata": {},
   "source": [
    "<details>\n",
    "<summary style=\"background-color: #c6e2ff6c; padding: 10px; border-radius: 3px; box-shadow: 0 2px 4px rgba(0, 0, 0, 0.01); width: 95%; text-align: left; cursor: pointer; font-weight: bold;\">\n",
    "Expected output:</summary> \n",
    "\n",
    "\n",
    "<br>\n",
    "<small>\n",
    "\n",
    "```mkdn\n",
    "Risky loans proportion: 0.1588\n",
    "Mean interest rate of risky loans: 28.8592\n",
    "Mean interest rate of non-risky loans: 26.9899\n",
    "```\n",
    "</small>\n",
    "</details>"
   ]
  },
  {
   "cell_type": "markdown",
   "metadata": {},
   "source": [
    "**Reflect:** Compare the interest rate for risky loans with that of the non-risky ones, and the interest rate of the total dataset. Does it seem to reflect a riskier nature?\n",
    "\n",
    "<a id=\"step-4\"></a>\n",
    "\n",
    "## Step 4: Understanding different customer profiles\n",
    "\n",
    "As a fintech analyst, understanding customer profiles allows you to identify patterns. You want to understand how different factors of the borrowers influence loan applications. \n",
    "\n",
    "<a id=\"visualization-of-different-profiles\"></a>\n",
    "\n",
    "### Visualization of different profiles\n",
    "\n",
    "To help you identify the different profiles, you decide to use your visualization skills to uncover actionable patterns for tailoring loan offers.\n",
    "\n",
    "<a id=\"ex4\"></a>\n",
    "#### Exercise 4: Segmentation using box plots\n",
    "<div style=\"background-color: #C6E2FF; padding: 10px; border-radius: 3px; box-shadow: 0 2px 4px rgba(0, 0, 0, 0.1); width:95%\n",
    "\">\n",
    "\n",
    "**▶▶▶ Directions**\n",
    "1. Create a figure with size (10, 6)\n",
    "2. Use that figure to create a horizontal box plot of the \"Interest\" for each category in \"Education\". The interest rates should be on the x-axis, and education level on the y-axis\n",
    "3. Improve the chart\n",
    "    1. Set the x-axis label to \"Interest Rate\"\n",
    "    2. Use  the \"colorblind\" color palette\n",
    "    3. Set the title to \"Interest Rate by Education Level\"\n",
    "    4. Despine the chart by removing the top and right borders\n",
    "</div>\n",
    "\n"
   ]
  },
  {
   "cell_type": "markdown",
   "metadata": {},
   "source": [
    "<details>\n",
    "<summary style=\"background-color: #FDBFC7; padding: 10px; border-radius: 3px; box-shadow: 0 2px 4px rgba(0, 0, 0, 0.1); width: 95%; text-align: left; cursor: pointer; font-weight: bold;\">\n",
    "If you are stuck, click here for extra hints!</summary> \n",
    "\n",
    "<ul style=\"background-color: #FFF8F8; padding: 10px; border-radius: 3px; margin-top: 5px; width: 95%; box-shadow: inset 0 2px 4px rgba(0, 0, 0, 0.1);\">\n",
    "\n",
    "- To create the box plot with all the desired features, like the custom color palette, you will need to create the chart using the Seaborn library\n",
    "- You should use the `sns.boxplot()` function. In order to complete all the required steps, you need to set the arguments `data`, `x`, `y`, `hue` and `palette`. `hue` should be the same value as `y`\n",
    "- For the x-axis label and the title you can use the `plt.xlabel()` and `plt.title()` functions respectively\n",
    "- To despine the chart, you can use the `sns.despine()` function. You will then need to set the borders you want to remove to True. For example, to remove the left border it would look like `sns.despine(left=True)`\n",
    "</ul>\n",
    "</details>"
   ]
  },
  {
   "cell_type": "code",
   "execution_count": 16,
   "metadata": {
    "deletable": false,
    "tags": [
     "graded"
    ]
   },
   "outputs": [
    {
     "data": {
      "image/png": "[encoded data removed]",
      "text/plain": [
       "<Figure size 1000x600 with 1 Axes>"
      ]
     },
     "metadata": {},
     "output_type": "display_data"
    }
   ],
   "source": [
    "# GRADED CELL: Exercise 4\n",
    "\n",
    "### START CODE HERE ###\n",
    "\n",
    "# create the figure with size (10,6)\n",
    "plt.figure(figsize=(10,6))\n",
    "\n",
    "# create the interest rate by segmentation plot\n",
    "boxplot_ax = sns.boxplot(df, x=\"Interest\", y=\"Education\")\n",
    "\n",
    "# set the x-axis label\n",
    "plt.xlabel(\"Interest Rate\")\n",
    "\n",
    "# set the title\n",
    "plt.title(\"Interest Rate by Education Level\")\n",
    "\n",
    "# despine the plot\n",
    "sns.despine(top=True, right=True) \n",
    "\n",
    "### END CODE HERE ###\n",
    "\n",
    "plt.tight_layout()\n",
    "plt.show()"
   ]
  },
  {
   "cell_type": "markdown",
   "metadata": {},
   "source": [
    "<details>\n",
    "<summary style=\"background-color: #c6e2ff6c; padding: 10px; border-radius: 3px; box-shadow: 0 2px 4px rgba(0, 0, 0, 0.01); width: 95%; text-align: left; cursor: pointer; font-weight: bold;\">\n",
    "Expected output:</summary> \n",
    "\n",
    "<img src=\"imgs/boxplots.png\" width=\"650\">\n",
    "\n",
    "</details>"
   ]
  },
  {
   "cell_type": "markdown",
   "metadata": {},
   "source": [
    "<a id=\"ex5\"></a>\n",
    "\n",
    "#### Exercise 5: Scatter plots and correlation\n",
    "You also want to investigate the relationship between certain numerical features and the interest rate. For that, you decide to use scatter plots, along with the correlation between features.\n",
    "\n",
    "<div style=\"background-color: #C6E2FF; padding: 10px; border-radius: 3px; box-shadow: 0 2px 4px rgba(0, 0, 0, 0.1); width:95%\n",
    "\">\n",
    "\n",
    "**▶▶▶ Directions**\n",
    "        \n",
    "1. Create a list named `corr_columns` with the columns you want to use for segmentation: \"LoanDuration\", \"IncomeTotal\", \"AmountOfPreviousLoansBeforeLoan\", and \"DebtToIncome\"\n",
    "2. Create a `for` loop to iterate over the indexes for each subplot you want to create. Remember that subplots start counting at 1.\n",
    "3. In each iteration:\n",
    "    1. Create a new `subplot`, it should have 2 rows and 2 columns\n",
    "    2. Create a scatter plot between the current `corr_columns` value and `Interest`. You want `Interest` in the y-axis\n",
    "    3. Calculate the correlation between the current feature and `Interest`\n",
    "    4. Add it to the `correlation` list\n",
    "4.  Set the suptitle of the figure to \"Correlation between Interest Rate and Loan Duration, Total Income, Amount Of Previous Loans Before Loan, and Debt To Income\"\n",
    "</div>"
   ]
  },
  {
   "cell_type": "markdown",
   "metadata": {},
   "source": [
    "<details>\n",
    "<summary style=\"background-color: #FDBFC7; padding: 10px; border-radius: 3px; box-shadow: 0 2px 4px rgba(0, 0, 0, 0.1); width: 95%; text-align: left; cursor: pointer; font-weight: bold;\">\n",
    "If you are stuck, click here for extra hints!</summary> \n",
    "\n",
    "<ul style=\"background-color: #FFF8F8; padding: 10px; border-radius: 3px; margin-top: 5px; width: 95%; box-shadow: inset 0 2px 4px rgba(0, 0, 0, 0.1);\">\n",
    "   \n",
    "- To create a new subplot, you should use the `plt.subplot()` function. Remember to pass the number of rows, number of columns, and the number of plot you are creating. Remember that the plots start counting at 1.\n",
    "- To create the scatter plot in each iteration you should use the `sns.scatterplot()` function. In order to complete all the required steps, you need to set the arguments `data`, `x`, `y`, `hue` and `ax`. In this case, both `hue` and `y` need to be assigned the same column name\n",
    "- To find the correlation between variables you can use the `.corr()` method.\n",
    "- To add a general title to the figure, you can use the `plt.suptitle()` function. \n",
    "\n",
    "</ul>\n",
    "</details>"
   ]
  },
  {
   "cell_type": "code",
   "execution_count": 15,
   "metadata": {
    "deletable": false,
    "tags": [
     "graded"
    ]
   },
   "outputs": [
    {
     "ename": "SyntaxError",
     "evalue": "invalid syntax (1006076143.py, line 31)",
     "output_type": "error",
     "traceback": [
      "\u001b[1;36m  Cell \u001b[1;32mIn[15], line 31\u001b[1;36m\u001b[0m\n\u001b[1;33m    correlation.None(None)\u001b[0m\n\u001b[1;37m                ^\u001b[0m\n\u001b[1;31mSyntaxError\u001b[0m\u001b[1;31m:\u001b[0m invalid syntax\n"
     ]
    }
   ],
   "source": [
    "# GRADED CELL: Exercise 5\n",
    "\n",
    "scatterplot_fig = plt.figure(figsize=(12, 8))\n",
    "\n",
    "# create a list to store the correlation values\n",
    "correlation = []\n",
    "\n",
    "# create a list of segmentation columns\n",
    "corr_columns = [\"LoanDuration\", \"IncomeTotal\", \"AmountOfPreviousLoansBeforeLoan\", \n",
    "               \"DebtToIncome\"]\n",
    "\n",
    "### START CODE HERE ###\n",
    "\n",
    "# iterate over the values 1-4 (one for each subplot)\n",
    "for i in None:\n",
    "\n",
    "    # get the column name. Remember subtract 1 from i to match the list's indexing\n",
    "    column_name = None\n",
    "\n",
    "    # create the subplot. Remember the arguments are (rows, columns, index)\n",
    "    None\n",
    "\n",
    "    # create scatter plot\n",
    "    None(None, None, None,\n",
    "                            )\n",
    "\n",
    "    # calculate the correlation between the column and the interest rate\n",
    "    corr = None\n",
    "\n",
    "    # append the correlation value to the list\n",
    "    correlation.None(None)\n",
    "\n",
    "    # print the results\n",
    "    print(\"Correlation between Interest Rate and \" + column_name+ \":\\n\"+ str(round(corr,4))) \n",
    "\n",
    "# set the general title\n",
    "None\n",
    "\n",
    "### END CODE HERE ###\n",
    "\n",
    "plt.tight_layout()\n",
    "plt.show()"
   ]
  },
  {
   "cell_type": "markdown",
   "metadata": {},
   "source": [
    "<details>\n",
    "<summary style=\"background-color: #c6e2ff6c; padding: 10px; border-radius: 3px; box-shadow: 0 2px 4px rgba(0, 0, 0, 0.01); width: 95%; text-align: left; cursor: pointer; font-weight: bold;\">\n",
    "Expected output:</summary> \n",
    "\n",
    "<img src=\"imgs/scatter.png\" width=\"650\">\n",
    "\n",
    "</details>"
   ]
  },
  {
   "cell_type": "markdown",
   "metadata": {},
   "source": [
    "What can you say about these different features? Which ones do you think have a greater impact on the interest rate?\n",
    "\n",
    "<a id=\"applied-and-received-amounts\"></a>\n",
    "\n",
    "### Applied and Received Amounts\n",
    "You noticed that there are two similar columns, \"AppliedAmount\" and \"Amount\", in the dataset. This implies that sometimes borrowers get loaned a different amount than what they asked for. \n",
    "\n",
    "<a id=\"ex6\"></a>\n",
    "\n",
    "#### Exercise 6: Confidence Intervals\n",
    "\n",
    "If more than 5% of loans are approved for less than requested, the team may need to revise how loan amounts are communicated to applicants. Estimate this proportion using a confidence interval to support your recommendation.\n",
    "\n",
    "<div style=\"background-color: #C6E2FF; padding: 10px; border-radius: 3px; box-shadow: 0 2px 4px rgba(0, 0, 0, 0.1); width:95%\n",
    "\">\n",
    "\n",
    "**▶▶▶ Directions**\n",
    "        \n",
    "1. Calculate the sample proportion of loans where the approved \"Amount\" is less than \"AppliedAmount\".\n",
    "2. Find the margin of error for the 95% confidence interval. Recall that for proportions the mean is given by $\\hat{p}$, and the standard error follows this equation: $\\sqrt{\\frac{\\hat p (1-\\hat p)}{n}}$.\n",
    "\n",
    "    When using the `stats.norm.interval()` function for proportions the argument `loc` is the sample proportion, while `scale` is the standard error for proportions\n",
    "3. Calculate the 95% confidence interval using the `stats` library.\n",
    "</div>\n",
    "\n"
   ]
  },
  {
   "cell_type": "markdown",
   "metadata": {},
   "source": [
    "<details>\n",
    "<summary style=\"background-color: #FDBFC7; padding: 10px; border-radius: 3px; box-shadow: 0 2px 4px rgba(0, 0, 0, 0.1); width: 95%; text-align: left; cursor: pointer; font-weight: bold;\">\n",
    "If you are stuck, click here for extra hints!</summary> \n",
    "\n",
    "<ul style=\"background-color: #FFF8F8; padding: 10px; border-radius: 3px; margin-top: 5px; width: 95%; box-shadow: inset 0 2px 4px rgba(0, 0, 0, 0.1);\">\n",
    "   \n",
    "- To find the number of loans where the approved amount is less than the requested, compare the \"Amount\" and \"AppliedAmount\" columns, then sum the resulting boolean Series. This can be done in a single line of code.\n",
    "- To find the confidence interval, you can use the `stats.norm.interval`function. Remember you need too pass the arguments:\n",
    "    - confidence level (as a number between 0 and 1 )\n",
    "    - `loc`: sample proportion\n",
    "    - `scale`: standard error \n",
    "- To find the square root of a number you can use the `math.sqrt()` function.\n",
    "\n",
    "</ul>\n",
    "</details>"
   ]
  },
  {
   "cell_type": "code",
   "execution_count": null,
   "metadata": {
    "deletable": false,
    "tags": [
     "graded"
    ]
   },
   "outputs": [],
   "source": [
    "# GRADED CELL: Exercise 6\n",
    "\n",
    "### START CODE HERE ###\n",
    "\n",
    "# get the number of samples where \"AppliedAmount\" differs from the requested\n",
    "# \"Amount\"\n",
    "num_differences = (None < None).None()\n",
    "\n",
    "# get the total number of samples\n",
    "n = None\n",
    "\n",
    "# calculate the sample proportion\n",
    "phat = None\n",
    "\n",
    "# calculate the standard error for proportions\n",
    "se = None\n",
    "\n",
    "# build the confidence interval\n",
    "confidence_interval = None\n",
    "\n",
    "### END CODE HERE ###"
   ]
  },
  {
   "cell_type": "code",
   "execution_count": null,
   "metadata": {
    "deletable": false,
    "editable": false
   },
   "outputs": [],
   "source": [
    "# 🔒This cell is locked. You will not be able to edit it.\n",
    "# print the results\n",
    "print(\"The 95% confidence interval is\", confidence_interval)"
   ]
  },
  {
   "cell_type": "markdown",
   "metadata": {},
   "source": [
    "<details>\n",
    "<summary style=\"background-color: #c6e2ff6c; padding: 10px; border-radius: 3px; box-shadow: 0 2px 4px rgba(0, 0, 0, 0.01); width: 95%; text-align: left; cursor: pointer; font-weight: bold;\">\n",
    "Expected output:</summary> \n",
    "\n",
    "\n",
    "<br>\n",
    "<small>\n",
    "\n",
    "```mkdn\n",
    "The 95% confidence interval is (0.02698232853687249, 0.028017645379482474)\n",
    "```\n",
    "</small>\n",
    "</details>"
   ]
  },
  {
   "cell_type": "markdown",
   "metadata": {},
   "source": [
    "The proportion of loans where the requested amount differs from the given amount is pretty small, so it should be safe to only analyze one of those columns.\n",
    "\n",
    "<a id=\"step-5\"></a>\n",
    "\n",
    "## Step 5: Modelling the Interest Rate\n",
    "To make personalized loan offers, you decide to go one step further in your analysis and build a model to predict interest rates using different customer features. This will help you both be able to predict interest rates for new customers, and observe which features are actually statistically significant in determining the interest rates. \n",
    "\n",
    "<a id=\"categorical-features\"></a>\n",
    "\n",
    "### Simple Linear Regression\n",
    "\n",
    "To get your first model going you begin creating a simple linear regression. Based on the correlation analysis you did before, a good candidate for the independent variable is \"AmountOfPreviousLoansBeforeLoan\", which presented the strongest correlation with the target variable `\"Interest\"`. \n",
    "\n",
    "<a id=\"ex7\"></a>\n",
    "\n",
    "#### Exercise 7: Training the Linear Regression\n",
    "\n",
    "<div style=\"background-color: #C6E2FF; padding: 10px; border-radius: 3px; box-shadow: 0 2px 4px rgba(0, 0, 0, 0.1); width:95%\n",
    "\">\n",
    "\n",
    "**▶▶▶ Directions**\n",
    "        \n",
    "1. Create the $X$ variable of predictors with the \"AmountOfPreviousLoansBeforeLoan\" variable. Don't forget to add the constant column\n",
    "2. Define the $Y$ variable, the dependent variable `\"Interest`\n",
    "3. Create and fit the linear regression model\n",
    "4. Print the model summary, and analyze the results\n",
    "</div>\n"
   ]
  },
  {
   "cell_type": "markdown",
   "metadata": {},
   "source": [
    "<details>\n",
    "<summary style=\"background-color: #FDBFC7; padding: 10px; border-radius: 3px; box-shadow: 0 2px 4px rgba(0, 0, 0, 0.1); width: 95%; text-align: left; cursor: pointer; font-weight: bold;\">\n",
    "If you are stuck, click here for extra hints!</summary> \n",
    "\n",
    "<ul style=\"background-color: #FFF8F8; padding: 10px; border-radius: 3px; margin-top: 5px; width: 95%; box-shadow: inset 0 2px 4px rgba(0, 0, 0, 0.1);\">\n",
    "   \n",
    "- To prepare the predictors you can select the desired column from the DataFrame, and the use the `sm.add_constant()` function. This function adds a column filled with 1s for the constant term\n",
    "- To build the model, you can use the `sm.OLS()` model. You need to pass the regressors, and the dependent variable as arguments.\n",
    "- To fit the model, call the `fit()` method\n",
    "- The method `summary()` return the summary of your trained model\n",
    "</details>"
   ]
  },
  {
   "cell_type": "code",
   "execution_count": null,
   "metadata": {
    "deletable": false,
    "tags": [
     "graded"
    ]
   },
   "outputs": [],
   "source": [
    "# GRADED CELL: Exercise 7\n",
    "\n",
    "### START CODE HERE ###\n",
    "\n",
    "# prepare predictors. do not forget to add the constant term\n",
    "X_simple = None\n",
    "\n",
    "# select the dependent variable\n",
    "Y_simple = None\n",
    "\n",
    "# build the model\n",
    "model_simple = None\n",
    "\n",
    "# fit the model\n",
    "results_simple = None\n",
    "\n",
    "# Print the results summary\n",
    "print(None)\n",
    "\n",
    "### END CODE HERE ###"
   ]
  },
  {
   "cell_type": "markdown",
   "metadata": {},
   "source": [
    "<details>\n",
    "<summary style=\"background-color: #c6e2ff6c; padding: 10px; border-radius: 3px; box-shadow: 0 2px 4px rgba(0, 0, 0, 0.01); width: 95%; text-align: left; cursor: pointer; font-weight: bold;\">\n",
    "Expected output:</summary> \n",
    "\n",
    "\n",
    "<br>\n",
    "<small>\n",
    "\n",
    "```mkdn\n",
    "                            OLS Regression Results                            \n",
    "==============================================================================\n",
    "Dep. Variable:               Interest   R-squared:                       0.031\n",
    "Model:                            OLS   Adj. R-squared:                  0.031\n",
    "Method:                 Least Squares   F-statistic:                 1.211e+04\n",
    "Date:                Wed, 09 Apr 2025   Prob (F-statistic):               0.00\n",
    "Time:                        08:36:15   Log-Likelihood:            -1.6468e+06\n",
    "No. Observations:              383382   AIC:                         3.294e+06\n",
    "Df Residuals:                  383380   BIC:                         3.294e+06\n",
    "Df Model:                           1                                         \n",
    "Covariance Type:            nonrobust                                         \n",
    "===================================================================================================\n",
    "                                      coef    std err          t      P>|t|      [0.025      0.975]\n",
    "---------------------------------------------------------------------------------------------------\n",
    "const                              29.4461      0.035    847.499      0.000      29.378      29.514\n",
    "AmountOfPreviousLoansBeforeLoan    -0.0006   5.02e-06   -110.043      0.000      -0.001      -0.001\n",
    "==============================================================================\n",
    "Omnibus:                   379791.546   Durbin-Watson:                   1.482\n",
    "Prob(Omnibus):                  0.000   Jarque-Bera (JB):         27160279.930\n",
    "Skew:                           4.815   Prob(JB):                         0.00\n",
    "Kurtosis:                      43.094   Cond. No.                     8.39e+03\n",
    "==============================================================================\n",
    "\n",
    "Notes:\n",
    "[1] Standard Errors assume that the covariance matrix of the errors is correctly specified.\n",
    "[2] The condition number is large, 8.39e+03. This might indicate that there are\n",
    "strong multicollinearity or other numerical problems.\n",
    "```\n",
    "</small>\n",
    "</details>"
   ]
  },
  {
   "cell_type": "markdown",
   "metadata": {},
   "source": [
    "Use this next cell to make some further analysis on your model. You are already given the line of best fit graph, but can add as many visualizations as you wish. **This cell is not graded** so you can experiment freely "
   ]
  },
  {
   "cell_type": "code",
   "execution_count": null,
   "metadata": {},
   "outputs": [],
   "source": [
    "plt.figure()\n",
    "sns.scatterplot(data=df, x=\"AmountOfPreviousLoansBeforeLoan\", y=\"Interest\")\n",
    "plt.plot(df[\"AmountOfPreviousLoansBeforeLoan\"], results_simple.predict(X_simple), color=\"red\")\n",
    "plt.title(\"Simple Linear Regression: Line of best fit\")\n",
    "plt.xlabel(\"Amount Of Previous Loans Before Loan\")\n",
    "plt.ylabel(\"Interest Rate\")\n",
    "plt.show()"
   ]
  },
  {
   "cell_type": "markdown",
   "metadata": {},
   "source": [
    "Does the chart make sense? Remember the sign of the correlation you found in Exercise 5. "
   ]
  },
  {
   "cell_type": "markdown",
   "metadata": {},
   "source": [
    "<a id=\"building-the-linear-regression-model\"></a>\n",
    "\n",
    "### Building a More Complex Linear Regression Model\n",
    "\n",
    "Since predicting the interest rate using a single variable didn’t yield strong results, you decide to take a more comprehensive approach. This time, you’ll build a more complex model that includes multiple variables—possibly even some categorical ones.\n",
    "\n",
    "**Reflect**: which variables would you use as predictors?\n",
    "\n",
    "<a id=\"ex8\"></a>\n",
    "\n",
    "#### Exercise 8: Building and refining the model\n",
    "This time, you will make the decision on which variables to use. Iterate until you are satisfied with the result. If you need to write any additional code, you can add a new cell by clicking on the $+$ button, and work there. \n",
    "\n",
    "**The code in any cell you add will not be graded**, so provide the final trained model in the provided cell with the `# GRADED CELL: Exercise 8` header. \n",
    "\n",
    "<div style=\"background-color: #C6E2FF; padding: 10px; border-radius: 3px; box-shadow: 0 2px 4px rgba(0, 0, 0, 0.1); width:95%\n",
    "\">\n",
    "\n",
    "**▶▶▶ Directions**\n",
    "        \n",
    "1. Create the list `predictors` with the columns you want to use as predictors. Include all categorical columns you want to use as well\n",
    "2. Create a list with only the categorical columns. Make sure this match with the ones you included in `predictors`. If you are not using any categorical variables, you can leave the list empty\n",
    "3. Create the predictor variable `X`.\n",
    "    1. Perform the dummy encoding (if using any categorical variables).\n",
    "    2. Add the constant term.\n",
    "4. Select the target feature, and save it in variable `Y`.\n",
    "5. Define the Linear Regression model.\n",
    "6. Fit the model\n",
    "3. Iterate on the model (add and/or remove variables) until you are satisfied with the results. Feel free to use any of the features in the dataset you think are appropriate.\n",
    "</div>\n",
    "\n",
    "**In order to pass the grading, your model needs to achieve an R-squared greater than 0.6, and all the included variables need to be statistically significant (p-value < 0.05)**"
   ]
  },
  {
   "cell_type": "markdown",
   "metadata": {},
   "source": [
    "<details>\n",
    "<summary style=\"background-color: #FDBFC7; padding: 10px; border-radius: 3px; box-shadow: 0 2px 4px rgba(0, 0, 0, 0.1); width: 95%; text-align: left; cursor: pointer; font-weight: bold;\">\n",
    "If you are stuck, click here for extra hints!</summary> \n",
    "\n",
    "<ul style=\"background-color: #FFF8F8; padding: 10px; border-radius: 3px; margin-top: 5px; width: 95%; box-shadow: inset 0 2px 4px rgba(0, 0, 0, 0.1);\">\n",
    "   \n",
    "- To get the dummy encodings you can use the `pd.get_dummies()` function. You will need to pass the following arguments:\n",
    "    - `data`: DataFrame with the predictors you want to use\n",
    "    - `columns`: the name of the columns you need to encode (the categorical variables)\n",
    "    - `drop_first`: This needs to be set to `True` to avoid any collinearities between the new columns\n",
    "    - `dtype`: set it to int, so you get a numeric value rather than a boolean.\n",
    "- To add the constant term in the predictors DataFrame, you can again use `sm.add_constant()`\n",
    "- To build the model, you can use the `sm.OLS()` model. You need to pass the regressors, and the dependent variable as arguments.\n",
    "- To fit the model, call the `fit()` method\n",
    "- If you are having trouble getting to a R-squared above 0.6, we suggest including the `\"Rating\"` variable as a predictor. \n",
    "</details>"
   ]
  },
  {
   "cell_type": "code",
   "execution_count": null,
   "metadata": {
    "deletable": false,
    "tags": [
     "graded"
    ]
   },
   "outputs": [],
   "source": [
    "# GRADED CELL: Exercise 8\n",
    "\n",
    "### START CODE HERE ###\n",
    "\n",
    "# define a list with the column names you want to use as predictors\n",
    "# include numerical and categorical variables\n",
    "predictors = None\n",
    "\n",
    "categorical = None\n",
    "\n",
    "# create the predictors dataframe. do not forget to add the constant term\n",
    "X = None(None(None, columns=None, drop_first=None, dtype=None))\n",
    "\n",
    "# create the target variable\n",
    "Y = None\n",
    "\n",
    "# create the model\n",
    "model = None\n",
    "\n",
    "# fit the model\n",
    "results = None\n",
    "\n",
    "### END CODE HERE ###\n",
    "\n",
    "print(results.summary())"
   ]
  },
  {
   "cell_type": "markdown",
   "metadata": {},
   "source": [
    "Congratulations on finishing this graded lab! If everything is running correctly, you can go ahead and submit your code for grading."
   ]
  }
 ],
 "metadata": {
  "grader_version": "2",
  "kernelspec": {
   "display_name": "base",
   "language": "python",
   "name": "python3"
  },
  "language_info": {
   "codemirror_mode": {
    "name": "ipython",
    "version": 3
   },
   "file_extension": ".py",
   "mimetype": "text/x-python",
   "name": "python",
   "nbconvert_exporter": "python",
   "pygments_lexer": "ipython3",
   "version": "3.10.9"
  }
 },
 "nbformat": 4,
 "nbformat_minor": 4
}
