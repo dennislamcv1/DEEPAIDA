{
 "cells": [
  {
   "cell_type": "markdown",
   "metadata": {},
   "source": [
    "# Module 5 Assignment: Analyzing Chlorophyll levels in Australian Coral Reefs\n",
    "\n",
    "Welcome to this module's assignment! \n",
    "\n",
    "Carefully read each Markdown (text) cell, which include instructions and hints. Start by reading the background behind your upcoming tasks.\n",
    "\n",
    "When you are done, submit your solution by saving it, then clicking on the blue submit button at the top of the page.\n",
    "\n",
    "## Background:\n",
    "You've just joined a marine conservation team analyzing ocean data from the Integrated Marine Observing System (IMOS) to monitor Australia's coastal ecosystems. Your job is to understand how patterns and behaviors of variables like chlorophyll and turbidity are evolving in time. This analysis is really important to create good policies and strategies for coral reef preservation.\n",
    "\n",
    "You will be working with the daily average measurements given by the Australian Institute of Marine Biology. While the original dataset has one file per site, we have compiled the data for 3 sites into one single .csv file. You will be working with the following features:\n",
    "\n",
    "* `STATION_ID`: ID of the measuring site\n",
    "* `SAMPLE_DAY`: date of the sample\n",
    "* `CHL_QA_AVG`: average daily concentration of chlorophyll per unit volume of the water body, measured in ug/L (micro grams per liter)\n",
    "* `NTU_QA_AVG`: average turbidity of the water body measured in NTU (Nephelometric Turbidity Unit). Turbidity measures the cloudiness or haziness of a fluid due to suspended particles.\n",
    "\n",
    "\n",
    "## In order for your submission to be graded correctly, you **MUST**:\n",
    "* **Use the provided variable names**, otherwise the autograder will not be able to locate the variable for grading. \n",
    "\n",
    "* **Replace any instances of `None` with your own code.** \n",
    "\n",
    "* **Only modify the cells that start with the comment `# GRADED CELL`**.  \n",
    "\n",
    "* **Use the provided cells for your solution.** You can add new cells to experiment, but these will be omitted when grading. \n",
    "\n",
    "To submit your solution, save it, then click on the blue submit button at the top of the page.\n",
    "\n",
    "<div style=\"background-color: #FAD888; padding: 10px; border-radius: 3px; box-shadow: 0 2px 4px rgba(0, 0, 0, 0.1); width:95%\">\n",
    "<strong>Important note</strong>: Code blocks with None will not run properly. If you run them before completing the exercise, you will likely get an error. \n",
    "</div>"
   ]
  },
  {
   "cell_type": "markdown",
   "metadata": {},
   "source": [
    "## Table of Contents\n",
    "- [Step 1: Importing Libraries](#step-1)\n",
    "- [Step 2: Load the Data](#step-2)\n",
    "    - [Formatting Dates](#formatting-dates)\n",
    "        - [Exercise 1: Converting to DateTime](#ex1)\n",
    "- [Step 3: Analyzing the Time Series](#step-3)\n",
    "    - [Plot the Data](#plot-the-data)\n",
    "        - [Exercise 2: Plotting the Time Series](#ex2)\n",
    "    - [Smoothing the data](#smoothing-the-data)\n",
    "        - [Exercise 3: Moving Average](#ex3)\n",
    "        - [Exercise 4: Percent Change](#ex4)\n",
    "    - [Chlorophyll Concentration per Month](#chlorophyll-concentration-over-the-years)\n",
    "        - [Exercise 5: Average Monthly Chlorophyll Concentration by Site](#ex5)\n",
    "- [Step 4: Modelling the Chlorophyll Concentration](#step-4)\n",
    "    - [Linear Regression](#linear-regression)\n",
    "        - [Exercise 6: Simple Linear Regression](#ex6)\n",
    "        - [Exercise 7: Multiple Linear Regression](#ex7)\n",
    "        - [Exercise 8: Assessing Your Model](#ex8)"
   ]
  },
  {
   "cell_type": "markdown",
   "metadata": {},
   "source": [
    "<a id=\"step-1\"></a>\n",
    "\n",
    "## Step 1: Importing Libraries\n",
    "\n",
    "Before you start working on the dataset, it is good practice to import all libraries at the beginning of your code. \n",
    "\n",
    "<div style=\"background-color: #C6E2FF; padding: 10px; border-radius: 3px; box-shadow: 0 2px 4px rgba(0, 0, 0, 0.1); width:95%\n",
    "\">\n",
    "    <strong>▶▶▶ Directions</strong> \n",
    "        <ol>\n",
    "            <li>Run the cell below to import the following libraries: Pandas, Matplotlib's Pyplot and Seaborn</li>\n",
    "            <li>Inspect the cell to look at the aliases given to the import, such as <code>pd</code> for Pandas\n",
    "        </ol>\n",
    "</div>"
   ]
  },
  {
   "cell_type": "code",
   "execution_count": null,
   "metadata": {
    "deletable": false,
    "editable": false,
    "tags": [
     "graded"
    ]
   },
   "outputs": [],
   "source": [
    "# 🔒 This cell is locked. You will not be able to edit it.\n",
    "\n",
    "import pandas as pd\n",
    "import matplotlib.pyplot as plt\n",
    "import seaborn as sns\n",
    "import statsmodels.api as sm"
   ]
  },
  {
   "cell_type": "markdown",
   "metadata": {},
   "source": [
    "<a id=\"step-2\"></a>\n",
    "\n",
    "## Step 2: Load the Data\n",
    "\n",
    "Now that you have imported the right libraries, you can use Pandas to load the data from the csv. \n",
    "\n",
    "<div style=\"background-color: #C6E2FF; padding: 10px; border-radius: 3px; box-shadow: 0 2px 4px rgba(0, 0, 0, 0.1); width:95%\n",
    "\">\n",
    "    <strong>▶▶▶ Directions</strong> \n",
    "        <ol>\n",
    "            <li>Run the cell below to:</li>\n",
    "            <ol>\n",
    "                <li>Import the data.</li>\n",
    "                <li>Save the DataFrame into a variable named <code>df</code>.</li>\n",
    "                <li>View the data using the <code>head()</code> method.</li>\n",
    "            </ol>\n",
    "        </ol>\n",
    "</div>"
   ]
  },
  {
   "cell_type": "code",
   "execution_count": null,
   "metadata": {
    "deletable": false,
    "editable": false,
    "tags": [
     "graded"
    ]
   },
   "outputs": [],
   "source": [
    "# 🔒 This cell is locked. You will not be able to edit it.\n",
    "\n",
    "# Load the data\n",
    "df = pd.read_csv(\"data/combined_marine_dataset_3sites.csv\")\n",
    "\n",
    "df.head()"
   ]
  },
  {
   "cell_type": "markdown",
   "metadata": {},
   "source": [
    "<a id=\"formatting-dates\"></a>\n",
    "\n",
    "### Formatting Dates\n",
    "\n",
    "Having the data in the correct format enables many tools and calculations. Run the next cell to take a look at data type of the columns. In particular pay attention to the \"SAMPLE_DAY\" column.\n",
    "\n",
    "<div style=\"background-color: #C6E2FF; padding: 10px; border-radius: 3px; box-shadow: 0 2px 4px rgba(0, 0, 0, 0.1); width:95%\n",
    "\">\n",
    "\n",
    "**▶▶▶ Directions**\n",
    "1. Run the cell below to inspect the data types of each column."
   ]
  },
  {
   "cell_type": "code",
   "execution_count": null,
   "metadata": {
    "deletable": false,
    "editable": false
   },
   "outputs": [],
   "source": [
    "# 🔒 This cell is locked. You will not be able to edit it.\n",
    "\n",
    "# print the data types and check the result\n",
    "print(df.dtypes)"
   ]
  },
  {
   "cell_type": "markdown",
   "metadata": {},
   "source": [
    "As you can see, all data types reflect the data, except for the \"SAMPLE_DAY\" column, which you would like to be in `DateTime` format so you can make use of all its properties.\n",
    "\n",
    "<a id=\"ex1\"></a>\n",
    "\n",
    "#### Exercise 1: Converting to DateTime\n",
    "\n",
    "Convert the \"SAMPLE_DAY\" column to `DateTime`.\n",
    "\n",
    "<div style=\"background-color: #C6E2FF; padding: 10px; border-radius: 3px; box-shadow: 0 2px 4px rgba(0, 0, 0, 0.1); width:95%\">\n",
    "\n",
    "**▶▶▶ Directions**\n",
    "\n",
    "1. Convert the \"SAMPLE_DAY\" column to `DateTime` using an appropriate Pandas function and save it into the \"SAMPLE_DAY\" column.\n",
    "</div>"
   ]
  },
  {
   "cell_type": "markdown",
   "metadata": {},
   "source": [
    "<details>\n",
    "<summary style=\"background-color: #FDBFC7; padding: 10px; border-radius: 3px; box-shadow: 0 2px 4px rgba(0, 0, 0, 0.1); width: 95%; text-align: left; cursor: pointer; font-weight: bold;\">\n",
    "If you are stuck, click here for extra hints!</summary> \n",
    "\n",
    "<ul style=\"background-color: #FFF8F8; padding: 10px; border-radius: 3px; margin-top: 5px; width: 95%; box-shadow: inset 0 2px 4px rgba(0, 0, 0, 0.1);\">\n",
    "   \n",
    "- To convert a column to datetime, you can use the `pd.to_datetime()` function\n",
    "</details>\n"
   ]
  },
  {
   "cell_type": "code",
   "execution_count": null,
   "metadata": {
    "deletable": false,
    "tags": [
     "graded"
    ]
   },
   "outputs": [],
   "source": [
    "# GRADED CELL: Exercise 1\n",
    "\n",
    "### START CODE HERE ###\n",
    "\n",
    "df[\"SAMPLE_DAY\"] = None\n",
    "\n",
    "### END CODE HERE ###"
   ]
  },
  {
   "cell_type": "code",
   "execution_count": null,
   "metadata": {
    "deletable": false,
    "editable": false
   },
   "outputs": [],
   "source": [
    "# 🔒 This cell is locked. You will not be able to edit it.\n",
    "\n",
    "# print the new data types and check the result\n",
    "print(df.dtypes)"
   ]
  },
  {
   "cell_type": "markdown",
   "metadata": {},
   "source": [
    "<details>\n",
    "<summary style=\"background-color: #c6e2ff6c; padding: 10px; border-radius: 3px; box-shadow: 0 2px 4px rgba(0, 0, 0, 0.01); width: 95%; text-align: left; cursor: pointer; font-weight: bold;\">\n",
    "Expected output:</summary> \n",
    "<br>\n",
    "\n",
    "<small>\n",
    "\n",
    "```mkdn\n",
    "STATION_ID               object\n",
    "MMP_SITE_NAME            object\n",
    "LONGITUDE               float64\n",
    "LATITUDE                float64\n",
    "LOGGER_SERIAL             int64\n",
    "SAMPLE_DAY       datetime64[ns]\n",
    "CHL_QA_AVG              float64\n",
    "NTU_QA_AVG              float64\n",
    "dtype: object\n",
    "```\n",
    "</small>\n",
    "\n",
    "</details>"
   ]
  },
  {
   "cell_type": "markdown",
   "metadata": {},
   "source": [
    "<a id=\"step-3\"></a>\n",
    "\n",
    "## Step 3: Analyzing the time series\n",
    "\n",
    "You want to know if the chlorophyll concentration and turbidity have changed over the years. Begin by analyzing the \"Burdekin River\" site measurements. \n",
    "\n",
    "<a id=\"plot-the-data\"></a>\n",
    "### Plot the data \n",
    "\n",
    "<a id=\"ex2\"></a>\n",
    "\n",
    "#### Exercise 2: Plotting a time series\n",
    "<div style=\"background-color: #C6E2FF; padding: 10px; border-radius: 3px; box-shadow: 0 2px 4px rgba(0, 0, 0, 0.1); width:95%\n",
    "\">\n",
    "    <strong>▶▶▶ Directions</strong> \n",
    "        <ol>\n",
    "            <li>Filter the DataFrame to keep only the measurements where \"STATION_ID\" equals \"BUR13\" </li>\n",
    "            <li>Now that you are considering only one measuring site, and thus the dates are not repeated, change the index of the DataFrame to \"SAMPLE DAY\"</li>\n",
    "            <li>Using Pandas' methods for DataFrames, create two separate plots, one showing the average chlorophyll concentration (<code>CHL_QA_AVG</code>) and another with the average turbidity level (<code>NTU_QA_AVG</code>)</li>\n",
    "            <ul>\n",
    "                <li>You should create the first plot in the cell below (exercise 2a) and the second plot in the next cell (exercise 2b).</li>\n",
    "            </ul>\n",
    "            <li>Make sure to store the plots in variables for grading. The names of the variables should be <code>ax_bur13_chl</code> and <code>ax_bur13_ntu</code> respectively.\n",
    "        </ol>\n",
    "</div>"
   ]
  },
  {
   "cell_type": "markdown",
   "metadata": {},
   "source": [
    "<details>\n",
    "<summary style=\"background-color: #FDBFC7; padding: 10px; border-radius: 3px; box-shadow: 0 2px 4px rgba(0, 0, 0, 0.1); width: 95%; text-align: left; cursor: pointer; font-weight: bold;\">\n",
    "If you are stuck, click here for extra hints!</summary> \n",
    "\n",
    "<ul style=\"background-color: #FFF8F8; padding: 10px; border-radius: 3px; margin-top: 5px; width: 95%; box-shadow: inset 0 2px 4px rgba(0, 0, 0, 0.1);\">\n",
    "   \n",
    "- To change the index of the DataFrame you can use the `set_index()` method with the name of the column you want as the new index. Do not forget to also set the `inplace` argument to True, so your changes hold.\n",
    "- To plot a DataFrame you can use `sns.lineplot()`.\n",
    "- In order to select the appropriate columns for the y axis values, you need to set the`y` argument with the column name you need.\n",
    "</details>\n"
   ]
  },
  {
   "cell_type": "code",
   "execution_count": null,
   "metadata": {
    "deletable": false,
    "tags": [
     "graded"
    ]
   },
   "outputs": [],
   "source": [
    "# GRADED CELL: exercise 2a\n",
    "\n",
    "plt.figure()\n",
    "\n",
    "### START CODE HERE ###\n",
    "\n",
    "# filter the dataset\n",
    "df_bur13 = None\n",
    "\n",
    "# set the index to the \"SAMPLE_DAY\" column\n",
    "df_bur13.None\n",
    "\n",
    "# create the chlorophyll plot\n",
    "ax_bur13_chl = None\n",
    "\n",
    "### END CODE HERE ###\n",
    "\n",
    "plt.show()"
   ]
  },
  {
   "cell_type": "code",
   "execution_count": null,
   "metadata": {
    "deletable": false,
    "tags": [
     "graded"
    ]
   },
   "outputs": [],
   "source": [
    "# GRADED CELL: exercise 2b\n",
    "\n",
    "plt.figure()\n",
    "\n",
    "### START CODE HERE ###\n",
    "\n",
    "# Create the plot for the turbidity\n",
    "ax_bur13_ntu = None\n",
    "\n",
    "### END CODE HERE ###\n",
    "\n",
    "plt.show()"
   ]
  },
  {
   "cell_type": "markdown",
   "metadata": {},
   "source": [
    "<details>\n",
    "<summary style=\"background-color: #c6e2ff6c; padding: 10px; border-radius: 3px; box-shadow: 0 2px 4px rgba(0, 0, 0, 0.01); width: 95%; text-align: left; cursor: pointer; font-weight: bold;\">\n",
    "Expected output:</summary> \n",
    "<br>\n",
    "\n",
    "<img src=\"imgs/CHLts.png\" width=\"400\">\n",
    "<br>\n",
    "<img src=\"imgs/NTUts.png\" width=\"400\">\n",
    "\n",
    "</details>"
   ]
  },
  {
   "cell_type": "markdown",
   "metadata": {},
   "source": [
    "<a id=\"smoothing-the-data\"></a>\n",
    "\n",
    "### Smoothing the data\n",
    "\n",
    "<a id=\"ex3\"></a>\n",
    "\n",
    "#### Exercise 3: Moving average\n",
    "\n",
    "Chlorophyll plays a vital role in monitoring long-term nutrient pollution, as nutrient-driven algae growth poses a significant threat to coral ecosystems. Elevated chlorophyll-a levels can indicate nutrient pollution, which harms coral survival. To better understand long-term trends and minimize short-term fluctuations, apply a moving average to smooth the data. Start with a 7-day window, representing a weekly average. What happens if you take a window of 30, representing a monthly average?\n",
    "\n",
    "<div style=\"background-color: #C6E2FF; padding: 10px; border-radius: 3px; box-shadow: 0 2px 4px rgba(0, 0, 0, 0.1); width:95%\">\n",
    "\n",
    "**▶▶▶ Directions**\n",
    "<ol>\n",
    "    <li>Plot the original time series using index as x and \"CHL_QA_AVG\" as y. Save the plot in a variable named <code>ax_moving_average.</code></li>\n",
    "    <ul>\n",
    "        <li>Add a label \"Original\".</li>\n",
    "    </ul>\n",
    "    <li>Using Pandas methods for Series, find the moving average for the \"BUR13\" chlorophyll timeseries with a window of 30, which corresponds to about a month.</li>\n",
    "    <li>Plot the smoothed time series.</li>\n",
    "    <ul>\n",
    "        <li>Add a label \"30 day window\".</li>\n",
    "    </ul>\n",
    "    <li>Add a grid to your plot. Set the color to \"gray\", linestyle to \"-\", linewidth to 0.5 and alpha to 0.3.</li>\n",
    "</ol>\n",
    "</div>"
   ]
  },
  {
   "cell_type": "markdown",
   "metadata": {},
   "source": [
    "<details>\n",
    "<summary style=\"background-color: #FDBFC7; padding: 10px; border-radius: 3px; box-shadow: 0 2px 4px rgba(0, 0, 0, 0.1); width: 95%; text-align: left; cursor: pointer; font-weight: bold;\">\n",
    "If you are stuck, click here for extra hints!</summary> \n",
    "\n",
    "<ul style=\"background-color: #FFF8F8; padding: 10px; border-radius: 3px; margin-top: 5px; width: 95%; box-shadow: inset 0 2px 4px rgba(0, 0, 0, 0.1);\">\n",
    "   \n",
    "- To find the moving average for a time series, you need to chain two methods: `rolling` followed by `mean`\n",
    "- The [`🔗rolling()`](https://pandas.pydata.org/docs/reference/api/pandas.Series.rolling.html) method has one mandatory argument, `window`, which corresponds to the window length of the moving average\n",
    "</ul>\n",
    "</details>"
   ]
  },
  {
   "cell_type": "code",
   "execution_count": null,
   "metadata": {
    "deletable": false,
    "tags": [
     "graded"
    ]
   },
   "outputs": [],
   "source": [
    "# GRADED CELL: exercise 3\n",
    "\n",
    "plt.figure(figsize=(10, 4))\n",
    "\n",
    "### START CODE HERE ###\n",
    "\n",
    "# plot the original chlorophyll data\n",
    "ax_moving_average = sns.lineplot(None, x=None, y=None, label=None)\n",
    "\n",
    "# find the moving average for a window of length 30\n",
    "bur13_moving_average = None\n",
    "\n",
    "# plot the moving average \n",
    "sns.lineplot(None, label=None)\n",
    "\n",
    "# Add the grid\n",
    "ax_moving_average.grid(color=\"gray\", linestyle=\"-\", linewidth=0.5, alpha=0.3)\n",
    "\n",
    "### END CODE HERE ###\n",
    "\n",
    "# Add the legend\n",
    "plt.legend()\n",
    "\n",
    "plt.show()"
   ]
  },
  {
   "cell_type": "markdown",
   "metadata": {},
   "source": [
    "<details>\n",
    "<summary style=\"background-color: #c6e2ff6c; padding: 10px; border-radius: 3px; box-shadow: 0 2px 4px rgba(0, 0, 0, 0.01); width: 95%; text-align: left; cursor: pointer; font-weight: bold;\">\n",
    "Expected output:</summary> \n",
    "<br>\n",
    "\n",
    "<img src=\"imgs/ma.png\" width=\"400\">\n",
    "\n",
    "</details>"
   ]
  },
  {
   "cell_type": "markdown",
   "metadata": {},
   "source": [
    "<a id=\"ex3\"></a>\n",
    "\n",
    "#### Exercise 4: Percent change\n",
    "\n",
    "Turbidity helps us keep track of sediment pollution. High sediment levels can quickly harm coral reefs, especially after big storms or activities like dredging, which affect coral health and photosynthesis. To monitor sudden sediment stress, it's important to spot big changes. Can you figure out when the biggest jump between two days happened in the turbidity measurements? You can use the percent change to answer this question.\n",
    "\n",
    "<div style=\"background-color: #C6E2FF; padding: 10px; border-radius: 3px; box-shadow: 0 2px 4px rgba(0, 0, 0, 0.1); width:95%\">\n",
    "\n",
    "**▶▶▶ Directions**\n",
    "<ol>\n",
    "    <li>Find the percent change of the turbidity measurements for the \"BUR13\" site. Since turbidity has one missing value in 2022, you need to set the argument <code>fill_method=None</code>, otherwise you will get a warning.</li>\n",
    "    <li>Use <code>.abs()</code> and <code>.max()</code> to find the largest absolute percent change./li>\n",
    "    <li>Find the index (date) of the maximum percent change (in absolute value). (already implemented)</li>\n",
    "</ol>\n",
    "</div>"
   ]
  },
  {
   "cell_type": "markdown",
   "metadata": {},
   "source": [
    "<details>\n",
    "<summary style=\"background-color: #FDBFC7; padding: 10px; border-radius: 3px; box-shadow: 0 2px 4px rgba(0, 0, 0, 0.1); width: 95%; text-align: left; cursor: pointer; font-weight: bold;\">\n",
    "If you are stuck, click here for extra hints!</summary> \n",
    "\n",
    "<ul style=\"background-color: #FFF8F8; padding: 10px; border-radius: 3px; margin-top: 5px; width: 95%; box-shadow: inset 0 2px 4px rgba(0, 0, 0, 0.1);\">\n",
    "   \n",
    "- To find the percent change, you can use the [🔗`pct_change()`](https://pandas.pydata.org/docs/reference/api/pandas.Series.pct_change.html) method for Series. It returns a number between 0 and 1, so if you want it in percent you need to multiply the result by 100\n",
    "- To find the maximum percent change, you can use the [`🔗max()`](https://pandas.pydata.org/docs/reference/api/pandas.Series.max.html) method. Remember to first find the absolute value of the percent change using [`abs()`](https://pandas.pydata.org/docs/reference/api/pandas.Series.abs.html). You can chain these two operations to get a one liner solution\n",
    "- To find the date of the maximum percent change, you need to select the row in the `chl_pct_change` Series where the maximum value occurs, and then get the index of that row with the `index` attribute. You can do it all in just one line of code\n",
    "</ul>\n",
    "</details>"
   ]
  },
  {
   "cell_type": "code",
   "execution_count": null,
   "metadata": {
    "deletable": false,
    "tags": [
     "graded"
    ]
   },
   "outputs": [],
   "source": [
    "# GRADED CELL: Exercise 4\n",
    "\n",
    "### START CODE HERE ###\n",
    "\n",
    "# calculate the percent change in turbidity (\"NTU_QA_AVG\"). Use fill_method=None\n",
    "chl_pct_change = None[\"NTU_QA_AVG\"].None(fill_method=None) * 100\n",
    "\n",
    "# find the value of the highest percent change\n",
    "max_pct_change_value = None.abs().None\n",
    "\n",
    "### END CODE HERE ###\n",
    "\n",
    "# find the index (date) where the maximum (absolute) percent change occurs\n",
    "max_pct_change_date = chl_pct_change[chl_pct_change == max_pct_change_value].index"
   ]
  },
  {
   "cell_type": "code",
   "execution_count": null,
   "metadata": {
    "deletable": false,
    "editable": false
   },
   "outputs": [],
   "source": [
    "# 🔒 This cell is locked. You will not be able to edit it.\n",
    "\n",
    "# print the results\n",
    "print(\"The maximum percent change value happened on\",max_pct_change_date[0],\n",
    "      \"with a value of\", round(max_pct_change_value,2), \"%\")"
   ]
  },
  {
   "cell_type": "markdown",
   "metadata": {},
   "source": [
    "Was this the date you expected?"
   ]
  },
  {
   "cell_type": "markdown",
   "metadata": {},
   "source": [
    "<a id=\"chlorophyll-concentration-over-the-years\"></a>\n",
    "\n",
    "### Chlorophyll Concentration per Month \n",
    "\n",
    "In order to see if the chlorophyll concentration has a distinct pattern throughout the year, you want to visualize the mean concentration by month on a line chart. Create a column chart showing the average chlorophyll concentration per month for each site.\n",
    "\n",
    "<a id=\"ex5\"></a>\n",
    "\n",
    "#### Exercise 5: Average Monthly Chlorophyll Concentration by Site\n",
    "\n",
    "<div style=\"background-color: #C6E2FF; padding: 10px; border-radius: 3px; box-shadow: 0 2px 4px rgba(0, 0, 0, 0.1); width:95%\">\n",
    "\n",
    "**▶▶▶ Directions**\n",
    "<ol>\n",
    "    <li>Add a new column called \"MONTH\" to the <code>measurements</code> DataFrame with the month of each measurement</li>\n",
    "    <li>Create a pivot table from the <code>measurements</code> DataFrame, using \"MONTH\" as index, \"STATION_ID\" as columns, and \"CHL_QA_AVG\" as values. Aggregate the data by the mean</li>\n",
    "    <li>Create a line chart of the pivoted data</li>\n",
    "    <li>Customize the plot:</li>\n",
    "    <ul>\n",
    "        <li>Set the x-label to \"Month\", with a font size of 14</li>\n",
    "        <li>Set the y-label to \"Average Chlorophyll concentration (ug/L)\", with a font size of 14</li>\n",
    "        <li>Set the title to \"Average chlorophyll concentration per month\", with a font size of 16</li>\n",
    "        <li>Set the xticks rotation to 0 degrees (horizontal), and a font size of 10</li>\n",
    "        <li>Add the title \"Station ID\" to the legend</li>\n",
    "    </ul>\n",
    "</ol>\n",
    "</div>\n",
    "\n",
    "**Please do not make any other changes to the plot, otherwise you might fail the grader.**"
   ]
  },
  {
   "cell_type": "markdown",
   "metadata": {},
   "source": [
    "<details>\n",
    "<summary style=\"background-color: #FDBFC7; padding: 10px; border-radius: 3px; box-shadow: 0 2px 4px rgba(0, 0, 0, 0.1); width: 95%; text-align: left; cursor: pointer; font-weight: bold;\">\n",
    "If you are stuck, click here for extra hints!</summary> \n",
    "\n",
    "<ul style=\"background-color: #FFF8F8; padding: 10px; border-radius: 3px; margin-top: 5px; width: 95%; box-shadow: inset 0 2px 4px rgba(0, 0, 0, 0.1);\">\n",
    "   \n",
    "- To find the month you can select the `.dt.month` attribute on the \"SAMPLE_DAY\" column\n",
    "- To pivot the data use the `pivot_table()` method\n",
    "- Set the figure size with an appropriate argument of the `plt.figure()` method\n",
    "- Create the line plot using the `sns.lineplot()` function\n",
    "- To change the x and y-axis labels, use `plt.xlabel()` and `plt.ylabel()` respectively\n",
    "- For the title you can use `plt.title()`\n",
    "- To change the title of the legend you need to call `plt.legend()` and set the argument `title` with the desired text\n",
    "- To rotate the x axis labels you can use `plt.xticks()` and set the argument `rotation`\n",
    "</ul>\n",
    "</details>"
   ]
  },
  {
   "cell_type": "code",
   "execution_count": null,
   "metadata": {
    "deletable": false,
    "tags": [
     "graded"
    ]
   },
   "outputs": [],
   "source": [
    "# GRADED CELL: Exercise 5\n",
    "\n",
    "### START CODE HERE ###\n",
    "\n",
    "# add the MONTH column, you can use the .dt.month method for this\n",
    "df[\"MONTH\"] = None\n",
    "\n",
    "# pivot the table\n",
    "pivoted_df = df.pivot_table(index=None,\n",
    "                      columns=None,\n",
    "                      values=None,\n",
    "                      aggfunc=None\n",
    "                      ) \n",
    "\n",
    "# set the figure size to (10,4)\n",
    "plt.figure(None)\n",
    "\n",
    "# create the line plot\n",
    "ax_monthly_chl = sns.lineplot(None)\n",
    "\n",
    "# set the x label\n",
    "plt.None\n",
    "\n",
    "# set the ylabel\n",
    "plt.None\n",
    "\n",
    "# change the legend title\n",
    "plt.None\n",
    "\n",
    "# set the rotation for the xticks\n",
    "plt.None\n",
    "\n",
    "# set the title\n",
    "plt.None\n",
    "\n",
    "### END CODE HERE ###\n",
    "\n",
    "plt.show()"
   ]
  },
  {
   "cell_type": "markdown",
   "metadata": {},
   "source": [
    "<details>\n",
    "<summary style=\"background-color: #c6e2ff6c; padding: 10px; border-radius: 3px; box-shadow: 0 2px 4px rgba(0, 0, 0, 0.01); width: 95%; text-align: left; cursor: pointer; font-weight: bold;\">\n",
    "Expected output:</summary> \n",
    "<br>\n",
    "\n",
    "<img src=\"imgs/grouped_bar.png\" width=\"400\">\n",
    "\n",
    "</details>"
   ]
  },
  {
   "cell_type": "markdown",
   "metadata": {},
   "source": [
    "Try answering these questions:\n",
    "* Are there any visible patterns in the data that might suggest a predictable behavior? See if there's a time of the year where the average goes up or down\n",
    "* If you can find a pattern, is it the same across all sites?\n",
    "* Which is the site with the highest average chlorophyll concentration throughout the year?\n",
    "* A chlorophyll concentration above 0.7 is considered dangerous for coral reefs. On average, how well (or how bad) are these three sites doing?"
   ]
  },
  {
   "cell_type": "markdown",
   "metadata": {},
   "source": [
    "<a id=\"step-4\"></a>\n",
    "\n",
    "## Step 4: Modelling the chlorophyll concentration\n",
    "\n",
    "High chlorophyll concentrations at the Burdekin River site can indicate dangerous algal blooms that threaten coral reef health by reducing their access to light and oxygen. Building models to predict these concentrations would enable early warning systems and more timely conservation interventions to protect this vulnerable section of the Great Barrier Reef.\n",
    "\n",
    "<a id=\"linear-regression\"></a>\n",
    "\n",
    "### Linear Regression \n",
    "\n",
    "Linear regression provides an interpretable baseline to identify long-term trends in chlorophyll concentrations.\n",
    "\n",
    "<a id=\"ex6\"></a>\n",
    "\n",
    "#### Exercise 6: Simple Linear Regression\n",
    "\n",
    "You decide to start with a simple linear regression using the day number of the measurement.\n",
    "\n",
    "<div style=\"background-color: #C6E2FF; padding: 10px; border-radius: 3px; box-shadow: 0 2px 4px rgba(0, 0, 0, 0.1); width:95%\">\n",
    "\n",
    "**▶▶▶ Directions**\n",
    "1. Add a column called `idx` to assign a number to each day starting from 0.\n",
    "2. Define your predictors to be the new column `idx`.\n",
    "3. Create variables `X_simple` and `Y` for the regression model.\n",
    "4. Define and train your model.\n",
    "        \n",
    "</div>"
   ]
  },
  {
   "cell_type": "markdown",
   "metadata": {},
   "source": [
    "<details>\n",
    "<summary style=\"background-color: #FDBFC7; padding: 10px; border-radius: 3px; box-shadow: 0 2px 4px rgba(0, 0, 0, 0.1); width: 95%; text-align: left; cursor: pointer; font-weight: bold;\">\n",
    "If you are stuck, click here for extra hints!</summary> \n",
    "\n",
    "<ul style=\"background-color: #FFF8F8; padding: 10px; border-radius: 3px; margin-top: 5px; width: 95%; box-shadow: inset 0 2px 4px rgba(0, 0, 0, 0.1);\">\n",
    "   \n",
    "- To create the values for the new `idx` column, you can use the function `range()`. Remember you need as many values as there are rows in `df_bur13_chl`\n",
    "- Since you are creating a simple linear regression, in this case your only regressor is variable `idx`\n",
    "- To define the regressors for the linear regression model, you need to add the constant term. Do that with the `sm.add_constant()` function\n",
    "- To create the target variable `Y` you need to select the `\"CHL_QA_AVG\"` column\n",
    "- Define the linear regression model with the `sm.OLS()` function. Remember the first argument must be the target variable, and the second one corresponds to the regressors\n",
    "- In order to fit the model, you can use the `fit()` method for the OLS model\n",
    "</ul>\n",
    "</details>"
   ]
  },
  {
   "cell_type": "code",
   "execution_count": null,
   "metadata": {
    "deletable": false,
    "tags": [
     "graded"
    ]
   },
   "outputs": [],
   "source": [
    "# GRADED CELL: Exercise 6\n",
    "\n",
    "# create a dataframe with the chlorophyll data for the BUR13 station\n",
    "df_bur13_chl = df_bur13[[\"CHL_QA_AVG\"]]\n",
    "\n",
    "### START CODE HERE ###\n",
    "\n",
    "# Add the 'idx' column to df_bur13\n",
    "df_bur13_chl[\"idx\"] = None\n",
    "\n",
    "# define the predictors\n",
    "predictors_simple = [None]\n",
    "\n",
    "# define X_simple\n",
    "X_simple = None\n",
    "\n",
    "# define Y (target)\n",
    "Y = None\n",
    "\n",
    "# define the model\n",
    "model_simple = None\n",
    "\n",
    "# train the model\n",
    "results_simple = None\n",
    "\n",
    "### END CODE HERE ###"
   ]
  },
  {
   "cell_type": "code",
   "execution_count": null,
   "metadata": {
    "deletable": false,
    "editable": false
   },
   "outputs": [],
   "source": [
    "# 🔒 This cell is locked. You will not be able to edit it.\n",
    "\n",
    "# print the summary\n",
    "print(results_simple.summary())"
   ]
  },
  {
   "cell_type": "markdown",
   "metadata": {},
   "source": [
    "<details>\n",
    "<summary style=\"background-color: #c6e2ff6c; padding: 10px; border-radius: 3px; box-shadow: 0 2px 4px rgba(0, 0, 0, 0.01); width: 95%; text-align: left; cursor: pointer; font-weight: bold;\">\n",
    "Expected output:</summary> \n",
    "<br>\n",
    "\n",
    "<small>\n",
    "\n",
    "```mkdn\n",
    "OLS Regression Results                            \n",
    "==============================================================================\n",
    "Dep. Variable:             CHL_QA_AVG   R-squared:                       0.010\n",
    "Model:                            OLS   Adj. R-squared:                  0.010\n",
    "Method:                 Least Squares   F-statistic:                     32.01\n",
    "Date:                Thu, 06 Feb 2025   Prob (F-statistic):           1.67e-08\n",
    "Time:                        14:50:51   Log-Likelihood:                -1252.8\n",
    "No. Observations:                3026   AIC:                             2510.\n",
    "Df Residuals:                    3024   BIC:                             2522.\n",
    "Df Model:                           1                                         \n",
    "Covariance Type:            nonrobust                                         \n",
    "==============================================================================\n",
    "                 coef    std err          t      P>|t|      [0.025      0.975]\n",
    "------------------------------------------------------------------------------\n",
    "const          0.9065      0.013     68.107      0.000       0.880       0.933\n",
    "idx         4.312e-05   7.62e-06      5.658      0.000    2.82e-05    5.81e-05\n",
    "==============================================================================\n",
    "Omnibus:                     1680.700   Durbin-Watson:                   0.295\n",
    "Prob(Omnibus):                  0.000   Jarque-Bera (JB):            45646.961\n",
    "Skew:                           2.104   Prob(JB):                         0.00\n",
    "Kurtosis:                      21.556   Cond. No.                     3.49e+03\n",
    "==============================================================================\n",
    "\n",
    "Notes:\n",
    "[1] Standard Errors assume that the covariance matrix of the errors is correctly specified.\n",
    "[2] The condition number is large, 3.49e+03. This might indicate that there are\n",
    "strong multicollinearity or other numerical problems.\n",
    "```\n",
    "\n",
    "</small>\n",
    "\n",
    "</details>"
   ]
  },
  {
   "cell_type": "markdown",
   "metadata": {},
   "source": [
    "Analyze your model. Look at the R-squared, and at the coefficients of the model. Are all the variables statistically significant? What can you say about the error?\n",
    "\n",
    "You can also visualize the model by plotting the line generated by the coefficients, along with a scatter plot of the dependent and independent variables.\n",
    "\n",
    "<div style=\"background-color: #C6E2FF; padding: 10px; border-radius: 3px; box-shadow: 0 2px 4px rgba(0, 0, 0, 0.1); width:95%\">\n",
    "\n",
    "**▶▶▶ Directions**\n",
    "1. Run the cell below to get the Chlorophyll concentration vs. `idx` plot, along with the learned model\n",
    "</div>"
   ]
  },
  {
   "cell_type": "code",
   "execution_count": null,
   "metadata": {
    "deletable": false,
    "editable": false
   },
   "outputs": [],
   "source": [
    "# 🔒 This cell is locked. You will not be able to edit it.\n",
    "\n",
    "# retrieve the coefficients\n",
    "params = results_simple.params\n",
    "\n",
    "a = params[1]\n",
    "b = params[0]\n",
    "\n",
    "# define the prediction line\n",
    "line = a * df_bur13_chl[\"idx\"] + b\n",
    "\n",
    "# create a scarper plot with the independent vs. dependent variable\n",
    "plt.figure(figsize=(8,3))\n",
    "sns.scatterplot(x=df_bur13_chl[\"idx\"], y=df_bur13_chl[\"CHL_QA_AVG\"], alpha=0.5)\n",
    "\n",
    "# add the prediction line\n",
    "sns.lineplot(x=df_bur13_chl[\"idx\"], y=line, color=\"firebrick\", linewidth=2)\n",
    "\n",
    "# change y label and add title\n",
    "plt.ylabel(\"Chlorophyll concentration (ug/L)\")\n",
    "plt.title(\"Scatter plot of Chlorophyll concentration with prediction line\")"
   ]
  },
  {
   "cell_type": "markdown",
   "metadata": {},
   "source": [
    "<a id=\"ex7\"></a>\n",
    "\n",
    "#### Exercise 7: Multiple Linear Regression\n",
    "\n",
    "In Exercise 5, you should have seen that chlorophyll concentrations tend to go down during the last months of the year. You decide to add this data as a regressor in your model\n",
    "\n",
    "<div style=\"background-color: #C6E2FF; padding: 10px; border-radius: 3px; box-shadow: 0 2px 4px rgba(0, 0, 0, 0.1); width:95%\">\n",
    "\n",
    "**▶▶▶ Directions**\n",
    "1. Add the column [\"MONTH\"] to the `df_bur13_chl` DataFrame\n",
    "2. Define the predictors for this model (two in this case)\n",
    "3. Prepare the predictors by taking the columns defined in `predictors_multi` and adding the constant term\n",
    "4. Define and train the new model. Do it one line using method chaining\n",
    "        \n",
    "</div>"
   ]
  },
  {
   "cell_type": "markdown",
   "metadata": {},
   "source": [
    "<details>\n",
    "<summary style=\"background-color: #FDBFC7; padding: 10px; border-radius: 3px; box-shadow: 0 2px 4px rgba(0, 0, 0, 0.1); width: 95%; text-align: left; cursor: pointer; font-weight: bold;\">\n",
    "If you are stuck, click here for extra hints!</summary> \n",
    "\n",
    "<ul style=\"background-color: #FFF8F8; padding: 10px; border-radius: 3px; margin-top: 5px; width: 95%; box-shadow: inset 0 2px 4px rgba(0, 0, 0, 0.1);\">\n",
    "   \n",
    "- To get the data for the new column \"MONTH\" you need to extract the month from the DataFrame index. Since the index is a datetime, use the `month` method\n",
    "- To prepare the regressors for the linear regression model, you need to add the constant term. Do that with the `sm.add_constant()` function\n",
    "- Define the linear regression model with the `sm.OLS()` function. Remember the first argument must be the target variable, and the second one corresponds to the regressors\n",
    "- In order to fit the model, you can use the `fit()` method for the OLS model\n",
    "</ul>\n",
    "</details>"
   ]
  },
  {
   "cell_type": "code",
   "execution_count": null,
   "metadata": {
    "deletable": false,
    "tags": [
     "graded"
    ]
   },
   "outputs": [],
   "source": [
    "# GRADED CELL: Exercise 7\n",
    "\n",
    "### START CODE HERE ###\n",
    "\n",
    "# add a MONTH column\n",
    "df_bur13_chl[\"MONTH\"] = None\n",
    "\n",
    "# define the predictors\n",
    "predictors_multi = [None]\n",
    "\n",
    "# define X_multi - remember to create a constant column\n",
    "X_multi = None\n",
    "\n",
    "# define the model. Use the same target Y as before\n",
    "model_multi = None\n",
    "\n",
    "# train the model\n",
    "results_multi = None\n",
    "\n",
    "### END CODE HERE ###"
   ]
  },
  {
   "cell_type": "code",
   "execution_count": null,
   "metadata": {
    "deletable": false,
    "editable": false
   },
   "outputs": [],
   "source": [
    "# 🔒 This cell is locked. You will not be able to edit it.\n",
    "\n",
    "# print the summary\n",
    "print(results_multi.summary())"
   ]
  },
  {
   "cell_type": "markdown",
   "metadata": {},
   "source": [
    "<details>\n",
    "<summary style=\"background-color: #c6e2ff6c; padding: 10px; border-radius: 3px; box-shadow: 0 2px 4px rgba(0, 0, 0, 0.01); width: 95%; text-align: left; cursor: pointer; font-weight: bold;\">\n",
    "Expected output:</summary> \n",
    "<br>\n",
    "\n",
    "<small>\n",
    "\n",
    "```mkdn\n",
    "OLS Regression Results                            \n",
    "==============================================================================\n",
    "Dep. Variable:             CHL_QA_AVG   R-squared:                       0.049\n",
    "Model:                            OLS   Adj. R-squared:                  0.048\n",
    "Method:                 Least Squares   F-statistic:                     77.21\n",
    "Date:                Thu, 06 Feb 2025   Prob (F-statistic):           1.98e-33\n",
    "Time:                        14:41:02   Log-Likelihood:                -1193.4\n",
    "No. Observations:                3026   AIC:                             2393.\n",
    "Df Residuals:                    3023   BIC:                             2411.\n",
    "Df Model:                           2                                         \n",
    "Covariance Type:            nonrobust                                         \n",
    "==============================================================================\n",
    "                 coef    std err          t      P>|t|      [0.025      0.975]\n",
    "------------------------------------------------------------------------------\n",
    "const          1.0452      0.018     57.613      0.000       1.010       1.081\n",
    "idx         4.219e-05   7.47e-06      5.645      0.000    2.75e-05    5.68e-05\n",
    "MONTH         -0.0211      0.002    -11.006      0.000      -0.025      -0.017\n",
    "==============================================================================\n",
    "Omnibus:                     1917.438   Durbin-Watson:                   0.308\n",
    "Prob(Omnibus):                  0.000   Jarque-Bera (JB):            67396.221\n",
    "Skew:                           2.463   Prob(JB):                         0.00\n",
    "Kurtosis:                      25.589   Cond. No.                     4.87e+03\n",
    "==============================================================================\n",
    "\n",
    "Notes:\n",
    "[1] Standard Errors assume that the covariance matrix of the errors is correctly specified.\n",
    "[2] The condition number is large, 4.87e+03. This might indicate that there are\n",
    "strong multicollinearity or other numerical problems.\n",
    "```\n",
    "\n",
    "</small>\n",
    "\n",
    "</details>"
   ]
  },
  {
   "cell_type": "markdown",
   "metadata": {},
   "source": [
    "<a id=\"ex8\"></a>\n",
    "\n",
    "#### Exercise 8: Assessing Your Model\n",
    "\n",
    "Now it is time to assess your model. You will use the mean absolute error (MAE) and plot a regplot to analyze how good your model is.\n",
    "\n",
    "<div style=\"background-color: #C6E2FF; padding: 10px; border-radius: 3px; box-shadow: 0 2px 4px rgba(0, 0, 0, 0.1); width:95%\n",
    "\">\n",
    "\n",
    "**▶▶▶ Directions**\n",
    "1. Find the predicted values for `X_multi`\n",
    "4. Calculate the residuals\n",
    "5. Use the residuals to calculate the Mean Absolute Error (MAE)\n",
    "        \n",
    "</div>"
   ]
  },
  {
   "cell_type": "markdown",
   "metadata": {},
   "source": [
    "<details>\n",
    "<summary style=\"background-color: #FDBFC7; padding: 10px; border-radius: 3px; box-shadow: 0 2px 4px rgba(0, 0, 0, 0.1); width: 95%; text-align: left; cursor: pointer; font-weight: bold;\">\n",
    "If you are stuck, click here for extra hints!</summary> \n",
    "\n",
    "<ul style=\"background-color: #FFF8F8; padding: 10px; border-radius: 3px; margin-top: 5px; width: 95%; box-shadow: inset 0 2px 4px rgba(0, 0, 0, 0.1);\">\n",
    "   \n",
    "- You can use the `predict()` method to get the model's predictions\n",
    "- To find the residues, remember they defined are the difference between the actual values and the predicted ones: $r = y_{actual} - y_{predicted}$\n",
    "- The MAE, as its name suggests, is the mean of the absolute value of the errors, a.k.a. the residuals: $MAE = \\frac1n\\sum{|r|}$ \n",
    "</details>"
   ]
  },
  {
   "cell_type": "code",
   "execution_count": null,
   "metadata": {
    "deletable": false,
    "tags": [
     "graded"
    ]
   },
   "outputs": [],
   "source": [
    "# GRADED CELL: Exercise 8\n",
    "\n",
    "### START CODE HERE ###\n",
    "\n",
    "# get the predicted values for X_multi\n",
    "y_pred = None\n",
    "\n",
    "# compute the residuals\n",
    "residuals = None\n",
    "\n",
    "# compute the MAE\n",
    "MAE = None\n",
    "\n",
    "### END CODE HERE ###\n",
    "\n",
    "print(\"MAE:\", round(MAE,4)) "
   ]
  },
  {
   "cell_type": "markdown",
   "metadata": {},
   "source": [
    "<details>\n",
    "<summary style=\"background-color: #c6e2ff6c; padding: 10px; border-radius: 3px; box-shadow: 0 2px 4px rgba(0, 0, 0, 0.01); width: 95%; text-align: left; cursor: pointer; font-weight: bold;\">\n",
    "Expected output:</summary> \n",
    "<br>\n",
    "\n",
    "<small>\n",
    "\n",
    "```mkdn\n",
    "MAE: 0.2497\n",
    "```\n",
    "</small>\n",
    "\n",
    "</details>"
   ]
  },
  {
   "cell_type": "markdown",
   "metadata": {},
   "source": [
    "Now you can create a regression plot for the actual vs. predicted values as another method for assessing gow good your model is."
   ]
  },
  {
   "cell_type": "code",
   "execution_count": null,
   "metadata": {},
   "outputs": [],
   "source": [
    "# create the regression plot\n",
    "regplot = sns.regplot(x=y_pred, y=Y, line_kws={'color': 'black'})\n",
    "\n",
    "# change the x label\n",
    "plt.xlabel(\"Predicted CHL (ug/L)\")\n",
    "\n",
    "# change the y label\n",
    "plt.ylabel(\"Actual CHL (ug/L)\")\n",
    "\n",
    "# add a title\n",
    "plt.title(\"Predicted vs. Actual chlorophyll concentration\")\n",
    "\n",
    "# add a grid\n",
    "plt.grid(alpha=0.7, linestyle=\"--\")\n",
    "\n",
    "plt.show()"
   ]
  },
  {
   "cell_type": "markdown",
   "metadata": {},
   "source": [
    "What can you say about your new model? Do you believe it's better than the simple linear regression?"
   ]
  },
  {
   "cell_type": "markdown",
   "metadata": {},
   "source": [
    "Congratulations on finishing this graded lab! If everything is running correctly, you can go ahead and submit your code for grading."
   ]
  }
 ],
 "metadata": {
  "grader_version": "2",
  "kernelspec": {
   "display_name": "Python 3 (ipykernel)",
   "language": "python",
   "name": "python3"
  },
  "language_info": {
   "codemirror_mode": {
    "name": "ipython",
    "version": 3
   },
   "file_extension": ".py",
   "mimetype": "text/x-python",
   "name": "python",
   "nbconvert_exporter": "python",
   "pygments_lexer": "ipython3",
   "version": "3.11.6"
  }
 },
 "nbformat": 4,
 "nbformat_minor": 4
}
