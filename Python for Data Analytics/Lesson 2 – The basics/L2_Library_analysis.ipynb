{
 "cells": [
  {
   "cell_type": "markdown",
   "id": "dfbe991c-00fc-4f12-b9e9-c302e181a1a6",
   "metadata": {},
   "source": [
    "# Plainville public library analysis\n",
    "\n",
    "**Goals:**\n",
    "- [ ] Calculate total number of library visits in 2023\n",
    "- [ ] Calculate income per library visit in 2023\n",
    "\n",
    "| Year | Population of Area | Visits per Person in Area | Total Income | Operating Expenses |\n",
    "|------|--------------------|----------------------|------------------------|--------------------|\n",
    "| 2022 | 17445 | 3.3 | 763415 | 793945 |\n",
    "| 2023 | 17479 | 3.8 | 830696 | 794398 |\n"
   ]
  },
  {
   "cell_type": "code",
   "execution_count": null,
   "id": "34485ada-5071-45d8-aa45-c8af27f36243",
   "metadata": {},
   "outputs": [],
   "source": [
    "# total number of library visits 2023\n",
    "3.8 * 17479 # displays last value"
   ]
  },
  {
   "cell_type": "code",
   "execution_count": null,
   "id": "20e401e3-c930-4650-aa4e-4125b35b2cd5",
   "metadata": {},
   "outputs": [],
   "source": [
    "830696 / 66420.2  # $12.51"
   ]
  },
  {
   "cell_type": "code",
   "execution_count": null,
   "id": "6943f696-ab41-477f-8e23-86a1d8a1c9ed",
   "metadata": {},
   "outputs": [],
   "source": [
    "# Visits from 2023 only\n",
    "print(\"Total number of library visits\", 3.8 * 17479)\n",
    "# Visits from 2022 only\n",
    "print(\"Total number of library visits\", 3.3 * 17445)"
   ]
  },
  {
   "cell_type": "code",
   "execution_count": null,
   "id": "a88d3e17-3d13-401d-8755-f946db221f3c",
   "metadata": {},
   "outputs": [],
   "source": [
    "print(\"Income per library visit:\", 830696 / 66420.2) # dollars"
   ]
  },
  {
   "cell_type": "code",
   "execution_count": null,
   "id": "c94370c4-5acf-4ffa-b2af-ee89e7642838",
   "metadata": {},
   "outputs": [],
   "source": [
    "# Profit in 2023\n",
    "print(\"Profit in 2023:\", 830696 - 794398)"
   ]
  },
  {
   "cell_type": "code",
   "execution_count": null,
   "id": "35dacbd5-78cb-4e2e-979f-c75f8af5d73d",
   "metadata": {},
   "outputs": [],
   "source": [
    "income2023 = 830000\n",
    "print(income2023)"
   ]
  },
  {
   "cell_type": "code",
   "execution_count": null,
   "id": "6153f0f5-bb8b-4a96-a203-fd2806cacab4",
   "metadata": {},
   "outputs": [],
   "source": [
    "print(\"Income per library visit:\", income2023 / 66420.2) # dollars\n",
    "print(\"Profit in 2023:\", income2023 - 794398)"
   ]
  },
  {
   "cell_type": "code",
   "execution_count": null,
   "id": "434f294f-8bf2-45b3-84d8-b52897bab47a",
   "metadata": {},
   "outputs": [],
   "source": [
    "# variable for total number of library visits (population * visits per person)\n",
    "total_library_visits_2022 = 3.8 * 17479\n",
    "total_library_visits_2023 = 3.3 * 17445\n",
    "print(total_library_visits_2023)"
   ]
  },
  {
   "cell_type": "code",
   "execution_count": null,
   "id": "59815524-1c7c-4938-a3af-74620040edad",
   "metadata": {},
   "outputs": [],
   "source": [
    "# Total operating expenses in 2022 and 2023\n",
    "total_operating_expenses = 793945 + 794398"
   ]
  },
  {
   "cell_type": "code",
   "execution_count": null,
   "id": "b3a66c28-4f0e-4422-bbed-f2856e334baf",
   "metadata": {},
   "outputs": [],
   "source": [
    "print(\"Total operating expenses:\", total_operating_expenses)"
   ]
  },
  {
   "cell_type": "markdown",
   "id": "688cee8e-8c8c-45fa-ad8e-1f69790924aa",
   "metadata": {},
   "source": [
    "# Plainville public library analysis pt. 2\n",
    "\n",
    "**Goals:**\n",
    "- [ ] Sum the total income across all 5 years\n",
    "\n",
    "| Year | Total Income |\n",
    "|------|--------------|\n",
    "| 2019 | 737487 |\n",
    "| 2020 | 740967 |\n",
    "| 2021 | 756155 |\n",
    "| 2022 | 763415 | \n",
    "| 2023 | 830696 | "
   ]
  },
  {
   "cell_type": "code",
   "execution_count": null,
   "id": "6f97d0bc-bf6b-49db-a485-bb10dfa36d0e",
   "metadata": {},
   "outputs": [],
   "source": [
    "income2017 = 755720\n",
    "income2018 = 735731\n",
    "income2019 = 737487\n",
    "income2020 = 740967\n",
    "income2021 = 756155\n",
    "income2022 = 763415\n",
    "income2023 = 830696"
   ]
  },
  {
   "cell_type": "code",
   "execution_count": null,
   "id": "08990437-ebcc-45e6-9da5-7394116b7724",
   "metadata": {},
   "outputs": [],
   "source": [
    "# list of incomes\n",
    "incomes = [755720, 735731, 737487, 740967, 756155, 763415, 830696] # which year?\n",
    "years = [2017, 2018, 2019, 2020, 2021, 2022, 2023]"
   ]
  },
  {
   "cell_type": "code",
   "execution_count": null,
   "id": "b4d08634-f08a-4e05-91fa-55e7c8d0b608",
   "metadata": {},
   "outputs": [],
   "source": [
    "print(sum(incomes))"
   ]
  },
  {
   "cell_type": "code",
   "execution_count": null,
   "id": "018a424e-aea2-4f5e-bf86-335bfd701b5c",
   "metadata": {},
   "outputs": [],
   "source": [
    "print(income2017 + income2018 +income2019 + income2020 + income2021 + income2022 + income2023)"
   ]
  },
  {
   "cell_type": "markdown",
   "id": "73c7458f-b89e-46ff-bb03-65821c300b3e",
   "metadata": {},
   "source": [
    "## New data\n",
    "\n",
    "| Year | Total Income |\n",
    "|------|--------------|\n",
    "| 2017 | 755720 |\n",
    "| 2018 | 735731 |"
   ]
  },
  {
   "cell_type": "markdown",
   "id": "8e17e60b-0e91-43f2-9c03-472f8822087f",
   "metadata": {},
   "source": [
    "# Plainville public library analysis pt. 3\n",
    "\n",
    "**Goals**\n",
    "- [ ] Sum up incomes from 1996 and 1997\n",
    "- [ ] Update 1998 income to 460,000\n",
    "- [ ] Add projected 2024 income: 837,404"
   ]
  },
  {
   "cell_type": "code",
   "execution_count": null,
   "id": "fa54b94e-90e8-4257-95e0-597c9481e048",
   "metadata": {},
   "outputs": [],
   "source": [
    "from helper_functions import get_list\n",
    "incomes = get_list(\"Total Income\")\n",
    "years = get_list(\"Year\")"
   ]
  },
  {
   "cell_type": "code",
   "execution_count": null,
   "id": "1cf8dd68-e735-479f-85b3-19f6405bcb9b",
   "metadata": {},
   "outputs": [],
   "source": [
    "print(incomes)"
   ]
  },
  {
   "cell_type": "code",
   "execution_count": null,
   "id": "55b43bb4-6e9c-4bec-824a-0d634933d48b",
   "metadata": {},
   "outputs": [],
   "source": [
    "print(years)"
   ]
  },
  {
   "cell_type": "code",
   "execution_count": null,
   "id": "af1171da-37cb-4324-830f-c59046ef3f6b",
   "metadata": {},
   "outputs": [],
   "source": [
    "# sum list of incomes\n",
    "print(sum(incomes))"
   ]
  },
  {
   "cell_type": "code",
   "execution_count": null,
   "id": "f2ad0384-c492-4e19-8829-819faaa31fab",
   "metadata": {},
   "outputs": [],
   "source": [
    "# sum income from 1996 and 1997\n",
    "print(incomes[0]) # first item in list\n",
    "print(incomes[1])"
   ]
  },
  {
   "cell_type": "code",
   "execution_count": null,
   "id": "94832504-3dd2-4573-87fc-c07b3e251d9b",
   "metadata": {},
   "outputs": [],
   "source": [
    "print(incomes[0] + incomes[1])"
   ]
  },
  {
   "cell_type": "code",
   "execution_count": null,
   "id": "7404c6fe-df55-42f5-99fa-a7377214e79d",
   "metadata": {},
   "outputs": [],
   "source": [
    "print(incomes[2])"
   ]
  },
  {
   "cell_type": "code",
   "execution_count": null,
   "id": "54a3204c-51d6-4469-9b84-e58ffd0af89c",
   "metadata": {},
   "outputs": [],
   "source": [
    "incomes[2] = 460000\n",
    "print(incomes[2])"
   ]
  },
  {
   "cell_type": "code",
   "execution_count": null,
   "id": "755a34fc-3b35-4a4d-b2e2-75baf76b4bfc",
   "metadata": {},
   "outputs": [],
   "source": [
    "print(incomes)\n",
    "incomes.append(837404)\n",
    "print(incomes)"
   ]
  },
  {
   "cell_type": "markdown",
   "id": "a0eda07f-dd43-41f2-9c6b-d074162858ba",
   "metadata": {},
   "source": [
    "# Plainville public library analysis pt. 4\n",
    "\n",
    "**Goals**\n",
    "- [ ] Calculate the **maximum** expenses for all years\n",
    "- [ ] Calculate the **earliest** year for which you have data\n",
    "- [ ] Calculate the **average** operating expenses per year\n",
    "- [ ] Create a **line graph** showing change in expenses over time"
   ]
  },
  {
   "cell_type": "code",
   "execution_count": null,
   "id": "02cd1bc8-9893-4d4f-a796-2725ed3b9330",
   "metadata": {},
   "outputs": [],
   "source": [
    "from helper_functions import get_list\n",
    "expenses = get_list(\"Operating Expenses\")\n",
    "years = get_list(\"Year\")"
   ]
  },
  {
   "cell_type": "code",
   "execution_count": null,
   "id": "6c219677-7faf-4acc-84db-51673b20f125",
   "metadata": {},
   "outputs": [],
   "source": [
    "print(expenses)\n",
    "print(years)"
   ]
  },
  {
   "cell_type": "code",
   "execution_count": null,
   "id": "8761efd2-cc63-4905-8845-1d55a69725d6",
   "metadata": {},
   "outputs": [],
   "source": [
    "print(\"Maximum value for all years:\", max(expenses))"
   ]
  },
  {
   "cell_type": "code",
   "execution_count": null,
   "id": "806c08fa-55c1-4029-bae2-93cedf61114e",
   "metadata": {},
   "outputs": [],
   "source": [
    "print(\"Earliest year of the data:\", min(years))"
   ]
  },
  {
   "cell_type": "code",
   "execution_count": null,
   "id": "97e46acb-536c-49af-9447-dbd90a7eb8f7",
   "metadata": {},
   "outputs": [],
   "source": [
    "# add up all expenses & divide by number of expenses\n",
    "\n",
    "# add up expenses\n",
    "total = sum(expenses)\n",
    "\n",
    "# divide by number of expenses\n",
    "average = total / len(expenses)\n",
    "\n",
    "# print the result\n",
    "print(\"Avearge yearly expenses:\", average)"
   ]
  },
  {
   "cell_type": "code",
   "execution_count": null,
   "id": "d272873b-b51a-4532-be7c-108f30594ad3",
   "metadata": {},
   "outputs": [],
   "source": [
    "from helper_functions import create_line_chart\n",
    "create_line_chart(years, expenses)"
   ]
  }
 ],
 "metadata": {
  "kernelspec": {
   "display_name": "Python 3 (ipykernel)",
   "language": "python",
   "name": "python3"
  },
  "language_info": {
   "codemirror_mode": {
    "name": "ipython",
    "version": 3
   },
   "file_extension": ".py",
   "mimetype": "text/x-python",
   "name": "python",
   "nbconvert_exporter": "python",
   "pygments_lexer": "ipython3",
   "version": "3.11.6"
  }
 },
 "nbformat": 4,
 "nbformat_minor": 5
}
