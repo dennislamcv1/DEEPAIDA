{
 "cells": [
  {
   "cell_type": "markdown",
   "metadata": {
    "read_only": true,
    "slideshow": {
     "slide_type": ""
    },
    "tags": []
   },
   "source": [
    "# Practice Lab: Buenos Aires Subway - Descriptive statistics\n",
    "\n",
    "Now you go back to your analysis of the Buenos Aires Subway system, and want to explore the busiest stations again. Now you want to capture some descriptive statistics so you can further quantify how much resources are needed to manage the traffic. You'll do just that in this practice lab. \n",
    "\n",
    "<div style=\"text-align: center;\">\n",
    "<img src=\"imgsL3/subway_map_wcircle.jpg\" alt=\"Subway map\" width=\"600\"/>\n",
    "</div>\n",
    "\n",
    "## General instructions\n",
    "- **Replace any instances of `None` with your own code**. All `None`s must be replaced.\n",
    "- **Compare your results with the expected output** shown below the code.\n",
    "- **Check the solution** using the expandable cell to verify your answer.\n",
    "\n",
    "Happy coding!\n",
    "\n",
    "<div style=\"background-color: #FAD888; padding: 10px; border-radius: 3px; box-shadow: 0 2px 4px rgba(0, 0, 0, 0.1); width:95%\n",
    "\">\n",
    "<strong>Important note</strong>: Code blocks with None will not run properly. If you run them before completing the exercise, you will likely get an error. \n",
    "</div>"
   ]
  },
  {
   "cell_type": "markdown",
   "metadata": {
    "editable": true,
    "slideshow": {
     "slide_type": ""
    },
    "tags": []
   },
   "source": [
    "## Table of Contents\n",
    "\n",
    "- [Step 1: Load and filter the data](#step-1)\n",
    "\n",
    "- [Step 2: Descriptive statistics](#step-2)\n",
    "\n",
    "- [Step 3: Plot the station counts](#step-3)\n",
    "\n",
    "- [Step 4: Statistics per station](#step-4)\n",
    " \n",
    "- [Step 5: Statistics per hour and subway line](#step-5)"
   ]
  },
  {
   "cell_type": "markdown",
   "metadata": {},
   "source": [
    "## Step 1: Load and filter the data\n",
    "<a id=\"step-1-load-the-data\"></a>\n",
    "Begin by loading the data. It is the same one you used in the previous lab and has these features:\n",
    "\n",
    "- `date`: date of the observation, in format YYYY-MM-DD\n",
    "- `hour`: hour of the observation\n",
    "- `station`: name of the subway station\n",
    "- `line`: name of the subway line (A, B, C, D, E, H). Each line corresponds to one of the colored lines in the map above.\n",
    "- `pax_TOTAL`: total number of passengers at the station "
   ]
  },
  {
   "cell_type": "code",
   "execution_count": 1,
   "metadata": {},
   "outputs": [
    {
     "data": {
      "text/html": [
       "<div>\n",
       "<style scoped>\n",
       "    .dataframe tbody tr th:only-of-type {\n",
       "        vertical-align: middle;\n",
       "    }\n",
       "\n",
       "    .dataframe tbody tr th {\n",
       "        vertical-align: top;\n",
       "    }\n",
       "\n",
       "    .dataframe thead th {\n",
       "        text-align: right;\n",
       "    }\n",
       "</style>\n",
       "<table border=\"1\" class=\"dataframe\">\n",
       "  <thead>\n",
       "    <tr style=\"text-align: right;\">\n",
       "      <th></th>\n",
       "      <th>date</th>\n",
       "      <th>hour</th>\n",
       "      <th>station</th>\n",
       "      <th>line</th>\n",
       "      <th>pax_TOTAL</th>\n",
       "    </tr>\n",
       "  </thead>\n",
       "  <tbody>\n",
       "    <tr>\n",
       "      <th>0</th>\n",
       "      <td>2024-03-01</td>\n",
       "      <td>5</td>\n",
       "      <td>Acoyte</td>\n",
       "      <td>A</td>\n",
       "      <td>50</td>\n",
       "    </tr>\n",
       "    <tr>\n",
       "      <th>1</th>\n",
       "      <td>2024-03-01</td>\n",
       "      <td>5</td>\n",
       "      <td>Aguero</td>\n",
       "      <td>D</td>\n",
       "      <td>1</td>\n",
       "    </tr>\n",
       "    <tr>\n",
       "      <th>2</th>\n",
       "      <td>2024-03-01</td>\n",
       "      <td>5</td>\n",
       "      <td>Alberti</td>\n",
       "      <td>A</td>\n",
       "      <td>6</td>\n",
       "    </tr>\n",
       "    <tr>\n",
       "      <th>3</th>\n",
       "      <td>2024-03-01</td>\n",
       "      <td>5</td>\n",
       "      <td>Angel Gallardo</td>\n",
       "      <td>B</td>\n",
       "      <td>30</td>\n",
       "    </tr>\n",
       "    <tr>\n",
       "      <th>4</th>\n",
       "      <td>2024-03-01</td>\n",
       "      <td>5</td>\n",
       "      <td>Avenida La Plata</td>\n",
       "      <td>E</td>\n",
       "      <td>26</td>\n",
       "    </tr>\n",
       "  </tbody>\n",
       "</table>\n",
       "</div>"
      ],
      "text/plain": [
       "         date  hour           station line  pax_TOTAL\n",
       "0  2024-03-01     5            Acoyte    A         50\n",
       "1  2024-03-01     5            Aguero    D          1\n",
       "2  2024-03-01     5           Alberti    A          6\n",
       "3  2024-03-01     5    Angel Gallardo    B         30\n",
       "4  2024-03-01     5  Avenida La Plata    E         26"
      ]
     },
     "execution_count": 1,
     "metadata": {},
     "output_type": "execute_result"
    }
   ],
   "source": [
    "import pandas as pd\n",
    "\n",
    "# Load the data\n",
    "df = pd.read_csv(\"march2024_pax_hourly.csv\")\n",
    "\n",
    "# Preview the result\n",
    "df.head()"
   ]
  },
  {
   "cell_type": "markdown",
   "metadata": {},
   "source": [
    "You want to calculate numbers for extreme conditions so you decide to filter the dataset.\n",
    "\n",
    "<div style=\"background-color: #C6E2FF; padding: 10px; border-radius: 3px; box-shadow: 0 2px 4px rgba(0, 0, 0, 0.1); width:95%\n",
    "\">\n",
    "    \n",
    "**▶▶▶ Directions**\n",
    "1. Use the `quantile()` method to get the 0.95 quantile of the `pax_TOTAL`. Store it in the <code>pax_95q</code> variable.\n",
    "\n",
    "</div>"
   ]
  },
  {
   "cell_type": "code",
   "execution_count": 3,
   "metadata": {},
   "outputs": [
    {
     "name": "stdout",
     "output_type": "stream",
     "text": [
      "rows in this dataset: 2461\n"
     ]
    }
   ],
   "source": [
    "### START CODE HERE ###\n",
    "\n",
    "# Get the 95th percentile of the total passengers\n",
    "pax_95q = None\n",
    "\n",
    "### END CODE HERE ###\n",
    "\n",
    "# Filter the dataset\n",
    "df_95q = df[df[\"pax_TOTAL\"] > pax_95q]\n",
    "\n",
    "# Sort the dataset\n",
    "df_95q = df_95q.sort_values(by=\"pax_TOTAL\", ascending=False)\n",
    "\n",
    "# Print the number of rows\n",
    "print(\"rows in this dataset:\",len(df_95q))"
   ]
  },
  {
   "cell_type": "markdown",
   "metadata": {},
   "source": [
    "<details open>\n",
    "<summary style=\"background-color: #c6e2ff6c; padding: 10px; border-radius: 3px; box-shadow: 0 2px 4px rgba(0, 0, 0, 0.01); width: 95%; text-align: left; cursor: pointer; font-weight: bold;\">\n",
    "Expected output:</summary> \n",
    "<br>\n",
    "\n",
    "```txt\n",
    "rows in this dataset: 2461\n",
    "```\n",
    "\n",
    "</details>\n"
   ]
  },
  {
   "cell_type": "markdown",
   "metadata": {},
   "source": [
    "<details>\n",
    "<summary style=\"background-color: #FDBFC7; padding: 10px; border-radius: 3px; box-shadow: 0 2px 4px rgba(0, 0, 0, 0.1); width: 95%; text-align: left; cursor: pointer; font-weight: bold;\">\n",
    "Click here to see the solution</summary> \n",
    "\n",
    "<ul style=\"background-color: #FFF8F8; padding: 10px; border-radius: 3px; margin-top: 5px; width: 95%; box-shadow: inset 0 2px 4px rgba(0, 0, 0, 0.1);\">\n",
    "   \n",
    "Your solution should look something like this:\n",
    "\n",
    "```python\n",
    "# Get the 95th percentile of the total passengers\n",
    "pax_95q = df[\"pax_TOTAL\"].quantile(0.95)\n",
    "```\n",
    "</details>"
   ]
  },
  {
   "cell_type": "markdown",
   "metadata": {},
   "source": [
    "<a id=\"step-2\"></a>\n",
    "\n",
    "## Step 2: Descriptive statistics\n",
    "\n",
    "Now you calculate some numbers to see how many passengers are in these busy conditions.\n",
    "\n",
    "<a id=\"do-it-yourself\"></a>\n",
    "\n",
    "<div style=\"background-color: #C6E2FF; padding: 10px; border-radius: 3px; box-shadow: 0 2px 4px rgba(0, 0, 0, 0.1); width:95%\n",
    "\">\n",
    "\n",
    "**▶▶▶ Directions** \n",
    "1. Find the mean of total passengers in the <code>df_95q</code> DataFrame.\n",
    "2. Find the median of total passengers in the <code>df_95q</code> DataFrame.\n",
    "3. Find the maximum number of passengers in the <code>df_95q</code> DataFrame.\n",
    "4. Find the standard deviation of passengers in the <code>df_95q</code> DataFrame.\n",
    "</div>\n",
    "\n"
   ]
  },
  {
   "cell_type": "code",
   "execution_count": 4,
   "metadata": {},
   "outputs": [
    {
     "name": "stdout",
     "output_type": "stream",
     "text": [
      "The mean pax is: 2034.19179195449\n",
      "The median pax is: 1580.0\n",
      "The max pax is: 13651\n",
      "The standard deviation is: 1429.2539690049282\n"
     ]
    }
   ],
   "source": [
    "### START CODE HERE ###\n",
    "\n",
    "# find the sum, mean, and standard deviation of pax_TOTAL\n",
    "pax_mean = None\n",
    "pax_median = None\n",
    "pax_max = None\n",
    "pax_std = None\n",
    "\n",
    "### END CODE HERE ###\n",
    "\n",
    "print(\"The mean pax is:\", pax_mean)\n",
    "print(\"The median pax is:\", pax_median)\n",
    "print(\"The max pax is:\", pax_max)\n",
    "print(\"The standard deviation is:\", pax_std)"
   ]
  },
  {
   "cell_type": "markdown",
   "metadata": {},
   "source": [
    "<details open>\n",
    "<summary style=\"background-color: #c6e2ff6c; padding: 10px; border-radius: 3px; box-shadow: 0 2px 4px rgba(0, 0, 0, 0.01); width: 95%; text-align: left; cursor: pointer; font-weight: bold;\">\n",
    "Expected output:</summary> \n",
    "<br>\n",
    "\n",
    "```txt\n",
    "The mean pax is: 2034.19179195449\n",
    "The median pax is: 1580.0\n",
    "The max pax is: 13651\n",
    "The standard deviation is: 1429.2539690049282\n",
    "```\n",
    "\n",
    "</details>\n"
   ]
  },
  {
   "cell_type": "markdown",
   "metadata": {},
   "source": [
    "<details>\n",
    "<summary style=\"background-color: #FDBFC7; padding: 10px; border-radius: 3px; box-shadow: 0 2px 4px rgba(0, 0, 0, 0.1); width: 95%; text-align: left; cursor: pointer; font-weight: bold;\">\n",
    "Click here to see the solution</summary> \n",
    "\n",
    "<ul style=\"background-color: #FFF8F8; padding: 10px; border-radius: 3px; margin-top: 5px; width: 95%; box-shadow: inset 0 2px 4px rgba(0, 0, 0, 0.1);\">\n",
    "   \n",
    "Your solution should look something like this:\n",
    "\n",
    "```python\n",
    "# find the sum, mean, and standard deviation of pax_TOTAL\n",
    "pax_mean = df_95q['pax_TOTAL'].mean()\n",
    "pax_median = df_95q['pax_TOTAL'].median()\n",
    "pax_max = df_95q['pax_TOTAL'].max()\n",
    "pax_std = df_95q['pax_TOTAL'].std()\n",
    "```\n",
    "</details>"
   ]
  },
  {
   "cell_type": "markdown",
   "metadata": {},
   "source": [
    "<a id=\"step-3\"></a>\n",
    "\n",
    "## Step 3: Plot the station counts\n",
    "\n",
    "You want to know the top stations that encounter this kind of passenger traffic.\n",
    "\n",
    "<a id=\"do-it-yourself\"></a>\n",
    "\n",
    "<div style=\"background-color: #C6E2FF; padding: 10px; border-radius: 3px; box-shadow: 0 2px 4px rgba(0, 0, 0, 0.1); width:95%\n",
    "\">\n",
    "\n",
    "**▶▶▶ Directions** \n",
    "1. Use the <code>value_counts()</code> on the 'station' column of the <code>df_95q</code> DataFrame.\n",
    "2. Use the <code>head()</code> method to get the top 10 results.\n",
    "3. Use the <code>plot()</code> method to display the results as a bar chart.\n",
    "</div>\n",
    "\n"
   ]
  },
  {
   "cell_type": "code",
   "execution_count": null,
   "metadata": {},
   "outputs": [],
   "source": [
    "### START CODE HERE ###\n",
    "\n",
    "# Get the value counts per station\n",
    "station_counts = None\n",
    "\n",
    "# Get the top 10 results\n",
    "station_counts_10 = None\n",
    "\n",
    "# Plot the top 10 results\n",
    "None\n",
    "\n",
    "### END CODE HERE ###"
   ]
  },
  {
   "cell_type": "markdown",
   "metadata": {},
   "source": [
    "<details open>\n",
    "<summary style=\"background-color: #c6e2ff6c; padding: 10px; border-radius: 3px; box-shadow: 0 2px 4px rgba(0, 0, 0, 0.01); width: 95%; text-align: left; cursor: pointer; font-weight: bold;\">\n",
    "Expected output:</summary> \n",
    "\n",
    "<br>\n",
    "<img src=\"imgsL3/output_step3.png\" width=\"450\">\n",
    "</details>\n"
   ]
  },
  {
   "cell_type": "markdown",
   "metadata": {},
   "source": [
    "<details>\n",
    "<summary style=\"background-color: #FDBFC7; padding: 10px; border-radius: 3px; box-shadow: 0 2px 4px rgba(0, 0, 0, 0.1); width: 95%; text-align: left; cursor: pointer; font-weight: bold;\">\n",
    "Click here to see the solution</summary> \n",
    "\n",
    "<ul style=\"background-color: #FFF8F8; padding: 10px; border-radius: 3px; margin-top: 5px; width: 95%; box-shadow: inset 0 2px 4px rgba(0, 0, 0, 0.1);\">\n",
    "   \n",
    "Your solution should look something like this:\n",
    "\n",
    "```python\n",
    "# Get the value counts per station\n",
    "station_counts = df_95q[\"station\"].value_counts()\n",
    "\n",
    "# Get the top 10 results\n",
    "station_counts_10 = station_counts.head(10)\n",
    "\n",
    "# Plot the top 10 results\n",
    "station_counts_10.plot(kind=\"bar\")\n",
    "```\n",
    "</details>"
   ]
  },
  {
   "cell_type": "markdown",
   "metadata": {},
   "source": [
    "<a id=\"step-3\"></a>\n",
    "\n",
    "## Step 4: Statistics per station\n",
    "\n",
    "Next, you want to plot some statistics segmented per station. You will calculate the mean and return the results as a series. \n",
    "\n",
    "<a id=\"do-it-yourself\"></a>\n",
    "\n",
    "<div style=\"background-color: #C6E2FF; padding: 10px; border-radius: 3px; box-shadow: 0 2px 4px rgba(0, 0, 0, 0.1); width:95%\n",
    "\">\n",
    "\n",
    "**▶▶▶ Directions** \n",
    "1. Use the <code>groupby()</code> method to segment the data by 'station' of the <code>df_95q</code> DataFrame. Store the results in <code>grouped_by_station</code>\n",
    "2. Use the <code>mean()</code> method on the 'pax_TOTAL' column of the <code>grouped_by_station</code> object. Store the results in <code>mean_per_station</code>\n",
    "</div>"
   ]
  },
  {
   "cell_type": "code",
   "execution_count": null,
   "metadata": {},
   "outputs": [],
   "source": [
    "### START CODE HERE ###\n",
    "\n",
    "# Segment the data by station\n",
    "grouped_by_station = None\n",
    "\n",
    "# Calculate the mean of the 'pax_TOTAL' column per station\n",
    "mean_per_station = None\n",
    "\n",
    "### END CODE HERE\n",
    "\n",
    "# Sort the results and only print the top 10\n",
    "mean_per_station.sort_values(ascending=False).head(10)"
   ]
  },
  {
   "cell_type": "markdown",
   "metadata": {},
   "source": [
    "<details open>\n",
    "<summary style=\"background-color: #c6e2ff6c; padding: 10px; border-radius: 3px; box-shadow: 0 2px 4px rgba(0, 0, 0, 0.01); width: 95%; text-align: left; cursor: pointer; font-weight: bold;\">\n",
    "Expected output:</summary> \n",
    "<br>\n",
    "\n",
    "```txt\n",
    "station\n",
    "Constitucion        3603.701456\n",
    "Catedral            2134.927536\n",
    "Plaza de Mayo       2067.885714\n",
    "Retiro              1991.120968\n",
    "Rosas               1982.820000\n",
    "San Pedrito         1926.078704\n",
    "Saenz Pena          1910.250000\n",
    "Hospitales          1892.000000\n",
    "Leandro N. Alem     1888.698413\n",
    "Federico Lacroze    1830.571429\n",
    "Name: pax_TOTAL, dtype: float64\n",
    "```\n",
    "\n",
    "</details>\n"
   ]
  },
  {
   "cell_type": "markdown",
   "metadata": {},
   "source": [
    "<details>\n",
    "<summary style=\"background-color: #FDBFC7; padding: 10px; border-radius: 3px; box-shadow: 0 2px 4px rgba(0, 0, 0, 0.1); width: 95%; text-align: left; cursor: pointer; font-weight: bold;\">\n",
    "Click here to see the solution</summary> \n",
    "\n",
    "<ul style=\"background-color: #FFF8F8; padding: 10px; border-radius: 3px; margin-top: 5px; width: 95%; box-shadow: inset 0 2px 4px rgba(0, 0, 0, 0.1);\">\n",
    "   \n",
    "Your solution should look something like this:\n",
    "\n",
    "```python\n",
    "# Segment the data by station\n",
    "grouped_by_station = df_95q.groupby(\"station\")\n",
    "\n",
    "# Calculate the mean of the 'pax_TOTAL' column per station\n",
    "mean_per_station = grouped_by_station[\"pax_TOTAL\"].mean()\n",
    "```\n",
    "</details>"
   ]
  },
  {
   "cell_type": "markdown",
   "metadata": {},
   "source": [
    "<a id=\"step-5\"></a>\n",
    "\n",
    "## Step 5: Statistics per hour and subway line\n",
    "\n",
    "Lastly, you want to calculate statistics both by hour and line. This should allow you to see which times these conditions occurred on each line.\n",
    "\n",
    "<div style=\"background-color: #C6E2FF; padding: 10px; border-radius: 3px; box-shadow: 0 2px 4px rgba(0, 0, 0, 0.1); width:95%\n",
    "\">\n",
    "    <strong>▶▶▶ Directions</strong> \n",
    "        <ol>\n",
    "            <li> Use the <code>pivot_table()</code> method on the <code>df_95q</code> DataFrame with these arguments: \n",
    "            <ul>\n",
    "                <li>Use the <code>hour</code> feature as index (rows).</li>\n",
    "                <li>Use the <code>line</code> feature as columns.</li>\n",
    "                <li>Use the <code>pax_TOTAL</code> feature as the values to fill the table.</li>\n",
    "                <li>Use the <code>mean</code> function to aggregate the values.</li>\n",
    "            </ul>\n",
    "        </ol>\n",
    "</div>"
   ]
  },
  {
   "cell_type": "code",
   "execution_count": null,
   "metadata": {},
   "outputs": [],
   "source": [
    "### START CODE HERE ###\n",
    "\n",
    "# Create the pivot table\n",
    "pivot_hour_line = None\n",
    "\n",
    "### END CODE HERE ###\n",
    "\n",
    "# Print the results\n",
    "pivot_hour_line"
   ]
  },
  {
   "cell_type": "markdown",
   "metadata": {},
   "source": [
    "<details open>\n",
    "<summary style=\"background-color: #c6e2ff6c; padding: 10px; border-radius: 3px; box-shadow: 0 2px 4px rgba(0, 0, 0, 0.01); width: 95%; text-align: left; cursor: pointer; font-weight: bold;\">\n",
    "Expected output:</summary> \n",
    "\n",
    "<br>\n",
    "<img src=\"imgsL3/output_step5.png\" width=\"500\">\n",
    "</details>\n"
   ]
  },
  {
   "cell_type": "markdown",
   "metadata": {},
   "source": [
    "<details>\n",
    "<summary style=\"background-color: #FDBFC7; padding: 10px; border-radius: 3px; box-shadow: 0 2px 4px rgba(0, 0, 0, 0.1); width: 95%; text-align: left; cursor: pointer; font-weight: bold;\">\n",
    "Click here to see the solution</summary> \n",
    "\n",
    "<ul style=\"background-color: #FFF8F8; padding: 10px; border-radius: 3px; margin-top: 5px; width: 95%; box-shadow: inset 0 2px 4px rgba(0, 0, 0, 0.1);\">\n",
    "   \n",
    "Your solution should look something like this:\n",
    "\n",
    "```python\n",
    "# Create the pivot table\n",
    "pivot_hour_line = df_95q.pivot_table(index=\"hour\", \n",
    "                                     columns=\"line\",\n",
    "                                     values=\"pax_TOTAL\",\n",
    "                                     aggfunc=\"mean\")\n",
    "\n",
    "# Print the results\n",
    "pivot_hour_line\n",
    "```\n",
    "</details>"
   ]
  },
  {
   "cell_type": "markdown",
   "metadata": {},
   "source": [
    "Now you see that some lines can have busy stations almost throughout the day. Some have an interesting pattern, like line E where it's usually below the threshold but encountered high passenger counts well into the night (hour 21 and 22).\n",
    "\n",
    "**Congratulations on completing this series of practice labs!**"
   ]
  }
 ],
 "metadata": {
  "kernelspec": {
   "display_name": "Python 3 (ipykernel)",
   "language": "python",
   "name": "python3"
  },
  "language_info": {
   "codemirror_mode": {
    "name": "ipython",
    "version": 3
   },
   "file_extension": ".py",
   "mimetype": "text/x-python",
   "name": "python",
   "nbconvert_exporter": "python",
   "pygments_lexer": "ipython3",
   "version": "3.11.6"
  }
 },
 "nbformat": 4,
 "nbformat_minor": 4
}
