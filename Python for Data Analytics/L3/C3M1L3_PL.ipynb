{
 "cells": [
  {
   "cell_type": "markdown",
   "metadata": {},
   "source": [
    "# C3M1 Lesson 3 Practice Lab: Air Quality - Looping Through Data\n",
    "\n",
    "In this lab, you will continue analyzing the annual average fine particles (PM 2.5) for different areas in New York City. Now that you've learned more tools, let's see what you can do!\n",
    "\n",
    "You will be working with a reduced version of the Air Quality dataset from the EPA that contains information on New York City air quality surveillance data. In particular, you will be working with the following 3 features:\n",
    "\n",
    "- `geo_place_name`: name of the geographical region being measured.\n",
    "- `data_value`: annual average measurement of fine particles, measured in mcg/m3.\n",
    "- `year`: the year the measurements correspond to.\n",
    "\n",
    "## General instructions\n",
    "- **Replace any instances of `None` with your own code**. All `None`s must be replaced.\n",
    "- **Compare your results with the expected output** shown below the code.\n",
    "- **Check the solution** using the expandable cell to verify your answer.\n",
    "\n",
    "Happy coding!\n",
    "\n",
    "<div style=\"background-color: #FAD888; padding: 10px; border-radius: 3px; box-shadow: 0 2px 4px rgba(0, 0, 0, 0.1); width:95%\n",
    "\">\n",
    "<strong>Important note</strong>: Code blocks with None will not run properly. If you run them before completing the exercise, you will likely get an error. \n",
    "\n",
    "</div>"
   ]
  },
  {
   "cell_type": "markdown",
   "metadata": {},
   "source": [
    "## Table of Contents\n",
    "\n",
    "- [Step 1: Load the data](#step-1)\n",
    "- [Step 2: Years over 12mcg/m3](#step-2)\n",
    "- [Step 3: Values per region](#step-3)\n"
   ]
  },
  {
   "cell_type": "markdown",
   "metadata": {},
   "source": [
    "<a id=\"step-1\"></a>\n",
    "\n",
    "## Step 1: Load the data\n",
    "\n",
    "<div style=\"background-color: #C6E2FF; padding: 10px; border-radius: 3px; box-shadow: 0 2px 4px rgba(0, 0, 0, 0.1); width:95%\n",
    "\">\n",
    "    <strong>▶▶▶ Directions</strong> \n",
    "        <ol>\n",
    "            <li>Run the cell below to load the data.</li>\n",
    "        </ol>\n",
    "</div>"
   ]
  },
  {
   "cell_type": "code",
   "execution_count": null,
   "metadata": {},
   "outputs": [],
   "source": [
    "from helper_functions import get_list\n",
    "\n",
    "geo_place_name = get_list('geo_place_name')\n",
    "data_value = get_list('data_value')\n",
    "year = get_list('year')\n",
    "\n",
    "num_observations = len(year)"
   ]
  },
  {
   "cell_type": "markdown",
   "metadata": {},
   "source": [
    "<a id=\"step-2\"></a>\n",
    "\n",
    "## Step 2: Years over 12 mcg/m3\n",
    "\n",
    "Fine particles above 12 mcg/m³ pose a moderate risk, potentially causing mild respiratory issues for people sensitive to air pollution. In this step you will identify all values exceeding this threshold.\n",
    "\n",
    "#### Exercise 1: Find the Locations and Years With Critical Fine Particle Values\n",
    "\n",
    "<div style=\"background-color: #C6E2FF; padding: 10px; border-radius: 3px; box-shadow: 0 2px 4px rgba(0, 0, 0, 0.1); width:95%\n",
    "\">\n",
    "    <strong>▶▶▶ Directions</strong> \n",
    "        <ol>\n",
    "            <li>Iterate over each observation in the dataset. You can do this with a <code>for</code> loop.</li>\n",
    "            <ul>\n",
    "                <li><strong>Hint:</strong> Use the <code>range()</code> function in the loop, to be able to access elelments from all three lists.</li>\n",
    "            </ul>\n",
    "            <li>For each iteration, check if the observation has the value of fine particles more than 12.</li> \n",
    "            <li>If the value of fine particles is higher than 12, print out the location and the year.</li>\n",
    "            <ul>\n",
    "                <li><strong>Hint:</strong> You can print out multiple values at once if you separate them with a comma within the <code>print()</code>.</li>\n",
    "            </ul>\n",
    "            <li>Print the results </li>\n",
    "        </ol>\n",
    "</div>\n"
   ]
  },
  {
   "cell_type": "code",
   "execution_count": null,
   "metadata": {},
   "outputs": [],
   "source": [
    "# Use range to iterate over the length of any of the three lists\n",
    "for i in range(None):\n",
    "    # Check if the fine particles value is larger than 12\n",
    "    if data_value[i] > None:\n",
    "        # Print out location and year\n",
    "        print(None[i], None[i])"
   ]
  },
  {
   "cell_type": "markdown",
   "metadata": {},
   "source": [
    "<details open>\n",
    "<summary style=\"background-color: #c6e2ff6c; padding: 10px; border-radius: 3px; box-shadow: 0 2px 4px rgba(0, 0, 0, 0.01); width: 95%; text-align: left; cursor: pointer; font-weight: bold;\">\n",
    "Expected output:</summary> \n",
    "\n",
    "<small>\n",
    "\n",
    "```mkdn\n",
    "Chelsea - Clinton 2009\r\n",
    "Chelsea - Clinton 2010\r\n",
    "Chelsea - Clinton 2011\r\n",
    "Chelsea - Clinton 2012\r\n",
    "Chelsea - Clinton 2013\r\n",
    "Chelsea - Clinton 2014\r\n",
    "Upper West Side 2009\n",
    "```\n",
    "\n",
    "</small>\n",
    "</details>\n"
   ]
  },
  {
   "cell_type": "markdown",
   "metadata": {},
   "source": [
    "<details>\n",
    "<summary style=\"background-color: #FDBFC7; padding: 10px; border-radius: 3px; box-shadow: 0 2px 4px rgba(0, 0, 0, 0.1); width: 95%; text-align: left; cursor: pointer; font-weight: bold;\">\n",
    "Click here to see the solution</summary> \n",
    "\n",
    "<ul style=\"background-color: #FFF8F8; padding: 10px; border-radius: 3px; margin-top: 5px; width: 95%; box-shadow: inset 0 2px 4px rgba(0, 0, 0, 0.1);\">\n",
    "   \n",
    "Your solution should look something like this:\n",
    "\n",
    "```python\n",
    "# Use range to iterate over the length of any of the three lists\n",
    "for i in range(len(data_value)):\n",
    "    # Check if the fine particles value is larger than 12\n",
    "    if data_value[i] > 12:\n",
    "        # Print out location and year\n",
    "        print(geo_place_name[i], year[i])\n",
    "```\n",
    "</details>"
   ]
  },
  {
   "cell_type": "markdown",
   "metadata": {},
   "source": [
    "<a id=\"step-3\"></a>\n",
    "\n",
    "## Step 3: Values per region\n",
    "\n",
    "In the previous lesson, you calculated the average fine particle value for all years. Now you will use for loops to split the data by regions to calculate it for each region separately.\n",
    "\n",
    "#### Exercise 2: Split the Data by Regions\n",
    "\n",
    "You will begin by splitting the <code>data_value</code> variable into three lists, one for each region, to perform further calculations.\n",
    "\n",
    "<div style=\"background-color: #C6E2FF; padding: 10px; border-radius: 3px; box-shadow: 0 2px 4px rgba(0, 0, 0, 0.1); width:95%\n",
    "\">\n",
    "    <strong>▶▶▶ Directions</strong> \n",
    "        <ol>\n",
    "            <li>Create three empty lists, one for each region</li>\n",
    "            <li>Iterate over each observation in the dataset. You can do this with a <code>for</code> loop</li>\n",
    "            <li> For each iteration, check if the observation corresponds to \"Chelsea - Clinton\", \"Long Island City - Astoria\", or \"Upper West Side\"</li> \n",
    "            <li>How many code branchings did you need?</li>\n",
    "            <li> Print the results </li>\n",
    "        </ol>\n",
    "</div>\n"
   ]
  },
  {
   "cell_type": "code",
   "execution_count": null,
   "metadata": {},
   "outputs": [],
   "source": [
    "# create an empty list for each region\n",
    "CC_values = None # Chelsea - Clinton\n",
    "LI_values = None # Long Island City - Astoria\n",
    "UWS_values = None # Upper West Side\n",
    "\n",
    "# iterate over the variable geo_place_name\n",
    "for i in range(None):\n",
    "    # check if the region is Chelsea - Clinton\n",
    "    if geo_place_name[i] == \"Chelsea - Clinton\":\n",
    "        # if True: append the data value to the list CC_values\n",
    "        CC_values.append(data_value[i])    \n",
    "\n",
    "    # if it is not  Chelsea - Clinton, \n",
    "    # check if the region is Long Island City - Astoria\n",
    "    elif None == None:\n",
    "        # if True: append the data value to the list LI_values\n",
    "        LI_values.None(None)\n",
    "        \n",
    "    # if it is not  Chelsea - Clinton or Long Island City - Astoria\n",
    "    else:\n",
    "        # append the data value to the list UWS_values\n",
    "        UWS_values.None(None)\n",
    "\n",
    "# Print the results\n",
    "print(\"There are \", len(CC_values), \" observations for Chelsea - Clinton\")\n",
    "print(\"There are \", len(LI_values), \" observations for Long Island City - Astoria\")\n",
    "print(\"There are \", len(UWS_values), \" observations for Upper West Side\")"
   ]
  },
  {
   "cell_type": "markdown",
   "metadata": {},
   "source": [
    "<details open>\n",
    "<summary style=\"background-color: #c6e2ff6c; padding: 10px; border-radius: 3px; box-shadow: 0 2px 4px rgba(0, 0, 0, 0.01); width: 95%; text-align: left; cursor: pointer; font-weight: bold;\">\n",
    "Expected output:</summary> \n",
    "\n",
    "<small>\n",
    "\n",
    "```mkdn\n",
    "There are  13  observations for Chelsea - Clinton\n",
    "There are  13  observations for Long Island City - Astoria\n",
    "There are  13  observations for Upper West Side\n",
    "```\n",
    "\n",
    "</small>\n",
    "</details>\n"
   ]
  },
  {
   "cell_type": "markdown",
   "metadata": {},
   "source": [
    "<details>\n",
    "<summary style=\"background-color: #FDBFC7; padding: 10px; border-radius: 3px; box-shadow: 0 2px 4px rgba(0, 0, 0, 0.1); width: 95%; text-align: left; cursor: pointer; font-weight: bold;\">\n",
    "Click here to see the solution</summary> \n",
    "\n",
    "<ul style=\"background-color: #FFF8F8; padding: 10px; border-radius: 3px; margin-top: 5px; width: 95%; box-shadow: inset 0 2px 4px rgba(0, 0, 0, 0.1);\">\n",
    "   \n",
    "Your solution should look something like this:\n",
    "\n",
    "```python\n",
    "# create an empty list for each region\n",
    "CC_values = [] # Chelsea - Clinton\n",
    "LI_values = [] # Long Island City - Astoria\n",
    "UWS_values = [] # Upper West Side\n",
    "\n",
    "# iterate over the variable geo_place_name\n",
    "for i in range(num_observations):\n",
    "    # check if the region is Chelsea - Clinton\n",
    "    if geo_place_name[i] == \"Chelsea - Clinton\":\n",
    "        # if True: append the data value to the list CC_values\n",
    "        CC_values.append(data_value[i])    \n",
    "\n",
    "    # if it is not  Chelsea - Clinton, \n",
    "    # check if the region is Long Island City - Astoria\n",
    "    elif geo_place_name[i] == \"Long Island City - Astoria\":\n",
    "        # if True: append the data value to the list LI_values\n",
    "        LI_values.append(data_value[i])\n",
    "        \n",
    "    # if it is not  Chelsea - Clinton or Long Island City - Astoria\n",
    "    else:\n",
    "        # append the data value to the list UWS_values\n",
    "        UWS_values.append(data_value[i])\n",
    "\n",
    "# Print the results\n",
    "print(\"There are \", len(CC_values), \" observations for Chelsea - Clinton\")\n",
    "print(\"There are \", len(LI_values), \" observations for Long Island City - Astoria\")\n",
    "print(\"There are \", len(UWS_values), \" observations for Upper West Side\")\n",
    "```\n",
    "</details>"
   ]
  },
  {
   "cell_type": "markdown",
   "metadata": {},
   "source": [
    "#### Exercise 3: Calculate the Average for Each Region\n",
    "\n",
    "Now that you have one list of values per region, you can get the average value of fine particles for each\n",
    "\n",
    "<div style=\"background-color: #C6E2FF; padding: 10px; border-radius: 3px; box-shadow: 0 2px 4px rgba(0, 0, 0, 0.1); width:95%\n",
    "\">\n",
    "    <strong>▶▶▶ Directions</strong> \n",
    "        <ol>\n",
    "            <li>Use the lists you created in the previous cell to find the average for each region</li>\n",
    "            <li>Print the results</li>\n",
    "        </ol>\n",
    "</div>"
   ]
  },
  {
   "cell_type": "code",
   "execution_count": null,
   "metadata": {},
   "outputs": [],
   "source": [
    "# Calculate the average value for each region\n",
    "average_CC = sum(None) / len(None) # Chelsea - Clinton\n",
    "average_LI = None / None # Long Island City - Astoria\n",
    "average_UWS = None / None # Upper West Side\n",
    "\n",
    "print(\"The Chelsea - Clinton are has had an average fine particles of \", average_CC)\n",
    "print(\"The Long Island City - Astoria are has had an average fine particles of \", average_LI)\n",
    "print(\"The Upper West Side are has had an average fine particles of \", average_UWS)"
   ]
  },
  {
   "cell_type": "markdown",
   "metadata": {},
   "source": [
    "<details open>\n",
    "<summary style=\"background-color: #c6e2ff6c; padding: 10px; border-radius: 3px; box-shadow: 0 2px 4px rgba(0, 0, 0, 0.01); width: 95%; text-align: left; cursor: pointer; font-weight: bold;\">\n",
    "Expected output:</summary> \n",
    "\n",
    "<small>\n",
    "\n",
    "```mkdn\n",
    "The Chelsea - Clinton are has had an average fine particles of  11.284615384615385\n",
    "The Long Island City - Astoria are has had an average fine particles of  9.153846153846155\n",
    "The Upper West Side are has had an average fine particles of  9.338461538461539\n",
    "```\n",
    "\n",
    "</small>\n",
    "</details>\n"
   ]
  },
  {
   "cell_type": "markdown",
   "metadata": {},
   "source": [
    "<details>\n",
    "<summary style=\"background-color: #FDBFC7; padding: 10px; border-radius: 3px; box-shadow: 0 2px 4px rgba(0, 0, 0, 0.1); width: 95%; text-align: left; cursor: pointer; font-weight: bold;\">\n",
    "Click here to see the solution</summary> \n",
    "\n",
    "<ul style=\"background-color: #FFF8F8; padding: 10px; border-radius: 3px; margin-top: 5px; width: 95%; box-shadow: inset 0 2px 4px rgba(0, 0, 0, 0.1);\">\n",
    "   \n",
    "Your solution should look something like this:\n",
    "\n",
    "```python\n",
    "# Calculate the average value for each region\n",
    "average_CC = sum(CC_values) / len(CC_values) # Chelsea - Clinton\n",
    "average_LI = sum(LI_values) / len(LI_values) # Long Island City - Astoria\n",
    "average_UWS = sum(UWS_values) / len(UWS_values) # Upper West Side\n",
    "\n",
    "print(\"The Chelsea - Clinton are has had an average fine particles of \", average_CC)\n",
    "print(\"The Long Island City - Astoria are has had an average fine particles of \", average_LI)\n",
    "print(\"The Upper West Side are has had an average fine particles of \", average_UWS)\n",
    "```\n",
    "</details>"
   ]
  },
  {
   "cell_type": "markdown",
   "metadata": {},
   "source": [
    "Congratulations for making it until the end of this lab. Hope you enjoyed it! "
   ]
  }
 ],
 "metadata": {
  "kernelspec": {
   "display_name": "Python 3 (ipykernel)",
   "language": "python",
   "name": "python3"
  },
  "language_info": {
   "codemirror_mode": {
    "name": "ipython",
    "version": 3
   },
   "file_extension": ".py",
   "mimetype": "text/x-python",
   "name": "python",
   "nbconvert_exporter": "python",
   "pygments_lexer": "ipython3",
   "version": "3.11.6"
  }
 },
 "nbformat": 4,
 "nbformat_minor": 4
}
