{
 "cells": [
  {
   "cell_type": "markdown",
   "metadata": {},
   "source": [
    "# C3M4 Lesson 2 Practice Lab: London housing prices - Linear regression\n",
    "\n",
    "In the previous lesson, you studied the price per square meter of London homes. Now, you wish to estimate the price of the houses that your company wants to sell. In this lab, you will use a linear regression model to do this.\n",
    "\n",
    "In this lab you will be working with the following columns: \n",
    "\n",
    "- `latitude` & `longitude`: Geographic coordinates for mapping or location-based analysis.\n",
    "- `bathrooms`: Number of bathrooms\n",
    "- `bedrooms`: Number of bedrooms\n",
    "- `floorAreaSqM`: The area in square meters of the property.\n",
    "- `livingRooms`: The number of living rooms in the property.\n",
    "- `price`: The price of the sale \n",
    "\n",
    "## General instructions\n",
    "- **Replace any instances of `None` with your own code**. All `None`s must be replaced.\n",
    "- **Compare your results with the expected output** shown below the code.\n",
    "- **Check the solution** using the expandable cell to verify your answer.\n",
    "\n",
    "Happy coding!\n",
    "\n",
    "<div style=\"background-color: #FAD888; padding: 10px; border-radius: 3px; box-shadow: 0 2px 4px rgba(0, 0, 0, 0.1); width:95%\n",
    "\">\n",
    "<strong>Important note</strong>: Code blocks with None will not run properly. If you run them before completing the exercise, you will likely get an error. \n",
    "</div>"
   ]
  },
  {
   "cell_type": "markdown",
   "metadata": {},
   "source": [
    "## Table of contents\n",
    "- [Step 1: Import libraries](#import-libraries)\n",
    "- [Step 2: Load the data](#load-the-data)\n",
    "- [Step 3: Understanding the influence of features](#influence-of-features)\n",
    "- [Step 4: Creating a linear regression model](#simple-linear-regression)\n",
    "- [Step 5: Interpreting your model](#interpreting-your-model)"
   ]
  },
  {
   "cell_type": "markdown",
   "metadata": {},
   "source": [
    "<a id=\"import-libraries\"></a>\n",
    "\n",
    "## Step 1: Import libraries\n",
    "Begin by importing the needed libraries."
   ]
  },
  {
   "cell_type": "code",
   "execution_count": null,
   "metadata": {},
   "outputs": [],
   "source": [
    "import pandas as pd\n",
    "import matplotlib.pyplot as plt\n",
    "import seaborn as sns\n",
    "import statsmodels.api as sm"
   ]
  },
  {
   "cell_type": "markdown",
   "metadata": {},
   "source": [
    "<a id=\"load-the-data\"></a>\n",
    "\n",
    "## Step 2: Load the data\n",
    "Next, load the data. Run the cell below to load the data."
   ]
  },
  {
   "cell_type": "code",
   "execution_count": null,
   "metadata": {},
   "outputs": [],
   "source": [
    "df = pd.read_csv(\"london_house_price_2018.csv\")\n",
    "df.head()"
   ]
  },
  {
   "cell_type": "markdown",
   "metadata": {},
   "source": [
    "<a id=\"influence-of-features\"></a>\n",
    "\n",
    "## Step 3: Understanding the influence of features\n",
    "\n",
    "### Create scatter plots\n",
    "\n",
    "In order to predict the price of the house, you need to first learn which are the most relevant features to do so. `\"floorAreaSqM\"` is a great candidate, but you want to make sure it is the most important one in your dataset. Begin by creating scatter plots for all (non-categorical) numeric features.\n",
    "\n",
    "<div style=\"background-color: #C6E2FF; padding: 10px; border-radius: 3px; box-shadow: 0 2px 4px rgba(0, 0, 0, 0.1); width:95%\n",
    "\">\n",
    "\n",
    "**▶▶▶ Directions**\n",
    "1. Create a list with all numerical independent variables and the dependent variable: (\"latitude\", \"longitude\", \"bathrooms\", \"bedrooms\", \"floorAreaSqM\", \"livingRooms\", \"price\").\n",
    "2. Use the `sns.pairpot()` function to visualize the scatter plot between numerical features.\n",
    "</div>\n"
   ]
  },
  {
   "cell_type": "code",
   "execution_count": null,
   "metadata": {},
   "outputs": [],
   "source": [
    "### START CODE HERE ###\n",
    "\n",
    "# define a list of numerical features\n",
    "numerical_features = [None]\n",
    "\n",
    "# create a pairplot, with the df with only numerical features selected\n",
    "plt.figure()\n",
    "axes = sns.pairplot(df[None])\n",
    "\n",
    "### END CODE HERE ###"
   ]
  },
  {
   "cell_type": "markdown",
   "metadata": {},
   "source": [
    "<details open>\n",
    "<summary style=\"background-color: #c6e2ff6c; padding: 10px; border-radius: 3px; box-shadow: 0 2px 4px rgba(0, 0, 0, 0.01); width: 95%; text-align: left; cursor: pointer; font-weight: bold;\">\n",
    "Expected output:</summary> \n",
    "\n",
    "<img src=\"imgsL2/pairplot.png\" width=\"1000\">\n",
    "\n",
    "</details>\n"
   ]
  },
  {
   "cell_type": "markdown",
   "metadata": {},
   "source": [
    "<details>\n",
    "<summary style=\"background-color: #FDBFC7; padding: 10px; border-radius: 3px; box-shadow: 0 2px 4px rgba(0, 0, 0, 0.1); width: 95%; text-align: left; cursor: pointer; font-weight: bold;\">\n",
    "Click here to see the solution</summary> \n",
    "\n",
    "<ul style=\"background-color: #FFF8F8; padding: 10px; border-radius: 3px; margin-top: 5px; width: 95%; box-shadow: inset 0 2px 4px rgba(0, 0, 0, 0.1);\">\n",
    "   \n",
    "Your solution should look something like this:\n",
    "\n",
    "```python\n",
    "# define a list of numerical features\n",
    "numerical_features = [\"latitude\", \"longitude\", \"bathrooms\", \"bedrooms\", \"floorAreaSqM\",\n",
    "                      \"livingRooms\", \"price\"]\n",
    "\n",
    "# create a pairplot, with the df with only numerical features selected\n",
    "plt.figure()\n",
    "axes = sns.pairplot(df[numerical_features])\n",
    "\n",
    "```\n",
    "</details>"
   ]
  },
  {
   "cell_type": "markdown",
   "metadata": {},
   "source": [
    "From the scatterplots it is not completely obvious which feature is the best, as none of them really stand out. Try calculating the correlations to numerically evaluate which of the features might be the best to use.\n",
    "\n",
    "### Calculate the correlation\n",
    "\n",
    "<div style=\"background-color: #C6E2FF; padding: 10px; border-radius: 3px; box-shadow: 0 2px 4px rgba(0, 0, 0, 0.1); width:95%\n",
    "\">\n",
    "\n",
    "**▶▶▶ Directions**\n",
    "1. Use the `.corr()` method on the dataframe to calculate correlations between the features.\n",
    "   - Make sure you select only the numerical columns.\n",
    "</div>\n"
   ]
  },
  {
   "cell_type": "code",
   "execution_count": null,
   "metadata": {},
   "outputs": [],
   "source": [
    "### START CODE HERE ###\n",
    "\n",
    "df[None].None()\n",
    "\n",
    "### END CODE HERE ###"
   ]
  },
  {
   "cell_type": "markdown",
   "metadata": {},
   "source": [
    "<details open>\n",
    "<summary style=\"background-color: #c6e2ff6c; padding: 10px; border-radius: 3px; box-shadow: 0 2px 4px rgba(0, 0, 0, 0.01); width: 95%; text-align: left; cursor: pointer; font-weight: bold;\">\n",
    "Expected output:</summary> \n",
    "\n",
    "<img src=\"imgsL2/corr.png\" width=\"550\">\n",
    "\n",
    "</details>\n"
   ]
  },
  {
   "cell_type": "markdown",
   "metadata": {},
   "source": [
    "<details>\n",
    "<summary style=\"background-color: #FDBFC7; padding: 10px; border-radius: 3px; box-shadow: 0 2px 4px rgba(0, 0, 0, 0.1); width: 95%; text-align: left; cursor: pointer; font-weight: bold;\">\n",
    "Click here to see the solution</summary> \n",
    "\n",
    "<ul style=\"background-color: #FFF8F8; padding: 10px; border-radius: 3px; margin-top: 5px; width: 95%; box-shadow: inset 0 2px 4px rgba(0, 0, 0, 0.1);\">\n",
    "   \n",
    "Your solution should look something like this:\n",
    "\n",
    "```python\n",
    "df[numerical_features].corr()\n",
    "```\n",
    "</details>"
   ]
  },
  {
   "cell_type": "markdown",
   "metadata": {},
   "source": [
    "It seems that the first intuition is right! If working with only one predictor, `\"floorAreaSqM\"` is the way to go.\n",
    "\n",
    "<a id=\"simple-linear-regression\"></a>\n",
    "\n",
    "## Step 4: Creating a linear regression model\n",
    "Now you are ready to define and train the linear regression model. Create a model that uses `\"floorAreaSqM\"` as the independent variable, and `\"price\"` as the dependent variable.\n",
    "\n",
    "<div style=\"background-color: #C6E2FF; padding: 10px; border-radius: 3px; box-shadow: 0 2px 4px rgba(0, 0, 0, 0.1); width:95%;\">\n",
    "\n",
    "**▶▶▶ Directions**\n",
    "1. Define a Series with the target variable (`\"price\"`).\n",
    "2. Define a DataFrame with only one column: `\"floorAreaSqM\"` and add the constant to it using the `sm.add_constant()` function.\n",
    "3. Define the linear regression model with the `sm.OLS()` function\n",
    "4. Use the `fit()` method to fit the model to the data.\n",
    "5. Print the model summary.\n",
    "</div>"
   ]
  },
  {
   "cell_type": "code",
   "execution_count": null,
   "metadata": {},
   "outputs": [],
   "source": [
    "### START CODE HERE ###\n",
    "\n",
    "# define the dependent variable\n",
    "Y = df[None]\n",
    "\n",
    "# define the DataFrame with the independent variable and the constant term\n",
    "X = sm.add_constant(df[None])\n",
    "\n",
    "# create the model\n",
    "model = sm.None(None, None)\n",
    "\n",
    "# fit the model\n",
    "results = model.None()\n",
    "\n",
    "### END CODE HERE ###\n",
    "\n",
    "# print the model summary\n",
    "print(results.summary()) "
   ]
  },
  {
   "cell_type": "markdown",
   "metadata": {},
   "source": [
    "<details open>\n",
    "<summary style=\"background-color: #c6e2ff6c; padding: 10px; border-radius: 3px; box-shadow: 0 2px 4px rgba(0, 0, 0, 0.01); width: 95%; text-align: left; cursor: pointer; font-weight: bold;\">\n",
    "Expected output:</summary> \n",
    "<br>\n",
    "<span style=\"font-size: 11px;\">\n",
    "\n",
    "```mkdn\n",
    "                            OLS Regression Results                            \n",
    "==============================================================================\n",
    "Dep. Variable:                  price   R-squared:                       0.418\n",
    "Model:                            OLS   Adj. R-squared:                  0.418\n",
    "Method:                 Least Squares   F-statistic:                 5.801e+04\n",
    "Date:                Sat, 15 Feb 2025   Prob (F-statistic):               0.00\n",
    "Time:                        09:55:31   Log-Likelihood:            -1.2037e+06\n",
    "No. Observations:               80703   AIC:                         2.407e+06\n",
    "Df Residuals:                   80701   BIC:                         2.407e+06\n",
    "Df Model:                           1                                         \n",
    "Covariance Type:            nonrobust                                         \n",
    "================================================================================\n",
    "                   coef    std err          t      P>|t|      [0.025      0.975]\n",
    "--------------------------------------------------------------------------------\n",
    "const        -3.171e+05   5349.807    -59.277      0.000   -3.28e+05   -3.07e+05\n",
    "floorAreaSqM  1.085e+04     45.045    240.847      0.000    1.08e+04    1.09e+04\n",
    "==============================================================================\n",
    "Omnibus:                   152043.746   Durbin-Watson:                   1.197\n",
    "Prob(Omnibus):                  0.000   Jarque-Bera (JB):        688803222.073\n",
    "Skew:                          14.082   Prob(JB):                         0.00\n",
    "Kurtosis:                     454.716   Cond. No.                         249.\n",
    "==============================================================================\n",
    "\n",
    "Notes:\n",
    "[1] Standard Errors assume that the covariance matrix of the errors is correctly specified.\n",
    "```\n",
    "</span>\n",
    "</details>\n"
   ]
  },
  {
   "cell_type": "markdown",
   "metadata": {},
   "source": [
    "<details>\n",
    "<summary style=\"background-color: #FDBFC7; padding: 10px; border-radius: 3px; box-shadow: 0 2px 4px rgba(0, 0, 0, 0.1); width: 95%; text-align: left; cursor: pointer; font-weight: bold;\">\n",
    "Click here to see the solution</summary> \n",
    "\n",
    "<ul style=\"background-color: #FFF8F8; padding: 10px; border-radius: 3px; margin-top: 5px; width: 95%; box-shadow: inset 0 2px 4px rgba(0, 0, 0, 0.1);\">\n",
    "   \n",
    "Your solution should look something like this:\n",
    "\n",
    "```python\n",
    "# define the dependent variable\n",
    "Y = df[\"price\"]\n",
    "\n",
    "# define the DataFrame with the independent variable and the constant term\n",
    "X = sm.add_constant(df[\"floorAreaSqM\"])\n",
    "\n",
    "# create the model\n",
    "model = sm.OLS(Y, X)\n",
    "\n",
    "# fit the model\n",
    "results = model.fit()\n",
    "```\n",
    "</details>"
   ]
  },
  {
   "cell_type": "markdown",
   "metadata": {},
   "source": [
    "<a id=\"interpreting-your-model\"></a>\n",
    "\n",
    "## Step 5: Interpreting Your Model\n",
    "\n",
    "Before even considering using the model, it is a good idea to stop and analyze your results. You can do this by looking at the R-squared, the coefficient values, and their p-values (`P>|t|`).\n",
    "\n",
    "You can also use a visual aid.\n",
    "\n",
    "<div style=\"background-color: #C6E2FF; padding: 10px; border-radius: 3px; box-shadow: 0 2px 4px rgba(0, 0, 0, 0.1); width:95%;\">\n",
    "\n",
    "**▶▶▶ Directions**\n",
    "1. Retrieve the intercept (`m`) and slope (`b`) of the line defined by the model. You can use the `.params` attribute of the trained model.\n",
    "2. Create a scatter plot showing the `\"price\"` values against `\"floorAreaSqM\"`.\n",
    "3. Calculate the line of best fit for the data.\n",
    "4. Add the fitted line (set `y=line`), so you can compare how far away the predictions are from the true values.\n",
    "</div>"
   ]
  },
  {
   "cell_type": "code",
   "execution_count": null,
   "metadata": {},
   "outputs": [],
   "source": [
    "### START CODE HERE ###\n",
    "\n",
    "# get the parameter values from the model\n",
    "m = results.params[None]\n",
    "b = results.params[None]\n",
    "\n",
    "# crete the scatter plot\n",
    "plt.scatter(df[None], df[None])\n",
    "\n",
    "# calculate the line of best fit\n",
    "line = m * df[None] + b\n",
    "\n",
    "# add the line of best fit to the scatter plot\n",
    "sns.lineplot(x=df[None], y=line, color=\"red\")\n",
    "\n",
    "### END CODE HERE ###"
   ]
  },
  {
   "cell_type": "markdown",
   "metadata": {},
   "source": [
    "<details open>\n",
    "<summary style=\"background-color: #c6e2ff6c; padding: 10px; border-radius: 3px; box-shadow: 0 2px 4px rgba(0, 0, 0, 0.01); width: 95%; text-align: left; cursor: pointer; font-weight: bold;\">\n",
    "Expected output:</summary> \n",
    "\n",
    "\n",
    "<img src=\"imgsL2/SLRfit.png\" width=\"550\">\n",
    "</details>\n"
   ]
  },
  {
   "cell_type": "markdown",
   "metadata": {},
   "source": [
    "<details>\n",
    "<summary style=\"background-color: #FDBFC7; padding: 10px; border-radius: 3px; box-shadow: 0 2px 4px rgba(0, 0, 0, 0.1); width: 95%; text-align: left; cursor: pointer; font-weight: bold;\">\n",
    "Click here to see the solution</summary> \n",
    "\n",
    "<ul style=\"background-color: #FFF8F8; padding: 10px; border-radius: 3px; margin-top: 5px; width: 95%; box-shadow: inset 0 2px 4px rgba(0, 0, 0, 0.1);\">\n",
    "   \n",
    "Your solution should look something like this:\n",
    "\n",
    "```python\n",
    "# get the parameter values from the model\n",
    "m = results.params[\"floorAreaSqM\"]\n",
    "b = results.params[\"const\"]\n",
    "\n",
    "# crete the scatter plot\n",
    "plt.scatter(df['floorAreaSqM'], df['price'])\n",
    "\n",
    "# calculate the line of best fit\n",
    "line = m * df[\"floorAreaSqM\"] + b\n",
    "\n",
    "# add the line of best fit to the scatter plot\n",
    "sns.lineplot(x=df[\"floorAreaSqM\"], y=line, color=\"red\")\n",
    "```\n",
    "</details>"
   ]
  },
  {
   "cell_type": "markdown",
   "metadata": {},
   "source": [
    "Congratulations for making it until the end of this lab. You will keep working on this dataset in Lesson 3, trying to improve the model using more variables. Hope you enjoyed it! "
   ]
  }
 ],
 "metadata": {
  "kernelspec": {
   "display_name": "Python 3 (ipykernel)",
   "language": "python",
   "name": "python3"
  },
  "language_info": {
   "codemirror_mode": {
    "name": "ipython",
    "version": 3
   },
   "file_extension": ".py",
   "mimetype": "text/x-python",
   "name": "python",
   "nbconvert_exporter": "python",
   "pygments_lexer": "ipython3",
   "version": "3.11.6"
  }
 },
 "nbformat": 4,
 "nbformat_minor": 4
}
