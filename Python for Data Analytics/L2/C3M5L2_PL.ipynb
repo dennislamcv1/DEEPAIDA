{
 "cells": [
  {
   "cell_type": "markdown",
   "metadata": {},
   "source": [
    "# C3M5 Lesson 2 Practice Lab: Flight delays and cancellations - Working with time series data\n",
    "\n",
    "In this lesson, you will continue working with Flight delays and cancellations dataset. Now you will look at some time series data and explore how the different variables change over time.\n",
    "\n",
    "You will be working with the following columns:\n",
    "\n",
    "- `Airline`: Name of the operating airline. If the value is “All Airlines”, the data given represents aggregated values.\n",
    "- `Month`: Month of the flight in Month-Year format\n",
    "- `Sectors_Scheduled`: How many flights were scheduled for the given airline and route for the given month\n",
    "- `Cancellations`: Number of cancellations\n",
    "- `Arrivals_Delayed`: Number of flights that arrived at the gate 15 minutes after the scheduled arrival time shown in the carriers' schedule. \n",
    "\n",
    "\n",
    "## General instructions\n",
    "- **Replace any instances of `None` with your own code**. All `None`s must be replaced.\n",
    "- **Compare your results with the expected output** shown below the code.\n",
    "- **Check the solution** using the expandable cell to verify your answer.\n",
    "\n",
    "Happy coding!\n",
    "\n",
    "<div style=\"background-color: #FAD888; padding: 10px; border-radius: 3px; box-shadow: 0 2px 4px rgba(0, 0, 0, 0.1); width:95%\">\n",
    "<strong>Important note</strong>: Code blocks with None will not run properly. If you run them before completing the exercise, you will likely get an error. \n",
    "</div>"
   ]
  },
  {
   "cell_type": "markdown",
   "metadata": {},
   "source": [
    "## Table of contents\n",
    "- [Step 1: Import libraries](#import-libraries)\n",
    "- [Step 2: Load the data](#load-the-data)\n",
    "- [Step 3: Process the dataset](#process-the-dataset)\n",
    "- [Step 4: Smoothing the time series](#smoothing-the-time-series)\n",
    "- [Step 5: Speed of changes](#speed-of-changes)\n"
   ]
  },
  {
   "cell_type": "markdown",
   "metadata": {},
   "source": [
    "<a id=\"import-libraries\"></a>\n",
    "\n",
    "## Step 1: Import libraries\n",
    "Begin by importing the pandas library"
   ]
  },
  {
   "cell_type": "code",
   "execution_count": null,
   "metadata": {},
   "outputs": [],
   "source": [
    "import pandas as pd\n",
    "import seaborn as sns\n",
    "import matplotlib.pyplot as plt"
   ]
  },
  {
   "cell_type": "markdown",
   "metadata": {},
   "source": [
    "<a id=\"load-the-data\"></a>\n",
    "\n",
    "## Step 2: Load the data\n",
    "Begin by loading the data. Run the cell below to load the data."
   ]
  },
  {
   "cell_type": "code",
   "execution_count": null,
   "metadata": {},
   "outputs": [],
   "source": [
    "df = pd.read_csv(\"otp_time_series_web.csv\")\n",
    "df.head()"
   ]
  },
  {
   "cell_type": "markdown",
   "metadata": {},
   "source": [
    "<a id=\"process-the-dataset\"></a>\n",
    "\n",
    "## Step 3: Process the dataset\n",
    "Now run the cell below to process the dataset. You have done all these steps already in the previous lesson. "
   ]
  },
  {
   "cell_type": "code",
   "execution_count": null,
   "metadata": {},
   "outputs": [],
   "source": [
    "# convert the \"Month column to datetime\n",
    "df[\"Month\"] = pd.to_datetime(df[\"Month\"], format=\"%b-%y\")\n",
    "\n",
    "# Filter the data\n",
    "df_all_airlines = df[df[\"Airline\"]==\"All Airlines\"]\n",
    "\n",
    "# Create a new dataframe with the sum of the columns grouped by month\n",
    "df_per_month = df_all_airlines.groupby(\"Month\")[[\n",
    "    \"Cancellations\", \"Arrivals_Delayed\", \"Sectors_Scheduled\"]].sum()\n",
    "\n",
    "# plot the time series\n",
    "sns.lineplot(df_per_month)"
   ]
  },
  {
   "cell_type": "markdown",
   "metadata": {},
   "source": [
    "It seems like there is an overall increasing pattern in the three curves with a 3 year period where the scheduled flights plummet, as you have already seen in the previous lesson.\n",
    "If you look closely, you can also see a small drop on the number of scheduled flights during the first months of each year.\n",
    "\n",
    "<a id=\"smoothing-the-time-series\"></a>\n",
    "\n",
    "## Step 4: Smoothing the time series\n",
    "\n",
    "The delayed arrivals curve looks a bit noisy. To get a clearer picture of the trends without getting distracted by sudden spikes or drops, you will find the moving average to help smooth the data. This way, you can focus on the bigger patterns in delays and cancellations, making it easier to give better booking advice.    \n",
    "\n",
    "\n",
    "<div style=\"background-color: #C6E2FF; padding: 10px; border-radius: 3px; box-shadow: 0 2px 4px rgba(0, 0, 0, 0.1); width:95%\n",
    "\">\n",
    "    <strong>▶▶▶ Directions</strong> \n",
    "        <ol>\n",
    "            <li>Use the following cell to find the moving average of the \"Arrivals_Delayed\" column. You want to smooth the data over a whole year (12 months) </li>\n",
    "            <ul>\n",
    "                <li>You should use the <code>rolling()</code> method along with the mean to aggregate the data inside each window\n",
    "            </ul>\n",
    "            <li>Plot the original data using `sns.lineplot()` with `df_per_month[\"Arrivals_Delayed\"]` as an argument.</li>\n",
    "            <li>Plot the moving average using `sns.lineplot()` with `delays_moving_average` as an argument.</li>\n",
    "        </ol>\n",
    "</div>"
   ]
  },
  {
   "cell_type": "code",
   "execution_count": null,
   "metadata": {},
   "outputs": [],
   "source": [
    "# find the moving average for a window of length 12\n",
    "delays_moving_average = df_per_month[None].rolling(window=None).mean() \n",
    "\n",
    "# Plot the original data\n",
    "sns.None\n",
    "\n",
    "# plot the moving average\n",
    "sns.None"
   ]
  },
  {
   "cell_type": "markdown",
   "metadata": {},
   "source": [
    "<details open>\n",
    "<summary style=\"background-color: #c6e2ff6c; padding: 10px; border-radius: 3px; box-shadow: 0 2px 4px rgba(0, 0, 0, 0.01); width: 95%; text-align: left; cursor: pointer; font-weight: bold;\">\n",
    "Expected output:</summary> \n",
    "<br>\n",
    "\n",
    "<img src=\"imgsL2/ma.png\" width=\"400\">\n",
    "\n",
    "</details>"
   ]
  },
  {
   "cell_type": "markdown",
   "metadata": {},
   "source": [
    "<details>\n",
    "<summary style=\"background-color: #FDBFC7; padding: 10px; border-radius: 3px; box-shadow: 0 2px 4px rgba(0, 0, 0, 0.1); width: 95%; text-align: left; cursor: pointer; font-weight: bold;\">\n",
    "Click here to see the solution</summary> \n",
    "\n",
    "<ul style=\"background-color: #FFF8F8; padding: 10px; border-radius: 3px; margin-top: 5px; width: 95%; box-shadow: inset 0 2px 4px rgba(0, 0, 0, 0.1);\">\n",
    "   \n",
    "Your solution should look something like this:\n",
    "\n",
    "```python\n",
    "# find the moving average for a window of length 12\n",
    "delays_moving_average = df_per_month[\"Arrivals_Delayed\"].rolling(window=12).mean() \n",
    "\n",
    "# Plot the original data\n",
    "sns.lineplot(df_per_month[\"Arrivals_Delayed\"])\n",
    "\n",
    "# plot the moving average\n",
    "sns.lineplot(delays_moving_average)\n",
    "```\n",
    "</details>"
   ]
  },
  {
   "cell_type": "markdown",
   "metadata": {},
   "source": [
    "<a id=\"speed-of-changes\"></a>\n",
    "\n",
    "## Step 5: Speed of changes\n",
    "\n",
    "To understand how quickly delays or cancellations are changing over time, calculating the percent change helps highlight the most significant shifts. \n",
    "<div style=\"background-color: #C6E2FF; padding: 10px; border-radius: 3px; box-shadow: 0 2px 4px rgba(0, 0, 0, 0.1); width:95%\n",
    "\">\n",
    "    <strong>▶▶▶ Directions</strong> \n",
    "        <ol>\n",
    "            <li>Use the cell below to find the percent change in the \"Arrivals_Delayed\" column. </li>\n",
    "            <ul>\n",
    "                <li> You can use the <code>pct_change()</code> method.</li>\n",
    "            </ul>\n",
    "            <li>Plot the percent change curve to visualize it.</li>\n",
    "            <li>Add a horizontal line at y=0 for clarity (already implemented).</li>\n",
    "        </ol>\n",
    "</div>"
   ]
  },
  {
   "cell_type": "code",
   "execution_count": null,
   "metadata": {},
   "outputs": [],
   "source": [
    "# find the percent change for the \"Arrivals_Delayed\" column\n",
    "cancel_pct_change = df_per_month[None].None\n",
    "\n",
    "# plot the result\n",
    "sns.lineplot(None)\n",
    "\n",
    "# Add a horizontal line at y=0\n",
    "plt.axhline(y=0, color='grey', linestyle='--', label=\"y=0\")"
   ]
  },
  {
   "cell_type": "markdown",
   "metadata": {},
   "source": [
    "<details open>\n",
    "<summary style=\"background-color: #c6e2ff6c; padding: 10px; border-radius: 3px; box-shadow: 0 2px 4px rgba(0, 0, 0, 0.01); width: 95%; text-align: left; cursor: pointer; font-weight: bold;\">\n",
    "Expected output:</summary> \n",
    "<br>\n",
    "\n",
    "<img src=\"imgsL2/pct_chg.png\" width=\"400\">\n",
    "\n",
    "</details>"
   ]
  },
  {
   "cell_type": "markdown",
   "metadata": {},
   "source": [
    "<details>\n",
    "<summary style=\"background-color: #FDBFC7; padding: 10px; border-radius: 3px; box-shadow: 0 2px 4px rgba(0, 0, 0, 0.1); width: 95%; text-align: left; cursor: pointer; font-weight: bold;\">\n",
    "Click here to see the solution</summary> \n",
    "\n",
    "<ul style=\"background-color: #FFF8F8; padding: 10px; border-radius: 3px; margin-top: 5px; width: 95%; box-shadow: inset 0 2px 4px rgba(0, 0, 0, 0.1);\">\n",
    "   \n",
    "Your solution should look something like this:\n",
    "\n",
    "```python\n",
    "# find the percent change for the \"Arrivals_Delayed\" column\n",
    "cancel_pct_change = df_per_month[\"Arrivals_Delayed\"].pct_change()\n",
    "\n",
    "# plot the result\n",
    "sns.lineplot(cancel_pct_change)\n",
    "\n",
    "# Add a horizontal line at y=0\n",
    "plt.axhline(y=0, color='grey', linestyle='--', label=\"y=0\")\n",
    "```\n",
    "</details>"
   ]
  },
  {
   "cell_type": "markdown",
   "metadata": {},
   "source": [
    "The pandemic years, during 2020-2022, are a real mess, but also not very informative to analyze regular behavior. Filter out those points and plot the percent change again.\n",
    "\n",
    "<div style=\"background-color: #C6E2FF; padding: 10px; border-radius: 3px; box-shadow: 0 2px 4px rgba(0, 0, 0, 0.1); width:95%\n",
    "\">\n",
    "    <strong>▶▶▶ Directions</strong> \n",
    "        <ol>\n",
    "            <li>Filter all the rows before March 2020</li>\n",
    "            <li>Plot the percent change once again</li>\n",
    "            <li>Add a horizontal line at y=0 for clarity (already implemented).</li>\n",
    "        </ol>\n",
    "</div>"
   ]
  },
  {
   "cell_type": "code",
   "execution_count": null,
   "metadata": {},
   "outputs": [],
   "source": [
    "# filter the series\n",
    "cancel_pct_change_filtered = cancel_pct_change[None]\n",
    "\n",
    "# plot the result\n",
    "sns.None\n",
    "\n",
    "# Add a horizontal line at y=0\n",
    "plt.axhline(y=0, color='grey', linestyle='--', label=\"y=0\")"
   ]
  },
  {
   "cell_type": "markdown",
   "metadata": {},
   "source": [
    "<details open>\n",
    "<summary style=\"background-color: #c6e2ff6c; padding: 10px; border-radius: 3px; box-shadow: 0 2px 4px rgba(0, 0, 0, 0.01); width: 95%; text-align: left; cursor: pointer; font-weight: bold;\">\n",
    "Expected output:</summary> \n",
    "<br>\n",
    "\n",
    "<img src=\"imgsL2/pct_chg_filtered.png\" width=\"400\">\n",
    "\n",
    "</details>"
   ]
  },
  {
   "cell_type": "markdown",
   "metadata": {},
   "source": [
    "<details>\n",
    "<summary style=\"background-color: #FDBFC7; padding: 10px; border-radius: 3px; box-shadow: 0 2px 4px rgba(0, 0, 0, 0.1); width: 95%; text-align: left; cursor: pointer; font-weight: bold;\">\n",
    "Click here to see the solution</summary> \n",
    "\n",
    "<ul style=\"background-color: #FFF8F8; padding: 10px; border-radius: 3px; margin-top: 5px; width: 95%; box-shadow: inset 0 2px 4px rgba(0, 0, 0, 0.1);\">\n",
    "   \n",
    "Your solution should look something like this:\n",
    "\n",
    "```python\n",
    "# filter the series\n",
    "cancel_pct_change_filtered = cancel_pct_change[:\"2020-03-01\"]\n",
    "\n",
    "# plot the result\n",
    "sns.lineplot(cancel_pct_change)\n",
    "\n",
    "# Add a horizontal line at y=0\n",
    "plt.axhline(y=0, color='grey', linestyle='--', label=\"y=0\")\n",
    "```\n",
    "</details>"
   ]
  },
  {
   "cell_type": "markdown",
   "metadata": {},
   "source": [
    "This change rates are still huge, can you identify changes above 50%?\n",
    "<div style=\"background-color: #C6E2FF; padding: 10px; border-radius: 3px; box-shadow: 0 2px 4px rgba(0, 0, 0, 0.1); width:95%\n",
    "\">\n",
    "    <strong>▶▶▶ Directions</strong> \n",
    "        <ol>\n",
    "            <li> In the next cell, find the rows in <code>otp_per_month</code> where the percent change is greater than 50%  </li>\n",
    "        </ol>\n",
    "</div> "
   ]
  },
  {
   "cell_type": "code",
   "execution_count": null,
   "metadata": {},
   "outputs": [],
   "source": [
    "# filter the values in otp_per_month with a percent change greater than 50\n",
    "df_per_month[None]"
   ]
  },
  {
   "cell_type": "markdown",
   "metadata": {},
   "source": [
    "<details open>\n",
    "<summary style=\"background-color: #c6e2ff6c; padding: 10px; border-radius: 3px; box-shadow: 0 2px 4px rgba(0, 0, 0, 0.01); width: 95%; text-align: left; cursor: pointer; font-weight: bold;\">\n",
    "Expected output:</summary> \n",
    "<br>\n",
    "\n",
    "<img src=\"imgsL2/pct50.png\" width=\"250\">\n",
    "\n",
    "</details>"
   ]
  },
  {
   "cell_type": "markdown",
   "metadata": {},
   "source": [
    "<details>\n",
    "<summary style=\"background-color: #FDBFC7; padding: 10px; border-radius: 3px; box-shadow: 0 2px 4px rgba(0, 0, 0, 0.1); width: 95%; text-align: left; cursor: pointer; font-weight: bold;\">\n",
    "Click here to see the solution</summary> \n",
    "\n",
    "<ul style=\"background-color: #FFF8F8; padding: 10px; border-radius: 3px; margin-top: 5px; width: 95%; box-shadow: inset 0 2px 4px rgba(0, 0, 0, 0.1);\">\n",
    "   \n",
    "Your solution should look something like this:\n",
    "\n",
    "```python\n",
    "# filter the values in otp_per_month with a percent change greater than 50\n",
    "df_per_month[cancel_pct_change>50]\n",
    "```\n",
    "</details>"
   ]
  },
  {
   "cell_type": "markdown",
   "metadata": {},
   "source": [
    "Notice that almost half of the values happened during the two-year period of the pandemic.\n",
    "\n",
    "Congratulations for making it until the end of this lab. You will keep working on this dataset in Lesson 3. Hope you enjoyed it! "
   ]
  }
 ],
 "metadata": {
  "kernelspec": {
   "display_name": "Python 3 (ipykernel)",
   "language": "python",
   "name": "python3"
  },
  "language_info": {
   "codemirror_mode": {
    "name": "ipython",
    "version": 3
   },
   "file_extension": ".py",
   "mimetype": "text/x-python",
   "name": "python",
   "nbconvert_exporter": "python",
   "pygments_lexer": "ipython3",
   "version": "3.11.6"
  }
 },
 "nbformat": 4,
 "nbformat_minor": 4
}
