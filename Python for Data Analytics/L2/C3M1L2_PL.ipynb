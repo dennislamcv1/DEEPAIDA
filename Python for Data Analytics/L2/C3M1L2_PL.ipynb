{
 "cells": [
  {
   "cell_type": "markdown",
   "metadata": {},
   "source": [
    "# C3M1 Lesson 2 Practice Lab: Air Quality - Data Exploration\n",
    "\n",
    "You are working for a non-profit organization that is analyzing air quality in New York City. By analyzing the Air Quality dataset from the US Environmental Protection Agency (EPA), you aim to write health guidelines by identifying areas with the cleanest air. In particular, you will be looking into the annual average fine particlulate matter (PM 2.5) emissions. \n",
    "\n",
    "You will analyze a reduced version of the Air Quality dataset that contains information on New York City air quality surveillance data. In particular, you will be working with the following 3 features:\n",
    "\n",
    "- `geo_place_name`: name of the geographical region being measured.\n",
    "- `data_value`: annual average measurement of fine particles, measured in mcg/m3.\n",
    "- `year`: the year the measurements correspond to.\n",
    "\n",
    "## General instructions\n",
    "- **Replace any instances of `None` with your own code**. All `None`s must be replaced.\n",
    "- **Compare your results with the expected output** shown below the code.\n",
    "- **Check the solution** using the expandable cell to verify your answer.\n",
    "\n",
    "Happy coding!\n",
    "\n",
    "<div style=\"background-color: #FAD888; padding: 10px; border-radius: 3px; box-shadow: 0 2px 4px rgba(0, 0, 0, 0.1); width:95%\n",
    "\">\n",
    "<strong>Important note</strong>: Code blocks with None will not run properly. If you run them before completing the exercise, you will likely get an error. \n",
    "</div>"
   ]
  },
  {
   "cell_type": "markdown",
   "metadata": {},
   "source": [
    "## Table of Contents\n",
    "- [Step 1: Load the data](#step-1)\n",
    "- [Step 2: Fine particles by region](#step-2)\n",
    "- [Step 3: Adding new data](#step-3)\n",
    "- [Step 4: Finding the maximum observation](#step-4)"
   ]
  },
  {
   "cell_type": "markdown",
   "metadata": {},
   "source": [
    "<a id=\"step-1\"></a>\n",
    "\n",
    "## Step 1: Load the data\n",
    "Begin by loading the data. \n",
    "<div style=\"background-color: #C6E2FF; padding: 10px; border-radius: 3px; box-shadow: 0 2px 4px rgba(0, 0, 0, 0.1); width:95%\n",
    "\">\n",
    "    <strong>▶▶▶ Directions</strong> \n",
    "        <ol>\n",
    "            <li>Run the cell below to load the data.</li>\n",
    "        </ol>\n",
    "</div>\n",
    "\n",
    "Each feature is contained in its own list. For example, the variable `geo_place_name` is a list containing the name of the location being measured. It has the same elements as the column `geo_place_name` in the spreadsheet. Each element of the list corresponds to a row in the `geo_place_name` column in the csv file."
   ]
  },
  {
   "cell_type": "code",
   "execution_count": null,
   "metadata": {},
   "outputs": [],
   "source": [
    "from helper_functions import get_list\n",
    "\n",
    "geo_place_name = get_list('geo_place_name')\n",
    "data_value = get_list('data_value')\n",
    "year = get_list('year')"
   ]
  },
  {
   "cell_type": "markdown",
   "metadata": {},
   "source": [
    "#### Exercise 1: Types of Variables\n",
    "\n",
    "Start by printing the type of each of the variables. As you can imagine, they should all be lists, so you can also have a look at what type of elements each of the features has.\n",
    "\n",
    "<div style=\"background-color: #C6E2FF; padding: 10px; border-radius: 3px; box-shadow: 0 2px 4px rgba(0, 0, 0, 0.1); width:95%\n",
    "\">\n",
    "    <strong>▶▶▶ Directions</strong> \n",
    "        <ol>\n",
    "            <li>Use the cell below to print the type of the variable, and the type of data in each of the lists.</li>\n",
    "            <ul>\n",
    "                <li>The first row is completed for you. You should fill in the other two</li>\n",
    "            </ul>\n",
    "        </ol>\n",
    "</div>"
   ]
  },
  {
   "cell_type": "code",
   "execution_count": null,
   "metadata": {},
   "outputs": [],
   "source": [
    "print(\"Variable geo_place_name is of type\", type(geo_place_name), \", and its elements are of type\", type(geo_place_name[0]))\n",
    "\n",
    "# Complete the print statement for data_value\n",
    "print(\"Variable data_value is of type\", None, \", and its elements are of type\", None)\n",
    "\n",
    "# Complete the print statement for year\n",
    "print(\"Variable year is of type\", None, \", and its elements are of type\", None)"
   ]
  },
  {
   "cell_type": "markdown",
   "metadata": {},
   "source": [
    "<details open>\n",
    "<summary style=\"background-color: #c6e2ff6c; padding: 10px; border-radius: 3px; box-shadow: 0 2px 4px rgba(0, 0, 0, 0.01); width: 95%; text-align: left; cursor: pointer; font-weight: bold;\">\n",
    "Expected output:</summary> \n",
    "\n",
    "<small>\n",
    "\n",
    "```mkdn\n",
    "Variable geo_place_name is of type <class 'list'> , and its elements are of type  <class 'str'>\n",
    "Variable data_value is of type <class 'list'> , and its elements are of type  <class 'float'>\n",
    "Variable year is of type <class 'list'> , and its elements are of type  <class 'int'>\n",
    "```\n",
    "\n",
    "</small>\n",
    "</details>\n"
   ]
  },
  {
   "cell_type": "markdown",
   "metadata": {},
   "source": [
    "<details>\n",
    "<summary style=\"background-color: #FDBFC7; padding: 10px; border-radius: 3px; box-shadow: 0 2px 4px rgba(0, 0, 0, 0.1); width: 95%; text-align: left; cursor: pointer; font-weight: bold;\">\n",
    "Click here to see the solution</summary> \n",
    "\n",
    "<ul style=\"background-color: #FFF8F8; padding: 10px; border-radius: 3px; margin-top: 5px; width: 95%; box-shadow: inset 0 2px 4px rgba(0, 0, 0, 0.1);\">\n",
    "   \n",
    "Your solution should look something like this:\n",
    "\n",
    "```python\n",
    "print(\"Variable geo_place_name is of type \", type(geo_place_name), \", and its elements are of type \", type(geo_place_name[0]))\n",
    "# Complete the print statement for data_value\n",
    "print(\"Variable data_value is of type \", type(data_value), \", and its elements are of type \", type(data_value[0]))\n",
    "# Complete the print statement for year\n",
    "print(\"Variable year is of type \", type(year), \", and its elements are of type \", type(year[0]))\n",
    "```\n",
    "</details>"
   ]
  },
  {
   "cell_type": "markdown",
   "metadata": {},
   "source": [
    "#### Exercise 2: Length of the Lists\n",
    "\n",
    "Now see how many elements are in each variable, i.e. the length of the lists.\n",
    "\n",
    "<div style=\"background-color: #C6E2FF; padding: 10px; border-radius: 3px; box-shadow: 0 2px 4px rgba(0, 0, 0, 0.1); width:95%\n",
    "\">\n",
    "    <strong>▶▶▶ Directions</strong> \n",
    "        <ol>\n",
    "            <li>Use the cell below to print the length of each the variable</li>\n",
    "            <ul>\n",
    "                <li>The first row is completed for you. You should fill in the other two</li>\n",
    "            </ul>\n",
    "            <li>Answer the question: do all the lists have the same size?</li>\n",
    "            <ul>\n",
    "                <li>You can use the function <code>len()</code> to get the length (or size) of the variables.</li>\n",
    "            </ul>\n",
    "        </ol>\n",
    "</div>"
   ]
  },
  {
   "cell_type": "code",
   "execution_count": null,
   "metadata": {},
   "outputs": [],
   "source": [
    "print(\"Variable geo_place_name has length \", len(geo_place_name))\n",
    "\n",
    "# Complete the print statement for data_value\n",
    "print(\"Variable data_value has length \", None)\n",
    "\n",
    "# Complete the print statement for year\n",
    "print(\"Variable year has length \", None)"
   ]
  },
  {
   "cell_type": "markdown",
   "metadata": {},
   "source": [
    "<details open>\n",
    "<summary style=\"background-color: #c6e2ff6c; padding: 10px; border-radius: 3px; box-shadow: 0 2px 4px rgba(0, 0, 0, 0.01); width: 95%; text-align: left; cursor: pointer; font-weight: bold;\">\n",
    "Expected output:</summary> \n",
    "\n",
    "<small>\n",
    "\n",
    "```mkdn\n",
    "Variable geo_place_name has length  39\n",
    "Variable data_value has length  39\n",
    "Variable year has length  39\n",
    "\n",
    "Note: The expected output will change if you modify the lists (for example using .append() method in one of the later exercises).\n",
    "```\n",
    "\n",
    "</small>\n",
    "</details>\n"
   ]
  },
  {
   "cell_type": "markdown",
   "metadata": {},
   "source": [
    "<details>\n",
    "<summary style=\"background-color: #FDBFC7; padding: 10px; border-radius: 3px; box-shadow: 0 2px 4px rgba(0, 0, 0, 0.1); width: 95%; text-align: left; cursor: pointer; font-weight: bold;\">\n",
    "Click here to see the solution</summary> \n",
    "\n",
    "<ul style=\"background-color: #FFF8F8; padding: 10px; border-radius: 3px; margin-top: 5px; width: 95%; box-shadow: inset 0 2px 4px rgba(0, 0, 0, 0.1);\">\n",
    "   \n",
    "Your solution should look something like this:\n",
    "\n",
    "```python\n",
    "print(\"Variable geo_place_name has length \", len(geo_place_name))\n",
    "# Complete the print statement for data_value\n",
    "print(\"Variable data_value has length \", len(data_value))\n",
    "# Complete the print statement for year\n",
    "print(\"Variable year has length \", len(year))\n",
    "```\n",
    "</details>"
   ]
  },
  {
   "cell_type": "markdown",
   "metadata": {},
   "source": [
    "#### Exercise 3: Inspect the Lists\n",
    "\n",
    "Just for fun, what does the element at index 2 of the dataset look like? \n",
    "\n",
    "Remember you will need to get the element at index 2 from each of the variables to get the whole picture. Also, keep in mind that since Python starts indexing at 0, then the 3rd element happens at index 2. It might be confusing at first, but you will get used to it fast enough!\n",
    "\n",
    "<div style=\"background-color: #C6E2FF; padding: 10px; border-radius: 3px; box-shadow: 0 2px 4px rgba(0, 0, 0, 0.1); width:95%\n",
    "\">\n",
    "    <strong>▶▶▶ Directions</strong> \n",
    "        <ol>\n",
    "            <li>In the cell below, create a new list with the third observation of each list. </li>\n",
    "            <li>Print the list.</li>\n",
    "            <li>Compare the results with the spreadsheet. Which row of the spreadsheet should you be looking at?</li>\n",
    "        </ol>\n",
    "</div>\n",
    "\n",
    "**Hint:** Remember that to index a list, i.e. retrieving the element from a specific index, you use square brackets (`[]`) with the value of the index you want to retrieve."
   ]
  },
  {
   "cell_type": "code",
   "execution_count": null,
   "metadata": {},
   "outputs": [],
   "source": [
    "observation3 = [geo_place_name[None], data_value[None], year[None]]\n",
    "print(observation3)"
   ]
  },
  {
   "cell_type": "markdown",
   "metadata": {},
   "source": [
    "<details open>\n",
    "<summary style=\"background-color: #c6e2ff6c; padding: 10px; border-radius: 3px; box-shadow: 0 2px 4px rgba(0, 0, 0, 0.01); width: 95%; text-align: left; cursor: pointer; font-weight: bold;\">\n",
    "Expected output:</summary> \n",
    "\n",
    "<small>\n",
    "\n",
    "```mkdn\n",
    "['Chelsea - Clinton', 13.3, 2011]\n",
    "```\n",
    "\n",
    "</small>\n",
    "</details>\n"
   ]
  },
  {
   "cell_type": "markdown",
   "metadata": {},
   "source": [
    "<details>\n",
    "<summary style=\"background-color: #FDBFC7; padding: 10px; border-radius: 3px; box-shadow: 0 2px 4px rgba(0, 0, 0, 0.1); width: 95%; text-align: left; cursor: pointer; font-weight: bold;\">\n",
    "Click here to see the solution</summary> \n",
    "\n",
    "<ul style=\"background-color: #FFF8F8; padding: 10px; border-radius: 3px; margin-top: 5px; width: 95%; box-shadow: inset 0 2px 4px rgba(0, 0, 0, 0.1);\">\n",
    "   \n",
    "Your solution should look something like this:\n",
    "\n",
    "```python\n",
    "observation3 = [geo_place_name[2], data_value[2], year[2]]\n",
    "print(observation3)\n",
    "```\n",
    "</details>"
   ]
  },
  {
   "cell_type": "markdown",
   "metadata": {},
   "source": [
    "<a id=\"step-2\"></a>\n",
    "\n",
    "## Step 2: Getting the Average Value\n",
    "You want to get the average value of fine particles across all of your data.\n",
    "\n",
    "#### Exercise 4: Get the Sum of All Values\n",
    "\n",
    "You will start by summing all the data.\n",
    "\n",
    "<div style=\"background-color: #C6E2FF; padding: 10px; border-radius: 3px; box-shadow: 0 2px 4px rgba(0, 0, 0, 0.1); width:95%\n",
    "\">\n",
    "    <strong>▶▶▶ Directions</strong> \n",
    "        <ol>\n",
    "            <li>In the cell below: </li>\n",
    "                <ol>\n",
    "                    <li> Get the sum of all data values. </li>\n",
    "                    <li> Print the results</li>\n",
    "        </ol>\n",
    "</div>\n"
   ]
  },
  {
   "cell_type": "code",
   "execution_count": null,
   "metadata": {},
   "outputs": [],
   "source": [
    "# Get the sum of all the values\n",
    "sum_fine_particles = sum(None)\n",
    "\n",
    "# Print out the sum\n",
    "print(\"The sum of the annual average values of Fine Particles is \", None)"
   ]
  },
  {
   "cell_type": "markdown",
   "metadata": {},
   "source": [
    "<details open>\n",
    "<summary style=\"background-color: #c6e2ff6c; padding: 10px; border-radius: 3px; box-shadow: 0 2px 4px rgba(0, 0, 0, 0.01); width: 95%; text-align: left; cursor: pointer; font-weight: bold;\">\n",
    "Expected output:</summary> \n",
    "\n",
    "<small>\n",
    "\n",
    "```mkdn\n",
    "The sum of the annual average values of Fine Particles is  387.0999999999999\n",
    "\n",
    "Note: The expected output will change if you modify the lists (e.g. using .append() in one of the later exercises).\r\n",
    "```\n",
    "\n",
    "</small>\n",
    "</details>\n"
   ]
  },
  {
   "cell_type": "markdown",
   "metadata": {},
   "source": [
    "<details>\n",
    "<summary style=\"background-color: #FDBFC7; padding: 10px; border-radius: 3px; box-shadow: 0 2px 4px rgba(0, 0, 0, 0.1); width: 95%; text-align: left; cursor: pointer; font-weight: bold;\">\n",
    "Click here to see the solution</summary> \n",
    "\n",
    "<ul style=\"background-color: #FFF8F8; padding: 10px; border-radius: 3px; margin-top: 5px; width: 95%; box-shadow: inset 0 2px 4px rgba(0, 0, 0, 0.1);\">\n",
    "   \n",
    "Your solution should look something like this:\n",
    "\n",
    "```python\n",
    "# Get the sum of all the values\n",
    "sum_fine_particles = sum(data_value)\n",
    "# Print out the sum\n",
    "print(\"The sum of the annual average values of Fine Particles is \", sum_fine_particles)\n",
    "```\n",
    "</details>"
   ]
  },
  {
   "cell_type": "markdown",
   "metadata": {},
   "source": [
    "#### Exercise 5: Get the Average of All Values\n",
    "\n",
    "This is great, but the sum doesn't mean that much, because the original measurement is average annual value. It is better to find the average for all the reported years. To do this, you need to divide the previous value by the total number of observations.\n",
    "\n",
    "<div style=\"background-color: #C6E2FF; padding: 10px; border-radius: 3px; box-shadow: 0 2px 4px rgba(0, 0, 0, 0.1); width:95%\n",
    "\"> \n",
    "    <strong>▶▶▶ Directions</strong> \n",
    "        <ol>\n",
    "            <li>Use the cell below to calculate the average fine particles measurement for all the data. </li>\n",
    "            <li>Print the results</li>\n",
    "        </ol>\n",
    "</div>"
   ]
  },
  {
   "cell_type": "code",
   "execution_count": null,
   "metadata": {},
   "outputs": [],
   "source": [
    "# Find the average\n",
    "average_fine_particles = None / None\n",
    "\n",
    "print(\"The average values of Fine Particles is:\", None)"
   ]
  },
  {
   "cell_type": "markdown",
   "metadata": {},
   "source": [
    "<details open>\n",
    "<summary style=\"background-color: #c6e2ff6c; padding: 10px; border-radius: 3px; box-shadow: 0 2px 4px rgba(0, 0, 0, 0.01); width: 95%; text-align: left; cursor: pointer; font-weight: bold;\">\n",
    "Expected output:</summary> \n",
    "\n",
    "<small>\n",
    "\n",
    "```mkdn\n",
    "The average value of Fine Particles is: 9.925641025641024\n",
    "\n",
    "Note: The expected output will change if you modify the lists (for example using .append() method in one of the later exercises).\r\n",
    "```\n",
    "\n",
    "</small>\n",
    "</details>\n"
   ]
  },
  {
   "cell_type": "markdown",
   "metadata": {},
   "source": [
    "<details>\n",
    "<summary style=\"background-color: #FDBFC7; padding: 10px; border-radius: 3px; box-shadow: 0 2px 4px rgba(0, 0, 0, 0.1); width: 95%; text-align: left; cursor: pointer; font-weight: bold;\">\n",
    "Click here to see the solution</summary> \n",
    "\n",
    "<ul style=\"background-color: #FFF8F8; padding: 10px; border-radius: 3px; margin-top: 5px; width: 95%; box-shadow: inset 0 2px 4px rgba(0, 0, 0, 0.1);\">\n",
    "   \n",
    "Your solution should look something like this:\n",
    "\n",
    "```python\n",
    "# Find the average\n",
    "average_fine_particles = sum_fine_particles / len(data_value)\n",
    "\n",
    "print(\"The average value of Fine Particles is:\", average_fine_particles_CC)\n",
    "```\n",
    "</details>"
   ]
  },
  {
   "cell_type": "markdown",
   "metadata": {},
   "source": [
    "<a id=\"step-3\"></a>\n",
    "\n",
    "## Step 3: Adding new data\n",
    "\n",
    "You managed to get some more information, and now you have the Fine Particles average annual measurement for 2022 for the Chelsea - Clinton region. Of course you want to add that to your dataset! \n",
    "\n",
    "The values are summarized in the table below.\n",
    "\n",
    "| geo_place                  | data_value | year |\n",
    "|----------------------------|------------|------|\n",
    "| Chelsea - Clinton          | 8.4        | 2022 |\n",
    "\n",
    "\n",
    "#### Exercise 6: Add the Data To the Lists\n",
    "\n",
    "<br>\n",
    "<div style=\"background-color: #C6E2FF; padding: 10px; border-radius: 3px; box-shadow: 0 2px 4px rgba(0, 0, 0, 0.1); width:95%\n",
    "\">\n",
    "    <strong>▶▶▶ Directions</strong> \n",
    "        <ol>\n",
    "            <li> Add the new data corresponding to the Chelsea - Clinton region. </li>\n",
    "            <li> Use `.append()` on each of the three lists and add values from the table above.</li>\n",
    "            <li> Run the cell to append all the new data points to the variables. </li>\n",
    "        </ol>\n",
    "</div> "
   ]
  },
  {
   "cell_type": "code",
   "execution_count": null,
   "metadata": {},
   "outputs": [],
   "source": [
    "# Add the values for Chelsea-Clinton\n",
    "geo_place_name.None(\"Chelsea - Clinton\")\n",
    "data_value.None(8.4)\n",
    "year.None(2022)\n",
    "\n",
    "# print the last element of each list\n",
    "print(\"Updated geo_place_name: \", geo_place_name[39])\n",
    "print(\"Updated data_value: \", data_value[39])\n",
    "print(\"Updated year: \", year[39])"
   ]
  },
  {
   "cell_type": "markdown",
   "metadata": {},
   "source": [
    "<details open>\n",
    "<summary style=\"background-color: #c6e2ff6c; padding: 10px; border-radius: 3px; box-shadow: 0 2px 4px rgba(0, 0, 0, 0.01); width: 95%; text-align: left; cursor: pointer; font-weight: bold;\">\n",
    "Expected output:</summary> \n",
    "\n",
    "<small>\n",
    "\n",
    "```mkdn\n",
    "Updated geo_place_name:  Chelsea - Clinton\n",
    "Updated data_value:  8.4\n",
    "Updated year:  2022\n",
    "```\n",
    "\n",
    "</small>\n",
    "</details>\n"
   ]
  },
  {
   "cell_type": "markdown",
   "metadata": {},
   "source": [
    "<details>\n",
    "<summary style=\"background-color: #FDBFC7; padding: 10px; border-radius: 3px; box-shadow: 0 2px 4px rgba(0, 0, 0, 0.1); width: 95%; text-align: left; cursor: pointer; font-weight: bold;\">\n",
    "Click here to see the solution</summary> \n",
    "\n",
    "<ul style=\"background-color: #FFF8F8; padding: 10px; border-radius: 3px; margin-top: 5px; width: 95%; box-shadow: inset 0 2px 4px rgba(0, 0, 0, 0.1);\">\n",
    "   \n",
    "Your solution should look something like this:\n",
    "\n",
    "```python\n",
    "# Add the values for Chelsea-Clinton\n",
    "geo_place_name.append(\"Chelsea - Clinton\")\n",
    "data_value.append(8.4)\n",
    "year.append(2022)\n",
    "\n",
    "# print the last element of each list\n",
    "print(\"Updated geo_place_name: \", geo_place_name[39])\n",
    "print(\"Updated data_value: \", data_value[39])\n",
    "print(\"Updated year: \", year[39])\n",
    "```\n",
    "</details>"
   ]
  },
  {
   "cell_type": "markdown",
   "metadata": {},
   "source": [
    "<a id=\"step-2\"></a>\n",
    "\n",
    "## Step 4: Maximum fine particles observation\n",
    "\n",
    "You are worried about the big outbursts of contamination. Can you find which is the maximum measurement for the average yearly fine particles value? In what year and which region did this happen? \n",
    "\n",
    "#### Exercise 7: Find the Maximum Value\n",
    "\n",
    "<div style=\"background-color: #C6E2FF; padding: 10px; border-radius: 3px; box-shadow: 0 2px 4px rgba(0, 0, 0, 0.1); width:95%\n",
    "\">\n",
    "    <strong>▶▶▶ Directions</strong> \n",
    "        <ol>\n",
    "            <li> Find the maximum Fine Particles average annual measurement using the <code>max()</code> function.</li>\n",
    "            <li> Find the index where the maximum happened by inspecting the data.</li>\n",
    "            <li> Find the region (<code>geo_place_name</code>) where the maximum occurred.</li>\n",
    "            <li> Find the year in which the maximum occured.</li>\n",
    "            <li> Print the results </li>\n",
    "        </ol>\n",
    "</div> \n"
   ]
  },
  {
   "cell_type": "code",
   "execution_count": null,
   "metadata": {},
   "outputs": [],
   "source": [
    "# Find the maximum value\n",
    "max_value = None(None)\n",
    "\n",
    "# Find the index where the maximum occurred\n",
    "# This index was found for you, but you can inspect the data to confirm it.\n",
    "idx_max_value = 0\n",
    "\n",
    "# Find the region where the maximum occurred. \n",
    "# Access the geo_place_name variable at the idx_max_value position\n",
    "region_max = geo_place_name[None]\n",
    "\n",
    "# Find the year where the maximum occurred. \n",
    "# Access the year variable at the idx_max_value position\n",
    "year_max = year[None]\n",
    "\n",
    "# Print the results!\n",
    "print(\"The maximum fine particle emissions were \", max_value, \n",
    "      \" and they happened at \", \n",
    "      region_max, \" in the year \", year_max)"
   ]
  },
  {
   "cell_type": "markdown",
   "metadata": {},
   "source": [
    "<details open>\n",
    "<summary style=\"background-color: #c6e2ff6c; padding: 10px; border-radius: 3px; box-shadow: 0 2px 4px rgba(0, 0, 0, 0.01); width: 95%; text-align: left; cursor: pointer; font-weight: bold;\">\n",
    "Expected output:</summary> \n",
    "\n",
    "<small>\n",
    "\n",
    "```mkdn\n",
    "The maximum fine particle emissions were  14.2  and they happened at  Chelsea - Clinton  in the year  2009\n",
    "```\n",
    "\n",
    "</small>\n",
    "</details>\n"
   ]
  },
  {
   "cell_type": "markdown",
   "metadata": {},
   "source": [
    "<details>\n",
    "<summary style=\"background-color: #FDBFC7; padding: 10px; border-radius: 3px; box-shadow: 0 2px 4px rgba(0, 0, 0, 0.1); width: 95%; text-align: left; cursor: pointer; font-weight: bold;\">\n",
    "Click here to see the solution</summary> \n",
    "\n",
    "<ul style=\"background-color: #FFF8F8; padding: 10px; border-radius: 3px; margin-top: 5px; width: 95%; box-shadow: inset 0 2px 4px rgba(0, 0, 0, 0.1);\">\n",
    "   \n",
    "Your solution should look something like this:\n",
    "\n",
    "```python\n",
    "# Find the maximum value\n",
    "max_value = max(data_value)\n",
    "\n",
    "# Find the index where the maximum occurred\n",
    "# This index was found for you, but you can inspect the data to confirm it.\n",
    "idx_max_value = 0\n",
    "\n",
    "# Find the region where the maximum occurred. \n",
    "# Access the geo_place_name variable at the idx_max_value position\n",
    "region_max = geo_place_name[idx_max_value]\n",
    "\n",
    "# Find the year where the maximum occurred. \n",
    "# Access the year variable at the idx_max_value position\n",
    "year_max = year[idx_max_value]\n",
    "\n",
    "# Print the results!\n",
    "print(\"The maximum fine particle emissions were \", max_value, \n",
    "      \" and they happened at \", \n",
    "      region_max, \" in the year \", year_max)\n",
    "```\n",
    "</details>"
   ]
  },
  {
   "cell_type": "markdown",
   "metadata": {},
   "source": [
    "Congratulations for making it until the end of this lab. You will keep working on this dataset in Lesson 3. Hope you enjoyed it! "
   ]
  }
 ],
 "metadata": {
  "kernelspec": {
   "display_name": "Python 3 (ipykernel)",
   "language": "python",
   "name": "python3"
  },
  "language_info": {
   "codemirror_mode": {
    "name": "ipython",
    "version": 3
   },
   "file_extension": ".py",
   "mimetype": "text/x-python",
   "name": "python",
   "nbconvert_exporter": "python",
   "pygments_lexer": "ipython3",
   "version": "3.11.6"
  }
 },
 "nbformat": 4,
 "nbformat_minor": 4
}
