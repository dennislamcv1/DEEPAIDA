{
 "cells": [
  {
   "cell_type": "markdown",
   "metadata": {},
   "source": [
    "# C3M3 Lesson 2 Practice Lab: Flight delays and cancellations - Plotting with Seaborn\n",
    "\n",
    "After analyzing the monthly Australian flight delays and cancellations in your previous task, it’s time to expand your insights with more sophisticated visualizations.\n",
    "\n",
    "You will be working with a filtered version of the Domestic Airlines - On Time Performancen dataset from the Australian Government. This filtered version has only data for the 5 most popular routes. You will use the following columns in this lab:\n",
    "\n",
    "- `Route`: Plane route Departure City - Arrival City\n",
    "- `Airline`: name of the operating airline. If the value is \"All Airlines\", the data given represents aggregated values.\n",
    "- `Sectors_Scheduled`: how many flights were scheduled for the given airline and route for the given month\n",
    "- `Cancellations`: number of cancellations\n",
    "- `Month_Num`: month of the given data. 1:Jan, …, 12:Dec\n",
    "\n",
    "## General instructions\n",
    "- **Replace any instances of `None` with your own code**. All `None`s must be replaced.\n",
    "- **Compare your results with the expected output** shown below the code.\n",
    "- **Check the solution** using the expandable cell to verify your answer.\n",
    "\n",
    "Happy coding!\n",
    "\n",
    "<div style=\"background-color: #FAD888; padding: 10px; border-radius: 3px; box-shadow: 0 2px 4px rgba(0, 0, 0, 0.1); width:95%\n",
    "\">\n",
    "<strong>Important note</strong>: Code blocks with None will not run properly. If you run them before completing the exercise, you will likely get an error. \n",
    "\n",
    "</div>"
   ]
  },
  {
   "cell_type": "markdown",
   "metadata": {},
   "source": [
    "## Table of contents\n",
    "- [Step 1: Import libraries](#import-libraries)\n",
    "- [Step 2: Load the data](#load-the-data)\n",
    "- [Step 3: Understanding the distribution of cancellations](#understanding-the-distribution-of-cancellations)\n",
    "    - [Histograms](#histograms)\n",
    "    - [Box-plots](#box-plots)\n",
    "    - [Cancellation rates by airline](#cancellation-rates-by-airline)\n",
    "- [Step 4: Cancellations by month](#cancellations-by-month)"
   ]
  },
  {
   "cell_type": "markdown",
   "metadata": {},
   "source": [
    "<a id=\"import-libraries\"></a>\n",
    "\n",
    "## Step 1: Import libraries\n",
    "This time you will need to import matplotlib in addition to pandas."
   ]
  },
  {
   "cell_type": "code",
   "execution_count": null,
   "metadata": {},
   "outputs": [],
   "source": [
    "import pandas as pd\n",
    "import matplotlib.pyplot as plt\n",
    "import seaborn as sns"
   ]
  },
  {
   "cell_type": "markdown",
   "metadata": {},
   "source": [
    "<a id=\"load-the-data\"></a>\n",
    "\n",
    "## Step 2: Load the data\n",
    "Run the cell below to load the data."
   ]
  },
  {
   "cell_type": "code",
   "execution_count": null,
   "metadata": {},
   "outputs": [],
   "source": [
    "df = pd.read_csv(\"otp_top5_routes.csv\")\n",
    "df.head()"
   ]
  },
  {
   "cell_type": "markdown",
   "metadata": {},
   "source": [
    "<a id=\"understanding-the-distribution-of-cancellations\"></a>\n",
    "\n",
    "## Step 3: Understanding the distribution of cancellations\n",
    "So far you were able to identify which routes suffered more cancellations, and which airlines where responsible for those cancellations. Descriptive statistics are super useful for that, however now you want to know the distribution of variable. That way you can know if months with high cancellation rates are outliers, or if they are really a permanent issue for some airlines.\n",
    "\n",
    "<a id=\"histograms\"></a>\n",
    "\n",
    "### Histograms\n",
    "<div style=\"background-color: #C6E2FF; padding: 10px; border-radius: 3px; box-shadow: 0 2px 4px rgba(0, 0, 0, 0.1); width:95%\n",
    "\">\n",
    "    <strong>▶▶▶ Directions</strong> \n",
    "        <ol>\n",
    "            <li>In the next cell, create a column called \"Cancellation_Rates\" that contains the ratio of canceled flights to the total number of scheduled flights</li>\n",
    "            <li>Plot the distribution of the cancellation rates.</li>\n",
    "            <ul>\n",
    "                <li> Use \"otp\" as data and \"Cancellation_Rates\" as x</li>\n",
    "                <li> Change the x-axis label to \"Cancellation Rates\"</li>\n",
    "                <li> Add the title \"Cancellation rates distribution\"</li>\n",
    "            </ul>\n",
    "        </ol>\n",
    "</div>\n"
   ]
  },
  {
   "cell_type": "code",
   "execution_count": null,
   "metadata": {},
   "outputs": [],
   "source": [
    "### START CODE HERE ###\n",
    "\n",
    "# find the proportion of cancelled flights (divide cancellations by the scheduled flights)\n",
    "df[\"Cancellation_Rates\"] = df[None] / df[None]\n",
    "\n",
    "# plot the histogram\n",
    "sns.histplot(data=None, x=None)\n",
    "# change xlabel\n",
    "plt.xlabel(None)\n",
    "# add the title\n",
    "plt.title(None)\n",
    "\n",
    "plt.show()\n",
    "\n",
    "### END CODE HERE ###"
   ]
  },
  {
   "cell_type": "markdown",
   "metadata": {},
   "source": [
    "<details open>\n",
    "<summary style=\"background-color: #c6e2ff6c; padding: 10px; border-radius: 3px; box-shadow: 0 2px 4px rgba(0, 0, 0, 0.01); width: 95%; text-align: left; cursor: pointer; font-weight: bold;\">\n",
    "Expected output:</summary> \n",
    "\n",
    "<img src=\"imgsL2/hist.png\" width=\"350\">\n",
    "\n",
    "</details>"
   ]
  },
  {
   "cell_type": "markdown",
   "metadata": {},
   "source": [
    "<details>\n",
    "<summary style=\"background-color: #FDBFC7; padding: 10px; border-radius: 3px; box-shadow: 0 2px 4px rgba(0, 0, 0, 0.1); width: 95%; text-align: left; cursor: pointer; font-weight: bold;\">\n",
    "Click here to see the solution</summary> \n",
    "\n",
    "<ul style=\"background-color: #FFF8F8; padding: 10px; border-radius: 3px; margin-top: 5px; width: 95%; box-shadow: inset 0 2px 4px rgba(0, 0, 0, 0.1);\">\n",
    "   \n",
    "Your solution should look something like this:\n",
    "\n",
    "```python\n",
    "# find the proportion of cancelled flights (divide cancellations by the scheduled flights)\n",
    "df[\"Cancellation_Rates\"] = df[\"Cancellations\"] / df[\"Sectors_Scheduled\"]\n",
    "\n",
    "# plot the histogram\n",
    "sns.histplot(data=df, x=\"Cancellation_Rates\")\n",
    "# change xlabel\n",
    "plt.xlabel(\"Cancellation Rates\")\n",
    "# add the title\n",
    "plt.title(\"Cancellation rates distribution\")\n",
    "\n",
    "plt.show()\n",
    "```\n",
    "</details>"
   ]
  },
  {
   "cell_type": "markdown",
   "metadata": {},
   "source": [
    "That is a great visualization. It is telling you that most cancellation rates are small(\\<0.1), but that the distribution does have a long tail. What can you say about skewness of this data?\n",
    "\n",
    "<a id=\"box-plots\"></a>\n",
    "\n",
    "### Boxplots\n",
    "While the histogram shows the distribution of cancellation rates, giving you an overall sense of their frequency and spread, you decide to complement this with a boxplot. Boxplots allow you to compare the central tendency (median), spread (quartiles), and identify any outliers across categories like airlines or routes, providing a more concise view of the data’s variability. Find more about Seaborn boxplots in the [official documentation](https://seaborn.pydata.org/generated/seaborn.boxplot.html).\n",
    "\n",
    "<div style=\"background-color: #C6E2FF; padding: 10px; border-radius: 3px; box-shadow: 0 2px 4px rgba(0, 0, 0, 0.1); width:95%\n",
    "\">\n",
    "    <strong>▶▶▶ Directions</strong> \n",
    "        <ol>\n",
    "            <li>Use the cell below to create a boxplot for the cancellation rate</li>\n",
    "            <ul>\n",
    "                <li> Change the x-axis label to \"Cancellation Rates\"</li>\n",
    "                <li> Add the title \"Cancellation rates box-plot\"</li>\n",
    "            </ul>\n",
    "        </ol>\n",
    "</div>"
   ]
  },
  {
   "cell_type": "code",
   "execution_count": null,
   "metadata": {},
   "outputs": [],
   "source": [
    "### START CODE HERE ###\n",
    "\n",
    "#create the boxplot\n",
    "sns.boxplot(data=None, x=None)\n",
    "# change xlabel\n",
    "plt.None\n",
    "# add the title\n",
    "plt.None\n",
    "# Remove the spines\n",
    "sns.despine()\n",
    "\n",
    "plt.show()\n",
    "\n",
    "### END CODE HERE ###"
   ]
  },
  {
   "cell_type": "markdown",
   "metadata": {},
   "source": [
    "<details open>\n",
    "<summary style=\"background-color: #c6e2ff6c; padding: 10px; border-radius: 3px; box-shadow: 0 2px 4px rgba(0, 0, 0, 0.01); width: 95%; text-align: left; cursor: pointer; font-weight: bold;\">\n",
    "Expected output:</summary> \n",
    "\n",
    "Your plot should look something like this.\n",
    "\n",
    "<img src=\"imgsL2/boxplot.png\" width=\"400\">\n",
    "\n",
    "</details>"
   ]
  },
  {
   "cell_type": "markdown",
   "metadata": {},
   "source": [
    "<details>\n",
    "<summary style=\"background-color: #FDBFC7; padding: 10px; border-radius: 3px; box-shadow: 0 2px 4px rgba(0, 0, 0, 0.1); width: 95%; text-align: left; cursor: pointer; font-weight: bold;\">\n",
    "Click here to see the solution</summary> \n",
    "\n",
    "<ul style=\"background-color: #FFF8F8; padding: 10px; border-radius: 3px; margin-top: 5px; width: 95%; box-shadow: inset 0 2px 4px rgba(0, 0, 0, 0.1);\">\n",
    "   \n",
    "Your solution should look something like this:\n",
    "\n",
    "```python\n",
    "#create the boxplot\n",
    "sns.boxplot(data=df, x=\"Cancellation_Rates\")\n",
    "# change xlabel\n",
    "plt.xlabel(\"Cancellation Rates\")\n",
    "# add the title\n",
    "plt.title(\"Cancellation rates box-plot\")\n",
    "# Remove the spines\n",
    "sns.despine()\n",
    "\n",
    "plt.show()\n",
    "```\n",
    "</details>"
   ]
  },
  {
   "cell_type": "markdown",
   "metadata": {},
   "source": [
    "You can see the long tail of outliers for this distribution. \n",
    "\n",
    "\n",
    "<a id=\"cancellation-rates-by-airline\"></a>\n",
    "\n",
    "### Cancellation rates by airline\n",
    "\n",
    "What if you want to see how the airlines differ? Boxplots are great for highlighting differences in their central tendencies, spread and potential outliers.\n",
    "\n",
    "<div style=\"background-color: #C6E2FF; padding: 10px; border-radius: 3px; box-shadow: 0 2px 4px rgba(0, 0, 0, 0.1); width:95%\n",
    "\">\n",
    "    <strong>▶▶▶ Directions</strong> \n",
    "        <ol>\n",
    "            <li>Use the cell below to create a boxplot for the cancellation rate. You can use the <code>hue</code> named argument.</li>\n",
    "            <ul>\n",
    "                <li>Change the x-axis label to \"Cancellation Rates\".</li>\n",
    "                <li>Add the title \"Cancellation rates by airline\".</li>\n",
    "                <li>Change the position of the legend to outside the plot, so it doesn't block any outliers.</li>\n",
    "            </ul>\n",
    "        </ol>\n",
    "    <strong>Note:</strong> You may see a warning about the hue (the same one as you have seen in the lectures) when running the next cell. You dont need to worry about it.\n",
    "</div>"
   ]
  },
  {
   "cell_type": "code",
   "execution_count": null,
   "metadata": {},
   "outputs": [],
   "source": [
    "### START CODE HERE ###\n",
    "\n",
    "#create the boxplot. Use hue to separate by airline\n",
    "sns.boxplot(data=None, x=None, hue=None)\n",
    "# change xlabel\n",
    "plt.None\n",
    "# add the title\n",
    "plt.None\n",
    "# change the legend position\n",
    "plt.legend(loc=\"upper right\", bbox_to_anchor=(1.4, 1))\n",
    "# Remove the spines\n",
    "sns.despine()\n",
    "\n",
    "\n",
    "plt.show()\n",
    "\n",
    "### END CODE HERE ###"
   ]
  },
  {
   "cell_type": "markdown",
   "metadata": {},
   "source": [
    "<details open>\n",
    "<summary style=\"background-color: #c6e2ff6c; padding: 10px; border-radius: 3px; box-shadow: 0 2px 4px rgba(0, 0, 0, 0.01); width: 95%; text-align: left; cursor: pointer; font-weight: bold;\">\n",
    "Expected output:</summary> \n",
    "<br>\n",
    "\n",
    "<img src=\"imgsL2/boxplot_airline.png\" width=\"400\">\n",
    "\n",
    "</details>"
   ]
  },
  {
   "cell_type": "markdown",
   "metadata": {},
   "source": [
    "<details>\n",
    "<summary style=\"background-color: #FDBFC7; padding: 10px; border-radius: 3px; box-shadow: 0 2px 4px rgba(0, 0, 0, 0.1); width: 95%; text-align: left; cursor: pointer; font-weight: bold;\">\n",
    "Click here to see the solution</summary> \n",
    "\n",
    "<ul style=\"background-color: #FFF8F8; padding: 10px; border-radius: 3px; margin-top: 5px; width: 95%; box-shadow: inset 0 2px 4px rgba(0, 0, 0, 0.1);\">\n",
    "   \n",
    "Your solution should look something like this:\n",
    "\n",
    "```python\n",
    "#create the boxplot. Use hue to separate by airline\n",
    "sns.boxplot(data=df, x=\"Cancellation_Rates\", hue=\"Airline\")\n",
    "# change xlabel\n",
    "plt.xlabel(\"Cancellation Rates\")\n",
    "# add the title\n",
    "plt.title(\"Cancellation rates by airline\")\n",
    "# change the legend position\n",
    "plt.legend(loc=\"upper right\", bbox_to_anchor=(1.4, 1))\n",
    "# Remove the spines\r\n",
    "sns.despine()\n",
    "\n",
    "plt.show()\n",
    "```\n",
    "</details>"
   ]
  },
  {
   "cell_type": "markdown",
   "metadata": {},
   "source": [
    "There are some really interesting insights you can get from here! For example, which is the airline with the biggest median cancellation rate? Which are the ones with the largest outliers? Which airline seems more secure?\n",
    "\n",
    "<a id=\"cancellations-by-month\"></a>\n",
    "\n",
    "## Step 4: Cancellations by month\n",
    "\n",
    "Flight cancellations don't just depend on the airline—they can also vary across times of the year. To spot these patterns, create a heatmap showing cancellation rates by route and month. This will help you identify which routes and seasons are more prone to disruptions, so you can make better booking recommendations. Find more about the Seaborn heatmap [here](https://seaborn.pydata.org/generated/seaborn.heatmap.html).\n",
    "\n",
    "<div style=\"background-color: #C6E2FF; padding: 10px; border-radius: 3px; box-shadow: 0 2px 4px rgba(0, 0, 0, 0.1); width:95%\n",
    "\">\n",
    "    <strong>▶▶▶ Directions</strong> \n",
    "        <ol>\n",
    "            <li>The code for the heatmap has been already filled in for you. Feel free to play around with it. You still have the solution written down below, in case you want to restore the original.</li>\n",
    "        </ol>\n",
    "</div>\n"
   ]
  },
  {
   "cell_type": "code",
   "execution_count": null,
   "metadata": {},
   "outputs": [],
   "source": [
    "### START CODE HERE ###\n",
    "\n",
    "heatmap_data = df.pivot_table(\n",
    "    index=\"Route\", \n",
    "    columns=\"Month_Num\", \n",
    "    values=\"Cancellation_Rates\", \n",
    "    aggfunc=\"mean\"\n",
    ")\n",
    "\n",
    "# create a new figure with the desired size\n",
    "plt.figure(figsize=(10,6))\n",
    "sns.heatmap(\n",
    "    heatmap_data, \n",
    "    annot=True, \n",
    "    fmt=\".2f\", \n",
    "    cmap=\"Reds\", \n",
    "    cbar_kws={\"label\": \"Cancellation Rate\"},\n",
    "    vmin=0,\n",
    "    square=True)\n",
    "plt.title(\"Cancellation Rates by Route and Month\", fontsize=16)\n",
    "plt.xlabel(\"Month\")\n",
    "plt.xticks(ticks=range(1, 13), labels=[\n",
    "    \"Jan\", \"Feb\", \"Mar\", \"Apr\", \"May\", \"Jun\", \n",
    "    \"Jul\", \"Aug\", \"Sep\", \"Oct\", \"Nov\", \"Dec\"\n",
    "])\n",
    "plt.show()\n",
    "\n",
    "### END CODE HERE ###"
   ]
  },
  {
   "cell_type": "markdown",
   "metadata": {},
   "source": [
    "<details open>\n",
    "<summary style=\"background-color: #c6e2ff6c; padding: 10px; border-radius: 3px; box-shadow: 0 2px 4px rgba(0, 0, 0, 0.01); width: 95%; text-align: left; cursor: pointer; font-weight: bold;\">\n",
    "Expected output:</summary> \n",
    "<br>\n",
    "\n",
    "<img src=\"imgsL2/heatmap.png\" width=\"400\">\n",
    "\n",
    "</details>"
   ]
  },
  {
   "cell_type": "markdown",
   "metadata": {},
   "source": [
    "<details>\n",
    "<summary style=\"background-color: #FDBFC7; padding: 10px; border-radius: 3px; box-shadow: 0 2px 4px rgba(0, 0, 0, 0.1); width: 95%; text-align: left; cursor: pointer; font-weight: bold;\">\n",
    "Click here to see the solution</summary> \n",
    "\n",
    "<ul style=\"background-color: #FFF8F8; padding: 10px; border-radius: 3px; margin-top: 5px; width: 95%; box-shadow: inset 0 2px 4px rgba(0, 0, 0, 0.1);\">\n",
    "   \n",
    "Your solution should look something like this:\n",
    "\n",
    "```python\n",
    "heatmap_data = otp.pivot_table(\n",
    "    index=\"Route\", \n",
    "    columns=\"Month_Num\", \n",
    "    values=\"Cancellation_Rates\", \n",
    "    aggfunc=\"mean\"\n",
    ")\n",
    "\n",
    "# create a new figure with the desired size\n",
    "plt.figure(figsize=(10,6))\n",
    "sns.heatmap(\n",
    "    heatmap_data, \n",
    "    annot=True, \n",
    "    fmt=\".2f\", \n",
    "    cmap=\"Reds\", \n",
    "    cbar_kws={\"label\": \"Cancellation Rate\"},\n",
    "    vmin=0,\n",
    "    square=True)\n",
    "plt.title(\"Cancellation Rates by Route and Month\", fontsize=16)\n",
    "plt.xlabel(\"Month\")\n",
    "plt.xticks(ticks=range(1, 13), labels=[\n",
    "    \"Jan\", \"Feb\", \"Mar\", \"Apr\", \"May\", \"Jun\", \n",
    "    \"Jul\", \"Aug\", \"Sep\", \"Oct\", \"Nov\", \"Dec\"\n",
    "])\n",
    "plt.show()\n",
    "```\n",
    "</details>"
   ]
  },
  {
   "cell_type": "markdown",
   "metadata": {},
   "source": [
    "Which are the month-route pairs with the largest average cancellation rates? Which season is riskier overall? Remember that Australia is in the Southern hemisphere, so summer is during Dec21-March21, and winter happens from Jun21-Sept21. "
   ]
  },
  {
   "cell_type": "markdown",
   "metadata": {},
   "source": [
    "Congratulations for making it until the end of this lab. You will keep working on this dataset in Lesson 3. Hope you enjoyed it! "
   ]
  }
 ],
 "metadata": {
  "kernelspec": {
   "display_name": "Python 3 (ipykernel)",
   "language": "python",
   "name": "python3"
  },
  "language_info": {
   "codemirror_mode": {
    "name": "ipython",
    "version": 3
   },
   "file_extension": ".py",
   "mimetype": "text/x-python",
   "name": "python",
   "nbconvert_exporter": "python",
   "pygments_lexer": "ipython3",
   "version": "3.11.6"
  }
 },
 "nbformat": 4,
 "nbformat_minor": 4
}
