{
 "cells": [
  {
   "cell_type": "markdown",
   "metadata": {
    "editable": true,
    "read_only": true,
    "slideshow": {
     "slide_type": ""
    },
    "tags": []
   },
   "source": [
    "# Practice Lab: Buenos Aires Subway - Sorting and filtering\n",
    "\n",
    "You're continuing your exploration of the Buenos Aires Subway system and want to look at the busiest stations. You now have all passenger counts for all stations in the subway network, for all open hours for the month of March 2024. This will be *a lot* more information than before. Your analysis can help you recommend if a station will need more train cars to accommodate the traffic or how much resources are needed for crowd control. \n",
    "\n",
    "<div style=\"text-align: center;\">\n",
    "<img src=\"imgsL2/subway_map_wcircle.jpg\" alt=\"Subway map\" width=\"600\"/>\n",
    "</div>\n",
    "\n",
    "## General instructions\n",
    "- **Replace any instances of `None` with your own code**. All `None`s must be replaced.\n",
    "- **Compare your results with the expected output** shown below the code.\n",
    "- **Check the solution** using the expandable cell to verify your answer.\n",
    "\n",
    "Happy coding!\n",
    "\n",
    "<div style=\"background-color: #FAD888; padding: 10px; border-radius: 3px; box-shadow: 0 2px 4px rgba(0, 0, 0, 0.1); width:95%\n",
    "\">\n",
    "<strong>Important note</strong>: Code blocks with None will not run properly. If you run them before completing the exercise, you will likely get an error. \n",
    "</div>"
   ]
  },
  {
   "cell_type": "markdown",
   "metadata": {
    "editable": true,
    "slideshow": {
     "slide_type": ""
    },
    "tags": []
   },
   "source": [
    "## Table of Contents\n",
    "\n",
    "- [Step 1: Load and sort the dataset](#step-1)\n",
    "- [Step 2: Filter a subway line](#step-2)\n",
    "- [Step 3: Select rows](#step-3)\n",
    "- [Step 4: Filter rush hours](#step-4)"
   ]
  },
  {
   "cell_type": "markdown",
   "metadata": {
    "slideshow": {
     "slide_type": ""
    },
    "tags": []
   },
   "source": [
    "<a id=\"step-1\"></a>\n",
    "## Step 1: Load and sort the dataset\n",
    "\n",
    "The cell below imports the CSV you will be working with. This data corresponds to the number of passengers at every station in the subway system of Buenos Aires in March 2024, with an hourly granularity. It consists of 5 features:\n",
    "\n",
    "- `date`: date of the observation, in format YYYY-MM-DD\n",
    "- `hour`: hour of the observation\n",
    "- `station`: name of the subway station\n",
    "- `line`: name of the subway line (A, B, C, D, E, H). Each line corresponds to one of the colored lines in the map above.\n",
    "- `pax_TOTAL`: total number of passengers at the station "
   ]
  },
  {
   "cell_type": "code",
   "execution_count": null,
   "metadata": {},
   "outputs": [],
   "source": [
    "# import pandas\n",
    "import pandas as pd\n",
    "\n",
    "# Load the data\n",
    "df = pd.read_csv(\"march2024_pax_hourly.csv\")\n",
    "\n",
    "# Show the first few rows\n",
    "df.head()"
   ]
  },
  {
   "cell_type": "markdown",
   "metadata": {},
   "source": [
    "You can use a function defined in the `helper_functions.py` file in your workspace to print the number of rows and unique stations in the DataFrame."
   ]
  },
  {
   "cell_type": "code",
   "execution_count": null,
   "metadata": {},
   "outputs": [],
   "source": [
    "import helper_functions\n",
    "\n",
    "# Utility function for printing rows and stations\n",
    "helper_functions.print_rows_stations(df)"
   ]
  },
  {
   "cell_type": "markdown",
   "metadata": {},
   "source": [
    "Now that you've seen some characteristics of the dataset, you want to sort it by `line` and `pax_TOTAL` so you can analyze the busiest times in each subway line."
   ]
  },
  {
   "cell_type": "markdown",
   "metadata": {},
   "source": [
    "<div style=\"background-color: #C6E2FF; padding: 10px; border-radius: 3px; box-shadow: 0 2px 4px rgba(0, 0, 0, 0.1); width:95%\n",
    "\">\n",
    "    <strong>▶▶▶ Directions</strong> \n",
    "        <ol>\n",
    "            <li>Define a <code>columns</code> variable to hold the list of features that you want to sort the dataset by. These will be by <code>line</code> first, then <code>pax_TOTAL</code>.\n",
    "            <li>Define an <code>order</code> variable to contain boolean values. These will specify if you will sort a feature in ascending order or not. You will sort <code>line</code> <b>ascending</b>, then <code>pax_TOTAL</code> <b>descending</b>.\n",
    "            <li>Use the <code>sort_values()</code> method to sort the <df> DataFrame by the columns in the orders you specified. Store the result in <code>df_sorted</code></li>\n",
    "        </ol>\n",
    "</div>"
   ]
  },
  {
   "cell_type": "code",
   "execution_count": null,
   "metadata": {},
   "outputs": [],
   "source": [
    "### START CODE HERE ###\n",
    "\n",
    "# Create a list of strings to hold two features: 'line' and 'pax_TOTAL'.\n",
    "columns = [None]\n",
    "\n",
    "# Create a list of booleans to specify the sorting order. 'line' is ascending, 'pax_TOTAL' is descending.\n",
    "order = [None]\n",
    "\n",
    "# Sort the dataframe by the columns and order you specified.\n",
    "df_sorted = None\n",
    "\n",
    "### END CODE HERE ###\n",
    "\n",
    "# Preview the results\n",
    "df_sorted.head()"
   ]
  },
  {
   "cell_type": "markdown",
   "metadata": {},
   "source": [
    "<details open>\n",
    "<summary style=\"background-color: #c6e2ff6c; padding: 10px; border-radius: 3px; box-shadow: 0 2px 4px rgba(0, 0, 0, 0.01); width: 95%; text-align: left; cursor: pointer; font-weight: bold;\">\n",
    "Expected output:</summary> \n",
    "\n",
    "<br>\n",
    "<img src=\"imgsL2/output_step1.png\" width=\"400\">\n",
    "</details>\n"
   ]
  },
  {
   "cell_type": "markdown",
   "metadata": {},
   "source": [
    "<details>\n",
    "<summary style=\"background-color: #FDBFC7; padding: 10px; border-radius: 3px; box-shadow: 0 2px 4px rgba(0, 0, 0, 0.1); width: 95%; text-align: left; cursor: pointer; font-weight: bold;\">\n",
    "Click here to see the solution</summary> \n",
    "\n",
    "<ul style=\"background-color: #FFF8F8; padding: 10px; border-radius: 3px; margin-top: 5px; width: 95%; box-shadow: inset 0 2px 4px rgba(0, 0, 0, 0.1);\">\n",
    "   \n",
    "Your solution should look something like this:\n",
    "\n",
    "```python\n",
    "# Create a list of strings to hold two features: 'line' and 'pax_TOTAL'.\n",
    "columns = [\"line\", \"pax_TOTAL\"]\n",
    "\n",
    "# Create a list of booleans to specify the sorting order. 'line' is ascending, 'pax_TOTAL' is descending.\n",
    "order = [True, False]\n",
    "\n",
    "# Sort the dataframe by the columns and order you specified.\n",
    "df_sorted = df.sort_values(by=columns, ascending=order)\n",
    "```\n",
    "</details>"
   ]
  },
  {
   "cell_type": "markdown",
   "metadata": {},
   "source": [
    "<a id=\"step-2\"></a>\n",
    "\n",
    "## Step 2: Filter a subway line\n",
    "\n",
    "Now that you have the sorted dataset. You can filter a subway line and it will return a sorted dataset by total passengers. For this exercise, you will filter line E."
   ]
  },
  {
   "cell_type": "markdown",
   "metadata": {},
   "source": [
    "<div style=\"background-color: #C6E2FF; padding: 10px; border-radius: 3px; box-shadow: 0 2px 4px rgba(0, 0, 0, 0.1); width:95%\n",
    "\">\n",
    "    <strong>▶▶▶ Directions</strong> \n",
    "        <ol>\n",
    "            <li>Filter <code>df_sorted</code> for data points that are in <b>line E</b>.\n",
    "        </ol>\n",
    "</div>"
   ]
  },
  {
   "cell_type": "code",
   "execution_count": null,
   "metadata": {},
   "outputs": [],
   "source": [
    "# You can change this later if you want. You can choose from: [A, B, C, D, E, H].\n",
    "line = 'E'\n",
    "\n",
    "### START CODE HERE ###\n",
    "\n",
    "# Filter `df_sorted` for rows that match the line specified\n",
    "df_filter_line = None\n",
    "\n",
    "### END CODE HERE\n",
    "\n",
    "helper_functions.print_rows_stations(df_filter_line)"
   ]
  },
  {
   "cell_type": "markdown",
   "metadata": {},
   "source": [
    "<details open>\n",
    "<summary style=\"background-color: #c6e2ff6c; padding: 10px; border-radius: 3px; box-shadow: 0 2px 4px rgba(0, 0, 0, 0.01); width: 95%; text-align: left; cursor: pointer; font-weight: bold;\">\n",
    "Expected output:</summary> \n",
    "\n",
    "```text\n",
    "number of rows: 10135\n",
    "\n",
    "stations in this DataFrame:\n",
    "['Independencia.H' 'Bolivar' 'Pza. de los Virreyes' 'Catalinas'\n",
    " 'Correo Central' 'General Belgrano' 'Avenida La Plata' 'Emilio Mitre'\n",
    " 'Jose Maria Moreno' 'Retiro E' 'Boedo' 'Urquiza' 'San Jose' 'Entre Rios'\n",
    " 'Varela' 'Medalla Milagrosa' 'Pichincha' 'Jujuy']\n",
    "```\n",
    "</details>\n"
   ]
  },
  {
   "cell_type": "markdown",
   "metadata": {},
   "source": [
    "<details>\n",
    "<summary style=\"background-color: #FDBFC7; padding: 10px; border-radius: 3px; box-shadow: 0 2px 4px rgba(0, 0, 0, 0.1); width: 95%; text-align: left; cursor: pointer; font-weight: bold;\">\n",
    "Click here to see the solution</summary> \n",
    "\n",
    "<ul style=\"background-color: #FFF8F8; padding: 10px; border-radius: 3px; margin-top: 5px; width: 95%; box-shadow: inset 0 2px 4px rgba(0, 0, 0, 0.1);\">\n",
    "   \n",
    "Your solution should look something like this:\n",
    "\n",
    "```python\n",
    "# Filter `df_sorted` for rows that match the line specified\n",
    "df_filter_line = df_sorted[df_sorted[\"line\"]==line]\n",
    "```\n",
    "</details>"
   ]
  },
  {
   "cell_type": "markdown",
   "metadata": {},
   "source": [
    "If you look at the resulting DataFrame, every row should have the `line` column equals `E`."
   ]
  },
  {
   "cell_type": "code",
   "execution_count": null,
   "metadata": {},
   "outputs": [],
   "source": [
    "# Preview the result\n",
    "df_filter_line.head()"
   ]
  },
  {
   "cell_type": "markdown",
   "metadata": {},
   "source": [
    "<a id=\"step-3\"></a>\n",
    "\n",
    "## Step 3: Select top rows\n",
    "\n",
    "You only want the most crowded times so you need to reduce the dataset. There are many ways to do this but for this exercise, you will practice slicing the dataset to select a range of rows.\n",
    "\n",
    "<div style=\"background-color: #C6E2FF; padding: 10px; border-radius: 3px; box-shadow: 0 2px 4px rgba(0, 0, 0, 0.1); width:95%\n",
    "\">\n",
    "    <strong>▶▶▶ Directions</strong> \n",
    "        <ol>\n",
    "            <li>Use the <code>iloc()</code> method on <code>df_filter_line</code> to slice the first 500 rows. Assign the result to the <code>df_sliced</code> variable. (<i>Note: You know you can also do this with <code>head()</code> but avoid doing that for now.</i>)\n",
    "        </ol>\n",
    "</div>"
   ]
  },
  {
   "cell_type": "code",
   "execution_count": null,
   "metadata": {},
   "outputs": [],
   "source": [
    "### START CODE HERE ###\n",
    "\n",
    "# Slice the first 500 rows.\n",
    "df_sliced = None\n",
    "\n",
    "### END CODE HERE ###\n",
    "\n",
    "helper_functions.print_rows_stations(df_sliced)"
   ]
  },
  {
   "cell_type": "markdown",
   "metadata": {},
   "source": [
    "<details open>\n",
    "<summary style=\"background-color: #c6e2ff6c; padding: 10px; border-radius: 3px; box-shadow: 0 2px 4px rgba(0, 0, 0, 0.01); width: 95%; text-align: left; cursor: pointer; font-weight: bold;\">\n",
    "Expected output:</summary> \n",
    "<br>\n",
    "\n",
    "```text\n",
    "number of rows: 500\n",
    "\n",
    "stations in this DataFrame:\n",
    "['Independencia.H' 'Bolivar' 'Pza. de los Virreyes' 'Catalinas'\n",
    " 'Correo Central' 'General Belgrano' 'Avenida La Plata' 'Emilio Mitre'\n",
    " 'Jose Maria Moreno' 'Retiro E' 'Boedo']\n",
    "```\n",
    "\n",
    "</details>\n"
   ]
  },
  {
   "cell_type": "markdown",
   "metadata": {},
   "source": [
    "<details>\n",
    "<summary style=\"background-color: #FDBFC7; padding: 10px; border-radius: 3px; box-shadow: 0 2px 4px rgba(0, 0, 0, 0.1); width: 95%; text-align: left; cursor: pointer; font-weight: bold;\">\n",
    "Click here to see the solution</summary> \n",
    "\n",
    "<ul style=\"background-color: #FFF8F8; padding: 10px; border-radius: 3px; margin-top: 5px; width: 95%; box-shadow: inset 0 2px 4px rgba(0, 0, 0, 0.1);\">\n",
    "   \n",
    "Your solution should look something like this:\n",
    "\n",
    "```python\n",
    "# Slice the first 500 rows.\n",
    "df_sliced = df_filter_line.iloc[0:500]\n",
    "```\n",
    "</details>"
   ]
  },
  {
   "cell_type": "markdown",
   "metadata": {},
   "source": [
    "<a id=\"step-4\"></a>\n",
    "\n",
    "## Step 4: Filter rush hours\n",
    "\n",
    "Now you have a subset of the data containing the top 500 data points by total number of passengers. If you want to know what times these usually occur, you can plot a histogram of the 'hour' feature and see which hours have the highest peaks."
   ]
  },
  {
   "cell_type": "code",
   "execution_count": null,
   "metadata": {},
   "outputs": [],
   "source": [
    "# Visualize when the busiest times occur\n",
    "df_sliced['hour'].hist(bins=24)"
   ]
  },
  {
   "cell_type": "markdown",
   "metadata": {},
   "source": [
    "The chart show several peaks and you want to focus on the afternoon rush hour between 16:00 to 18:00.\n",
    "\n",
    "<div style=\"background-color: #C6E2FF; padding: 10px; border-radius: 3px; box-shadow: 0 2px 4px rgba(0, 0, 0, 0.1); width:95%\n",
    "\">\n",
    "    <strong>▶▶▶ Directions</strong> \n",
    "        <ol>\n",
    "            <li>Filter <code>df_sliced</code> by two conditions: 'hour' should be greater than or equal to 16, and should be less than or equal to 18. Assign the result to the <code>df_filter_pm</code> variable.\n",
    "        </ol>\n",
    "</div>"
   ]
  },
  {
   "cell_type": "code",
   "execution_count": null,
   "metadata": {},
   "outputs": [],
   "source": [
    "### START CODE HERE ###\n",
    "\n",
    "# Filter `df_sliced` for 'hour' greater than or equal to 16, and less than or equal to 18.\n",
    "df_filter_pm = None\n",
    "\n",
    "### END CODE HERE ###\n",
    "\n",
    "helper_functions.print_rows_stations(df_filter_pm)"
   ]
  },
  {
   "cell_type": "markdown",
   "metadata": {},
   "source": [
    "<details open>\n",
    "<summary style=\"background-color: #c6e2ff6c; padding: 10px; border-radius: 3px; box-shadow: 0 2px 4px rgba(0, 0, 0, 0.01); width: 95%; text-align: left; cursor: pointer; font-weight: bold;\">\n",
    "Expected output:</summary> \n",
    "<br>\n",
    "\n",
    "```text\n",
    "number of rows: 223\n",
    "\n",
    "stations in this DataFrame:\n",
    "['Bolivar' 'Independencia.H' 'Catalinas' 'Correo Central'\n",
    " 'General Belgrano' 'Retiro E']\n",
    "```\n",
    "\n",
    "</details>\n"
   ]
  },
  {
   "cell_type": "markdown",
   "metadata": {},
   "source": [
    "<details>\n",
    "<summary style=\"background-color: #FDBFC7; padding: 10px; border-radius: 3px; box-shadow: 0 2px 4px rgba(0, 0, 0, 0.1); width: 95%; text-align: left; cursor: pointer; font-weight: bold;\">\n",
    "Click here to see the solution</summary> \n",
    "\n",
    "<ul style=\"background-color: #FFF8F8; padding: 10px; border-radius: 3px; margin-top: 5px; width: 95%; box-shadow: inset 0 2px 4px rgba(0, 0, 0, 0.1);\">\n",
    "   \n",
    "Your solution should look something like this:\n",
    "\n",
    "```python\n",
    "# Filter `df_sliced` for 'hour' greater than or equal to 16, and less than or equal to 18.\n",
    "df_filter_pm = df_sliced[(df_sliced[\"hour\"] >= 16) & (df_sliced[\"hour\"] <= 18)]\n",
    "```\n",
    "</details>"
   ]
  },
  {
   "cell_type": "markdown",
   "metadata": {},
   "source": [
    "Great! Now you see these 6 stations are the busiest based on the criteria you specified. You can recommend these to your stakeholders as the ones needing the most attention during these hours.\n",
    "\n",
    "**Congratulations for making it until the end of this lab. There is one more lab to go!**"
   ]
  }
 ],
 "metadata": {
  "kernelspec": {
   "display_name": "Python 3 (ipykernel)",
   "language": "python",
   "name": "python3"
  },
  "language_info": {
   "codemirror_mode": {
    "name": "ipython",
    "version": 3
   },
   "file_extension": ".py",
   "mimetype": "text/x-python",
   "name": "python",
   "nbconvert_exporter": "python",
   "pygments_lexer": "ipython3",
   "version": "3.11.6"
  }
 },
 "nbformat": 4,
 "nbformat_minor": 4
}
