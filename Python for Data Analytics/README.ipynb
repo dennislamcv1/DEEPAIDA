{
 "cells": [
  {
   "cell_type": "markdown",
   "id": "ee1c2fdb-1e6a-43f1-a713-315bf33fc96f",
   "metadata": {},
   "source": [
    "## Workspace for Demos\n",
    "\n",
    "This course uses several notebooks to demonstrate key concepts that you need to complete the labs. You will be provided a demo workspace like this per module so you can follow along whenever Sean shows a notebook on screen. To navigate, look at the left sidebar and double-click on the folder that matches the lesson title you're currently on.\n",
    "\n",
    "<img src='./img/lab_lesson_dirs.png' width=500px>"
   ]
  },
  {
   "cell_type": "markdown",
   "id": "6f4993d2-2432-4665-a5ee-8013e9cd58bf",
   "metadata": {},
   "source": [
    "<br>\n",
    "<br>\n",
    "\n",
    "Inside, you will see the notebooks and other files needed to run the demos.\n",
    "\n",
    "<img src='./img/lesson_files.png' width=500px>\n",
    "\n",
    "Double click on the `.ipynb` file that matches what you see in the lecture. For example, `L1V2_Tour.ipynb` corresponds to the notebook used in the previous video. This will open the notebook in a new tab. From there, you can try running the cells and recreate what you saw in the lecture."
   ]
  },
  {
   "cell_type": "markdown",
   "id": "784b7a46-368f-4045-b8bc-95fc81ace2c6",
   "metadata": {},
   "source": [
    "<br>\n",
    "<br>\n",
    "\n",
    "If you want to go back to the top-level directory, you can click on the folder icon so you can select another folder to work on.\n",
    "\n",
    "<img src='./img/dir_icon.png' width=500px>"
   ]
  }
 ],
 "metadata": {
  "kernelspec": {
   "display_name": "Python 3 (ipykernel)",
   "language": "python",
   "name": "python3"
  },
  "language_info": {
   "codemirror_mode": {
    "name": "ipython",
    "version": 3
   },
   "file_extension": ".py",
   "mimetype": "text/x-python",
   "name": "python",
   "nbconvert_exporter": "python",
   "pygments_lexer": "ipython3",
   "version": "3.11.6"
  }
 },
 "nbformat": 4,
 "nbformat_minor": 5
}
